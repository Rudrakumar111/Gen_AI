{
 "cells": [
  {
   "cell_type": "code",
   "execution_count": 15,
   "id": "75e32dd0",
   "metadata": {},
   "outputs": [],
   "source": [
    "import pandas as pd\n",
    "import numpy as np"
   ]
  },
  {
   "cell_type": "code",
   "execution_count": 16,
   "id": "c5272f3a",
   "metadata": {},
   "outputs": [
    {
     "name": "stdout",
     "output_type": "stream",
     "text": [
      "Requirement already satisfied: nltk in c:\\users\\admin\\desktop\\ai-ml_qb\\gen_ai\\.venv\\lib\\site-packages (3.9.1)\n",
      "Requirement already satisfied: pandas in c:\\users\\admin\\desktop\\ai-ml_qb\\gen_ai\\.venv\\lib\\site-packages (2.3.0)\n",
      "Requirement already satisfied: numpy in c:\\users\\admin\\desktop\\ai-ml_qb\\gen_ai\\.venv\\lib\\site-packages (2.3.1)\n",
      "Requirement already satisfied: click in c:\\users\\admin\\desktop\\ai-ml_qb\\gen_ai\\.venv\\lib\\site-packages (from nltk) (8.2.1)\n",
      "Requirement already satisfied: joblib in c:\\users\\admin\\desktop\\ai-ml_qb\\gen_ai\\.venv\\lib\\site-packages (from nltk) (1.5.1)\n",
      "Requirement already satisfied: regex>=2021.8.3 in c:\\users\\admin\\desktop\\ai-ml_qb\\gen_ai\\.venv\\lib\\site-packages (from nltk) (2024.11.6)\n",
      "Requirement already satisfied: tqdm in c:\\users\\admin\\desktop\\ai-ml_qb\\gen_ai\\.venv\\lib\\site-packages (from nltk) (4.67.1)\n",
      "Requirement already satisfied: python-dateutil>=2.8.2 in c:\\users\\admin\\desktop\\ai-ml_qb\\gen_ai\\.venv\\lib\\site-packages (from pandas) (2.9.0.post0)\n",
      "Requirement already satisfied: pytz>=2020.1 in c:\\users\\admin\\desktop\\ai-ml_qb\\gen_ai\\.venv\\lib\\site-packages (from pandas) (2025.2)\n",
      "Requirement already satisfied: tzdata>=2022.7 in c:\\users\\admin\\desktop\\ai-ml_qb\\gen_ai\\.venv\\lib\\site-packages (from pandas) (2025.2)\n",
      "Requirement already satisfied: six>=1.5 in c:\\users\\admin\\desktop\\ai-ml_qb\\gen_ai\\.venv\\lib\\site-packages (from python-dateutil>=2.8.2->pandas) (1.17.0)\n",
      "Requirement already satisfied: colorama in c:\\users\\admin\\desktop\\ai-ml_qb\\gen_ai\\.venv\\lib\\site-packages (from click->nltk) (0.4.6)\n",
      "Note: you may need to restart the kernel to use updated packages.\n"
     ]
    }
   ],
   "source": [
    "pip install nltk pandas numpy"
   ]
  },
  {
   "cell_type": "code",
   "execution_count": 17,
   "id": "a6a819f6",
   "metadata": {},
   "outputs": [
    {
     "ename": "AttributeError",
     "evalue": "partially initialized module 'nltk' has no attribute 'data' (most likely due to a circular import)",
     "output_type": "error",
     "traceback": [
      "\u001b[31m---------------------------------------------------------------------------\u001b[39m",
      "\u001b[31mAttributeError\u001b[39m                            Traceback (most recent call last)",
      "\u001b[36mCell\u001b[39m\u001b[36m \u001b[39m\u001b[32mIn[17]\u001b[39m\u001b[32m, line 1\u001b[39m\n\u001b[32m----> \u001b[39m\u001b[32m1\u001b[39m \u001b[38;5;28;01mimport\u001b[39;00m\u001b[38;5;250m \u001b[39m\u001b[34;01mnltk\u001b[39;00m\n\u001b[32m      3\u001b[39m nltk.download(\u001b[33m'\u001b[39m\u001b[33mpunkt_tan\u001b[39m\u001b[33m'\u001b[39m)\n\u001b[32m      4\u001b[39m nltk.download(\u001b[33m'\u001b[39m\u001b[33mwordnet\u001b[39m\u001b[33m'\u001b[39m)\n",
      "\u001b[36mFile \u001b[39m\u001b[32mc:\\Users\\Admin\\Desktop\\AI-ML_QB\\Gen_AI\\.venv\\Lib\\site-packages\\nltk\\__init__.py:180\u001b[39m\n\u001b[32m    177\u001b[39m \u001b[38;5;28;01melse\u001b[39;00m:\n\u001b[32m    178\u001b[39m     \u001b[38;5;28;01mfrom\u001b[39;00m\u001b[38;5;250m \u001b[39m\u001b[34;01mnltk\u001b[39;00m\u001b[38;5;250m \u001b[39m\u001b[38;5;28;01mimport\u001b[39;00m cluster\n\u001b[32m--> \u001b[39m\u001b[32m180\u001b[39m \u001b[38;5;28;01mfrom\u001b[39;00m\u001b[38;5;250m \u001b[39m\u001b[34;01mnltk\u001b[39;00m\u001b[34;01m.\u001b[39;00m\u001b[34;01mdownloader\u001b[39;00m\u001b[38;5;250m \u001b[39m\u001b[38;5;28;01mimport\u001b[39;00m download, download_shell\n\u001b[32m    182\u001b[39m \u001b[38;5;28;01mtry\u001b[39;00m:\n\u001b[32m    183\u001b[39m     \u001b[38;5;28;01mimport\u001b[39;00m\u001b[38;5;250m \u001b[39m\u001b[34;01mtkinter\u001b[39;00m\n",
      "\u001b[36mFile \u001b[39m\u001b[32mc:\\Users\\Admin\\Desktop\\AI-ML_QB\\Gen_AI\\.venv\\Lib\\site-packages\\nltk\\downloader.py:2475\u001b[39m\n\u001b[32m   2465\u001b[39m             \u001b[38;5;28;01mpass\u001b[39;00m\n\u001b[32m   2468\u001b[39m \u001b[38;5;66;03m######################################################################\u001b[39;00m\n\u001b[32m   2469\u001b[39m \u001b[38;5;66;03m# Main:\u001b[39;00m\n\u001b[32m   2470\u001b[39m \u001b[38;5;66;03m######################################################################\u001b[39;00m\n\u001b[32m   (...)\u001b[39m\u001b[32m   2473\u001b[39m \n\u001b[32m   2474\u001b[39m \u001b[38;5;66;03m# Aliases\u001b[39;00m\n\u001b[32m-> \u001b[39m\u001b[32m2475\u001b[39m _downloader = \u001b[43mDownloader\u001b[49m\u001b[43m(\u001b[49m\u001b[43m)\u001b[49m\n\u001b[32m   2476\u001b[39m download = _downloader.download\n\u001b[32m   2479\u001b[39m \u001b[38;5;28;01mdef\u001b[39;00m\u001b[38;5;250m \u001b[39m\u001b[34mdownload_shell\u001b[39m():\n",
      "\u001b[36mFile \u001b[39m\u001b[32mc:\\Users\\Admin\\Desktop\\AI-ML_QB\\Gen_AI\\.venv\\Lib\\site-packages\\nltk\\downloader.py:515\u001b[39m, in \u001b[36mDownloader.__init__\u001b[39m\u001b[34m(self, server_index_url, download_dir)\u001b[39m\n\u001b[32m    513\u001b[39m \u001b[38;5;66;03m# decide where we're going to save things to.\u001b[39;00m\n\u001b[32m    514\u001b[39m \u001b[38;5;28;01mif\u001b[39;00m \u001b[38;5;28mself\u001b[39m._download_dir \u001b[38;5;129;01mis\u001b[39;00m \u001b[38;5;28;01mNone\u001b[39;00m:\n\u001b[32m--> \u001b[39m\u001b[32m515\u001b[39m     \u001b[38;5;28mself\u001b[39m._download_dir = \u001b[38;5;28;43mself\u001b[39;49m\u001b[43m.\u001b[49m\u001b[43mdefault_download_dir\u001b[49m\u001b[43m(\u001b[49m\u001b[43m)\u001b[49m\n",
      "\u001b[36mFile \u001b[39m\u001b[32mc:\\Users\\Admin\\Desktop\\AI-ML_QB\\Gen_AI\\.venv\\Lib\\site-packages\\nltk\\downloader.py:1068\u001b[39m, in \u001b[36mDownloader.default_download_dir\u001b[39m\u001b[34m(self)\u001b[39m\n\u001b[32m   1064\u001b[39m     \u001b[38;5;28;01mreturn\u001b[39;00m\n\u001b[32m   1066\u001b[39m \u001b[38;5;66;03m# Check if we have sufficient permissions to install in a\u001b[39;00m\n\u001b[32m   1067\u001b[39m \u001b[38;5;66;03m# variety of system-wide locations.\u001b[39;00m\n\u001b[32m-> \u001b[39m\u001b[32m1068\u001b[39m \u001b[38;5;28;01mfor\u001b[39;00m nltkdir \u001b[38;5;129;01min\u001b[39;00m \u001b[43mnltk\u001b[49m\u001b[43m.\u001b[49m\u001b[43mdata\u001b[49m.path:\n\u001b[32m   1069\u001b[39m     \u001b[38;5;28;01mif\u001b[39;00m os.path.exists(nltkdir) \u001b[38;5;129;01mand\u001b[39;00m nltk.internals.is_writable(nltkdir):\n\u001b[32m   1070\u001b[39m         \u001b[38;5;28;01mreturn\u001b[39;00m nltkdir\n",
      "\u001b[31mAttributeError\u001b[39m: partially initialized module 'nltk' has no attribute 'data' (most likely due to a circular import)"
     ]
    }
   ],
   "source": [
    "import nltk\n",
    "\n",
    "nltk.download('punkt_tan')\n",
    "nltk.download('wordnet')"
   ]
  },
  {
   "cell_type": "markdown",
   "id": "486f9414",
   "metadata": {},
   "source": [
    "NLTK,\n",
    "Spacy - NLP Techniques or library\n"
   ]
  },
  {
   "cell_type": "markdown",
   "id": "fdfa2c74",
   "metadata": {},
   "source": [
    "BERT\n",
    "Transformer\n",
    "Word Embedding                  \"this and above is this Deep Learning.\"\n",
    "RNN, LSTM RNN, GRU\n",
    "Text processing- word2vec, Avgword2vec\n",
    "Bow,TFIDF,Unigram\n",
    "Tokenization,Lemmatization"
   ]
  },
  {
   "cell_type": "code",
   "execution_count": null,
   "id": "e964613e",
   "metadata": {},
   "outputs": [],
   "source": [
    "c = \"\"\"hello welcome,I love Python  ,\n",
    "I Learn AI/ML  ,also learn Python.\n",
    "sdfsfsfklsdf.sdfsd  ,dsfsdf!  ,dfs  ,sga.=sdf\n",
    "\"\"\""
   ]
  },
  {
   "cell_type": "code",
   "execution_count": null,
   "id": "9f56adf4",
   "metadata": {},
   "outputs": [
    {
     "name": "stdout",
     "output_type": "stream",
     "text": [
      "hello welcome,I love Python  ,\n",
      "I Learn AI/ML  ,also learn Python.\n",
      "sdfsfsfklsdf.sdfsd  ,dsfsdf!  ,dfs  ,sga.=sdf\n",
      "\n"
     ]
    }
   ],
   "source": [
    "print(c)"
   ]
  },
  {
   "cell_type": "code",
   "execution_count": null,
   "id": "791d5093",
   "metadata": {},
   "outputs": [
    {
     "data": {
      "text/plain": [
       "['hello welcome,I love Python  ,\\nI Learn AI/ML  ,also learn Python.',\n",
       " 'sdfsfsfklsdf.sdfsd  ,dsfsdf!',\n",
       " ',dfs  ,sga.=sdf']"
      ]
     },
     "execution_count": 8,
     "metadata": {},
     "output_type": "execute_result"
    }
   ],
   "source": [
    "from nltk.tokenize import sent_tokenize\n",
    "document = sent_tokenize(c)\n",
    "document"
   ]
  },
  {
   "cell_type": "code",
   "execution_count": null,
   "id": "9928b5dc",
   "metadata": {},
   "outputs": [
    {
     "name": "stdout",
     "output_type": "stream",
     "text": [
      "hello welcome,I love Python  ,\n",
      "I Learn AI/ML  ,also learn Python. ------------\n",
      "sdfsfsfklsdf.sdfsd  ,dsfsdf! ------------\n",
      ",dfs  ,sga.=sdf ------------\n"
     ]
    }
   ],
   "source": [
    "for sentence in document:\n",
    "    print(sentence,\"------------\")"
   ]
  },
  {
   "cell_type": "code",
   "execution_count": null,
   "id": "c4cbb84b",
   "metadata": {},
   "outputs": [
    {
     "data": {
      "text/plain": [
       "['hello',\n",
       " 'welcome',\n",
       " ',',\n",
       " 'I',\n",
       " 'love',\n",
       " 'Python',\n",
       " ',',\n",
       " 'I',\n",
       " 'Learn',\n",
       " 'AI/ML',\n",
       " ',',\n",
       " 'also',\n",
       " 'learn',\n",
       " 'Python',\n",
       " '.',\n",
       " 'sdfsfsfklsdf.sdfsd',\n",
       " ',',\n",
       " 'dsfsdf',\n",
       " '!',\n",
       " ',',\n",
       " 'dfs',\n",
       " ',',\n",
       " 'sga.=sdf']"
      ]
     },
     "execution_count": 10,
     "metadata": {},
     "output_type": "execute_result"
    }
   ],
   "source": [
    "from nltk.tokenize import word_tokenize\n",
    "word_tokenize(c)"
   ]
  },
  {
   "cell_type": "code",
   "execution_count": null,
   "id": "d2bb9a31",
   "metadata": {},
   "outputs": [],
   "source": [
    "from nltk.tokenize import wordpunct_tokenize"
   ]
  },
  {
   "cell_type": "code",
   "execution_count": null,
   "id": "fb13c22b",
   "metadata": {},
   "outputs": [
    {
     "data": {
      "text/plain": [
       "['hello',\n",
       " 'welcome',\n",
       " ',',\n",
       " 'I',\n",
       " 'love',\n",
       " 'Python',\n",
       " ',',\n",
       " 'I',\n",
       " 'Learn',\n",
       " 'AI/ML',\n",
       " ',',\n",
       " 'also',\n",
       " 'learn',\n",
       " 'Python',\n",
       " '.',\n",
       " 'sdfsfsfklsdf.sdfsd',\n",
       " ',',\n",
       " 'dsfsdf',\n",
       " '!',\n",
       " ',',\n",
       " 'dfs',\n",
       " ',',\n",
       " 'sga.=sdf']"
      ]
     },
     "execution_count": 12,
     "metadata": {},
     "output_type": "execute_result"
    }
   ],
   "source": [
    "word_token = word_tokenize(c)\n",
    "word_token"
   ]
  },
  {
   "cell_type": "code",
   "execution_count": null,
   "id": "9cd6716d",
   "metadata": {},
   "outputs": [],
   "source": [
    "from nltk.tokenize import TreebankWordTokenizer,TreebankWordDetokenizer"
   ]
  },
  {
   "cell_type": "code",
   "execution_count": null,
   "id": "d0213144",
   "metadata": {},
   "outputs": [],
   "source": [
    "tokenizer = TreebankWordTokenizer()\n",
    "dtokenizer = TreebankWordDetokenizer()"
   ]
  },
  {
   "cell_type": "code",
   "execution_count": null,
   "id": "65fa95c1",
   "metadata": {},
   "outputs": [
    {
     "data": {
      "text/plain": [
       "'hello welcome, I love Python, I Learn AI/ML, also learn Python. sdfsfsfklsdf.sdfsd, dsfsdf!, dfs, sga.=sdf'"
      ]
     },
     "execution_count": 15,
     "metadata": {},
     "output_type": "execute_result"
    }
   ],
   "source": [
    "corpus = \"\"\"hello welcome,I love Python  ,\n",
    "I Learn AI/ML  ,also learn Python.\n",
    "sdfsfsfklsdf.sdfsd  ,dsfsdf!  ,dfs  ,sga.=sdf\n",
    "\"\"\"\n",
    "a = tokenizer.tokenize(corpus)\n",
    "dtokenizer.tokenize(a)"
   ]
  },
  {
   "cell_type": "code",
   "execution_count": null,
   "id": "12c886c2",
   "metadata": {},
   "outputs": [],
   "source": [
    "words = ['Writing','write',\"writen\",'play','played','playing','run','running','view','cry','cries','finally','finalized']"
   ]
  },
  {
   "cell_type": "markdown",
   "id": "1b51c16a",
   "metadata": {},
   "source": [
    "PorterStemmer"
   ]
  },
  {
   "cell_type": "code",
   "execution_count": null,
   "id": "2b08e0d9",
   "metadata": {},
   "outputs": [],
   "source": [
    "from nltk.stem import PorterStemmer\n"
   ]
  },
  {
   "cell_type": "code",
   "execution_count": null,
   "id": "6de90254",
   "metadata": {},
   "outputs": [],
   "source": [
    "stemming = PorterStemmer()"
   ]
  },
  {
   "cell_type": "code",
   "execution_count": null,
   "id": "f40c2443",
   "metadata": {},
   "outputs": [
    {
     "name": "stdout",
     "output_type": "stream",
     "text": [
      "Writing ---> write\n",
      "write ---> write\n",
      "writen ---> writen\n",
      "play ---> play\n",
      "played ---> play\n",
      "playing ---> play\n",
      "run ---> run\n",
      "running ---> run\n",
      "view ---> view\n",
      "cry ---> cri\n",
      "cries ---> cri\n",
      "finally ---> final\n",
      "finalized ---> final\n"
     ]
    }
   ],
   "source": [
    "for word in words:\n",
    "    print(f'{word} ---> {stemming.stem(word)}')"
   ]
  },
  {
   "cell_type": "code",
   "execution_count": null,
   "id": "43575c75",
   "metadata": {},
   "outputs": [
    {
     "data": {
      "text/plain": [
       "'congratul'"
      ]
     },
     "execution_count": 20,
     "metadata": {},
     "output_type": "execute_result"
    }
   ],
   "source": [
    "stemming.stem('congratulations')"
   ]
  },
  {
   "cell_type": "code",
   "execution_count": null,
   "id": "ca896b29",
   "metadata": {},
   "outputs": [
    {
     "data": {
      "text/plain": [
       "'sit'"
      ]
     },
     "execution_count": 21,
     "metadata": {},
     "output_type": "execute_result"
    }
   ],
   "source": [
    "stemming.stem(\"sitting\")"
   ]
  },
  {
   "cell_type": "markdown",
   "id": "eda8aeb0",
   "metadata": {},
   "source": [
    "Regexpstemmer class"
   ]
  },
  {
   "cell_type": "code",
   "execution_count": null,
   "id": "3c038e7e",
   "metadata": {},
   "outputs": [],
   "source": [
    "from nltk.stem import RegexpStemmer\n",
    "reg_stemmer = RegexpStemmer(regexp='ing$|s$|e$|able$|ed$|ies$',min=4)"
   ]
  },
  {
   "cell_type": "code",
   "execution_count": null,
   "id": "5abd53d4",
   "metadata": {},
   "outputs": [
    {
     "data": {
      "text/plain": [
       "''"
      ]
     },
     "execution_count": 23,
     "metadata": {},
     "output_type": "execute_result"
    }
   ],
   "source": [
    "reg_stemmer.stem('')"
   ]
  },
  {
   "cell_type": "markdown",
   "id": "2838c1b6",
   "metadata": {},
   "source": [
    "Snowball Stemmer"
   ]
  },
  {
   "cell_type": "code",
   "execution_count": null,
   "id": "51ff44da",
   "metadata": {},
   "outputs": [],
   "source": [
    "from nltk.stem import SnowballStemmer"
   ]
  },
  {
   "cell_type": "code",
   "execution_count": null,
   "id": "508df236",
   "metadata": {},
   "outputs": [],
   "source": [
    "snowball = SnowballStemmer('english')"
   ]
  },
  {
   "cell_type": "code",
   "execution_count": null,
   "id": "1d066ad9",
   "metadata": {},
   "outputs": [
    {
     "name": "stdout",
     "output_type": "stream",
     "text": [
      "Writing ====> write\n",
      "write ====> write\n",
      "writen ====> writen\n",
      "play ====> play\n",
      "played ====> play\n",
      "playing ====> play\n",
      "run ====> run\n",
      "running ====> run\n",
      "view ====> view\n",
      "cry ====> cri\n",
      "cries ====> cri\n",
      "finally ====> final\n",
      "finalized ====> final\n"
     ]
    }
   ],
   "source": [
    "for word in words:\n",
    "    print(f'{word} ====> {snowball.stem(word)}')"
   ]
  },
  {
   "cell_type": "markdown",
   "id": "03b847f2",
   "metadata": {},
   "source": [
    "Wordnet Lemmatizer\n",
    "\n",
    "pos-None -n (default)\n",
    "\n",
    "verb -v \n",
    "\n",
    "adjective -a \n",
    "\n",
    "adverb -r"
   ]
  },
  {
   "cell_type": "code",
   "execution_count": null,
   "id": "e7e1d7ea",
   "metadata": {},
   "outputs": [],
   "source": [
    "from nltk.stem import WordNetLemmatizer"
   ]
  },
  {
   "cell_type": "code",
   "execution_count": null,
   "id": "4514a457",
   "metadata": {},
   "outputs": [],
   "source": [
    "lemmatizer = WordNetLemmatizer()"
   ]
  },
  {
   "cell_type": "code",
   "execution_count": null,
   "id": "acd7c128",
   "metadata": {},
   "outputs": [
    {
     "ename": "KeyboardInterrupt",
     "evalue": "",
     "output_type": "error",
     "traceback": [
      "\u001b[31m---------------------------------------------------------------------------\u001b[39m",
      "\u001b[31mKeyboardInterrupt\u001b[39m                         Traceback (most recent call last)",
      "\u001b[36mCell\u001b[39m\u001b[36m \u001b[39m\u001b[32mIn[29]\u001b[39m\u001b[32m, line 1\u001b[39m\n\u001b[32m----> \u001b[39m\u001b[32m1\u001b[39m \u001b[43mlemmatizer\u001b[49m\u001b[43m.\u001b[49m\u001b[43mlemmatize\u001b[49m\u001b[43m(\u001b[49m\u001b[33;43m'\u001b[39;49m\u001b[33;43mplaying\u001b[39;49m\u001b[33;43m'\u001b[39;49m\u001b[43m,\u001b[49m\u001b[43mpos\u001b[49m\u001b[43m=\u001b[49m\u001b[33;43m'\u001b[39;49m\u001b[33;43mv\u001b[39;49m\u001b[33;43m'\u001b[39;49m\u001b[43m)\u001b[49m\n",
      "\u001b[36mFile \u001b[39m\u001b[32mc:\\Users\\Admin\\Desktop\\AI-ML_QB\\Gen_AI\\.venv\\Lib\\site-packages\\nltk\\stem\\wordnet.py:85\u001b[39m, in \u001b[36mWordNetLemmatizer.lemmatize\u001b[39m\u001b[34m(self, word, pos)\u001b[39m\n\u001b[32m     60\u001b[39m \u001b[38;5;28;01mdef\u001b[39;00m\u001b[38;5;250m \u001b[39m\u001b[34mlemmatize\u001b[39m(\u001b[38;5;28mself\u001b[39m, word: \u001b[38;5;28mstr\u001b[39m, pos: \u001b[38;5;28mstr\u001b[39m = \u001b[33m\"\u001b[39m\u001b[33mn\u001b[39m\u001b[33m\"\u001b[39m) -> \u001b[38;5;28mstr\u001b[39m:\n\u001b[32m     61\u001b[39m \u001b[38;5;250m    \u001b[39m\u001b[33;03m\"\"\"Lemmatize `word` by picking the shortest of the possible lemmas,\u001b[39;00m\n\u001b[32m     62\u001b[39m \u001b[33;03m    using the wordnet corpus reader's built-in _morphy function.\u001b[39;00m\n\u001b[32m     63\u001b[39m \u001b[33;03m    Returns the input word unchanged if it cannot be found in WordNet.\u001b[39;00m\n\u001b[32m   (...)\u001b[39m\u001b[32m     83\u001b[39m \u001b[33;03m    :return: The shortest lemma of `word`, for the given `pos`.\u001b[39;00m\n\u001b[32m     84\u001b[39m \u001b[33;03m    \"\"\"\u001b[39;00m\n\u001b[32m---> \u001b[39m\u001b[32m85\u001b[39m     lemmas = \u001b[38;5;28;43mself\u001b[39;49m\u001b[43m.\u001b[49m\u001b[43m_morphy\u001b[49m\u001b[43m(\u001b[49m\u001b[43mword\u001b[49m\u001b[43m,\u001b[49m\u001b[43m \u001b[49m\u001b[43mpos\u001b[49m\u001b[43m)\u001b[49m\n\u001b[32m     86\u001b[39m     \u001b[38;5;28;01mreturn\u001b[39;00m \u001b[38;5;28mmin\u001b[39m(lemmas, key=\u001b[38;5;28mlen\u001b[39m) \u001b[38;5;28;01mif\u001b[39;00m lemmas \u001b[38;5;28;01melse\u001b[39;00m word\n",
      "\u001b[36mFile \u001b[39m\u001b[32mc:\\Users\\Admin\\Desktop\\AI-ML_QB\\Gen_AI\\.venv\\Lib\\site-packages\\nltk\\stem\\wordnet.py:41\u001b[39m, in \u001b[36mWordNetLemmatizer._morphy\u001b[39m\u001b[34m(self, form, pos, check_exceptions)\u001b[39m\n\u001b[32m     31\u001b[39m \u001b[38;5;250m\u001b[39m\u001b[33;03m\"\"\"\u001b[39;00m\n\u001b[32m     32\u001b[39m \u001b[33;03m_morphy() is WordNet's _morphy lemmatizer.\u001b[39;00m\n\u001b[32m     33\u001b[39m \u001b[33;03mIt returns a list of all lemmas found in WordNet.\u001b[39;00m\n\u001b[32m   (...)\u001b[39m\u001b[32m     37\u001b[39m \u001b[33;03m['us', 'u']\u001b[39;00m\n\u001b[32m     38\u001b[39m \u001b[33;03m\"\"\"\u001b[39;00m\n\u001b[32m     39\u001b[39m \u001b[38;5;28;01mfrom\u001b[39;00m\u001b[38;5;250m \u001b[39m\u001b[34;01mnltk\u001b[39;00m\u001b[34;01m.\u001b[39;00m\u001b[34;01mcorpus\u001b[39;00m\u001b[38;5;250m \u001b[39m\u001b[38;5;28;01mimport\u001b[39;00m wordnet \u001b[38;5;28;01mas\u001b[39;00m wn\n\u001b[32m---> \u001b[39m\u001b[32m41\u001b[39m \u001b[38;5;28;01mreturn\u001b[39;00m \u001b[43mwn\u001b[49m\u001b[43m.\u001b[49m\u001b[43m_morphy\u001b[49m(form, pos, check_exceptions)\n",
      "\u001b[36mFile \u001b[39m\u001b[32mc:\\Users\\Admin\\Desktop\\AI-ML_QB\\Gen_AI\\.venv\\Lib\\site-packages\\nltk\\corpus\\util.py:120\u001b[39m, in \u001b[36mLazyCorpusLoader.__getattr__\u001b[39m\u001b[34m(self, attr)\u001b[39m\n\u001b[32m    117\u001b[39m \u001b[38;5;28;01mif\u001b[39;00m attr == \u001b[33m\"\u001b[39m\u001b[33m__bases__\u001b[39m\u001b[33m\"\u001b[39m:\n\u001b[32m    118\u001b[39m     \u001b[38;5;28;01mraise\u001b[39;00m \u001b[38;5;167;01mAttributeError\u001b[39;00m(\u001b[33m\"\u001b[39m\u001b[33mLazyCorpusLoader object has no attribute \u001b[39m\u001b[33m'\u001b[39m\u001b[33m__bases__\u001b[39m\u001b[33m'\u001b[39m\u001b[33m\"\u001b[39m)\n\u001b[32m--> \u001b[39m\u001b[32m120\u001b[39m \u001b[38;5;28;43mself\u001b[39;49m\u001b[43m.\u001b[49m\u001b[43m__load\u001b[49m\u001b[43m(\u001b[49m\u001b[43m)\u001b[49m\n\u001b[32m    121\u001b[39m \u001b[38;5;66;03m# This looks circular, but its not, since __load() changes our\u001b[39;00m\n\u001b[32m    122\u001b[39m \u001b[38;5;66;03m# __class__ to something new:\u001b[39;00m\n\u001b[32m    123\u001b[39m \u001b[38;5;28;01mreturn\u001b[39;00m \u001b[38;5;28mgetattr\u001b[39m(\u001b[38;5;28mself\u001b[39m, attr)\n",
      "\u001b[36mFile \u001b[39m\u001b[32mc:\\Users\\Admin\\Desktop\\AI-ML_QB\\Gen_AI\\.venv\\Lib\\site-packages\\nltk\\corpus\\util.py:89\u001b[39m, in \u001b[36mLazyCorpusLoader.__load\u001b[39m\u001b[34m(self)\u001b[39m\n\u001b[32m     86\u001b[39m             \u001b[38;5;28;01mraise\u001b[39;00m e\n\u001b[32m     88\u001b[39m \u001b[38;5;66;03m# Load the corpus.\u001b[39;00m\n\u001b[32m---> \u001b[39m\u001b[32m89\u001b[39m corpus = \u001b[38;5;28;43mself\u001b[39;49m\u001b[43m.\u001b[49m\u001b[43m__reader_cls\u001b[49m\u001b[43m(\u001b[49m\u001b[43mroot\u001b[49m\u001b[43m,\u001b[49m\u001b[43m \u001b[49m\u001b[43m*\u001b[49m\u001b[38;5;28;43mself\u001b[39;49m\u001b[43m.\u001b[49m\u001b[43m__args\u001b[49m\u001b[43m,\u001b[49m\u001b[43m \u001b[49m\u001b[43m*\u001b[49m\u001b[43m*\u001b[49m\u001b[38;5;28;43mself\u001b[39;49m\u001b[43m.\u001b[49m\u001b[43m__kwargs\u001b[49m\u001b[43m)\u001b[49m\n\u001b[32m     91\u001b[39m \u001b[38;5;66;03m# This is where the magic happens!  Transform ourselves into\u001b[39;00m\n\u001b[32m     92\u001b[39m \u001b[38;5;66;03m# the corpus by modifying our own __dict__ and __class__ to\u001b[39;00m\n\u001b[32m     93\u001b[39m \u001b[38;5;66;03m# match that of the corpus.\u001b[39;00m\n\u001b[32m     95\u001b[39m args, kwargs = \u001b[38;5;28mself\u001b[39m.__args, \u001b[38;5;28mself\u001b[39m.__kwargs\n",
      "\u001b[36mFile \u001b[39m\u001b[32mc:\\Users\\Admin\\Desktop\\AI-ML_QB\\Gen_AI\\.venv\\Lib\\site-packages\\nltk\\corpus\\reader\\wordnet.py:1214\u001b[39m, in \u001b[36mWordNetCorpusReader.__init__\u001b[39m\u001b[34m(self, root, omw_reader)\u001b[39m\n\u001b[32m   1211\u001b[39m \u001b[38;5;28mself\u001b[39m.merges = {}\n\u001b[32m   1213\u001b[39m \u001b[38;5;66;03m# map from WordNet 3.0 for OMW data\u001b[39;00m\n\u001b[32m-> \u001b[39m\u001b[32m1214\u001b[39m \u001b[38;5;28mself\u001b[39m.map30 = \u001b[38;5;28;43mself\u001b[39;49m\u001b[43m.\u001b[49m\u001b[43mmap_wn\u001b[49m\u001b[43m(\u001b[49m\u001b[43m)\u001b[49m\n\u001b[32m   1216\u001b[39m \u001b[38;5;66;03m# Language data attributes\u001b[39;00m\n\u001b[32m   1217\u001b[39m \u001b[38;5;28mself\u001b[39m.lg_attrs = [\u001b[33m\"\u001b[39m\u001b[33mlemma\u001b[39m\u001b[33m\"\u001b[39m, \u001b[33m\"\u001b[39m\u001b[33mof\u001b[39m\u001b[33m\"\u001b[39m, \u001b[33m\"\u001b[39m\u001b[33mdef\u001b[39m\u001b[33m\"\u001b[39m, \u001b[33m\"\u001b[39m\u001b[33mexe\u001b[39m\u001b[33m\"\u001b[39m]\n",
      "\u001b[36mFile \u001b[39m\u001b[32mc:\\Users\\Admin\\Desktop\\AI-ML_QB\\Gen_AI\\.venv\\Lib\\site-packages\\nltk\\corpus\\reader\\wordnet.py:1282\u001b[39m, in \u001b[36mWordNetCorpusReader.map_wn\u001b[39m\u001b[34m(self, version)\u001b[39m\n\u001b[32m   1280\u001b[39m     \u001b[38;5;28;01mreturn\u001b[39;00m \u001b[38;5;28;01mNone\u001b[39;00m\n\u001b[32m   1281\u001b[39m \u001b[38;5;28;01melse\u001b[39;00m:\n\u001b[32m-> \u001b[39m\u001b[32m1282\u001b[39m     \u001b[38;5;28;01mreturn\u001b[39;00m \u001b[38;5;28;43mself\u001b[39;49m\u001b[43m.\u001b[49m\u001b[43mmap_to_one\u001b[49m\u001b[43m(\u001b[49m\u001b[43mversion\u001b[49m\u001b[43m)\u001b[49m\n",
      "\u001b[36mFile \u001b[39m\u001b[32mc:\\Users\\Admin\\Desktop\\AI-ML_QB\\Gen_AI\\.venv\\Lib\\site-packages\\nltk\\corpus\\reader\\wordnet.py:1254\u001b[39m, in \u001b[36mWordNetCorpusReader.map_to_one\u001b[39m\u001b[34m(self, version)\u001b[39m\n\u001b[32m   1252\u001b[39m \u001b[38;5;28mself\u001b[39m.nomap[version] = \u001b[38;5;28mset\u001b[39m()\n\u001b[32m   1253\u001b[39m \u001b[38;5;28mself\u001b[39m.splits[version] = {}\n\u001b[32m-> \u001b[39m\u001b[32m1254\u001b[39m synset_to_many = \u001b[38;5;28;43mself\u001b[39;49m\u001b[43m.\u001b[49m\u001b[43mmap_to_many\u001b[49m\u001b[43m(\u001b[49m\u001b[43mversion\u001b[49m\u001b[43m)\u001b[49m\n\u001b[32m   1255\u001b[39m synset_to_one = {}\n\u001b[32m   1256\u001b[39m \u001b[38;5;28;01mfor\u001b[39;00m source \u001b[38;5;129;01min\u001b[39;00m synset_to_many:\n",
      "\u001b[36mFile \u001b[39m\u001b[32mc:\\Users\\Admin\\Desktop\\AI-ML_QB\\Gen_AI\\.venv\\Lib\\site-packages\\nltk\\corpus\\reader\\wordnet.py:1239\u001b[39m, in \u001b[36mWordNetCorpusReader.map_to_many\u001b[39m\u001b[34m(self, version)\u001b[39m\n\u001b[32m   1237\u001b[39m \u001b[38;5;28;01mdef\u001b[39;00m\u001b[38;5;250m \u001b[39m\u001b[34mmap_to_many\u001b[39m(\u001b[38;5;28mself\u001b[39m, version=\u001b[33m\"\u001b[39m\u001b[33mwordnet\u001b[39m\u001b[33m\"\u001b[39m):\n\u001b[32m   1238\u001b[39m     sensekey_map1 = \u001b[38;5;28mself\u001b[39m.index_sense(version)\n\u001b[32m-> \u001b[39m\u001b[32m1239\u001b[39m     sensekey_map2 = \u001b[38;5;28;43mself\u001b[39;49m\u001b[43m.\u001b[49m\u001b[43mindex_sense\u001b[49m\u001b[43m(\u001b[49m\u001b[43m)\u001b[49m\n\u001b[32m   1240\u001b[39m     synset_to_many = {}\n\u001b[32m   1241\u001b[39m     \u001b[38;5;28;01mfor\u001b[39;00m synsetid \u001b[38;5;129;01min\u001b[39;00m \u001b[38;5;28mset\u001b[39m(sensekey_map1.values()):\n",
      "\u001b[36mFile \u001b[39m\u001b[32mc:\\Users\\Admin\\Desktop\\AI-ML_QB\\Gen_AI\\.venv\\Lib\\site-packages\\nltk\\corpus\\reader\\wordnet.py:1231\u001b[39m, in \u001b[36mWordNetCorpusReader.index_sense\u001b[39m\u001b[34m(self, version)\u001b[39m\n\u001b[32m   1229\u001b[39m sensekey_map = {}\n\u001b[32m   1230\u001b[39m \u001b[38;5;28;01mfor\u001b[39;00m line \u001b[38;5;129;01min\u001b[39;00m fp:\n\u001b[32m-> \u001b[39m\u001b[32m1231\u001b[39m     fields = line.strip().split()\n\u001b[32m   1232\u001b[39m     sensekey = fields[\u001b[32m0\u001b[39m]\n\u001b[32m   1233\u001b[39m     pos = \u001b[38;5;28mself\u001b[39m._pos_names[\u001b[38;5;28mint\u001b[39m(sensekey.split(\u001b[33m\"\u001b[39m\u001b[33m%\u001b[39m\u001b[33m\"\u001b[39m)[\u001b[32m1\u001b[39m].split(\u001b[33m\"\u001b[39m\u001b[33m:\u001b[39m\u001b[33m\"\u001b[39m)[\u001b[32m0\u001b[39m])]\n",
      "\u001b[31mKeyboardInterrupt\u001b[39m: "
     ]
    }
   ],
   "source": [
    "lemmatizer.lemmatize('playing',pos='v')"
   ]
  },
  {
   "cell_type": "code",
   "execution_count": null,
   "id": "73597f5c",
   "metadata": {},
   "outputs": [
    {
     "name": "stdout",
     "output_type": "stream",
     "text": [
      "Writing ====> Writing\n",
      "write ====> write\n",
      "writen ====> writen\n",
      "play ====> play\n",
      "played ====> play\n",
      "playing ====> play\n",
      "run ====> run\n",
      "running ====> run\n",
      "view ====> view\n",
      "cry ====> cry\n",
      "cries ====> cry\n",
      "finally ====> finally\n",
      "finalized ====> finalize\n"
     ]
    }
   ],
   "source": [
    "for word in words:\n",
    "    print(f'{word} ====> {lemmatizer.lemmatize(word,pos=\"v\")}')"
   ]
  },
  {
   "cell_type": "code",
   "execution_count": null,
   "id": "8b5f7537",
   "metadata": {},
   "outputs": [
    {
     "name": "stdout",
     "output_type": "stream",
     "text": [
      "bad good best good good best\n"
     ]
    }
   ],
   "source": [
    "print(lemmatizer.lemmatize('worse',pos='a'),\n",
    "lemmatizer.lemmatize('better',pos='a'),\n",
    "lemmatizer.lemmatize('best',pos='a'),\n",
    "lemmatizer.lemmatize('good',pos='a'),\n",
    "lemmatizer.lemmatize('better',pos='a'),\n",
    "lemmatizer.lemmatize('best',pos='a'))\n"
   ]
  },
  {
   "cell_type": "code",
   "execution_count": null,
   "id": "f29d4e00",
   "metadata": {},
   "outputs": [
    {
     "data": {
      "text/plain": [
       "'loudly'"
      ]
     },
     "execution_count": 34,
     "metadata": {},
     "output_type": "execute_result"
    }
   ],
   "source": [
    "lemmatizer.lemmatize('loudly',pos='r')"
   ]
  },
  {
   "cell_type": "code",
   "execution_count": null,
   "id": "b7339c2f",
   "metadata": {},
   "outputs": [
    {
     "data": {
      "text/plain": [
       "'Fortunately'"
      ]
     },
     "execution_count": 35,
     "metadata": {},
     "output_type": "execute_result"
    }
   ],
   "source": [
    "lemmatizer.lemmatize('Fortunately',pos='r')"
   ]
  },
  {
   "cell_type": "code",
   "execution_count": null,
   "id": "5578831b",
   "metadata": {},
   "outputs": [
    {
     "name": "stderr",
     "output_type": "stream",
     "text": [
      "[nltk_data] Downloading package stopwords to\n",
      "[nltk_data]     C:\\Users\\Admin\\AppData\\Roaming\\nltk_data...\n",
      "[nltk_data]   Package stopwords is already up-to-date!\n"
     ]
    },
    {
     "data": {
      "text/plain": [
       "True"
      ]
     },
     "execution_count": 36,
     "metadata": {},
     "output_type": "execute_result"
    }
   ],
   "source": [
    "nltk.download('stopwords')"
   ]
  },
  {
   "cell_type": "code",
   "execution_count": null,
   "id": "e922b7db",
   "metadata": {},
   "outputs": [],
   "source": [
    "from nltk.corpus import stopwords"
   ]
  },
  {
   "cell_type": "code",
   "execution_count": null,
   "id": "80e4c65b",
   "metadata": {},
   "outputs": [
    {
     "name": "stdout",
     "output_type": "stream",
     "text": [
      "['aber', 'alle', 'allem', 'allen', 'aller', 'alles', 'als', 'also', 'am', 'an', 'ander', 'andere', 'anderem', 'anderen', 'anderer', 'anderes', 'anderm', 'andern', 'anderr', 'anders', 'auch', 'auf', 'aus', 'bei', 'bin', 'bis', 'bist', 'da', 'damit', 'dann', 'der', 'den', 'des', 'dem', 'die', 'das', 'dass', 'daß', 'derselbe', 'derselben', 'denselben', 'desselben', 'demselben', 'dieselbe', 'dieselben', 'dasselbe', 'dazu', 'dein', 'deine', 'deinem', 'deinen', 'deiner', 'deines', 'denn', 'derer', 'dessen', 'dich', 'dir', 'du', 'dies', 'diese', 'diesem', 'diesen', 'dieser', 'dieses', 'doch', 'dort', 'durch', 'ein', 'eine', 'einem', 'einen', 'einer', 'eines', 'einig', 'einige', 'einigem', 'einigen', 'einiger', 'einiges', 'einmal', 'er', 'ihn', 'ihm', 'es', 'etwas', 'euer', 'eure', 'eurem', 'euren', 'eurer', 'eures', 'für', 'gegen', 'gewesen', 'hab', 'habe', 'haben', 'hat', 'hatte', 'hatten', 'hier', 'hin', 'hinter', 'ich', 'mich', 'mir', 'ihr', 'ihre', 'ihrem', 'ihren', 'ihrer', 'ihres', 'euch', 'im', 'in', 'indem', 'ins', 'ist', 'jede', 'jedem', 'jeden', 'jeder', 'jedes', 'jene', 'jenem', 'jenen', 'jener', 'jenes', 'jetzt', 'kann', 'kein', 'keine', 'keinem', 'keinen', 'keiner', 'keines', 'können', 'könnte', 'machen', 'man', 'manche', 'manchem', 'manchen', 'mancher', 'manches', 'mein', 'meine', 'meinem', 'meinen', 'meiner', 'meines', 'mit', 'muss', 'musste', 'nach', 'nicht', 'nichts', 'noch', 'nun', 'nur', 'ob', 'oder', 'ohne', 'sehr', 'sein', 'seine', 'seinem', 'seinen', 'seiner', 'seines', 'selbst', 'sich', 'sie', 'ihnen', 'sind', 'so', 'solche', 'solchem', 'solchen', 'solcher', 'solches', 'soll', 'sollte', 'sondern', 'sonst', 'über', 'um', 'und', 'uns', 'unsere', 'unserem', 'unseren', 'unser', 'unseres', 'unter', 'viel', 'vom', 'von', 'vor', 'während', 'war', 'waren', 'warst', 'was', 'weg', 'weil', 'weiter', 'welche', 'welchem', 'welchen', 'welcher', 'welches', 'wenn', 'werde', 'werden', 'wie', 'wieder', 'will', 'wir', 'wird', 'wirst', 'wo', 'wollen', 'wollte', 'würde', 'würden', 'zu', 'zum', 'zur', 'zwar', 'zwischen']\n",
      "['a', 'about', 'above', 'after', 'again', 'against', 'ain', 'all', 'am', 'an', 'and', 'any', 'are', 'aren', \"aren't\", 'as', 'at', 'be', 'because', 'been', 'before', 'being', 'below', 'between', 'both', 'but', 'by', 'can', 'couldn', \"couldn't\", 'd', 'did', 'didn', \"didn't\", 'do', 'does', 'doesn', \"doesn't\", 'doing', 'don', \"don't\", 'down', 'during', 'each', 'few', 'for', 'from', 'further', 'had', 'hadn', \"hadn't\", 'has', 'hasn', \"hasn't\", 'have', 'haven', \"haven't\", 'having', 'he', \"he'd\", \"he'll\", 'her', 'here', 'hers', 'herself', \"he's\", 'him', 'himself', 'his', 'how', 'i', \"i'd\", 'if', \"i'll\", \"i'm\", 'in', 'into', 'is', 'isn', \"isn't\", 'it', \"it'd\", \"it'll\", \"it's\", 'its', 'itself', \"i've\", 'just', 'll', 'm', 'ma', 'me', 'mightn', \"mightn't\", 'more', 'most', 'mustn', \"mustn't\", 'my', 'myself', 'needn', \"needn't\", 'no', 'nor', 'not', 'now', 'o', 'of', 'off', 'on', 'once', 'only', 'or', 'other', 'our', 'ours', 'ourselves', 'out', 'over', 'own', 're', 's', 'same', 'shan', \"shan't\", 'she', \"she'd\", \"she'll\", \"she's\", 'should', 'shouldn', \"shouldn't\", \"should've\", 'so', 'some', 'such', 't', 'than', 'that', \"that'll\", 'the', 'their', 'theirs', 'them', 'themselves', 'then', 'there', 'these', 'they', \"they'd\", \"they'll\", \"they're\", \"they've\", 'this', 'those', 'through', 'to', 'too', 'under', 'until', 'up', 've', 'very', 'was', 'wasn', \"wasn't\", 'we', \"we'd\", \"we'll\", \"we're\", 'were', 'weren', \"weren't\", \"we've\", 'what', 'when', 'where', 'which', 'while', 'who', 'whom', 'why', 'will', 'with', 'won', \"won't\", 'wouldn', \"wouldn't\", 'y', 'you', \"you'd\", \"you'll\", 'your', \"you're\", 'yours', 'yourself', 'yourselves', \"you've\"]\n",
      "['au', 'aux', 'avec', 'ce', 'ces', 'dans', 'de', 'des', 'du', 'elle', 'en', 'et', 'eux', 'il', 'ils', 'je', 'la', 'le', 'les', 'leur', 'lui', 'ma', 'mais', 'me', 'même', 'mes', 'moi', 'mon', 'ne', 'nos', 'notre', 'nous', 'on', 'ou', 'par', 'pas', 'pour', 'qu', 'que', 'qui', 'sa', 'se', 'ses', 'son', 'sur', 'ta', 'te', 'tes', 'toi', 'ton', 'tu', 'un', 'une', 'vos', 'votre', 'vous', 'c', 'd', 'j', 'l', 'à', 'm', 'n', 's', 't', 'y', 'été', 'étée', 'étées', 'étés', 'étant', 'étante', 'étants', 'étantes', 'suis', 'es', 'est', 'sommes', 'êtes', 'sont', 'serai', 'seras', 'sera', 'serons', 'serez', 'seront', 'serais', 'serait', 'serions', 'seriez', 'seraient', 'étais', 'était', 'étions', 'étiez', 'étaient', 'fus', 'fut', 'fûmes', 'fûtes', 'furent', 'sois', 'soit', 'soyons', 'soyez', 'soient', 'fusse', 'fusses', 'fût', 'fussions', 'fussiez', 'fussent', 'ayant', 'ayante', 'ayantes', 'ayants', 'eu', 'eue', 'eues', 'eus', 'ai', 'as', 'avons', 'avez', 'ont', 'aurai', 'auras', 'aura', 'aurons', 'aurez', 'auront', 'aurais', 'aurait', 'aurions', 'auriez', 'auraient', 'avais', 'avait', 'avions', 'aviez', 'avaient', 'eut', 'eûmes', 'eûtes', 'eurent', 'aie', 'aies', 'ait', 'ayons', 'ayez', 'aient', 'eusse', 'eusses', 'eût', 'eussions', 'eussiez', 'eussent']\n",
      "['de', 'la', 'que', 'el', 'en', 'y', 'a', 'los', 'del', 'se', 'las', 'por', 'un', 'para', 'con', 'no', 'una', 'su', 'al', 'lo', 'como', 'más', 'pero', 'sus', 'le', 'ya', 'o', 'este', 'sí', 'porque', 'esta', 'entre', 'cuando', 'muy', 'sin', 'sobre', 'también', 'me', 'hasta', 'hay', 'donde', 'quien', 'desde', 'todo', 'nos', 'durante', 'todos', 'uno', 'les', 'ni', 'contra', 'otros', 'ese', 'eso', 'ante', 'ellos', 'e', 'esto', 'mí', 'antes', 'algunos', 'qué', 'unos', 'yo', 'otro', 'otras', 'otra', 'él', 'tanto', 'esa', 'estos', 'mucho', 'quienes', 'nada', 'muchos', 'cual', 'poco', 'ella', 'estar', 'estas', 'algunas', 'algo', 'nosotros', 'mi', 'mis', 'tú', 'te', 'ti', 'tu', 'tus', 'ellas', 'nosotras', 'vosotros', 'vosotras', 'os', 'mío', 'mía', 'míos', 'mías', 'tuyo', 'tuya', 'tuyos', 'tuyas', 'suyo', 'suya', 'suyos', 'suyas', 'nuestro', 'nuestra', 'nuestros', 'nuestras', 'vuestro', 'vuestra', 'vuestros', 'vuestras', 'esos', 'esas', 'estoy', 'estás', 'está', 'estamos', 'estáis', 'están', 'esté', 'estés', 'estemos', 'estéis', 'estén', 'estaré', 'estarás', 'estará', 'estaremos', 'estaréis', 'estarán', 'estaría', 'estarías', 'estaríamos', 'estaríais', 'estarían', 'estaba', 'estabas', 'estábamos', 'estabais', 'estaban', 'estuve', 'estuviste', 'estuvo', 'estuvimos', 'estuvisteis', 'estuvieron', 'estuviera', 'estuvieras', 'estuviéramos', 'estuvierais', 'estuvieran', 'estuviese', 'estuvieses', 'estuviésemos', 'estuvieseis', 'estuviesen', 'estando', 'estado', 'estada', 'estados', 'estadas', 'estad', 'he', 'has', 'ha', 'hemos', 'habéis', 'han', 'haya', 'hayas', 'hayamos', 'hayáis', 'hayan', 'habré', 'habrás', 'habrá', 'habremos', 'habréis', 'habrán', 'habría', 'habrías', 'habríamos', 'habríais', 'habrían', 'había', 'habías', 'habíamos', 'habíais', 'habían', 'hube', 'hubiste', 'hubo', 'hubimos', 'hubisteis', 'hubieron', 'hubiera', 'hubieras', 'hubiéramos', 'hubierais', 'hubieran', 'hubiese', 'hubieses', 'hubiésemos', 'hubieseis', 'hubiesen', 'habiendo', 'habido', 'habida', 'habidos', 'habidas', 'soy', 'eres', 'es', 'somos', 'sois', 'son', 'sea', 'seas', 'seamos', 'seáis', 'sean', 'seré', 'serás', 'será', 'seremos', 'seréis', 'serán', 'sería', 'serías', 'seríamos', 'seríais', 'serían', 'era', 'eras', 'éramos', 'erais', 'eran', 'fui', 'fuiste', 'fue', 'fuimos', 'fuisteis', 'fueron', 'fuera', 'fueras', 'fuéramos', 'fuerais', 'fueran', 'fuese', 'fueses', 'fuésemos', 'fueseis', 'fuesen', 'sintiendo', 'sentido', 'sentida', 'sentidos', 'sentidas', 'siente', 'sentid', 'tengo', 'tienes', 'tiene', 'tenemos', 'tenéis', 'tienen', 'tenga', 'tengas', 'tengamos', 'tengáis', 'tengan', 'tendré', 'tendrás', 'tendrá', 'tendremos', 'tendréis', 'tendrán', 'tendría', 'tendrías', 'tendríamos', 'tendríais', 'tendrían', 'tenía', 'tenías', 'teníamos', 'teníais', 'tenían', 'tuve', 'tuviste', 'tuvo', 'tuvimos', 'tuvisteis', 'tuvieron', 'tuviera', 'tuvieras', 'tuviéramos', 'tuvierais', 'tuvieran', 'tuviese', 'tuvieses', 'tuviésemos', 'tuvieseis', 'tuviesen', 'teniendo', 'tenido', 'tenida', 'tenidos', 'tenidas', 'tened']\n",
      "['a', 'à', 'ao', 'aos', 'aquela', 'aquelas', 'aquele', 'aqueles', 'aquilo', 'as', 'às', 'até', 'com', 'como', 'da', 'das', 'de', 'dela', 'delas', 'dele', 'deles', 'depois', 'do', 'dos', 'e', 'é', 'ela', 'elas', 'ele', 'eles', 'em', 'entre', 'era', 'eram', 'éramos', 'essa', 'essas', 'esse', 'esses', 'esta', 'está', 'estamos', 'estão', 'estar', 'estas', 'estava', 'estavam', 'estávamos', 'este', 'esteja', 'estejam', 'estejamos', 'estes', 'esteve', 'estive', 'estivemos', 'estiver', 'estivera', 'estiveram', 'estivéramos', 'estiverem', 'estivermos', 'estivesse', 'estivessem', 'estivéssemos', 'estou', 'eu', 'foi', 'fomos', 'for', 'fora', 'foram', 'fôramos', 'forem', 'formos', 'fosse', 'fossem', 'fôssemos', 'fui', 'há', 'haja', 'hajam', 'hajamos', 'hão', 'havemos', 'haver', 'hei', 'houve', 'houvemos', 'houver', 'houvera', 'houverá', 'houveram', 'houvéramos', 'houverão', 'houverei', 'houverem', 'houveremos', 'houveria', 'houveriam', 'houveríamos', 'houvermos', 'houvesse', 'houvessem', 'houvéssemos', 'isso', 'isto', 'já', 'lhe', 'lhes', 'mais', 'mas', 'me', 'mesmo', 'meu', 'meus', 'minha', 'minhas', 'muito', 'na', 'não', 'nas', 'nem', 'no', 'nos', 'nós', 'nossa', 'nossas', 'nosso', 'nossos', 'num', 'numa', 'o', 'os', 'ou', 'para', 'pela', 'pelas', 'pelo', 'pelos', 'por', 'qual', 'quando', 'que', 'quem', 'são', 'se', 'seja', 'sejam', 'sejamos', 'sem', 'ser', 'será', 'serão', 'serei', 'seremos', 'seria', 'seriam', 'seríamos', 'seu', 'seus', 'só', 'somos', 'sou', 'sua', 'suas', 'também', 'te', 'tem', 'tém', 'temos', 'tenha', 'tenham', 'tenhamos', 'tenho', 'terá', 'terão', 'terei', 'teremos', 'teria', 'teriam', 'teríamos', 'teu', 'teus', 'teve', 'tinha', 'tinham', 'tínhamos', 'tive', 'tivemos', 'tiver', 'tivera', 'tiveram', 'tivéramos', 'tiverem', 'tivermos', 'tivesse', 'tivessem', 'tivéssemos', 'tu', 'tua', 'tuas', 'um', 'uma', 'você', 'vocês', 'vos']\n",
      "['إذ', 'إذا', 'إذما', 'إذن', 'أف', 'أقل', 'أكثر', 'ألا', 'إلا', 'التي', 'الذي', 'الذين', 'اللاتي', 'اللائي', 'اللتان', 'اللتيا', 'اللتين', 'اللذان', 'اللذين', 'اللواتي', 'إلى', 'إليك', 'إليكم', 'إليكما', 'إليكن', 'أم', 'أما', 'أما', 'إما', 'أن', 'إن', 'إنا', 'أنا', 'أنت', 'أنتم', 'أنتما', 'أنتن', 'إنما', 'إنه', 'أنى', 'أنى', 'آه', 'آها', 'أو', 'أولاء', 'أولئك', 'أوه', 'آي', 'أي', 'أيها', 'إي', 'أين', 'أين', 'أينما', 'إيه', 'بخ', 'بس', 'بعد', 'بعض', 'بك', 'بكم', 'بكم', 'بكما', 'بكن', 'بل', 'بلى', 'بما', 'بماذا', 'بمن', 'بنا', 'به', 'بها', 'بهم', 'بهما', 'بهن', 'بي', 'بين', 'بيد', 'تلك', 'تلكم', 'تلكما', 'ته', 'تي', 'تين', 'تينك', 'ثم', 'ثمة', 'حاشا', 'حبذا', 'حتى', 'حيث', 'حيثما', 'حين', 'خلا', 'دون', 'ذا', 'ذات', 'ذاك', 'ذان', 'ذانك', 'ذلك', 'ذلكم', 'ذلكما', 'ذلكن', 'ذه', 'ذو', 'ذوا', 'ذواتا', 'ذواتي', 'ذي', 'ذين', 'ذينك', 'ريث', 'سوف', 'سوى', 'شتان', 'عدا', 'عسى', 'عل', 'على', 'عليك', 'عليه', 'عما', 'عن', 'عند', 'غير', 'فإذا', 'فإن', 'فلا', 'فمن', 'في', 'فيم', 'فيما', 'فيه', 'فيها', 'قد', 'كأن', 'كأنما', 'كأي', 'كأين', 'كذا', 'كذلك', 'كل', 'كلا', 'كلاهما', 'كلتا', 'كلما', 'كليكما', 'كليهما', 'كم', 'كم', 'كما', 'كي', 'كيت', 'كيف', 'كيفما', 'لا', 'لاسيما', 'لدى', 'لست', 'لستم', 'لستما', 'لستن', 'لسن', 'لسنا', 'لعل', 'لك', 'لكم', 'لكما', 'لكن', 'لكنما', 'لكي', 'لكيلا', 'لم', 'لما', 'لن', 'لنا', 'له', 'لها', 'لهم', 'لهما', 'لهن', 'لو', 'لولا', 'لوما', 'لي', 'لئن', 'ليت', 'ليس', 'ليسا', 'ليست', 'ليستا', 'ليسوا', 'ما', 'ماذا', 'متى', 'مذ', 'مع', 'مما', 'ممن', 'من', 'منه', 'منها', 'منذ', 'مه', 'مهما', 'نحن', 'نحو', 'نعم', 'ها', 'هاتان', 'هاته', 'هاتي', 'هاتين', 'هاك', 'هاهنا', 'هذا', 'هذان', 'هذه', 'هذي', 'هذين', 'هكذا', 'هل', 'هلا', 'هم', 'هما', 'هن', 'هنا', 'هناك', 'هنالك', 'هو', 'هؤلاء', 'هي', 'هيا', 'هيت', 'هيهات', 'والذي', 'والذين', 'وإذ', 'وإذا', 'وإن', 'ولا', 'ولكن', 'ولو', 'وما', 'ومن', 'وهو', 'يا', 'أبٌ', 'أخٌ', 'حمٌ', 'فو', 'أنتِ', 'يناير', 'فبراير', 'مارس', 'أبريل', 'مايو', 'يونيو', 'يوليو', 'أغسطس', 'سبتمبر', 'أكتوبر', 'نوفمبر', 'ديسمبر', 'جانفي', 'فيفري', 'مارس', 'أفريل', 'ماي', 'جوان', 'جويلية', 'أوت', 'كانون', 'شباط', 'آذار', 'نيسان', 'أيار', 'حزيران', 'تموز', 'آب', 'أيلول', 'تشرين', 'دولار', 'دينار', 'ريال', 'درهم', 'ليرة', 'جنيه', 'قرش', 'مليم', 'فلس', 'هللة', 'سنتيم', 'يورو', 'ين', 'يوان', 'شيكل', 'واحد', 'اثنان', 'ثلاثة', 'أربعة', 'خمسة', 'ستة', 'سبعة', 'ثمانية', 'تسعة', 'عشرة', 'أحد', 'اثنا', 'اثني', 'إحدى', 'ثلاث', 'أربع', 'خمس', 'ست', 'سبع', 'ثماني', 'تسع', 'عشر', 'ثمان', 'سبت', 'أحد', 'اثنين', 'ثلاثاء', 'أربعاء', 'خميس', 'جمعة', 'أول', 'ثان', 'ثاني', 'ثالث', 'رابع', 'خامس', 'سادس', 'سابع', 'ثامن', 'تاسع', 'عاشر', 'حادي', 'أ', 'ب', 'ت', 'ث', 'ج', 'ح', 'خ', 'د', 'ذ', 'ر', 'ز', 'س', 'ش', 'ص', 'ض', 'ط', 'ظ', 'ع', 'غ', 'ف', 'ق', 'ك', 'ل', 'م', 'ن', 'ه', 'و', 'ي', 'ء', 'ى', 'آ', 'ؤ', 'ئ', 'أ', 'ة', 'ألف', 'باء', 'تاء', 'ثاء', 'جيم', 'حاء', 'خاء', 'دال', 'ذال', 'راء', 'زاي', 'سين', 'شين', 'صاد', 'ضاد', 'طاء', 'ظاء', 'عين', 'غين', 'فاء', 'قاف', 'كاف', 'لام', 'ميم', 'نون', 'هاء', 'واو', 'ياء', 'همزة', 'ي', 'نا', 'ك', 'كن', 'ه', 'إياه', 'إياها', 'إياهما', 'إياهم', 'إياهن', 'إياك', 'إياكما', 'إياكم', 'إياك', 'إياكن', 'إياي', 'إيانا', 'أولالك', 'تانِ', 'تانِك', 'تِه', 'تِي', 'تَيْنِ', 'ثمّ', 'ثمّة', 'ذانِ', 'ذِه', 'ذِي', 'ذَيْنِ', 'هَؤلاء', 'هَاتانِ', 'هَاتِه', 'هَاتِي', 'هَاتَيْنِ', 'هَذا', 'هَذانِ', 'هَذِه', 'هَذِي', 'هَذَيْنِ', 'الألى', 'الألاء', 'أل', 'أنّى', 'أيّ', 'ّأيّان', 'أنّى', 'أيّ', 'ّأيّان', 'ذيت', 'كأيّ', 'كأيّن', 'بضع', 'فلان', 'وا', 'آمينَ', 'آهِ', 'آهٍ', 'آهاً', 'أُفٍّ', 'أُفٍّ', 'أفٍّ', 'أمامك', 'أمامكَ', 'أوّهْ', 'إلَيْكَ', 'إلَيْكَ', 'إليكَ', 'إليكنّ', 'إيهٍ', 'بخٍ', 'بسّ', 'بَسْ', 'بطآن', 'بَلْهَ', 'حاي', 'حَذارِ', 'حيَّ', 'حيَّ', 'دونك', 'رويدك', 'سرعان', 'شتانَ', 'شَتَّانَ', 'صهْ', 'صهٍ', 'طاق', 'طَق', 'عَدَسْ', 'كِخ', 'مكانَك', 'مكانَك', 'مكانَك', 'مكانكم', 'مكانكما', 'مكانكنّ', 'نَخْ', 'هاكَ', 'هَجْ', 'هلم', 'هيّا', 'هَيْهات', 'وا', 'واهاً', 'وراءَك', 'وُشْكَانَ', 'وَيْ', 'يفعلان', 'تفعلان', 'يفعلون', 'تفعلون', 'تفعلين', 'اتخذ', 'ألفى', 'تخذ', 'ترك', 'تعلَّم', 'جعل', 'حجا', 'حبيب', 'خال', 'حسب', 'خال', 'درى', 'رأى', 'زعم', 'صبر', 'ظنَّ', 'عدَّ', 'علم', 'غادر', 'ذهب', 'وجد', 'ورد', 'وهب', 'أسكن', 'أطعم', 'أعطى', 'رزق', 'زود', 'سقى', 'كسا', 'أخبر', 'أرى', 'أعلم', 'أنبأ', 'حدَث', 'خبَّر', 'نبَّا', 'أفعل به', 'ما أفعله', 'بئس', 'ساء', 'طالما', 'قلما', 'لات', 'لكنَّ', 'ءَ', 'أجل', 'إذاً', 'أمّا', 'إمّا', 'إنَّ', 'أنًّ', 'أى', 'إى', 'أيا', 'ب', 'ثمَّ', 'جلل', 'جير', 'رُبَّ', 'س', 'علًّ', 'ف', 'كأنّ', 'كلَّا', 'كى', 'ل', 'لات', 'لعلَّ', 'لكنَّ', 'لكنَّ', 'م', 'نَّ', 'هلّا', 'وا', 'أل', 'إلّا', 'ت', 'ك', 'لمّا', 'ن', 'ه', 'و', 'ا', 'ي', 'تجاه', 'تلقاء', 'جميع', 'حسب', 'سبحان', 'شبه', 'لعمر', 'مثل', 'معاذ', 'أبو', 'أخو', 'حمو', 'فو', 'مئة', 'مئتان', 'ثلاثمئة', 'أربعمئة', 'خمسمئة', 'ستمئة', 'سبعمئة', 'ثمنمئة', 'تسعمئة', 'مائة', 'ثلاثمائة', 'أربعمائة', 'خمسمائة', 'ستمائة', 'سبعمائة', 'ثمانمئة', 'تسعمائة', 'عشرون', 'ثلاثون', 'اربعون', 'خمسون', 'ستون', 'سبعون', 'ثمانون', 'تسعون', 'عشرين', 'ثلاثين', 'اربعين', 'خمسين', 'ستين', 'سبعين', 'ثمانين', 'تسعين', 'بضع', 'نيف', 'أجمع', 'جميع', 'عامة', 'عين', 'نفس', 'لا سيما', 'أصلا', 'أهلا', 'أيضا', 'بؤسا', 'بعدا', 'بغتة', 'تعسا', 'حقا', 'حمدا', 'خلافا', 'خاصة', 'دواليك', 'سحقا', 'سرا', 'سمعا', 'صبرا', 'صدقا', 'صراحة', 'طرا', 'عجبا', 'عيانا', 'غالبا', 'فرادى', 'فضلا', 'قاطبة', 'كثيرا', 'لبيك', 'معاذ', 'أبدا', 'إزاء', 'أصلا', 'الآن', 'أمد', 'أمس', 'آنفا', 'آناء', 'أنّى', 'أول', 'أيّان', 'تارة', 'ثمّ', 'ثمّة', 'حقا', 'صباح', 'مساء', 'ضحوة', 'عوض', 'غدا', 'غداة', 'قطّ', 'كلّما', 'لدن', 'لمّا', 'مرّة', 'قبل', 'خلف', 'أمام', 'فوق', 'تحت', 'يمين', 'شمال', 'ارتدّ', 'استحال', 'أصبح', 'أضحى', 'آض', 'أمسى', 'انقلب', 'بات', 'تبدّل', 'تحوّل', 'حار', 'رجع', 'راح', 'صار', 'ظلّ', 'عاد', 'غدا', 'كان', 'ما انفك', 'ما برح', 'مادام', 'مازال', 'مافتئ', 'ابتدأ', 'أخذ', 'اخلولق', 'أقبل', 'انبرى', 'أنشأ', 'أوشك', 'جعل', 'حرى', 'شرع', 'طفق', 'علق', 'قام', 'كرب', 'كاد', 'هبّ']\n",
      "['и', 'в', 'во', 'не', 'что', 'он', 'на', 'я', 'с', 'со', 'как', 'а', 'то', 'все', 'она', 'так', 'его', 'но', 'да', 'ты', 'к', 'у', 'же', 'вы', 'за', 'бы', 'по', 'только', 'ее', 'мне', 'было', 'вот', 'от', 'меня', 'еще', 'нет', 'о', 'из', 'ему', 'теперь', 'когда', 'даже', 'ну', 'вдруг', 'ли', 'если', 'уже', 'или', 'ни', 'быть', 'был', 'него', 'до', 'вас', 'нибудь', 'опять', 'уж', 'вам', 'ведь', 'там', 'потом', 'себя', 'ничего', 'ей', 'может', 'они', 'тут', 'где', 'есть', 'надо', 'ней', 'для', 'мы', 'тебя', 'их', 'чем', 'была', 'сам', 'чтоб', 'без', 'будто', 'чего', 'раз', 'тоже', 'себе', 'под', 'будет', 'ж', 'тогда', 'кто', 'этот', 'того', 'потому', 'этого', 'какой', 'совсем', 'ним', 'здесь', 'этом', 'один', 'почти', 'мой', 'тем', 'чтобы', 'нее', 'сейчас', 'были', 'куда', 'зачем', 'всех', 'никогда', 'можно', 'при', 'наконец', 'два', 'об', 'другой', 'хоть', 'после', 'над', 'больше', 'тот', 'через', 'эти', 'нас', 'про', 'всего', 'них', 'какая', 'много', 'разве', 'три', 'эту', 'моя', 'впрочем', 'хорошо', 'свою', 'этой', 'перед', 'иногда', 'лучше', 'чуть', 'том', 'нельзя', 'такой', 'им', 'более', 'всегда', 'конечно', 'всю', 'между']\n",
      "['ad', 'al', 'allo', 'ai', 'agli', 'all', 'agl', 'alla', 'alle', 'con', 'col', 'coi', 'da', 'dal', 'dallo', 'dai', 'dagli', 'dall', 'dagl', 'dalla', 'dalle', 'di', 'del', 'dello', 'dei', 'degli', 'dell', 'degl', 'della', 'delle', 'in', 'nel', 'nello', 'nei', 'negli', 'nell', 'negl', 'nella', 'nelle', 'su', 'sul', 'sullo', 'sui', 'sugli', 'sull', 'sugl', 'sulla', 'sulle', 'per', 'tra', 'contro', 'io', 'tu', 'lui', 'lei', 'noi', 'voi', 'loro', 'mio', 'mia', 'miei', 'mie', 'tuo', 'tua', 'tuoi', 'tue', 'suo', 'sua', 'suoi', 'sue', 'nostro', 'nostra', 'nostri', 'nostre', 'vostro', 'vostra', 'vostri', 'vostre', 'mi', 'ti', 'ci', 'vi', 'lo', 'la', 'li', 'le', 'gli', 'ne', 'il', 'un', 'uno', 'una', 'ma', 'ed', 'se', 'perché', 'anche', 'come', 'dov', 'dove', 'che', 'chi', 'cui', 'non', 'più', 'quale', 'quanto', 'quanti', 'quanta', 'quante', 'quello', 'quelli', 'quella', 'quelle', 'questo', 'questi', 'questa', 'queste', 'si', 'tutto', 'tutti', 'a', 'c', 'e', 'i', 'l', 'o', 'ho', 'hai', 'ha', 'abbiamo', 'avete', 'hanno', 'abbia', 'abbiate', 'abbiano', 'avrò', 'avrai', 'avrà', 'avremo', 'avrete', 'avranno', 'avrei', 'avresti', 'avrebbe', 'avremmo', 'avreste', 'avrebbero', 'avevo', 'avevi', 'aveva', 'avevamo', 'avevate', 'avevano', 'ebbi', 'avesti', 'ebbe', 'avemmo', 'aveste', 'ebbero', 'avessi', 'avesse', 'avessimo', 'avessero', 'avendo', 'avuto', 'avuta', 'avuti', 'avute', 'sono', 'sei', 'è', 'siamo', 'siete', 'sia', 'siate', 'siano', 'sarò', 'sarai', 'sarà', 'saremo', 'sarete', 'saranno', 'sarei', 'saresti', 'sarebbe', 'saremmo', 'sareste', 'sarebbero', 'ero', 'eri', 'era', 'eravamo', 'eravate', 'erano', 'fui', 'fosti', 'fu', 'fummo', 'foste', 'furono', 'fossi', 'fosse', 'fossimo', 'fossero', 'essendo', 'faccio', 'fai', 'facciamo', 'fanno', 'faccia', 'facciate', 'facciano', 'farò', 'farai', 'farà', 'faremo', 'farete', 'faranno', 'farei', 'faresti', 'farebbe', 'faremmo', 'fareste', 'farebbero', 'facevo', 'facevi', 'faceva', 'facevamo', 'facevate', 'facevano', 'feci', 'facesti', 'fece', 'facemmo', 'faceste', 'fecero', 'facessi', 'facesse', 'facessimo', 'facessero', 'facendo', 'sto', 'stai', 'sta', 'stiamo', 'stanno', 'stia', 'stiate', 'stiano', 'starò', 'starai', 'starà', 'staremo', 'starete', 'staranno', 'starei', 'staresti', 'starebbe', 'staremmo', 'stareste', 'starebbero', 'stavo', 'stavi', 'stava', 'stavamo', 'stavate', 'stavano', 'stetti', 'stesti', 'stette', 'stemmo', 'steste', 'stettero', 'stessi', 'stesse', 'stessimo', 'stessero', 'stando']\n",
      "['de', 'en', 'van', 'ik', 'te', 'dat', 'die', 'in', 'een', 'hij', 'het', 'niet', 'zijn', 'is', 'was', 'op', 'aan', 'met', 'als', 'voor', 'had', 'er', 'maar', 'om', 'hem', 'dan', 'zou', 'of', 'wat', 'mijn', 'men', 'dit', 'zo', 'door', 'over', 'ze', 'zich', 'bij', 'ook', 'tot', 'je', 'mij', 'uit', 'der', 'daar', 'haar', 'naar', 'heb', 'hoe', 'heeft', 'hebben', 'deze', 'u', 'want', 'nog', 'zal', 'me', 'zij', 'nu', 'ge', 'geen', 'omdat', 'iets', 'worden', 'toch', 'al', 'waren', 'veel', 'meer', 'doen', 'toen', 'moet', 'ben', 'zonder', 'kan', 'hun', 'dus', 'alles', 'onder', 'ja', 'eens', 'hier', 'wie', 'werd', 'altijd', 'doch', 'wordt', 'wezen', 'kunnen', 'ons', 'zelf', 'tegen', 'na', 'reeds', 'wil', 'kon', 'niets', 'uw', 'iemand', 'geweest', 'andere']\n",
      "['och', 'det', 'att', 'i', 'en', 'jag', 'hon', 'som', 'han', 'på', 'den', 'med', 'var', 'sig', 'för', 'så', 'till', 'är', 'men', 'ett', 'om', 'hade', 'de', 'av', 'icke', 'mig', 'du', 'henne', 'då', 'sin', 'nu', 'har', 'inte', 'hans', 'honom', 'skulle', 'hennes', 'där', 'min', 'man', 'ej', 'vid', 'kunde', 'något', 'från', 'ut', 'när', 'efter', 'upp', 'vi', 'dem', 'vara', 'vad', 'över', 'än', 'dig', 'kan', 'sina', 'här', 'ha', 'mot', 'alla', 'under', 'någon', 'eller', 'allt', 'mycket', 'sedan', 'ju', 'denna', 'själv', 'detta', 'åt', 'utan', 'varit', 'hur', 'ingen', 'mitt', 'ni', 'bli', 'blev', 'oss', 'din', 'dessa', 'några', 'deras', 'blir', 'mina', 'samma', 'vilken', 'er', 'sådan', 'vår', 'blivit', 'dess', 'inom', 'mellan', 'sådant', 'varför', 'varje', 'vilka', 'ditt', 'vem', 'vilket', 'sitta', 'sådana', 'vart', 'dina', 'vars', 'vårt', 'våra', 'ert', 'era', 'vilkas']\n",
      "['acaba', 'ama', 'aslında', 'az', 'bazı', 'belki', 'biri', 'birkaç', 'birşey', 'biz', 'bu', 'çok', 'çünkü', 'da', 'daha', 'de', 'defa', 'diye', 'eğer', 'en', 'gibi', 'hem', 'hep', 'hepsi', 'her', 'hiç', 'için', 'ile', 'ise', 'kez', 'ki', 'kim', 'mı', 'mu', 'mü', 'nasıl', 'ne', 'neden', 'nerde', 'nerede', 'nereye', 'niçin', 'niye', 'o', 'sanki', 'şey', 'siz', 'şu', 'tüm', 've', 'veya', 'ya', 'yani']\n",
      "['一', '一下', '一些', '一切', '一则', '一天', '一定', '一方面', '一旦', '一时', '一来', '一样', '一次', '一片', '一直', '一致', '一般', '一起', '一边', '一面', '万一', '上下', '上升', '上去', '上来', '上述', '上面', '下列', '下去', '下来', '下面', '不一', '不久', '不仅', '不会', '不但', '不光', '不单', '不变', '不只', '不可', '不同', '不够', '不如', '不得', '不怕', '不惟', '不成', '不拘', '不敢', '不断', '不是', '不比', '不然', '不特', '不独', '不管', '不能', '不要', '不论', '不足', '不过', '不问', '与', '与其', '与否', '与此同时', '专门', '且', '两者', '严格', '严重', '个', '个人', '个别', '中小', '中间', '丰富', '临', '为', '为主', '为了', '为什么', '为什麽', '为何', '为着', '主张', '主要', '举行', '乃', '乃至', '么', '之', '之一', '之前', '之后', '之後', '之所以', '之类', '乌乎', '乎', '乘', '也', '也好', '也是', '也罢', '了', '了解', '争取', '于', '于是', '于是乎', '云云', '互相', '产生', '人们', '人家', '什么', '什么样', '什麽', '今后', '今天', '今年', '今後', '仍然', '从', '从事', '从而', '他', '他人', '他们', '他的', '代替', '以', '以上', '以下', '以为', '以便', '以免', '以前', '以及', '以后', '以外', '以後', '以来', '以至', '以至于', '以致', '们', '任', '任何', '任凭', '任务', '企图', '伟大', '似乎', '似的', '但', '但是', '何', '何况', '何处', '何时', '作为', '你', '你们', '你的', '使得', '使用', '例如', '依', '依照', '依靠', '促进', '保持', '俺', '俺们', '倘', '倘使', '倘或', '倘然', '倘若', '假使', '假如', '假若', '做到', '像', '允许', '充分', '先后', '先後', '先生', '全部', '全面', '兮', '共同', '关于', '其', '其一', '其中', '其二', '其他', '其余', '其它', '其实', '其次', '具体', '具体地说', '具体说来', '具有', '再者', '再说', '冒', '冲', '决定', '况且', '准备', '几', '几乎', '几时', '凭', '凭借', '出去', '出来', '出现', '分别', '则', '别', '别的', '别说', '到', '前后', '前者', '前进', '前面', '加之', '加以', '加入', '加强', '十分', '即', '即令', '即使', '即便', '即或', '即若', '却不', '原来', '又', '及', '及其', '及时', '及至', '双方', '反之', '反应', '反映', '反过来', '反过来说', '取得', '受到', '变成', '另', '另一方面', '另外', '只是', '只有', '只要', '只限', '叫', '叫做', '召开', '叮咚', '可', '可以', '可是', '可能', '可见', '各', '各个', '各人', '各位', '各地', '各种', '各级', '各自', '合理', '同', '同一', '同时', '同样', '后来', '后面', '向', '向着', '吓', '吗', '否则', '吧', '吧哒', '吱', '呀', '呃', '呕', '呗', '呜', '呜呼', '呢', '周围', '呵', '呸', '呼哧', '咋', '和', '咚', '咦', '咱', '咱们', '咳', '哇', '哈', '哈哈', '哉', '哎', '哎呀', '哎哟', '哗', '哟', '哦', '哩', '哪', '哪个', '哪些', '哪儿', '哪天', '哪年', '哪怕', '哪样', '哪边', '哪里', '哼', '哼唷', '唉', '啊', '啐', '啥', '啦', '啪达', '喂', '喏', '喔唷', '嗡嗡', '嗬', '嗯', '嗳', '嘎', '嘎登', '嘘', '嘛', '嘻', '嘿', '因', '因为', '因此', '因而', '固然', '在', '在下', '地', '坚决', '坚持', '基本', '处理', '复杂', '多', '多少', '多数', '多次', '大力', '大多数', '大大', '大家', '大批', '大约', '大量', '失去', '她', '她们', '她的', '好的', '好象', '如', '如上所述', '如下', '如何', '如其', '如果', '如此', '如若', '存在', '宁', '宁可', '宁愿', '宁肯', '它', '它们', '它们的', '它的', '安全', '完全', '完成', '实现', '实际', '宣布', '容易', '密切', '对', '对于', '对应', '将', '少数', '尔后', '尚且', '尤其', '就', '就是', '就是说', '尽', '尽管', '属于', '岂但', '左右', '巨大', '巩固', '己', '已经', '帮助', '常常', '并', '并不', '并不是', '并且', '并没有', '广大', '广泛', '应当', '应用', '应该', '开外', '开始', '开展', '引起', '强烈', '强调', '归', '当', '当前', '当时', '当然', '当着', '形成', '彻底', '彼', '彼此', '往', '往往', '待', '後来', '後面', '得', '得出', '得到', '心里', '必然', '必要', '必须', '怎', '怎么', '怎么办', '怎么样', '怎样', '怎麽', '总之', '总是', '总的来看', '总的来说', '总的说来', '总结', '总而言之', '恰恰相反', '您', '意思', '愿意', '慢说', '成为', '我', '我们', '我的', '或', '或是', '或者', '战斗', '所', '所以', '所有', '所谓', '打', '扩大', '把', '抑或', '拿', '按', '按照', '换句话说', '换言之', '据', '掌握', '接着', '接著', '故', '故此', '整个', '方便', '方面', '旁人', '无宁', '无法', '无论', '既', '既是', '既然', '时候', '明显', '明确', '是', '是否', '是的', '显然', '显著', '普通', '普遍', '更加', '曾经', '替', '最后', '最大', '最好', '最後', '最近', '最高', '有', '有些', '有关', '有利', '有力', '有所', '有效', '有时', '有点', '有的', '有着', '有著', '望', '朝', '朝着', '本', '本着', '来', '来着', '极了', '构成', '果然', '果真', '某', '某个', '某些', '根据', '根本', '欢迎', '正在', '正如', '正常', '此', '此外', '此时', '此间', '毋宁', '每', '每个', '每天', '每年', '每当', '比', '比如', '比方', '比较', '毫不', '没有', '沿', '沿着', '注意', '深入', '清楚', '满足', '漫说', '焉', '然则', '然后', '然後', '然而', '照', '照着', '特别是', '特殊', '特点', '现代', '现在', '甚么', '甚而', '甚至', '用', '由', '由于', '由此可见', '的', '的话', '目前', '直到', '直接', '相似', '相信', '相反', '相同', '相对', '相对而言', '相应', '相当', '相等', '省得', '看出', '看到', '看来', '看看', '看见', '真是', '真正', '着', '着呢', '矣', '知道', '确定', '离', '积极', '移动', '突出', '突然', '立即', '第', '等', '等等', '管', '紧接着', '纵', '纵令', '纵使', '纵然', '练习', '组成', '经', '经常', '经过', '结合', '结果', '给', '绝对', '继续', '继而', '维持', '综上所述', '罢了', '考虑', '者', '而', '而且', '而况', '而外', '而已', '而是', '而言', '联系', '能', '能否', '能够', '腾', '自', '自个儿', '自从', '自各儿', '自家', '自己', '自身', '至', '至于', '良好', '若', '若是', '若非', '范围', '莫若', '获得', '虽', '虽则', '虽然', '虽说', '行为', '行动', '表明', '表示', '被', '要', '要不', '要不是', '要不然', '要么', '要是', '要求', '规定', '觉得', '认为', '认真', '认识', '让', '许多', '论', '设使', '设若', '该', '说明', '诸位', '谁', '谁知', '赶', '起', '起来', '起见', '趁', '趁着', '越是', '跟', '转动', '转变', '转贴', '较', '较之', '边', '达到', '迅速', '过', '过去', '过来', '运用', '还是', '还有', '这', '这个', '这么', '这么些', '这么样', '这么点儿', '这些', '这会儿', '这儿', '这就是说', '这时', '这样', '这点', '这种', '这边', '这里', '这麽', '进入', '进步', '进而', '进行', '连', '连同', '适应', '适当', '适用', '逐步', '逐渐', '通常', '通过', '造成', '遇到', '遭到', '避免', '那', '那个', '那么', '那么些', '那么样', '那些', '那会儿', '那儿', '那时', '那样', '那边', '那里', '那麽', '部分', '鄙人', '采取', '里面', '重大', '重新', '重要', '鉴于', '问题', '防止', '阿', '附近', '限制', '除', '除了', '除此之外', '除非', '随', '随着', '随著', '集中', '需要', '非但', '非常', '非徒', '靠', '顺', '顺着', '首先', '高兴', '是不是']\n"
     ]
    }
   ],
   "source": [
    "print(stopwords.words('german'))\n",
    "print(stopwords.words('english'))\n",
    "print(stopwords.words('french'))\n",
    "print(stopwords.words('spanish'))\n",
    "print(stopwords.words('portuguese'))\n",
    "print(stopwords.words('arabic'))\n",
    "print(stopwords.words('russian'))\n",
    "print(stopwords.words('italian'))\n",
    "print(stopwords.words('dutch'))\n",
    "print(stopwords.words('swedish'))\n",
    "print(stopwords.words('turkish'))\n",
    "print(stopwords.words('chinese'))\n"
   ]
  },
  {
   "cell_type": "code",
   "execution_count": null,
   "id": "45ce8e72",
   "metadata": {},
   "outputs": [],
   "source": [
    "from nltk.stem import PorterStemmer\n",
    "stemmer = PorterStemmer()"
   ]
  },
  {
   "cell_type": "code",
   "execution_count": null,
   "id": "c09bca25",
   "metadata": {},
   "outputs": [],
   "source": [
    "stemmer = PorterStemmer()"
   ]
  },
  {
   "cell_type": "code",
   "execution_count": null,
   "id": "d9e6ced4",
   "metadata": {},
   "outputs": [],
   "source": [
    "s = nltk.sent_tokenize(c)"
   ]
  },
  {
   "cell_type": "code",
   "execution_count": null,
   "id": "e0815cf5",
   "metadata": {},
   "outputs": [
    {
     "data": {
      "text/plain": [
       "list"
      ]
     },
     "execution_count": 42,
     "metadata": {},
     "output_type": "execute_result"
    }
   ],
   "source": [
    "type(s)"
   ]
  },
  {
   "cell_type": "code",
   "execution_count": null,
   "id": "6c10f9d0",
   "metadata": {},
   "outputs": [],
   "source": [
    "for i in range(len(s)):\n",
    "    w = nltk.word_tokenize(s[i])\n",
    "    words_not_instopwords = [stemmer.stem(word) for word in w if word not in set(stopwords.words('english'))]\n",
    "    s[i] = ' '.join(words_not_instopwords)"
   ]
  },
  {
   "cell_type": "code",
   "execution_count": null,
   "id": "0f1833b5",
   "metadata": {},
   "outputs": [
    {
     "name": "stdout",
     "output_type": "stream",
     "text": [
      "hello welcom , i love python , i learn ai/ml , also learn python .\n",
      "sdfsfsfklsdf.sdfsd , dsfsdf !\n",
      ", df , sga.=sdf\n"
     ]
    }
   ],
   "source": [
    "for i in s:\n",
    "    print(i)"
   ]
  },
  {
   "cell_type": "code",
   "execution_count": null,
   "id": "c45d2952",
   "metadata": {},
   "outputs": [],
   "source": [
    "from nltk.stem import SnowballStemmer\n",
    "stemmer = SnowballStemmer('english')\n",
    "\n",
    "for i in range(len(s)):\n",
    "    W = nltk.word_tokenize(s[i])\n",
    "    words_not_instopwords = [stemmer.stem(word) for word in W if word not in set(stopwords.words('english'))]\n",
    "    s[i] = ' '.join(words_not_instopwords)"
   ]
  },
  {
   "cell_type": "code",
   "execution_count": null,
   "id": "2861fb68",
   "metadata": {},
   "outputs": [
    {
     "name": "stdout",
     "output_type": "stream",
     "text": [
      "hello welcom , love python , learn ai/ml , also learn python .\n",
      "sdfsfsfklsdf.sdfsd , dsfsdf !\n",
      ", df , sga.=sdf\n"
     ]
    }
   ],
   "source": [
    "for i in s:\n",
    "    print(i)"
   ]
  },
  {
   "cell_type": "code",
   "execution_count": null,
   "id": "a9703595",
   "metadata": {},
   "outputs": [],
   "source": [
    "from nltk.stem import WordNetLemmatizer\n",
    "lammatizer = WordNetLemmatizer()\n",
    "\n",
    "for i in range(len(s)):\n",
    "    W = nltk.word_tokenize(s[i])\n",
    "    words_not_instopwords = [lammatizer.lemmatize(word.lower(),pos='v') for word in W if word not in set(stopwords.words('english'))]\n",
    "    s[i] = ' '.join(words_not_instopwords)"
   ]
  },
  {
   "cell_type": "code",
   "execution_count": null,
   "id": "c61e1f32",
   "metadata": {},
   "outputs": [
    {
     "name": "stdout",
     "output_type": "stream",
     "text": [
      "hello welcom , love python , learn ai/ml , also learn python .\n",
      "sdfsfsfklsdf.sdfsd , dsfsdf !\n",
      ", df , sga.=sdf\n"
     ]
    }
   ],
   "source": [
    "for i in s:\n",
    "    print(i)"
   ]
  },
  {
   "cell_type": "code",
   "execution_count": null,
   "id": "e61bf4f1",
   "metadata": {},
   "outputs": [
    {
     "name": "stderr",
     "output_type": "stream",
     "text": [
      "[nltk_data] Downloading package averaged_perceptron_tagger_eng to\n",
      "[nltk_data]     C:\\Users\\Admin\\AppData\\Roaming\\nltk_data...\n",
      "[nltk_data]   Package averaged_perceptron_tagger_eng is already up-to-\n",
      "[nltk_data]       date!\n",
      "[nltk_data] Downloading package averaged_perceptron_tagger to\n",
      "[nltk_data]     C:\\Users\\Admin\\AppData\\Roaming\\nltk_data...\n",
      "[nltk_data]   Package averaged_perceptron_tagger is already up-to-\n",
      "[nltk_data]       date!\n"
     ]
    },
    {
     "data": {
      "text/plain": [
       "True"
      ]
     },
     "execution_count": 49,
     "metadata": {},
     "output_type": "execute_result"
    }
   ],
   "source": [
    "import nltk\n",
    "nltk.download('averaged_perceptron_tagger_eng')\n",
    "nltk.download('averaged_perceptron_tagger')"
   ]
  },
  {
   "cell_type": "code",
   "execution_count": null,
   "id": "041fd76d",
   "metadata": {},
   "outputs": [
    {
     "name": "stdout",
     "output_type": "stream",
     "text": [
      "[('hello', 'NN'), ('welcom', 'NN'), (',', ','), ('love', 'VB'), ('python', 'NN'), (',', ','), ('learn', 'JJ'), ('ai/ml', 'NN'), (',', ','), ('also', 'RB'), ('learn', 'JJ'), ('python', 'NN'), ('.', '.')]\n",
      "[('sdfsfsfklsdf.sdfsd', 'NN'), (',', ','), ('dsfsdf', 'NN'), ('!', '.')]\n",
      "[(',', ','), ('df', 'NN'), (',', ','), ('sga.=sdf', 'NN')]\n"
     ]
    }
   ],
   "source": [
    "    for i in range(len(s)):\n",
    "        W = nltk.word_tokenize(s[i])\n",
    "        words_not_instopwords = [word for word in W if word not in set(stopwords.words('english'))]\n",
    "        pos_tags = nltk.pos_tag(words_not_instopwords)\n",
    "        print(pos_tags)\n"
   ]
  },
  {
   "cell_type": "code",
   "execution_count": null,
   "id": "0a947208",
   "metadata": {},
   "outputs": [
    {
     "data": {
      "text/plain": [
       "[('Python', 'NNP'),\n",
       " ('is', 'VBZ'),\n",
       " ('a', 'DT'),\n",
       " ('programming', 'JJ'),\n",
       " ('language', 'NN')]"
      ]
     },
     "execution_count": 51,
     "metadata": {},
     "output_type": "execute_result"
    }
   ],
   "source": [
    "nltk.pos_tag(['Python', 'is', 'a', 'programming', 'language'])"
   ]
  },
  {
   "cell_type": "code",
   "execution_count": null,
   "id": "bd34ad2d",
   "metadata": {},
   "outputs": [
    {
     "data": {
      "text/plain": [
       "[[('Taj', 'NNP'),\n",
       "  ('Mahal', 'NNP'),\n",
       "  ('is', 'VBZ'),\n",
       "  ('a', 'DT'),\n",
       "  ('beautiful', 'JJ'),\n",
       "  ('Monument', 'NN'),\n",
       "  ('in', 'IN'),\n",
       "  ('India', 'NNP'),\n",
       "  ('.', '.')]]"
      ]
     },
     "execution_count": 52,
     "metadata": {},
     "output_type": "execute_result"
    }
   ],
   "source": [
    "nltk.pos_tag_sents([nltk.word_tokenize(\"Taj Mahal is a beautiful Monument in India.\")])"
   ]
  },
  {
   "cell_type": "code",
   "execution_count": null,
   "id": "3fa10637",
   "metadata": {},
   "outputs": [
    {
     "name": "stdout",
     "output_type": "stream",
     "text": [
      "Taj ===> [('Taj', 'NN')]\n",
      "Mahal ===> [('Mahal', 'NN')]\n",
      "is ===> [('is', 'VBZ')]\n",
      "a ===> [('a', 'DT')]\n",
      "beautiful ===> [('beautiful', 'NN')]\n",
      "Monument ===> [('Monument', 'NN')]\n",
      "in ===> [('in', 'IN')]\n",
      "India. ===> [('India.', 'NN')]\n"
     ]
    }
   ],
   "source": [
    "for i in \"Taj Mahal is a beautiful Monument in India.\".split():\n",
    "    print(i, \"===>\", nltk.pos_tag([i]))\n"
   ]
  },
  {
   "cell_type": "markdown",
   "id": "5539ee28",
   "metadata": {},
   "source": [
    "Named Entity Recognition"
   ]
  },
  {
   "cell_type": "code",
   "execution_count": null,
   "id": "1383d47d",
   "metadata": {},
   "outputs": [
    {
     "data": {
      "text/plain": [
       "['Taj', 'Mahal', 'is', 'a', 'beautiful', 'Monument', 'in', 'India', '.']"
      ]
     },
     "execution_count": 54,
     "metadata": {},
     "output_type": "execute_result"
    }
   ],
   "source": [
    "import nltk\n",
    "sentence = nltk.word_tokenize(\"Taj Mahal is a beautiful Monument in India.\")\n",
    "sentence"
   ]
  },
  {
   "cell_type": "code",
   "execution_count": null,
   "id": "7d94f02f",
   "metadata": {},
   "outputs": [
    {
     "data": {
      "text/plain": [
       "[('Taj', 'NNP'),\n",
       " ('Mahal', 'NNP'),\n",
       " ('is', 'VBZ'),\n",
       " ('a', 'DT'),\n",
       " ('beautiful', 'JJ'),\n",
       " ('Monument', 'NN'),\n",
       " ('in', 'IN'),\n",
       " ('India', 'NNP'),\n",
       " ('.', '.')]"
      ]
     },
     "execution_count": 55,
     "metadata": {},
     "output_type": "execute_result"
    }
   ],
   "source": [
    "w = nltk.pos_tag(sentence)\n",
    "w"
   ]
  },
  {
   "cell_type": "code",
   "execution_count": null,
   "id": "6de5b033",
   "metadata": {},
   "outputs": [
    {
     "name": "stderr",
     "output_type": "stream",
     "text": [
      "[nltk_data] Downloading package maxent_ne_chunker_tab to\n",
      "[nltk_data]     C:\\Users\\Admin\\AppData\\Roaming\\nltk_data...\n",
      "[nltk_data]   Package maxent_ne_chunker_tab is already up-to-date!\n"
     ]
    },
    {
     "data": {
      "text/plain": [
       "True"
      ]
     },
     "execution_count": 56,
     "metadata": {},
     "output_type": "execute_result"
    }
   ],
   "source": [
    "nltk.download('maxent_ne_chunker_tab')"
   ]
  },
  {
   "cell_type": "code",
   "execution_count": null,
   "id": "a0e0fd95",
   "metadata": {},
   "outputs": [],
   "source": [
    "try:\n",
    "    nltk.ne_chunk(w).draw()\n",
    "except Exception as e:\n",
    "    print(e)\n"
   ]
  },
  {
   "cell_type": "markdown",
   "id": "debbf5b8",
   "metadata": {},
   "source": [
    "Sentiment Analysis\n",
    "\n",
    "One hot encoding"
   ]
  },
  {
   "cell_type": "markdown",
   "id": "e2bcc6bc",
   "metadata": {},
   "source": []
  },
  {
   "cell_type": "markdown",
   "id": "b86a1c3a",
   "metadata": {},
   "source": [
    "Word2Vec Practice"
   ]
  },
  {
   "cell_type": "code",
   "execution_count": null,
   "id": "6f082d96",
   "metadata": {},
   "outputs": [
    {
     "name": "stdout",
     "output_type": "stream",
     "text": [
      "Requirement already satisfied: gensim in c:\\users\\admin\\desktop\\ai-ml_qb\\gen_ai\\.venv\\lib\\site-packages (4.3.3)\n",
      "Requirement already satisfied: numpy<2.0,>=1.18.5 in c:\\users\\admin\\desktop\\ai-ml_qb\\gen_ai\\.venv\\lib\\site-packages (from gensim) (1.26.4)\n",
      "Requirement already satisfied: scipy<1.14.0,>=1.7.0 in c:\\users\\admin\\desktop\\ai-ml_qb\\gen_ai\\.venv\\lib\\site-packages (from gensim) (1.13.1)\n",
      "Requirement already satisfied: smart-open>=1.8.1 in c:\\users\\admin\\desktop\\ai-ml_qb\\gen_ai\\.venv\\lib\\site-packages (from gensim) (7.1.0)\n",
      "Requirement already satisfied: wrapt in c:\\users\\admin\\desktop\\ai-ml_qb\\gen_ai\\.venv\\lib\\site-packages (from smart-open>=1.8.1->gensim) (1.17.2)\n"
     ]
    }
   ],
   "source": [
    "!pip install gensim"
   ]
  },
  {
   "cell_type": "code",
   "execution_count": null,
   "id": "366d10d8",
   "metadata": {},
   "outputs": [],
   "source": [
    "import gensim\n",
    "from gensim.models import Word2Vec,keyedvectors"
   ]
  },
  {
   "cell_type": "code",
   "execution_count": null,
   "id": "5b4b65d3",
   "metadata": {},
   "outputs": [],
   "source": [
    "import gensim.downloader as api"
   ]
  },
  {
   "cell_type": "code",
   "execution_count": null,
   "id": "a0a8136f",
   "metadata": {},
   "outputs": [
    {
     "ename": "ValueError",
     "evalue": "Incorrect model/corpus name",
     "output_type": "error",
     "traceback": [
      "\u001b[31m---------------------------------------------------------------------------\u001b[39m",
      "\u001b[31mValueError\u001b[39m                                Traceback (most recent call last)",
      "\u001b[36mCell\u001b[39m\u001b[36m \u001b[39m\u001b[32mIn[61]\u001b[39m\u001b[32m, line 1\u001b[39m\n\u001b[32m----> \u001b[39m\u001b[32m1\u001b[39m model = \u001b[43mapi\u001b[49m\u001b[43m.\u001b[49m\u001b[43mload\u001b[49m\u001b[43m(\u001b[49m\u001b[33;43m\"\u001b[39;49m\u001b[33;43mword2vec-google-news- \u001b[39;49m\u001b[33;43m\"\u001b[39;49m\u001b[43m)\u001b[49m\n",
      "\u001b[36mFile \u001b[39m\u001b[32mc:\\Users\\Admin\\Desktop\\AI-ML_QB\\Gen_AI\\.venv\\Lib\\site-packages\\gensim\\downloader.py:492\u001b[39m, in \u001b[36mload\u001b[39m\u001b[34m(name, return_path)\u001b[39m\n\u001b[32m    490\u001b[39m file_name = _get_filename(name)\n\u001b[32m    491\u001b[39m \u001b[38;5;28;01mif\u001b[39;00m file_name \u001b[38;5;129;01mis\u001b[39;00m \u001b[38;5;28;01mNone\u001b[39;00m:\n\u001b[32m--> \u001b[39m\u001b[32m492\u001b[39m     \u001b[38;5;28;01mraise\u001b[39;00m \u001b[38;5;167;01mValueError\u001b[39;00m(\u001b[33m\"\u001b[39m\u001b[33mIncorrect model/corpus name\u001b[39m\u001b[33m\"\u001b[39m)\n\u001b[32m    493\u001b[39m folder_dir = os.path.join(BASE_DIR, name)\n\u001b[32m    494\u001b[39m path = os.path.join(folder_dir, file_name)\n",
      "\u001b[31mValueError\u001b[39m: Incorrect model/corpus name"
     ]
    }
   ],
   "source": [
    "model = api.load(\"word2vec-google-news- \")"
   ]
  },
  {
   "cell_type": "code",
   "execution_count": null,
   "id": "31ca50ea",
   "metadata": {},
   "outputs": [
    {
     "data": {
      "text/plain": [
       "array([ 1.25976562e-01,  2.97851562e-02,  8.60595703e-03,  1.39648438e-01,\n",
       "       -2.56347656e-02, -3.61328125e-02,  1.11816406e-01, -1.98242188e-01,\n",
       "        5.12695312e-02,  3.63281250e-01, -2.42187500e-01, -3.02734375e-01,\n",
       "       -1.77734375e-01, -2.49023438e-02, -1.67968750e-01, -1.69921875e-01,\n",
       "        3.46679688e-02,  5.21850586e-03,  4.63867188e-02,  1.28906250e-01,\n",
       "        1.36718750e-01,  1.12792969e-01,  5.95703125e-02,  1.36718750e-01,\n",
       "        1.01074219e-01, -1.76757812e-01, -2.51953125e-01,  5.98144531e-02,\n",
       "        3.41796875e-01, -3.11279297e-02,  1.04492188e-01,  6.17675781e-02,\n",
       "        1.24511719e-01,  4.00390625e-01, -3.22265625e-01,  8.39843750e-02,\n",
       "        3.90625000e-02,  5.85937500e-03,  7.03125000e-02,  1.72851562e-01,\n",
       "        1.38671875e-01, -2.31445312e-01,  2.83203125e-01,  1.42578125e-01,\n",
       "        3.41796875e-01, -2.39257812e-02, -1.09863281e-01,  3.32031250e-02,\n",
       "       -5.46875000e-02,  1.53198242e-02, -1.62109375e-01,  1.58203125e-01,\n",
       "       -2.59765625e-01,  2.01416016e-02, -1.63085938e-01,  1.35803223e-03,\n",
       "       -1.44531250e-01, -5.68847656e-02,  4.29687500e-02, -2.46582031e-02,\n",
       "        1.85546875e-01,  4.47265625e-01,  9.58251953e-03,  1.31835938e-01,\n",
       "        9.86328125e-02, -1.85546875e-01, -1.00097656e-01, -1.33789062e-01,\n",
       "       -1.25000000e-01,  2.83203125e-01,  1.23046875e-01,  5.32226562e-02,\n",
       "       -1.77734375e-01,  8.59375000e-02, -2.18505859e-02,  2.05078125e-02,\n",
       "       -1.39648438e-01,  2.51464844e-02,  1.38671875e-01, -1.05468750e-01,\n",
       "        1.38671875e-01,  8.88671875e-02, -7.51953125e-02, -2.13623047e-02,\n",
       "        1.72851562e-01,  4.63867188e-02, -2.65625000e-01,  8.91113281e-03,\n",
       "        1.49414062e-01,  3.78417969e-02,  2.38281250e-01, -1.24511719e-01,\n",
       "       -2.17773438e-01, -1.81640625e-01,  2.97851562e-02,  5.71289062e-02,\n",
       "       -2.89306641e-02,  1.24511719e-02,  9.66796875e-02, -2.31445312e-01,\n",
       "        5.81054688e-02,  6.68945312e-02,  7.08007812e-02, -3.08593750e-01,\n",
       "       -2.14843750e-01,  1.45507812e-01, -4.27734375e-01, -9.39941406e-03,\n",
       "        1.54296875e-01, -7.66601562e-02,  2.89062500e-01,  2.77343750e-01,\n",
       "       -4.86373901e-04, -1.36718750e-01,  3.24218750e-01, -2.46093750e-01,\n",
       "       -3.03649902e-03, -2.11914062e-01,  1.25000000e-01,  2.69531250e-01,\n",
       "        2.04101562e-01,  8.25195312e-02, -2.01171875e-01, -1.60156250e-01,\n",
       "       -3.78417969e-02, -1.20117188e-01,  1.15234375e-01, -4.10156250e-02,\n",
       "       -3.95507812e-02, -8.98437500e-02,  6.34765625e-03,  2.03125000e-01,\n",
       "        1.86523438e-01,  2.73437500e-01,  6.29882812e-02,  1.41601562e-01,\n",
       "       -9.81445312e-02,  1.38671875e-01,  1.82617188e-01,  1.73828125e-01,\n",
       "        1.73828125e-01, -2.37304688e-01,  1.78710938e-01,  6.34765625e-02,\n",
       "        2.36328125e-01, -2.08984375e-01,  8.74023438e-02, -1.66015625e-01,\n",
       "       -7.91015625e-02,  2.43164062e-01, -8.88671875e-02,  1.26953125e-01,\n",
       "       -2.16796875e-01, -1.73828125e-01, -3.59375000e-01, -8.25195312e-02,\n",
       "       -6.49414062e-02,  5.07812500e-02,  1.35742188e-01, -7.47070312e-02,\n",
       "       -1.64062500e-01,  1.15356445e-02,  4.45312500e-01, -2.15820312e-01,\n",
       "       -1.11328125e-01, -1.92382812e-01,  1.70898438e-01, -1.25000000e-01,\n",
       "        2.65502930e-03,  1.92382812e-01, -1.74804688e-01,  1.39648438e-01,\n",
       "        2.92968750e-01,  1.13281250e-01,  5.95703125e-02, -6.39648438e-02,\n",
       "        9.96093750e-02, -2.72216797e-02,  1.96533203e-02,  4.27246094e-02,\n",
       "       -2.46093750e-01,  6.39648438e-02, -2.25585938e-01, -1.68945312e-01,\n",
       "        2.89916992e-03,  8.20312500e-02,  3.41796875e-01,  4.32128906e-02,\n",
       "        1.32812500e-01,  1.42578125e-01,  7.61718750e-02,  5.98144531e-02,\n",
       "       -1.19140625e-01,  2.74658203e-03, -6.29882812e-02, -2.72216797e-02,\n",
       "       -4.82177734e-03, -8.20312500e-02, -2.49023438e-02, -4.00390625e-01,\n",
       "       -1.06933594e-01,  4.24804688e-02,  7.76367188e-02, -1.16699219e-01,\n",
       "        7.37304688e-02, -9.22851562e-02,  1.07910156e-01,  1.58203125e-01,\n",
       "        4.24804688e-02,  1.26953125e-01,  3.61328125e-02,  2.67578125e-01,\n",
       "       -1.01074219e-01, -3.02734375e-01, -5.76171875e-02,  5.05371094e-02,\n",
       "        5.26428223e-04, -2.07031250e-01, -1.38671875e-01, -8.97216797e-03,\n",
       "       -2.78320312e-02, -1.41601562e-01,  2.07031250e-01, -1.58203125e-01,\n",
       "        1.27929688e-01,  1.49414062e-01, -2.24609375e-02, -8.44726562e-02,\n",
       "        1.22558594e-01,  2.15820312e-01, -2.13867188e-01, -3.12500000e-01,\n",
       "       -3.73046875e-01,  4.08935547e-03,  1.07421875e-01,  1.06933594e-01,\n",
       "        7.32421875e-02,  8.97216797e-03, -3.88183594e-02, -1.29882812e-01,\n",
       "        1.49414062e-01, -2.14843750e-01, -1.83868408e-03,  9.91210938e-02,\n",
       "        1.57226562e-01, -1.14257812e-01, -2.05078125e-01,  9.91210938e-02,\n",
       "        3.69140625e-01, -1.97265625e-01,  3.54003906e-02,  1.09375000e-01,\n",
       "        1.31835938e-01,  1.66992188e-01,  2.35351562e-01,  1.04980469e-01,\n",
       "       -4.96093750e-01, -1.64062500e-01, -1.56250000e-01, -5.22460938e-02,\n",
       "        1.03027344e-01,  2.43164062e-01, -1.88476562e-01,  5.07812500e-02,\n",
       "       -9.37500000e-02, -6.68945312e-02,  2.27050781e-02,  7.61718750e-02,\n",
       "        2.89062500e-01,  3.10546875e-01, -5.37109375e-02,  2.28515625e-01,\n",
       "        2.51464844e-02,  6.78710938e-02, -1.21093750e-01, -2.15820312e-01,\n",
       "       -2.73437500e-01, -3.07617188e-02, -3.37890625e-01,  1.53320312e-01,\n",
       "        2.33398438e-01, -2.08007812e-01,  3.73046875e-01,  8.20312500e-02,\n",
       "        2.51953125e-01, -7.61718750e-02, -4.66308594e-02, -2.23388672e-02,\n",
       "        2.99072266e-02, -5.93261719e-02, -4.66918945e-03, -2.44140625e-01,\n",
       "       -2.09960938e-01, -2.87109375e-01, -4.54101562e-02, -1.77734375e-01,\n",
       "       -2.79296875e-01, -8.59375000e-02,  9.13085938e-02,  2.51953125e-01],\n",
       "      dtype=float32)"
      ]
     },
     "execution_count": 12,
     "metadata": {},
     "output_type": "execute_result"
    }
   ],
   "source": [
    "model['king']"
   ]
  },
  {
   "cell_type": "code",
   "execution_count": null,
   "id": "2cb1ddcc",
   "metadata": {},
   "outputs": [
    {
     "data": {
      "text/plain": [
       "[('balls', 0.6992624402046204),\n",
       " ('upfield', 0.6896207332611084),\n",
       " ('downfield', 0.639072835445404),\n",
       " ('dribbler', 0.6218728423118591),\n",
       " ('balll', 0.6199931502342224),\n",
       " ('dribble', 0.616877555847168),\n",
       " ('ball_squirted', 0.6110138297080994),\n",
       " ('leftfooted', 0.6020259261131287),\n",
       " ('puck', 0.5981723666191101),\n",
       " ('mishit', 0.5948783159255981)]"
      ]
     },
     "execution_count": 35,
     "metadata": {},
     "output_type": "execute_result"
    }
   ],
   "source": [
    "model.most_similar('ball')"
   ]
  },
  {
   "cell_type": "code",
   "execution_count": null,
   "id": "bf440f58",
   "metadata": {},
   "outputs": [
    {
     "data": {
      "text/plain": [
       "0.18008712"
      ]
     },
     "execution_count": 30,
     "metadata": {},
     "output_type": "execute_result"
    }
   ],
   "source": [
    "\n",
    "model.similarity('bottle','man')"
   ]
  },
  {
   "cell_type": "code",
   "execution_count": null,
   "id": "ec50c8d9",
   "metadata": {},
   "outputs": [],
   "source": [
    "a = model['king'] - model['man'] + model['woman']"
   ]
  },
  {
   "cell_type": "code",
   "execution_count": null,
   "id": "db4a2488",
   "metadata": {},
   "outputs": [
    {
     "data": {
      "text/plain": [
       "array([ 4.29687500e-02, -1.78222656e-01, -1.29089355e-01,  1.15234375e-01,\n",
       "        2.68554688e-03, -1.02294922e-01,  1.95800781e-01, -1.79504395e-01,\n",
       "        1.95312500e-02,  4.09919739e-01, -3.68164062e-01, -3.96484375e-01,\n",
       "       -1.56738281e-01,  1.46484375e-03, -9.30175781e-02, -1.16455078e-01,\n",
       "       -5.51757812e-02, -1.07574463e-01,  7.91015625e-02,  1.98974609e-01,\n",
       "        2.38525391e-01,  6.34002686e-02, -2.17285156e-02,  0.00000000e+00,\n",
       "        4.72412109e-02, -2.17773438e-01, -3.44726562e-01,  6.37207031e-02,\n",
       "        3.16406250e-01, -1.97631836e-01,  8.59375000e-02, -8.11767578e-02,\n",
       "       -3.71093750e-02,  3.15551758e-01, -3.41796875e-01, -4.68750000e-02,\n",
       "        9.76562500e-02,  8.39843750e-02, -9.71679688e-02,  5.17578125e-02,\n",
       "       -5.00488281e-02, -2.20947266e-01,  2.29492188e-01,  1.26403809e-01,\n",
       "        2.49023438e-01,  2.09960938e-02, -1.09863281e-01,  5.81054688e-02,\n",
       "       -3.35693359e-02,  1.29577637e-01,  2.41699219e-02,  3.48129272e-02,\n",
       "       -2.60009766e-01,  2.42309570e-01, -3.21777344e-01,  1.45416260e-02,\n",
       "       -1.59179688e-01, -8.37402344e-02,  1.65039062e-01,  1.58691406e-03,\n",
       "        3.09570312e-01,  3.16406250e-01,  7.38525391e-03,  2.41210938e-01,\n",
       "        4.90722656e-02, -9.86328125e-02,  2.90527344e-02,  1.49414062e-01,\n",
       "       -4.83398438e-02,  2.35595703e-01,  2.21191406e-01,  1.25488281e-01,\n",
       "       -1.38671875e-01,  1.54296875e-01,  7.18994141e-02,  1.29882812e-01,\n",
       "       -1.05712891e-01,  6.00585938e-02,  3.14697266e-01,  1.09619141e-01,\n",
       "        8.49609375e-02,  7.71484375e-02, -2.17285156e-02,  6.11572266e-02,\n",
       "       -1.89941406e-01,  2.07519531e-01, -1.63085938e-01,  1.13525391e-01,\n",
       "        2.01171875e-01,  6.06689453e-02,  1.27929688e-01, -3.11279297e-01,\n",
       "       -2.80151367e-01, -1.55883789e-01,  4.15039062e-02,  9.87854004e-02,\n",
       "        1.69555664e-01, -3.49121094e-02,  2.08496094e-01, -9.89990234e-02,\n",
       "        4.39453125e-03, -7.27539062e-02, -4.24804688e-02, -4.09179688e-01,\n",
       "       -2.76367188e-01,  1.64062500e-01, -5.57617188e-01, -2.02199936e-01,\n",
       "        2.12158203e-01, -9.81445312e-02,  2.30773926e-01,  2.75878906e-01,\n",
       "        1.68092728e-01, -4.50439453e-02,  1.71615601e-01, -3.77075195e-01,\n",
       "       -3.52478027e-03, -3.01513672e-01,  1.74224854e-01,  3.30078125e-01,\n",
       "        2.00683594e-01,  1.17736816e-01, -1.37695312e-01, -1.07421875e-01,\n",
       "        8.61816406e-02,  1.06445312e-01,  1.44531250e-01,  3.05175781e-03,\n",
       "        1.80664062e-02,  3.73535156e-02,  7.32421875e-03,  1.32812500e-01,\n",
       "        9.61914062e-02,  3.35998535e-01,  1.81152344e-01,  2.40905762e-01,\n",
       "       -8.49609375e-02, -1.10107422e-01,  2.11914062e-01,  5.85937500e-03,\n",
       "        1.62109375e-01, -4.15527344e-01,  1.39160156e-01,  1.01562500e-01,\n",
       "        1.44531250e-01, -1.09375000e-01,  4.88281250e-02,  6.15234375e-02,\n",
       "       -1.69921875e-01,  3.28369141e-02,  5.56640625e-02,  1.47460938e-01,\n",
       "       -2.24609375e-02, -2.73925781e-01, -2.81982422e-01, -1.39160156e-01,\n",
       "       -1.81884766e-01,  9.33532715e-02,  1.21093750e-01, -5.37109375e-03,\n",
       "       -1.87500000e-01,  3.05175781e-04,  5.52734375e-01, -9.71679688e-02,\n",
       "       -1.81640625e-01, -1.51855469e-01,  7.76367188e-02, -2.38281250e-01,\n",
       "       -2.63977051e-02,  2.25555420e-01, -3.02734375e-01,  1.34765625e-01,\n",
       "        3.23242188e-01,  1.25976562e-01,  3.51562500e-02, -2.04345703e-01,\n",
       "        2.96142578e-01,  1.03149414e-01, -4.76074219e-03,  1.69189453e-01,\n",
       "       -3.50585938e-01,  2.46887207e-02, -3.90502930e-01, -2.70507812e-01,\n",
       "        1.85241699e-02,  1.04492188e-01,  2.84179688e-01,  1.35009766e-01,\n",
       "       -5.95703125e-02,  1.88232422e-01,  8.88214111e-02,  3.24707031e-02,\n",
       "       -8.98437500e-02,  5.45043945e-02,  5.65185547e-02,  1.56860352e-01,\n",
       "       -9.70458984e-03, -7.08007812e-02,  5.71289062e-02, -3.08837891e-01,\n",
       "       -1.91894531e-01,  4.83398438e-02,  5.22460938e-02, -1.59667969e-01,\n",
       "       -4.49218750e-02, -7.37304688e-02,  5.51757812e-02,  2.12402344e-01,\n",
       "        2.05322266e-01, -2.73437500e-02,  7.86132812e-02,  3.19091797e-01,\n",
       "       -1.56982422e-01, -3.92822266e-01,  4.00390625e-02,  9.93652344e-02,\n",
       "       -1.97372437e-02, -8.25195312e-02,  2.53906250e-02,  3.10668945e-02,\n",
       "       -3.63769531e-02,  1.48925781e-02,  2.20703125e-01, -5.98144531e-02,\n",
       "        6.15234375e-02, -7.14111328e-02, -4.00390625e-02, -1.03515625e-01,\n",
       "        9.22851562e-02,  2.71789551e-01, -2.30224609e-01, -2.62695312e-01,\n",
       "       -5.61523438e-01,  1.38549805e-02,  1.09863281e-01,  7.22656250e-02,\n",
       "        4.58984375e-02, -3.31802368e-02, -8.03833008e-02, -6.10351562e-03,\n",
       "        2.09960938e-01, -3.86840820e-01,  1.44645691e-01,  8.05664062e-02,\n",
       "        2.96264648e-01, -1.17187500e-02, -2.34680176e-01,  1.32019043e-01,\n",
       "        2.53906250e-01, -2.46826172e-01,  1.03759766e-01,  1.14013672e-01,\n",
       "        1.71875000e-01, -5.61523438e-03,  2.05078125e-01,  6.34765625e-02,\n",
       "       -4.51293945e-01, -2.26562500e-01, -1.03027344e-01, -1.31469727e-01,\n",
       "        3.75976562e-02,  2.70996094e-01, -2.39257812e-01,  3.80859375e-02,\n",
       "       -3.90625000e-02, -9.42382812e-02,  8.30078125e-03,  7.03125000e-02,\n",
       "        2.75390625e-01,  3.31542969e-01, -1.07421875e-02,  3.72192383e-01,\n",
       "       -1.24511719e-01,  1.94335938e-01, -1.35620117e-01, -3.09570312e-01,\n",
       "       -2.36328125e-01, -1.26953125e-02, -2.76855469e-01,  1.57714844e-01,\n",
       "        3.07617188e-01, -2.32910156e-01,  3.25439453e-01,  1.36718750e-02,\n",
       "        1.99462891e-01, -2.61840820e-02, -8.08105469e-02, -7.50732422e-02,\n",
       "       -4.11109924e-02,  1.95556641e-01, -5.64270020e-02, -2.79296875e-01,\n",
       "       -2.75390625e-01, -4.04296875e-01, -1.75781250e-02, -5.85937500e-03,\n",
       "       -7.71484375e-02,  1.33789062e-01,  2.36816406e-01,  2.01538086e-01],\n",
       "      dtype=float32)"
      ]
     },
     "execution_count": 24,
     "metadata": {},
     "output_type": "execute_result"
    }
   ],
   "source": [
    "a"
   ]
  },
  {
   "cell_type": "code",
   "execution_count": null,
   "id": "719e5f3a",
   "metadata": {},
   "outputs": [
    {
     "data": {
      "text/plain": [
       "[('king', 0.8449392318725586),\n",
       " ('queen', 0.7300517559051514),\n",
       " ('monarch', 0.645466148853302),\n",
       " ('princess', 0.6156251430511475),\n",
       " ('crown_prince', 0.5818676352500916),\n",
       " ('prince', 0.5777117609977722),\n",
       " ('kings', 0.5613663792610168),\n",
       " ('sultan', 0.5376775860786438),\n",
       " ('Queen_Consort', 0.5344247817993164),\n",
       " ('queens', 0.5289887189865112)]"
      ]
     },
     "execution_count": 38,
     "metadata": {},
     "output_type": "execute_result"
    }
   ],
   "source": [
    "model.most_similar([a])"
   ]
  },
  {
   "cell_type": "markdown",
   "id": "31afcdc9",
   "metadata": {},
   "source": [
    "Tokenization Practice"
   ]
  },
  {
   "cell_type": "code",
   "execution_count": null,
   "id": "5958c181",
   "metadata": {},
   "outputs": [],
   "source": [
    "from nltk.tokenize import word_tokenize\n",
    "from nltk.tokenize import sent_tokenize\n",
    "from nltk.corpus import stopwords\n"
   ]
  },
  {
   "cell_type": "code",
   "execution_count": null,
   "id": "7974f50d",
   "metadata": {},
   "outputs": [],
   "source": [
    "corpus = \"\"\"hello welcome, to Rudra's AI/ML course. I love Python and I am learning AI/ML.\"\"\""
   ]
  },
  {
   "cell_type": "code",
   "execution_count": null,
   "id": "7f8f5e6d",
   "metadata": {},
   "outputs": [
    {
     "data": {
      "text/plain": [
       "[\"hello welcome, to Rudra's AI/ML course.\",\n",
       " 'I love Python and I am learning AI/ML.']"
      ]
     },
     "execution_count": 56,
     "metadata": {},
     "output_type": "execute_result"
    }
   ],
   "source": [
    "sent_tokenize(corpus)"
   ]
  },
  {
   "cell_type": "code",
   "execution_count": null,
   "id": "90462d63",
   "metadata": {},
   "outputs": [
    {
     "data": {
      "text/plain": [
       "['hello',\n",
       " 'welcome',\n",
       " ',',\n",
       " 'to',\n",
       " 'Rudra',\n",
       " \"'s\",\n",
       " 'AI/ML',\n",
       " 'course',\n",
       " '.',\n",
       " 'I',\n",
       " 'love',\n",
       " 'Python',\n",
       " 'and',\n",
       " 'I',\n",
       " 'am',\n",
       " 'learning',\n",
       " 'AI/ML',\n",
       " '.']"
      ]
     },
     "execution_count": 57,
     "metadata": {},
     "output_type": "execute_result"
    }
   ],
   "source": [
    "word_tokenize(corpus)"
   ]
  },
  {
   "cell_type": "code",
   "execution_count": null,
   "id": "628849b5",
   "metadata": {},
   "outputs": [],
   "source": [
    "from nltk.tokenize import wordpunct_tokenize"
   ]
  },
  {
   "cell_type": "code",
   "execution_count": null,
   "id": "81a7cc93",
   "metadata": {},
   "outputs": [
    {
     "data": {
      "text/plain": [
       "['hello',\n",
       " 'welcome',\n",
       " ',',\n",
       " 'to',\n",
       " 'Rudra',\n",
       " \"'\",\n",
       " 's',\n",
       " 'AI',\n",
       " '/',\n",
       " 'ML',\n",
       " 'course',\n",
       " '.',\n",
       " 'I',\n",
       " 'love',\n",
       " 'Python',\n",
       " 'and',\n",
       " 'I',\n",
       " 'am',\n",
       " 'learning',\n",
       " 'AI',\n",
       " '/',\n",
       " 'ML',\n",
       " '.']"
      ]
     },
     "execution_count": 60,
     "metadata": {},
     "output_type": "execute_result"
    }
   ],
   "source": [
    "wordpunct_tokenize(corpus)"
   ]
  },
  {
   "cell_type": "code",
   "execution_count": null,
   "id": "8ffcf9be",
   "metadata": {},
   "outputs": [],
   "source": [
    "from nltk.stem import PorterStemmer"
   ]
  },
  {
   "cell_type": "code",
   "execution_count": null,
   "id": "1f148f3b",
   "metadata": {},
   "outputs": [
    {
     "name": "stderr",
     "output_type": "stream",
     "text": [
      "[nltk_data] Downloading package stopwords to\n",
      "[nltk_data]     C:\\Users\\Admin\\AppData\\Roaming\\nltk_data...\n",
      "[nltk_data]   Package stopwords is already up-to-date!\n"
     ]
    },
    {
     "data": {
      "text/plain": [
       "True"
      ]
     },
     "execution_count": 64,
     "metadata": {},
     "output_type": "execute_result"
    }
   ],
   "source": [
    "import nltk\n",
    "nltk.download('stopwords')"
   ]
  },
  {
   "cell_type": "code",
   "execution_count": null,
   "id": "afaed546",
   "metadata": {},
   "outputs": [
    {
     "data": {
      "text/plain": [
       "['a',\n",
       " 'about',\n",
       " 'above',\n",
       " 'after',\n",
       " 'again',\n",
       " 'against',\n",
       " 'ain',\n",
       " 'all',\n",
       " 'am',\n",
       " 'an',\n",
       " 'and',\n",
       " 'any',\n",
       " 'are',\n",
       " 'aren',\n",
       " \"aren't\",\n",
       " 'as',\n",
       " 'at',\n",
       " 'be',\n",
       " 'because',\n",
       " 'been',\n",
       " 'before',\n",
       " 'being',\n",
       " 'below',\n",
       " 'between',\n",
       " 'both',\n",
       " 'but',\n",
       " 'by',\n",
       " 'can',\n",
       " 'couldn',\n",
       " \"couldn't\",\n",
       " 'd',\n",
       " 'did',\n",
       " 'didn',\n",
       " \"didn't\",\n",
       " 'do',\n",
       " 'does',\n",
       " 'doesn',\n",
       " \"doesn't\",\n",
       " 'doing',\n",
       " 'don',\n",
       " \"don't\",\n",
       " 'down',\n",
       " 'during',\n",
       " 'each',\n",
       " 'few',\n",
       " 'for',\n",
       " 'from',\n",
       " 'further',\n",
       " 'had',\n",
       " 'hadn',\n",
       " \"hadn't\",\n",
       " 'has',\n",
       " 'hasn',\n",
       " \"hasn't\",\n",
       " 'have',\n",
       " 'haven',\n",
       " \"haven't\",\n",
       " 'having',\n",
       " 'he',\n",
       " \"he'd\",\n",
       " \"he'll\",\n",
       " 'her',\n",
       " 'here',\n",
       " 'hers',\n",
       " 'herself',\n",
       " \"he's\",\n",
       " 'him',\n",
       " 'himself',\n",
       " 'his',\n",
       " 'how',\n",
       " 'i',\n",
       " \"i'd\",\n",
       " 'if',\n",
       " \"i'll\",\n",
       " \"i'm\",\n",
       " 'in',\n",
       " 'into',\n",
       " 'is',\n",
       " 'isn',\n",
       " \"isn't\",\n",
       " 'it',\n",
       " \"it'd\",\n",
       " \"it'll\",\n",
       " \"it's\",\n",
       " 'its',\n",
       " 'itself',\n",
       " \"i've\",\n",
       " 'just',\n",
       " 'll',\n",
       " 'm',\n",
       " 'ma',\n",
       " 'me',\n",
       " 'mightn',\n",
       " \"mightn't\",\n",
       " 'more',\n",
       " 'most',\n",
       " 'mustn',\n",
       " \"mustn't\",\n",
       " 'my',\n",
       " 'myself',\n",
       " 'needn',\n",
       " \"needn't\",\n",
       " 'no',\n",
       " 'nor',\n",
       " 'not',\n",
       " 'now',\n",
       " 'o',\n",
       " 'of',\n",
       " 'off',\n",
       " 'on',\n",
       " 'once',\n",
       " 'only',\n",
       " 'or',\n",
       " 'other',\n",
       " 'our',\n",
       " 'ours',\n",
       " 'ourselves',\n",
       " 'out',\n",
       " 'over',\n",
       " 'own',\n",
       " 're',\n",
       " 's',\n",
       " 'same',\n",
       " 'shan',\n",
       " \"shan't\",\n",
       " 'she',\n",
       " \"she'd\",\n",
       " \"she'll\",\n",
       " \"she's\",\n",
       " 'should',\n",
       " 'shouldn',\n",
       " \"shouldn't\",\n",
       " \"should've\",\n",
       " 'so',\n",
       " 'some',\n",
       " 'such',\n",
       " 't',\n",
       " 'than',\n",
       " 'that',\n",
       " \"that'll\",\n",
       " 'the',\n",
       " 'their',\n",
       " 'theirs',\n",
       " 'them',\n",
       " 'themselves',\n",
       " 'then',\n",
       " 'there',\n",
       " 'these',\n",
       " 'they',\n",
       " \"they'd\",\n",
       " \"they'll\",\n",
       " \"they're\",\n",
       " \"they've\",\n",
       " 'this',\n",
       " 'those',\n",
       " 'through',\n",
       " 'to',\n",
       " 'too',\n",
       " 'under',\n",
       " 'until',\n",
       " 'up',\n",
       " 've',\n",
       " 'very',\n",
       " 'was',\n",
       " 'wasn',\n",
       " \"wasn't\",\n",
       " 'we',\n",
       " \"we'd\",\n",
       " \"we'll\",\n",
       " \"we're\",\n",
       " 'were',\n",
       " 'weren',\n",
       " \"weren't\",\n",
       " \"we've\",\n",
       " 'what',\n",
       " 'when',\n",
       " 'where',\n",
       " 'which',\n",
       " 'while',\n",
       " 'who',\n",
       " 'whom',\n",
       " 'why',\n",
       " 'will',\n",
       " 'with',\n",
       " 'won',\n",
       " \"won't\",\n",
       " 'wouldn',\n",
       " \"wouldn't\",\n",
       " 'y',\n",
       " 'you',\n",
       " \"you'd\",\n",
       " \"you'll\",\n",
       " 'your',\n",
       " \"you're\",\n",
       " 'yours',\n",
       " 'yourself',\n",
       " 'yourselves',\n",
       " \"you've\"]"
      ]
     },
     "execution_count": 68,
     "metadata": {},
     "output_type": "execute_result"
    }
   ],
   "source": [
    "stopwords.words('english')"
   ]
  },
  {
   "cell_type": "code",
   "execution_count": null,
   "id": "7fc6ecba",
   "metadata": {},
   "outputs": [],
   "source": [
    "stmmer = PorterStemmer()\n",
    "a = nltk.sent_tokenize(corpus)"
   ]
  },
  {
   "cell_type": "code",
   "execution_count": null,
   "id": "86bc6ea4",
   "metadata": {},
   "outputs": [],
   "source": [
    "for i in range(len(a)):\n",
    "    w = nltk.word_tokenize(a[i])\n",
    "    words_not_instopwords = [stmmer.stem(word) for word in w if word not in set(stopwords.words('english'))]\n",
    "    a[i] = ' '.join(words_not_instopwords)"
   ]
  },
  {
   "cell_type": "code",
   "execution_count": null,
   "id": "eb6c6033",
   "metadata": {},
   "outputs": [
    {
     "data": {
      "text/plain": [
       "[\"hello welcom , rudra 's ai/ml cours .\", 'i love python i learn ai/ml .']"
      ]
     },
     "execution_count": 76,
     "metadata": {},
     "output_type": "execute_result"
    }
   ],
   "source": [
    "a"
   ]
  },
  {
   "cell_type": "markdown",
   "id": "2bdf7f35",
   "metadata": {},
   "source": [
    "Bag of Words Practicals(BOW)"
   ]
  },
  {
   "cell_type": "code",
   "execution_count": null,
   "id": "aa409203",
   "metadata": {},
   "outputs": [],
   "source": [
    "import pandas as pd"
   ]
  },
  {
   "cell_type": "code",
   "execution_count": null,
   "id": "874093d9",
   "metadata": {},
   "outputs": [],
   "source": [
    "df = pd.read_csv('spam_messages_1000.csv')"
   ]
  },
  {
   "cell_type": "code",
   "execution_count": null,
   "id": "5a8c061e",
   "metadata": {},
   "outputs": [
    {
     "data": {
      "text/html": [
       "<div>\n",
       "<style scoped>\n",
       "    .dataframe tbody tr th:only-of-type {\n",
       "        vertical-align: middle;\n",
       "    }\n",
       "\n",
       "    .dataframe tbody tr th {\n",
       "        vertical-align: top;\n",
       "    }\n",
       "\n",
       "    .dataframe thead th {\n",
       "        text-align: right;\n",
       "    }\n",
       "</style>\n",
       "<table border=\"1\" class=\"dataframe\">\n",
       "  <thead>\n",
       "    <tr style=\"text-align: right;\">\n",
       "      <th></th>\n",
       "      <th>label</th>\n",
       "      <th>message</th>\n",
       "    </tr>\n",
       "  </thead>\n",
       "  <tbody>\n",
       "    <tr>\n",
       "      <th>0</th>\n",
       "      <td>spam</td>\n",
       "      <td>Claim your free vacation package now. Limited ...</td>\n",
       "    </tr>\n",
       "    <tr>\n",
       "      <th>1</th>\n",
       "      <td>ham</td>\n",
       "      <td>Meeting rescheduled to 3 PM.</td>\n",
       "    </tr>\n",
       "    <tr>\n",
       "      <th>2</th>\n",
       "      <td>ham</td>\n",
       "      <td>Are you coming to the party tonight?</td>\n",
       "    </tr>\n",
       "    <tr>\n",
       "      <th>3</th>\n",
       "      <td>spam</td>\n",
       "      <td>Claim your free vacation package now. Limited ...</td>\n",
       "    </tr>\n",
       "    <tr>\n",
       "      <th>4</th>\n",
       "      <td>ham</td>\n",
       "      <td>Can you call me back when you're free?</td>\n",
       "    </tr>\n",
       "    <tr>\n",
       "      <th>...</th>\n",
       "      <td>...</td>\n",
       "      <td>...</td>\n",
       "    </tr>\n",
       "    <tr>\n",
       "      <th>995</th>\n",
       "      <td>spam</td>\n",
       "      <td>You have been selected for a cash prize. Reply...</td>\n",
       "    </tr>\n",
       "    <tr>\n",
       "      <th>996</th>\n",
       "      <td>ham</td>\n",
       "      <td>Don't forget to bring the documents for the me...</td>\n",
       "    </tr>\n",
       "    <tr>\n",
       "      <th>997</th>\n",
       "      <td>ham</td>\n",
       "      <td>Thanks for your help earlier!</td>\n",
       "    </tr>\n",
       "    <tr>\n",
       "      <th>998</th>\n",
       "      <td>ham</td>\n",
       "      <td>Don't worry, everything will be fine.</td>\n",
       "    </tr>\n",
       "    <tr>\n",
       "      <th>999</th>\n",
       "      <td>spam</td>\n",
       "      <td>Act now to receive your free iPhone!</td>\n",
       "    </tr>\n",
       "  </tbody>\n",
       "</table>\n",
       "<p>1000 rows × 2 columns</p>\n",
       "</div>"
      ],
      "text/plain": [
       "    label                                            message\n",
       "0    spam  Claim your free vacation package now. Limited ...\n",
       "1     ham                       Meeting rescheduled to 3 PM.\n",
       "2     ham               Are you coming to the party tonight?\n",
       "3    spam  Claim your free vacation package now. Limited ...\n",
       "4     ham             Can you call me back when you're free?\n",
       "..    ...                                                ...\n",
       "995  spam  You have been selected for a cash prize. Reply...\n",
       "996   ham  Don't forget to bring the documents for the me...\n",
       "997   ham                      Thanks for your help earlier!\n",
       "998   ham              Don't worry, everything will be fine.\n",
       "999  spam               Act now to receive your free iPhone!\n",
       "\n",
       "[1000 rows x 2 columns]"
      ]
     },
     "execution_count": 92,
     "metadata": {},
     "output_type": "execute_result"
    }
   ],
   "source": [
    "df"
   ]
  },
  {
   "cell_type": "code",
   "execution_count": null,
   "id": "a3e90322",
   "metadata": {},
   "outputs": [
    {
     "name": "stderr",
     "output_type": "stream",
     "text": [
      "[nltk_data] Downloading package punkt to\n",
      "[nltk_data]     C:\\Users\\Admin\\AppData\\Roaming\\nltk_data...\n",
      "[nltk_data]   Package punkt is already up-to-date!\n"
     ]
    }
   ],
   "source": [
    "import re\n",
    "import nltk\n",
    "nltk.download('punkt')\n",
    "ps = PorterStemmer()"
   ]
  },
  {
   "cell_type": "code",
   "execution_count": null,
   "id": "18b1c153",
   "metadata": {},
   "outputs": [],
   "source": [
    "corpus=[]\n",
    "for i in range(0,len(df)):\n",
    "    review = re.sub('[^a-zA-Z]',' ',df['message'][i])\n",
    "    review = review.lower()\n",
    "    review = review.split()\n",
    "    review = [ps.stem(word) for word in review if not word in stopwords.words('english')]\n",
    "    review = ' '.join(review)\n",
    "    corpus.append(review)"
   ]
  },
  {
   "cell_type": "code",
   "execution_count": null,
   "id": "0df78fe8",
   "metadata": {},
   "outputs": [
    {
     "name": "stdout",
     "output_type": "stream",
     "text": [
      "['claim free vacat packag limit time offer', 'meet reschedul pm', 'come parti tonight', 'claim free vacat packag limit time offer', 'call back free', 'meet reschedul pm', 'happi birthday hope great day', 'subscript end renew avoid interrupt', 'meet reschedul pm', 'scam realli', 'get cheap med onlin without prescript visit site', 'urgent account compromis click link secur', 'thank help earlier', 'let catch coffe sometim', 'let catch coffe sometim', 'pre approv loan appli', 'forget bring document meet', 'worri everyth fine', 'thank help earlier', 'worri everyth fine', 'urgent account compromis click link secur', 'scam realli', 'forget bring document meet', 'hey still lunch today', 'let catch coffe sometim', 'subscript end renew avoid interrupt', 'claim free vacat packag limit time offer', 'call back free', 'claim free vacat packag limit time offer', 'late traffic realli bad right', 'urgent account compromis click link secur', 'subscript end renew avoid interrupt', 'thank help earlier', 'claim free vacat packag limit time offer', 'meet reschedul pm', 'get cheap med onlin without prescript visit site', 'late traffic realli bad right', 'pre approv loan appli', 'happi birthday hope great day', 'forget bring document meet', 'hey still lunch today', 'claim free vacat packag limit time offer', 'late traffic realli bad right', 'call back free', 'hey still lunch today', 'claim free vacat packag limit time offer', 'congratul walmart gift card click claim', 'urgent account compromis click link secur', 'forget bring document meet', 'late traffic realli bad right', 'come parti tonight', 'late traffic realli bad right', 'meet reschedul pm', 'call back free', 'scam realli', 'congratul walmart gift card click claim', 'forget bring document meet', 'scam realli', 'act receiv free iphon', 'get cheap med onlin without prescript visit site', 'scam realli', 'hey still lunch today', 'come parti tonight', 'act receiv free iphon', 'get cheap med onlin without prescript visit site', 'congratul walmart gift card click claim', 'happi birthday hope great day', 'come parti tonight', 'act receiv free iphon', 'let catch coffe sometim', 'pre approv loan appli', 'get cheap med onlin without prescript visit site', 'pre approv loan appli', 'worri everyth fine', 'meet reschedul pm', 'hey still lunch today', 'act receiv free iphon', 'congratul walmart gift card click claim', 'select cash prize repli win claim', 'hey still lunch today', 'happi birthday hope great day', 'forget bring document meet', 'pre approv loan appli', 'late traffic realli bad right', 'pre approv loan appli', 'worri everyth fine', 'hey still lunch today', 'claim free vacat packag limit time offer', 'come parti tonight', 'act receiv free iphon', 'late traffic realli bad right', 'hey still lunch today', 'earn day work home experi requir', 'pre approv loan appli', 'act receiv free iphon', 'pre approv loan appli', 'pre approv loan appli', 'meet reschedul pm', 'call back free', 'come parti tonight', 'worri everyth fine', 'select cash prize repli win claim', 'late traffic realli bad right', 'urgent account compromis click link secur', 'meet reschedul pm', 'thank help earlier', 'claim free vacat packag limit time offer', 'happi birthday hope great day', 'meet reschedul pm', 'forget bring document meet', 'come parti tonight', 'call back free', 'earn day work home experi requir', 'subscript end renew avoid interrupt', 'scam realli', 'get cheap med onlin without prescript visit site', 'come parti tonight', 'select cash prize repli win claim', 'earn day work home experi requir', 'claim free vacat packag limit time offer', 'happi birthday hope great day', 'call back free', 'come parti tonight', 'let catch coffe sometim', 'hey still lunch today', 'meet reschedul pm', 'worri everyth fine', 'claim free vacat packag limit time offer', 'meet reschedul pm', 'scam realli', 'let catch coffe sometim', 'call back free', 'late traffic realli bad right', 'congratul walmart gift card click claim', 'earn day work home experi requir', 'call back free', 'happi birthday hope great day', 'get cheap med onlin without prescript visit site', 'claim free vacat packag limit time offer', 'come parti tonight', 'urgent account compromis click link secur', 'scam realli', 'urgent account compromis click link secur', 'hey still lunch today', 'come parti tonight', 'select cash prize repli win claim', 'hey still lunch today', 'pre approv loan appli', 'hey still lunch today', 'forget bring document meet', 'let catch coffe sometim', 'congratul walmart gift card click claim', 'get cheap med onlin without prescript visit site', 'earn day work home experi requir', 'congratul walmart gift card click claim', 'meet reschedul pm', 'select cash prize repli win claim', 'earn day work home experi requir', 'worri everyth fine', 'subscript end renew avoid interrupt', 'forget bring document meet', 'call back free', 'happi birthday hope great day', 'late traffic realli bad right', 'select cash prize repli win claim', 'act receiv free iphon', 'select cash prize repli win claim', 'hey still lunch today', 'happi birthday hope great day', 'let catch coffe sometim', 'claim free vacat packag limit time offer', 'thank help earlier', 'late traffic realli bad right', 'claim free vacat packag limit time offer', 'worri everyth fine', 'get cheap med onlin without prescript visit site', 'hey still lunch today', 'act receiv free iphon', 'late traffic realli bad right', 'pre approv loan appli', 'pre approv loan appli', 'late traffic realli bad right', 'call back free', 'claim free vacat packag limit time offer', 'pre approv loan appli', 'thank help earlier', 'happi birthday hope great day', 'act receiv free iphon', 'come parti tonight', 'late traffic realli bad right', 'pre approv loan appli', 'act receiv free iphon', 'act receiv free iphon', 'act receiv free iphon', 'worri everyth fine', 'late traffic realli bad right', 'late traffic realli bad right', 'call back free', 'scam realli', 'get cheap med onlin without prescript visit site', 'scam realli', 'select cash prize repli win claim', 'come parti tonight', 'forget bring document meet', 'scam realli', 'claim free vacat packag limit time offer', 'late traffic realli bad right', 'scam realli', 'act receiv free iphon', 'happi birthday hope great day', 'urgent account compromis click link secur', 'forget bring document meet', 'subscript end renew avoid interrupt', 'subscript end renew avoid interrupt', 'earn day work home experi requir', 'scam realli', 'claim free vacat packag limit time offer', 'meet reschedul pm', 'meet reschedul pm', 'forget bring document meet', 'meet reschedul pm', 'earn day work home experi requir', 'earn day work home experi requir', 'claim free vacat packag limit time offer', 'act receiv free iphon', 'scam realli', 'come parti tonight', 'late traffic realli bad right', 'come parti tonight', 'claim free vacat packag limit time offer', 'pre approv loan appli', 'get cheap med onlin without prescript visit site', 'earn day work home experi requir', 'happi birthday hope great day', 'call back free', 'late traffic realli bad right', 'call back free', 'pre approv loan appli', 'late traffic realli bad right', 'call back free', 'forget bring document meet', 'select cash prize repli win claim', 'happi birthday hope great day', 'late traffic realli bad right', 'come parti tonight', 'pre approv loan appli', 'thank help earlier', 'meet reschedul pm', 'forget bring document meet', 'act receiv free iphon', 'earn day work home experi requir', 'thank help earlier', 'urgent account compromis click link secur', 'select cash prize repli win claim', 'claim free vacat packag limit time offer', 'urgent account compromis click link secur', 'forget bring document meet', 'call back free', 'come parti tonight', 'meet reschedul pm', 'come parti tonight', 'worri everyth fine', 'claim free vacat packag limit time offer', 'happi birthday hope great day', 'scam realli', 'forget bring document meet', 'urgent account compromis click link secur', 'subscript end renew avoid interrupt', 'hey still lunch today', 'thank help earlier', 'urgent account compromis click link secur', 'call back free', 'come parti tonight', 'let catch coffe sometim', 'come parti tonight', 'hey still lunch today', 'let catch coffe sometim', 'get cheap med onlin without prescript visit site', 'earn day work home experi requir', 'call back free', 'hey still lunch today', 'call back free', 'forget bring document meet', 'call back free', 'get cheap med onlin without prescript visit site', 'act receiv free iphon', 'urgent account compromis click link secur', 'let catch coffe sometim', 'happi birthday hope great day', 'call back free', 'congratul walmart gift card click claim', 'let catch coffe sometim', 'let catch coffe sometim', 'act receiv free iphon', 'earn day work home experi requir', 'scam realli', 'let catch coffe sometim', 'call back free', 'forget bring document meet', 'hey still lunch today', 'hey still lunch today', 'pre approv loan appli', 'urgent account compromis click link secur', 'urgent account compromis click link secur', 'select cash prize repli win claim', 'urgent account compromis click link secur', 'get cheap med onlin without prescript visit site', 'select cash prize repli win claim', 'hey still lunch today', 'get cheap med onlin without prescript visit site', 'hey still lunch today', 'late traffic realli bad right', 'hey still lunch today', 'select cash prize repli win claim', 'late traffic realli bad right', 'earn day work home experi requir', 'subscript end renew avoid interrupt', 'subscript end renew avoid interrupt', 'earn day work home experi requir', 'select cash prize repli win claim', 'earn day work home experi requir', 'urgent account compromis click link secur', 'happi birthday hope great day', 'meet reschedul pm', 'get cheap med onlin without prescript visit site', 'hey still lunch today', 'hey still lunch today', 'meet reschedul pm', 'call back free', 'happi birthday hope great day', 'call back free', 'come parti tonight', 'get cheap med onlin without prescript visit site', 'forget bring document meet', 'thank help earlier', 'late traffic realli bad right', 'hey still lunch today', 'act receiv free iphon', 'act receiv free iphon', 'hey still lunch today', 'subscript end renew avoid interrupt', 'act receiv free iphon', 'call back free', 'congratul walmart gift card click claim', 'happi birthday hope great day', 'worri everyth fine', 'subscript end renew avoid interrupt', 'come parti tonight', 'call back free', 'call back free', 'earn day work home experi requir', 'urgent account compromis click link secur', 'get cheap med onlin without prescript visit site', 'earn day work home experi requir', 'worri everyth fine', 'let catch coffe sometim', 'thank help earlier', 'earn day work home experi requir', 'late traffic realli bad right', 'urgent account compromis click link secur', 'get cheap med onlin without prescript visit site', 'hey still lunch today', 'claim free vacat packag limit time offer', 'earn day work home experi requir', 'act receiv free iphon', 'claim free vacat packag limit time offer', 'let catch coffe sometim', 'hey still lunch today', 'scam realli', 'scam realli', 'claim free vacat packag limit time offer', 'meet reschedul pm', 'earn day work home experi requir', 'come parti tonight', 'call back free', 'come parti tonight', 'subscript end renew avoid interrupt', 'thank help earlier', 'act receiv free iphon', 'scam realli', 'worri everyth fine', 'worri everyth fine', 'pre approv loan appli', 'claim free vacat packag limit time offer', 'act receiv free iphon', 'urgent account compromis click link secur', 'happi birthday hope great day', 'act receiv free iphon', 'come parti tonight', 'worri everyth fine', 'claim free vacat packag limit time offer', 'forget bring document meet', 'pre approv loan appli', 'act receiv free iphon', 'claim free vacat packag limit time offer', 'pre approv loan appli', 'urgent account compromis click link secur', 'late traffic realli bad right', 'earn day work home experi requir', 'forget bring document meet', 'act receiv free iphon', 'earn day work home experi requir', 'come parti tonight', 'congratul walmart gift card click claim', 'worri everyth fine', 'late traffic realli bad right', 'scam realli', 'forget bring document meet', 'forget bring document meet', 'worri everyth fine', 'act receiv free iphon', 'urgent account compromis click link secur', 'meet reschedul pm', 'scam realli', 'forget bring document meet', 'let catch coffe sometim', 'thank help earlier', 'congratul walmart gift card click claim', 'urgent account compromis click link secur', 'forget bring document meet', 'earn day work home experi requir', 'congratul walmart gift card click claim', 'come parti tonight', 'happi birthday hope great day', 'worri everyth fine', 'forget bring document meet', 'act receiv free iphon', 'come parti tonight', 'claim free vacat packag limit time offer', 'get cheap med onlin without prescript visit site', 'pre approv loan appli', 'thank help earlier', 'scam realli', 'select cash prize repli win claim', 'pre approv loan appli', 'congratul walmart gift card click claim', 'let catch coffe sometim', 'forget bring document meet', 'meet reschedul pm', 'urgent account compromis click link secur', 'hey still lunch today', 'urgent account compromis click link secur', 'hey still lunch today', 'worri everyth fine', 'select cash prize repli win claim', 'let catch coffe sometim', 'hey still lunch today', 'pre approv loan appli', 'call back free', 'urgent account compromis click link secur', 'subscript end renew avoid interrupt', 'urgent account compromis click link secur', 'urgent account compromis click link secur', 'pre approv loan appli', 'thank help earlier', 'happi birthday hope great day', 'claim free vacat packag limit time offer', 'act receiv free iphon', 'scam realli', 'pre approv loan appli', 'scam realli', 'late traffic realli bad right', 'happi birthday hope great day', 'come parti tonight', 'late traffic realli bad right', 'meet reschedul pm', 'subscript end renew avoid interrupt', 'let catch coffe sometim', 'scam realli', 'worri everyth fine', 'happi birthday hope great day', 'earn day work home experi requir', 'worri everyth fine', 'let catch coffe sometim', 'meet reschedul pm', 'urgent account compromis click link secur', 'congratul walmart gift card click claim', 'earn day work home experi requir', 'forget bring document meet', 'hey still lunch today', 'come parti tonight', 'act receiv free iphon', 'late traffic realli bad right', 'select cash prize repli win claim', 'congratul walmart gift card click claim', 'meet reschedul pm', 'late traffic realli bad right', 'hey still lunch today', 'scam realli', 'call back free', 'select cash prize repli win claim', 'meet reschedul pm', 'get cheap med onlin without prescript visit site', 'scam realli', 'pre approv loan appli', 'claim free vacat packag limit time offer', 'worri everyth fine', 'act receiv free iphon', 'hey still lunch today', 'forget bring document meet', 'select cash prize repli win claim', 'call back free', 'scam realli', 'scam realli', 'forget bring document meet', 'act receiv free iphon', 'forget bring document meet', 'thank help earlier', 'scam realli', 'earn day work home experi requir', 'urgent account compromis click link secur', 'scam realli', 'meet reschedul pm', 'late traffic realli bad right', 'happi birthday hope great day', 'forget bring document meet', 'act receiv free iphon', 'late traffic realli bad right', 'congratul walmart gift card click claim', 'act receiv free iphon', 'happi birthday hope great day', 'scam realli', 'meet reschedul pm', 'forget bring document meet', 'come parti tonight', 'hey still lunch today', 'earn day work home experi requir', 'subscript end renew avoid interrupt', 'subscript end renew avoid interrupt', 'subscript end renew avoid interrupt', 'let catch coffe sometim', 'hey still lunch today', 'act receiv free iphon', 'subscript end renew avoid interrupt', 'forget bring document meet', 'late traffic realli bad right', 'urgent account compromis click link secur', 'congratul walmart gift card click claim', 'happi birthday hope great day', 'claim free vacat packag limit time offer', 'late traffic realli bad right', 'urgent account compromis click link secur', 'let catch coffe sometim', 'urgent account compromis click link secur', 'let catch coffe sometim', 'pre approv loan appli', 'scam realli', 'late traffic realli bad right', 'act receiv free iphon', 'happi birthday hope great day', 'congratul walmart gift card click claim', 'earn day work home experi requir', 'select cash prize repli win claim', 'earn day work home experi requir', 'get cheap med onlin without prescript visit site', 'claim free vacat packag limit time offer', 'select cash prize repli win claim', 'urgent account compromis click link secur', 'pre approv loan appli', 'let catch coffe sometim', 'congratul walmart gift card click claim', 'congratul walmart gift card click claim', 'get cheap med onlin without prescript visit site', 'call back free', 'get cheap med onlin without prescript visit site', 'congratul walmart gift card click claim', 'earn day work home experi requir', 'let catch coffe sometim', 'subscript end renew avoid interrupt', 'late traffic realli bad right', 'forget bring document meet', 'hey still lunch today', 'earn day work home experi requir', 'pre approv loan appli', 'pre approv loan appli', 'get cheap med onlin without prescript visit site', 'happi birthday hope great day', 'select cash prize repli win claim', 'thank help earlier', 'forget bring document meet', 'meet reschedul pm', 'select cash prize repli win claim', 'get cheap med onlin without prescript visit site', 'meet reschedul pm', 'worri everyth fine', 'urgent account compromis click link secur', 'pre approv loan appli', 'call back free', 'congratul walmart gift card click claim', 'happi birthday hope great day', 'get cheap med onlin without prescript visit site', 'call back free', 'come parti tonight', 'scam realli', 'let catch coffe sometim', 'get cheap med onlin without prescript visit site', 'late traffic realli bad right', 'hey still lunch today', 'let catch coffe sometim', 'pre approv loan appli', 'earn day work home experi requir', 'select cash prize repli win claim', 'forget bring document meet', 'thank help earlier', 'pre approv loan appli', 'pre approv loan appli', 'subscript end renew avoid interrupt', 'hey still lunch today', 'scam realli', 'hey still lunch today', 'act receiv free iphon', 'worri everyth fine', 'happi birthday hope great day', 'thank help earlier', 'meet reschedul pm', 'meet reschedul pm', 'pre approv loan appli', 'earn day work home experi requir', 'meet reschedul pm', 'hey still lunch today', 'urgent account compromis click link secur', 'subscript end renew avoid interrupt', 'get cheap med onlin without prescript visit site', 'congratul walmart gift card click claim', 'get cheap med onlin without prescript visit site', 'act receiv free iphon', 'forget bring document meet', 'let catch coffe sometim', 'scam realli', 'thank help earlier', 'meet reschedul pm', 'let catch coffe sometim', 'urgent account compromis click link secur', 'worri everyth fine', 'hey still lunch today', 'scam realli', 'happi birthday hope great day', 'meet reschedul pm', 'meet reschedul pm', 'happi birthday hope great day', 'thank help earlier', 'meet reschedul pm', 'call back free', 'forget bring document meet', 'subscript end renew avoid interrupt', 'urgent account compromis click link secur', 'come parti tonight', 'late traffic realli bad right', 'call back free', 'come parti tonight', 'pre approv loan appli', 'happi birthday hope great day', 'congratul walmart gift card click claim', 'call back free', 'forget bring document meet', 'scam realli', 'happi birthday hope great day', 'thank help earlier', 'call back free', 'late traffic realli bad right', 'congratul walmart gift card click claim', 'call back free', 'call back free', 'call back free', 'get cheap med onlin without prescript visit site', 'congratul walmart gift card click claim', 'congratul walmart gift card click claim', 'get cheap med onlin without prescript visit site', 'subscript end renew avoid interrupt', 'earn day work home experi requir', 'select cash prize repli win claim', 'scam realli', 'forget bring document meet', 'congratul walmart gift card click claim', 'happi birthday hope great day', 'let catch coffe sometim', 'meet reschedul pm', 'thank help earlier', 'scam realli', 'meet reschedul pm', 'come parti tonight', 'act receiv free iphon', 'thank help earlier', 'come parti tonight', 'worri everyth fine', 'claim free vacat packag limit time offer', 'urgent account compromis click link secur', 'act receiv free iphon', 'scam realli', 'thank help earlier', 'pre approv loan appli', 'urgent account compromis click link secur', 'get cheap med onlin without prescript visit site', 'let catch coffe sometim', 'come parti tonight', 'meet reschedul pm', 'call back free', 'worri everyth fine', 'pre approv loan appli', 'hey still lunch today', 'come parti tonight', 'late traffic realli bad right', 'forget bring document meet', 'act receiv free iphon', 'happi birthday hope great day', 'happi birthday hope great day', 'pre approv loan appli', 'let catch coffe sometim', 'get cheap med onlin without prescript visit site', 'thank help earlier', 'call back free', 'earn day work home experi requir', 'claim free vacat packag limit time offer', 'hey still lunch today', 'happi birthday hope great day', 'act receiv free iphon', 'thank help earlier', 'forget bring document meet', 'happi birthday hope great day', 'happi birthday hope great day', 'forget bring document meet', 'late traffic realli bad right', 'select cash prize repli win claim', 'thank help earlier', 'call back free', 'meet reschedul pm', 'forget bring document meet', 'hey still lunch today', 'act receiv free iphon', 'forget bring document meet', 'pre approv loan appli', 'earn day work home experi requir', 'call back free', 'act receiv free iphon', 'late traffic realli bad right', 'act receiv free iphon', 'come parti tonight', 'thank help earlier', 'subscript end renew avoid interrupt', 'scam realli', 'earn day work home experi requir', 'select cash prize repli win claim', 'let catch coffe sometim', 'urgent account compromis click link secur', 'act receiv free iphon', 'forget bring document meet', 'earn day work home experi requir', 'meet reschedul pm', 'come parti tonight', 'let catch coffe sometim', 'congratul walmart gift card click claim', 'forget bring document meet', 'thank help earlier', 'forget bring document meet', 'pre approv loan appli', 'thank help earlier', 'call back free', 'worri everyth fine', 'get cheap med onlin without prescript visit site', 'earn day work home experi requir', 'get cheap med onlin without prescript visit site', 'pre approv loan appli', 'pre approv loan appli', 'subscript end renew avoid interrupt', 'late traffic realli bad right', 'hey still lunch today', 'late traffic realli bad right', 'select cash prize repli win claim', 'hey still lunch today', 'come parti tonight', 'claim free vacat packag limit time offer', 'late traffic realli bad right', 'claim free vacat packag limit time offer', 'scam realli', 'worri everyth fine', 'urgent account compromis click link secur', 'thank help earlier', 'worri everyth fine', 'select cash prize repli win claim', 'get cheap med onlin without prescript visit site', 'meet reschedul pm', 'call back free', 'thank help earlier', 'pre approv loan appli', 'happi birthday hope great day', 'pre approv loan appli', 'come parti tonight', 'select cash prize repli win claim', 'act receiv free iphon', 'happi birthday hope great day', 'subscript end renew avoid interrupt', 'select cash prize repli win claim', 'congratul walmart gift card click claim', 'select cash prize repli win claim', 'scam realli', 'happi birthday hope great day', 'subscript end renew avoid interrupt', 'act receiv free iphon', 'let catch coffe sometim', 'earn day work home experi requir', 'late traffic realli bad right', 'meet reschedul pm', 'congratul walmart gift card click claim', 'come parti tonight', 'get cheap med onlin without prescript visit site', 'claim free vacat packag limit time offer', 'forget bring document meet', 'subscript end renew avoid interrupt', 'act receiv free iphon', 'congratul walmart gift card click claim', 'congratul walmart gift card click claim', 'call back free', 'scam realli', 'forget bring document meet', 'late traffic realli bad right', 'subscript end renew avoid interrupt', 'subscript end renew avoid interrupt', 'get cheap med onlin without prescript visit site', 'let catch coffe sometim', 'claim free vacat packag limit time offer', 'call back free', 'worri everyth fine', 'act receiv free iphon', 'urgent account compromis click link secur', 'let catch coffe sometim', 'claim free vacat packag limit time offer', 'come parti tonight', 'select cash prize repli win claim', 'let catch coffe sometim', 'select cash prize repli win claim', 'congratul walmart gift card click claim', 'call back free', 'select cash prize repli win claim', 'scam realli', 'get cheap med onlin without prescript visit site', 'subscript end renew avoid interrupt', 'call back free', 'worri everyth fine', 'select cash prize repli win claim', 'earn day work home experi requir', 'thank help earlier', 'urgent account compromis click link secur', 'forget bring document meet', 'hey still lunch today', 'claim free vacat packag limit time offer', 'forget bring document meet', 'forget bring document meet', 'get cheap med onlin without prescript visit site', 'select cash prize repli win claim', 'pre approv loan appli', 'claim free vacat packag limit time offer', 'urgent account compromis click link secur', 'meet reschedul pm', 'happi birthday hope great day', 'forget bring document meet', 'get cheap med onlin without prescript visit site', 'call back free', 'late traffic realli bad right', 'select cash prize repli win claim', 'congratul walmart gift card click claim', 'urgent account compromis click link secur', 'call back free', 'forget bring document meet', 'late traffic realli bad right', 'worri everyth fine', 'get cheap med onlin without prescript visit site', 'act receiv free iphon', 'congratul walmart gift card click claim', 'get cheap med onlin without prescript visit site', 'late traffic realli bad right', 'meet reschedul pm', 'call back free', 'congratul walmart gift card click claim', 'congratul walmart gift card click claim', 'forget bring document meet', 'happi birthday hope great day', 'earn day work home experi requir', 'hey still lunch today', 'scam realli', 'urgent account compromis click link secur', 'thank help earlier', 'pre approv loan appli', 'happi birthday hope great day', 'claim free vacat packag limit time offer', 'urgent account compromis click link secur', 'claim free vacat packag limit time offer', 'forget bring document meet', 'happi birthday hope great day', 'worri everyth fine', 'claim free vacat packag limit time offer', 'late traffic realli bad right', 'pre approv loan appli', 'subscript end renew avoid interrupt', 'thank help earlier', 'late traffic realli bad right', 'happi birthday hope great day', 'call back free', 'pre approv loan appli', 'act receiv free iphon', 'claim free vacat packag limit time offer', 'urgent account compromis click link secur', 'thank help earlier', 'urgent account compromis click link secur', 'subscript end renew avoid interrupt', 'thank help earlier', 'congratul walmart gift card click claim', 'worri everyth fine', 'earn day work home experi requir', 'subscript end renew avoid interrupt', 'forget bring document meet', 'thank help earlier', 'get cheap med onlin without prescript visit site', 'happi birthday hope great day', 'subscript end renew avoid interrupt', 'congratul walmart gift card click claim', 'hey still lunch today', 'call back free', 'subscript end renew avoid interrupt', 'congratul walmart gift card click claim', 'scam realli', 'urgent account compromis click link secur', 'get cheap med onlin without prescript visit site', 'scam realli', 'urgent account compromis click link secur', 'hey still lunch today', 'hey still lunch today', 'forget bring document meet', 'pre approv loan appli', 'call back free', 'call back free', 'come parti tonight', 'forget bring document meet', 'earn day work home experi requir', 'meet reschedul pm', 'meet reschedul pm', 'subscript end renew avoid interrupt', 'subscript end renew avoid interrupt', 'come parti tonight', 'call back free', 'late traffic realli bad right', 'late traffic realli bad right', 'thank help earlier', 'urgent account compromis click link secur', 'meet reschedul pm', 'worri everyth fine', 'congratul walmart gift card click claim', 'claim free vacat packag limit time offer', 'come parti tonight', 'select cash prize repli win claim', 'call back free', 'act receiv free iphon', 'act receiv free iphon', 'scam realli', 'thank help earlier', 'worri everyth fine', 'thank help earlier', 'pre approv loan appli', 'pre approv loan appli', 'forget bring document meet', 'thank help earlier', 'come parti tonight', 'forget bring document meet', 'subscript end renew avoid interrupt', 'claim free vacat packag limit time offer', 'scam realli', 'scam realli', 'urgent account compromis click link secur', 'worri everyth fine', 'select cash prize repli win claim', 'subscript end renew avoid interrupt', 'call back free', 'congratul walmart gift card click claim', 'happi birthday hope great day', 'let catch coffe sometim', 'hey still lunch today', 'call back free', 'worri everyth fine', 'congratul walmart gift card click claim', 'earn day work home experi requir', 'urgent account compromis click link secur', 'forget bring document meet', 'meet reschedul pm', 'scam realli', 'select cash prize repli win claim', 'forget bring document meet', 'come parti tonight', 'worri everyth fine', 'get cheap med onlin without prescript visit site', 'pre approv loan appli', 'subscript end renew avoid interrupt', 'hey still lunch today', 'get cheap med onlin without prescript visit site', 'act receiv free iphon', 'late traffic realli bad right', 'pre approv loan appli', 'select cash prize repli win claim', 'forget bring document meet', 'thank help earlier', 'worri everyth fine', 'act receiv free iphon']\n",
      "1000\n"
     ]
    }
   ],
   "source": [
    "print(corpus)\n",
    "print(len(corpus))"
   ]
  },
  {
   "cell_type": "code",
   "execution_count": null,
   "id": "a98681ba",
   "metadata": {},
   "outputs": [],
   "source": [
    "##create the Bag of wores model\n",
    "from sklearn.feature_extraction.text import CountVectorizer"
   ]
  },
  {
   "cell_type": "code",
   "execution_count": null,
   "id": "754aad5d",
   "metadata": {},
   "outputs": [],
   "source": [
    "cv= CountVectorizer(max_features=1000,lowercase=True)\n",
    "X = cv.fit_transform(corpus).toarray()"
   ]
  },
  {
   "cell_type": "code",
   "execution_count": null,
   "id": "7689bcd2",
   "metadata": {},
   "outputs": [
    {
     "data": {
      "text/plain": [
       "array([[0, 0, 0, ..., 0, 0, 0],\n",
       "       [0, 0, 0, ..., 0, 0, 0],\n",
       "       [0, 0, 0, ..., 0, 0, 0],\n",
       "       ...,\n",
       "       [0, 0, 0, ..., 0, 0, 0],\n",
       "       [0, 0, 0, ..., 0, 0, 1],\n",
       "       [0, 1, 0, ..., 0, 0, 0]], dtype=int64)"
      ]
     },
     "execution_count": 118,
     "metadata": {},
     "output_type": "execute_result"
    }
   ],
   "source": [
    "X"
   ]
  },
  {
   "cell_type": "code",
   "execution_count": null,
   "id": "adcc060a",
   "metadata": {},
   "outputs": [],
   "source": [
    "cv= CountVectorizer(max_features=1000,lowercase=True,binary=True)\n",
    "X = cv.fit_transform(corpus).toarray()"
   ]
  },
  {
   "cell_type": "code",
   "execution_count": null,
   "id": "e52798b6",
   "metadata": {},
   "outputs": [
    {
     "data": {
      "text/plain": [
       "array([[0, 0, 0, ..., 0, 0, 0],\n",
       "       [0, 0, 0, ..., 0, 0, 0],\n",
       "       [0, 0, 0, ..., 0, 0, 0],\n",
       "       ...,\n",
       "       [0, 0, 0, ..., 0, 0, 0],\n",
       "       [0, 0, 0, ..., 0, 0, 1],\n",
       "       [0, 1, 0, ..., 0, 0, 0]], dtype=int64)"
      ]
     },
     "execution_count": 120,
     "metadata": {},
     "output_type": "execute_result"
    }
   ],
   "source": [
    "X"
   ]
  },
  {
   "cell_type": "code",
   "execution_count": null,
   "id": "f55d4b49",
   "metadata": {},
   "outputs": [
    {
     "data": {
      "text/plain": [
       "(1000, 83)"
      ]
     },
     "execution_count": 121,
     "metadata": {},
     "output_type": "execute_result"
    }
   ],
   "source": [
    "X.shape"
   ]
  },
  {
   "cell_type": "markdown",
   "id": "ca797907",
   "metadata": {},
   "source": [
    "TF-IDF"
   ]
  },
  {
   "cell_type": "code",
   "execution_count": null,
   "id": "bf52007a",
   "metadata": {},
   "outputs": [
    {
     "data": {
      "text/html": [
       "<div>\n",
       "<style scoped>\n",
       "    .dataframe tbody tr th:only-of-type {\n",
       "        vertical-align: middle;\n",
       "    }\n",
       "\n",
       "    .dataframe tbody tr th {\n",
       "        vertical-align: top;\n",
       "    }\n",
       "\n",
       "    .dataframe thead th {\n",
       "        text-align: right;\n",
       "    }\n",
       "</style>\n",
       "<table border=\"1\" class=\"dataframe\">\n",
       "  <thead>\n",
       "    <tr style=\"text-align: right;\">\n",
       "      <th></th>\n",
       "      <th>label</th>\n",
       "      <th>message</th>\n",
       "    </tr>\n",
       "  </thead>\n",
       "  <tbody>\n",
       "    <tr>\n",
       "      <th>0</th>\n",
       "      <td>spam</td>\n",
       "      <td>Claim your free vacation package now. Limited ...</td>\n",
       "    </tr>\n",
       "    <tr>\n",
       "      <th>1</th>\n",
       "      <td>ham</td>\n",
       "      <td>Meeting rescheduled to 3 PM.</td>\n",
       "    </tr>\n",
       "    <tr>\n",
       "      <th>2</th>\n",
       "      <td>ham</td>\n",
       "      <td>Are you coming to the party tonight?</td>\n",
       "    </tr>\n",
       "    <tr>\n",
       "      <th>3</th>\n",
       "      <td>spam</td>\n",
       "      <td>Claim your free vacation package now. Limited ...</td>\n",
       "    </tr>\n",
       "    <tr>\n",
       "      <th>4</th>\n",
       "      <td>ham</td>\n",
       "      <td>Can you call me back when you're free?</td>\n",
       "    </tr>\n",
       "    <tr>\n",
       "      <th>...</th>\n",
       "      <td>...</td>\n",
       "      <td>...</td>\n",
       "    </tr>\n",
       "    <tr>\n",
       "      <th>995</th>\n",
       "      <td>spam</td>\n",
       "      <td>You have been selected for a cash prize. Reply...</td>\n",
       "    </tr>\n",
       "    <tr>\n",
       "      <th>996</th>\n",
       "      <td>ham</td>\n",
       "      <td>Don't forget to bring the documents for the me...</td>\n",
       "    </tr>\n",
       "    <tr>\n",
       "      <th>997</th>\n",
       "      <td>ham</td>\n",
       "      <td>Thanks for your help earlier!</td>\n",
       "    </tr>\n",
       "    <tr>\n",
       "      <th>998</th>\n",
       "      <td>ham</td>\n",
       "      <td>Don't worry, everything will be fine.</td>\n",
       "    </tr>\n",
       "    <tr>\n",
       "      <th>999</th>\n",
       "      <td>spam</td>\n",
       "      <td>Act now to receive your free iPhone!</td>\n",
       "    </tr>\n",
       "  </tbody>\n",
       "</table>\n",
       "<p>1000 rows × 2 columns</p>\n",
       "</div>"
      ],
      "text/plain": [
       "    label                                            message\n",
       "0    spam  Claim your free vacation package now. Limited ...\n",
       "1     ham                       Meeting rescheduled to 3 PM.\n",
       "2     ham               Are you coming to the party tonight?\n",
       "3    spam  Claim your free vacation package now. Limited ...\n",
       "4     ham             Can you call me back when you're free?\n",
       "..    ...                                                ...\n",
       "995  spam  You have been selected for a cash prize. Reply...\n",
       "996   ham  Don't forget to bring the documents for the me...\n",
       "997   ham                      Thanks for your help earlier!\n",
       "998   ham              Don't worry, everything will be fine.\n",
       "999  spam               Act now to receive your free iPhone!\n",
       "\n",
       "[1000 rows x 2 columns]"
      ]
     },
     "execution_count": 123,
     "metadata": {},
     "output_type": "execute_result"
    }
   ],
   "source": [
    "df"
   ]
  },
  {
   "cell_type": "code",
   "execution_count": null,
   "id": "cd3bcad4",
   "metadata": {},
   "outputs": [],
   "source": [
    "from nltk.stem import WordNetLemmatizer"
   ]
  },
  {
   "cell_type": "code",
   "execution_count": null,
   "id": "b9cf1b32",
   "metadata": {},
   "outputs": [],
   "source": [
    "wordlemma = WordNetLemmatizer()"
   ]
  },
  {
   "cell_type": "code",
   "execution_count": null,
   "id": "2ccfad67",
   "metadata": {},
   "outputs": [],
   "source": [
    "corpus=[]\n",
    "for i in range(0,len(df)):\n",
    "    review = re.sub('[^a-zA-Z]',' ',df['message'][i])\n",
    "    review = review.lower()\n",
    "    review = review.split()\n",
    "    review = [wordlemma.lemmatize(word) for word in review if not word in stopwords.words('english')]\n",
    "    review = ' '.join(review)\n",
    "    corpus.append(review)"
   ]
  },
  {
   "cell_type": "code",
   "execution_count": null,
   "id": "2d5d5bc6",
   "metadata": {},
   "outputs": [
    {
     "data": {
      "text/plain": [
       "['claim free vacation package limited time offer',\n",
       " 'meeting rescheduled pm',\n",
       " 'coming party tonight',\n",
       " 'claim free vacation package limited time offer',\n",
       " 'call back free',\n",
       " 'meeting rescheduled pm',\n",
       " 'happy birthday hope great day',\n",
       " 'subscription ending renew avoid interruption',\n",
       " 'meeting rescheduled pm',\n",
       " 'scam really',\n",
       " 'get cheap med online without prescription visit site',\n",
       " 'urgent account compromised click link secure',\n",
       " 'thanks help earlier',\n",
       " 'let catch coffee sometime',\n",
       " 'let catch coffee sometime',\n",
       " 'pre approved loan apply',\n",
       " 'forget bring document meeting',\n",
       " 'worry everything fine',\n",
       " 'thanks help earlier',\n",
       " 'worry everything fine',\n",
       " 'urgent account compromised click link secure',\n",
       " 'scam really',\n",
       " 'forget bring document meeting',\n",
       " 'hey still lunch today',\n",
       " 'let catch coffee sometime',\n",
       " 'subscription ending renew avoid interruption',\n",
       " 'claim free vacation package limited time offer',\n",
       " 'call back free',\n",
       " 'claim free vacation package limited time offer',\n",
       " 'late traffic really bad right',\n",
       " 'urgent account compromised click link secure',\n",
       " 'subscription ending renew avoid interruption',\n",
       " 'thanks help earlier',\n",
       " 'claim free vacation package limited time offer',\n",
       " 'meeting rescheduled pm',\n",
       " 'get cheap med online without prescription visit site',\n",
       " 'late traffic really bad right',\n",
       " 'pre approved loan apply',\n",
       " 'happy birthday hope great day',\n",
       " 'forget bring document meeting',\n",
       " 'hey still lunch today',\n",
       " 'claim free vacation package limited time offer',\n",
       " 'late traffic really bad right',\n",
       " 'call back free',\n",
       " 'hey still lunch today',\n",
       " 'claim free vacation package limited time offer',\n",
       " 'congratulation walmart gift card click claim',\n",
       " 'urgent account compromised click link secure',\n",
       " 'forget bring document meeting',\n",
       " 'late traffic really bad right',\n",
       " 'coming party tonight',\n",
       " 'late traffic really bad right',\n",
       " 'meeting rescheduled pm',\n",
       " 'call back free',\n",
       " 'scam really',\n",
       " 'congratulation walmart gift card click claim',\n",
       " 'forget bring document meeting',\n",
       " 'scam really',\n",
       " 'act receive free iphone',\n",
       " 'get cheap med online without prescription visit site',\n",
       " 'scam really',\n",
       " 'hey still lunch today',\n",
       " 'coming party tonight',\n",
       " 'act receive free iphone',\n",
       " 'get cheap med online without prescription visit site',\n",
       " 'congratulation walmart gift card click claim',\n",
       " 'happy birthday hope great day',\n",
       " 'coming party tonight',\n",
       " 'act receive free iphone',\n",
       " 'let catch coffee sometime',\n",
       " 'pre approved loan apply',\n",
       " 'get cheap med online without prescription visit site',\n",
       " 'pre approved loan apply',\n",
       " 'worry everything fine',\n",
       " 'meeting rescheduled pm',\n",
       " 'hey still lunch today',\n",
       " 'act receive free iphone',\n",
       " 'congratulation walmart gift card click claim',\n",
       " 'selected cash prize reply win claim',\n",
       " 'hey still lunch today',\n",
       " 'happy birthday hope great day',\n",
       " 'forget bring document meeting',\n",
       " 'pre approved loan apply',\n",
       " 'late traffic really bad right',\n",
       " 'pre approved loan apply',\n",
       " 'worry everything fine',\n",
       " 'hey still lunch today',\n",
       " 'claim free vacation package limited time offer',\n",
       " 'coming party tonight',\n",
       " 'act receive free iphone',\n",
       " 'late traffic really bad right',\n",
       " 'hey still lunch today',\n",
       " 'earn day working home experience required',\n",
       " 'pre approved loan apply',\n",
       " 'act receive free iphone',\n",
       " 'pre approved loan apply',\n",
       " 'pre approved loan apply',\n",
       " 'meeting rescheduled pm',\n",
       " 'call back free',\n",
       " 'coming party tonight',\n",
       " 'worry everything fine',\n",
       " 'selected cash prize reply win claim',\n",
       " 'late traffic really bad right',\n",
       " 'urgent account compromised click link secure',\n",
       " 'meeting rescheduled pm',\n",
       " 'thanks help earlier',\n",
       " 'claim free vacation package limited time offer',\n",
       " 'happy birthday hope great day',\n",
       " 'meeting rescheduled pm',\n",
       " 'forget bring document meeting',\n",
       " 'coming party tonight',\n",
       " 'call back free',\n",
       " 'earn day working home experience required',\n",
       " 'subscription ending renew avoid interruption',\n",
       " 'scam really',\n",
       " 'get cheap med online without prescription visit site',\n",
       " 'coming party tonight',\n",
       " 'selected cash prize reply win claim',\n",
       " 'earn day working home experience required',\n",
       " 'claim free vacation package limited time offer',\n",
       " 'happy birthday hope great day',\n",
       " 'call back free',\n",
       " 'coming party tonight',\n",
       " 'let catch coffee sometime',\n",
       " 'hey still lunch today',\n",
       " 'meeting rescheduled pm',\n",
       " 'worry everything fine',\n",
       " 'claim free vacation package limited time offer',\n",
       " 'meeting rescheduled pm',\n",
       " 'scam really',\n",
       " 'let catch coffee sometime',\n",
       " 'call back free',\n",
       " 'late traffic really bad right',\n",
       " 'congratulation walmart gift card click claim',\n",
       " 'earn day working home experience required',\n",
       " 'call back free',\n",
       " 'happy birthday hope great day',\n",
       " 'get cheap med online without prescription visit site',\n",
       " 'claim free vacation package limited time offer',\n",
       " 'coming party tonight',\n",
       " 'urgent account compromised click link secure',\n",
       " 'scam really',\n",
       " 'urgent account compromised click link secure',\n",
       " 'hey still lunch today',\n",
       " 'coming party tonight',\n",
       " 'selected cash prize reply win claim',\n",
       " 'hey still lunch today',\n",
       " 'pre approved loan apply',\n",
       " 'hey still lunch today',\n",
       " 'forget bring document meeting',\n",
       " 'let catch coffee sometime',\n",
       " 'congratulation walmart gift card click claim',\n",
       " 'get cheap med online without prescription visit site',\n",
       " 'earn day working home experience required',\n",
       " 'congratulation walmart gift card click claim',\n",
       " 'meeting rescheduled pm',\n",
       " 'selected cash prize reply win claim',\n",
       " 'earn day working home experience required',\n",
       " 'worry everything fine',\n",
       " 'subscription ending renew avoid interruption',\n",
       " 'forget bring document meeting',\n",
       " 'call back free',\n",
       " 'happy birthday hope great day',\n",
       " 'late traffic really bad right',\n",
       " 'selected cash prize reply win claim',\n",
       " 'act receive free iphone',\n",
       " 'selected cash prize reply win claim',\n",
       " 'hey still lunch today',\n",
       " 'happy birthday hope great day',\n",
       " 'let catch coffee sometime',\n",
       " 'claim free vacation package limited time offer',\n",
       " 'thanks help earlier',\n",
       " 'late traffic really bad right',\n",
       " 'claim free vacation package limited time offer',\n",
       " 'worry everything fine',\n",
       " 'get cheap med online without prescription visit site',\n",
       " 'hey still lunch today',\n",
       " 'act receive free iphone',\n",
       " 'late traffic really bad right',\n",
       " 'pre approved loan apply',\n",
       " 'pre approved loan apply',\n",
       " 'late traffic really bad right',\n",
       " 'call back free',\n",
       " 'claim free vacation package limited time offer',\n",
       " 'pre approved loan apply',\n",
       " 'thanks help earlier',\n",
       " 'happy birthday hope great day',\n",
       " 'act receive free iphone',\n",
       " 'coming party tonight',\n",
       " 'late traffic really bad right',\n",
       " 'pre approved loan apply',\n",
       " 'act receive free iphone',\n",
       " 'act receive free iphone',\n",
       " 'act receive free iphone',\n",
       " 'worry everything fine',\n",
       " 'late traffic really bad right',\n",
       " 'late traffic really bad right',\n",
       " 'call back free',\n",
       " 'scam really',\n",
       " 'get cheap med online without prescription visit site',\n",
       " 'scam really',\n",
       " 'selected cash prize reply win claim',\n",
       " 'coming party tonight',\n",
       " 'forget bring document meeting',\n",
       " 'scam really',\n",
       " 'claim free vacation package limited time offer',\n",
       " 'late traffic really bad right',\n",
       " 'scam really',\n",
       " 'act receive free iphone',\n",
       " 'happy birthday hope great day',\n",
       " 'urgent account compromised click link secure',\n",
       " 'forget bring document meeting',\n",
       " 'subscription ending renew avoid interruption',\n",
       " 'subscription ending renew avoid interruption',\n",
       " 'earn day working home experience required',\n",
       " 'scam really',\n",
       " 'claim free vacation package limited time offer',\n",
       " 'meeting rescheduled pm',\n",
       " 'meeting rescheduled pm',\n",
       " 'forget bring document meeting',\n",
       " 'meeting rescheduled pm',\n",
       " 'earn day working home experience required',\n",
       " 'earn day working home experience required',\n",
       " 'claim free vacation package limited time offer',\n",
       " 'act receive free iphone',\n",
       " 'scam really',\n",
       " 'coming party tonight',\n",
       " 'late traffic really bad right',\n",
       " 'coming party tonight',\n",
       " 'claim free vacation package limited time offer',\n",
       " 'pre approved loan apply',\n",
       " 'get cheap med online without prescription visit site',\n",
       " 'earn day working home experience required',\n",
       " 'happy birthday hope great day',\n",
       " 'call back free',\n",
       " 'late traffic really bad right',\n",
       " 'call back free',\n",
       " 'pre approved loan apply',\n",
       " 'late traffic really bad right',\n",
       " 'call back free',\n",
       " 'forget bring document meeting',\n",
       " 'selected cash prize reply win claim',\n",
       " 'happy birthday hope great day',\n",
       " 'late traffic really bad right',\n",
       " 'coming party tonight',\n",
       " 'pre approved loan apply',\n",
       " 'thanks help earlier',\n",
       " 'meeting rescheduled pm',\n",
       " 'forget bring document meeting',\n",
       " 'act receive free iphone',\n",
       " 'earn day working home experience required',\n",
       " 'thanks help earlier',\n",
       " 'urgent account compromised click link secure',\n",
       " 'selected cash prize reply win claim',\n",
       " 'claim free vacation package limited time offer',\n",
       " 'urgent account compromised click link secure',\n",
       " 'forget bring document meeting',\n",
       " 'call back free',\n",
       " 'coming party tonight',\n",
       " 'meeting rescheduled pm',\n",
       " 'coming party tonight',\n",
       " 'worry everything fine',\n",
       " 'claim free vacation package limited time offer',\n",
       " 'happy birthday hope great day',\n",
       " 'scam really',\n",
       " 'forget bring document meeting',\n",
       " 'urgent account compromised click link secure',\n",
       " 'subscription ending renew avoid interruption',\n",
       " 'hey still lunch today',\n",
       " 'thanks help earlier',\n",
       " 'urgent account compromised click link secure',\n",
       " 'call back free',\n",
       " 'coming party tonight',\n",
       " 'let catch coffee sometime',\n",
       " 'coming party tonight',\n",
       " 'hey still lunch today',\n",
       " 'let catch coffee sometime',\n",
       " 'get cheap med online without prescription visit site',\n",
       " 'earn day working home experience required',\n",
       " 'call back free',\n",
       " 'hey still lunch today',\n",
       " 'call back free',\n",
       " 'forget bring document meeting',\n",
       " 'call back free',\n",
       " 'get cheap med online without prescription visit site',\n",
       " 'act receive free iphone',\n",
       " 'urgent account compromised click link secure',\n",
       " 'let catch coffee sometime',\n",
       " 'happy birthday hope great day',\n",
       " 'call back free',\n",
       " 'congratulation walmart gift card click claim',\n",
       " 'let catch coffee sometime',\n",
       " 'let catch coffee sometime',\n",
       " 'act receive free iphone',\n",
       " 'earn day working home experience required',\n",
       " 'scam really',\n",
       " 'let catch coffee sometime',\n",
       " 'call back free',\n",
       " 'forget bring document meeting',\n",
       " 'hey still lunch today',\n",
       " 'hey still lunch today',\n",
       " 'pre approved loan apply',\n",
       " 'urgent account compromised click link secure',\n",
       " 'urgent account compromised click link secure',\n",
       " 'selected cash prize reply win claim',\n",
       " 'urgent account compromised click link secure',\n",
       " 'get cheap med online without prescription visit site',\n",
       " 'selected cash prize reply win claim',\n",
       " 'hey still lunch today',\n",
       " 'get cheap med online without prescription visit site',\n",
       " 'hey still lunch today',\n",
       " 'late traffic really bad right',\n",
       " 'hey still lunch today',\n",
       " 'selected cash prize reply win claim',\n",
       " 'late traffic really bad right',\n",
       " 'earn day working home experience required',\n",
       " 'subscription ending renew avoid interruption',\n",
       " 'subscription ending renew avoid interruption',\n",
       " 'earn day working home experience required',\n",
       " 'selected cash prize reply win claim',\n",
       " 'earn day working home experience required',\n",
       " 'urgent account compromised click link secure',\n",
       " 'happy birthday hope great day',\n",
       " 'meeting rescheduled pm',\n",
       " 'get cheap med online without prescription visit site',\n",
       " 'hey still lunch today',\n",
       " 'hey still lunch today',\n",
       " 'meeting rescheduled pm',\n",
       " 'call back free',\n",
       " 'happy birthday hope great day',\n",
       " 'call back free',\n",
       " 'coming party tonight',\n",
       " 'get cheap med online without prescription visit site',\n",
       " 'forget bring document meeting',\n",
       " 'thanks help earlier',\n",
       " 'late traffic really bad right',\n",
       " 'hey still lunch today',\n",
       " 'act receive free iphone',\n",
       " 'act receive free iphone',\n",
       " 'hey still lunch today',\n",
       " 'subscription ending renew avoid interruption',\n",
       " 'act receive free iphone',\n",
       " 'call back free',\n",
       " 'congratulation walmart gift card click claim',\n",
       " 'happy birthday hope great day',\n",
       " 'worry everything fine',\n",
       " 'subscription ending renew avoid interruption',\n",
       " 'coming party tonight',\n",
       " 'call back free',\n",
       " 'call back free',\n",
       " 'earn day working home experience required',\n",
       " 'urgent account compromised click link secure',\n",
       " 'get cheap med online without prescription visit site',\n",
       " 'earn day working home experience required',\n",
       " 'worry everything fine',\n",
       " 'let catch coffee sometime',\n",
       " 'thanks help earlier',\n",
       " 'earn day working home experience required',\n",
       " 'late traffic really bad right',\n",
       " 'urgent account compromised click link secure',\n",
       " 'get cheap med online without prescription visit site',\n",
       " 'hey still lunch today',\n",
       " 'claim free vacation package limited time offer',\n",
       " 'earn day working home experience required',\n",
       " 'act receive free iphone',\n",
       " 'claim free vacation package limited time offer',\n",
       " 'let catch coffee sometime',\n",
       " 'hey still lunch today',\n",
       " 'scam really',\n",
       " 'scam really',\n",
       " 'claim free vacation package limited time offer',\n",
       " 'meeting rescheduled pm',\n",
       " 'earn day working home experience required',\n",
       " 'coming party tonight',\n",
       " 'call back free',\n",
       " 'coming party tonight',\n",
       " 'subscription ending renew avoid interruption',\n",
       " 'thanks help earlier',\n",
       " 'act receive free iphone',\n",
       " 'scam really',\n",
       " 'worry everything fine',\n",
       " 'worry everything fine',\n",
       " 'pre approved loan apply',\n",
       " 'claim free vacation package limited time offer',\n",
       " 'act receive free iphone',\n",
       " 'urgent account compromised click link secure',\n",
       " 'happy birthday hope great day',\n",
       " 'act receive free iphone',\n",
       " 'coming party tonight',\n",
       " 'worry everything fine',\n",
       " 'claim free vacation package limited time offer',\n",
       " 'forget bring document meeting',\n",
       " 'pre approved loan apply',\n",
       " 'act receive free iphone',\n",
       " 'claim free vacation package limited time offer',\n",
       " 'pre approved loan apply',\n",
       " 'urgent account compromised click link secure',\n",
       " 'late traffic really bad right',\n",
       " 'earn day working home experience required',\n",
       " 'forget bring document meeting',\n",
       " 'act receive free iphone',\n",
       " 'earn day working home experience required',\n",
       " 'coming party tonight',\n",
       " 'congratulation walmart gift card click claim',\n",
       " 'worry everything fine',\n",
       " 'late traffic really bad right',\n",
       " 'scam really',\n",
       " 'forget bring document meeting',\n",
       " 'forget bring document meeting',\n",
       " 'worry everything fine',\n",
       " 'act receive free iphone',\n",
       " 'urgent account compromised click link secure',\n",
       " 'meeting rescheduled pm',\n",
       " 'scam really',\n",
       " 'forget bring document meeting',\n",
       " 'let catch coffee sometime',\n",
       " 'thanks help earlier',\n",
       " 'congratulation walmart gift card click claim',\n",
       " 'urgent account compromised click link secure',\n",
       " 'forget bring document meeting',\n",
       " 'earn day working home experience required',\n",
       " 'congratulation walmart gift card click claim',\n",
       " 'coming party tonight',\n",
       " 'happy birthday hope great day',\n",
       " 'worry everything fine',\n",
       " 'forget bring document meeting',\n",
       " 'act receive free iphone',\n",
       " 'coming party tonight',\n",
       " 'claim free vacation package limited time offer',\n",
       " 'get cheap med online without prescription visit site',\n",
       " 'pre approved loan apply',\n",
       " 'thanks help earlier',\n",
       " 'scam really',\n",
       " 'selected cash prize reply win claim',\n",
       " 'pre approved loan apply',\n",
       " 'congratulation walmart gift card click claim',\n",
       " 'let catch coffee sometime',\n",
       " 'forget bring document meeting',\n",
       " 'meeting rescheduled pm',\n",
       " 'urgent account compromised click link secure',\n",
       " 'hey still lunch today',\n",
       " 'urgent account compromised click link secure',\n",
       " 'hey still lunch today',\n",
       " 'worry everything fine',\n",
       " 'selected cash prize reply win claim',\n",
       " 'let catch coffee sometime',\n",
       " 'hey still lunch today',\n",
       " 'pre approved loan apply',\n",
       " 'call back free',\n",
       " 'urgent account compromised click link secure',\n",
       " 'subscription ending renew avoid interruption',\n",
       " 'urgent account compromised click link secure',\n",
       " 'urgent account compromised click link secure',\n",
       " 'pre approved loan apply',\n",
       " 'thanks help earlier',\n",
       " 'happy birthday hope great day',\n",
       " 'claim free vacation package limited time offer',\n",
       " 'act receive free iphone',\n",
       " 'scam really',\n",
       " 'pre approved loan apply',\n",
       " 'scam really',\n",
       " 'late traffic really bad right',\n",
       " 'happy birthday hope great day',\n",
       " 'coming party tonight',\n",
       " 'late traffic really bad right',\n",
       " 'meeting rescheduled pm',\n",
       " 'subscription ending renew avoid interruption',\n",
       " 'let catch coffee sometime',\n",
       " 'scam really',\n",
       " 'worry everything fine',\n",
       " 'happy birthday hope great day',\n",
       " 'earn day working home experience required',\n",
       " 'worry everything fine',\n",
       " 'let catch coffee sometime',\n",
       " 'meeting rescheduled pm',\n",
       " 'urgent account compromised click link secure',\n",
       " 'congratulation walmart gift card click claim',\n",
       " 'earn day working home experience required',\n",
       " 'forget bring document meeting',\n",
       " 'hey still lunch today',\n",
       " 'coming party tonight',\n",
       " 'act receive free iphone',\n",
       " 'late traffic really bad right',\n",
       " 'selected cash prize reply win claim',\n",
       " 'congratulation walmart gift card click claim',\n",
       " 'meeting rescheduled pm',\n",
       " 'late traffic really bad right',\n",
       " 'hey still lunch today',\n",
       " 'scam really',\n",
       " 'call back free',\n",
       " 'selected cash prize reply win claim',\n",
       " 'meeting rescheduled pm',\n",
       " 'get cheap med online without prescription visit site',\n",
       " 'scam really',\n",
       " 'pre approved loan apply',\n",
       " 'claim free vacation package limited time offer',\n",
       " 'worry everything fine',\n",
       " 'act receive free iphone',\n",
       " 'hey still lunch today',\n",
       " 'forget bring document meeting',\n",
       " 'selected cash prize reply win claim',\n",
       " 'call back free',\n",
       " 'scam really',\n",
       " 'scam really',\n",
       " 'forget bring document meeting',\n",
       " 'act receive free iphone',\n",
       " 'forget bring document meeting',\n",
       " 'thanks help earlier',\n",
       " 'scam really',\n",
       " 'earn day working home experience required',\n",
       " 'urgent account compromised click link secure',\n",
       " 'scam really',\n",
       " 'meeting rescheduled pm',\n",
       " 'late traffic really bad right',\n",
       " 'happy birthday hope great day',\n",
       " 'forget bring document meeting',\n",
       " 'act receive free iphone',\n",
       " 'late traffic really bad right',\n",
       " 'congratulation walmart gift card click claim',\n",
       " 'act receive free iphone',\n",
       " 'happy birthday hope great day',\n",
       " 'scam really',\n",
       " 'meeting rescheduled pm',\n",
       " 'forget bring document meeting',\n",
       " 'coming party tonight',\n",
       " 'hey still lunch today',\n",
       " 'earn day working home experience required',\n",
       " 'subscription ending renew avoid interruption',\n",
       " 'subscription ending renew avoid interruption',\n",
       " 'subscription ending renew avoid interruption',\n",
       " 'let catch coffee sometime',\n",
       " 'hey still lunch today',\n",
       " 'act receive free iphone',\n",
       " 'subscription ending renew avoid interruption',\n",
       " 'forget bring document meeting',\n",
       " 'late traffic really bad right',\n",
       " 'urgent account compromised click link secure',\n",
       " 'congratulation walmart gift card click claim',\n",
       " 'happy birthday hope great day',\n",
       " 'claim free vacation package limited time offer',\n",
       " 'late traffic really bad right',\n",
       " 'urgent account compromised click link secure',\n",
       " 'let catch coffee sometime',\n",
       " 'urgent account compromised click link secure',\n",
       " 'let catch coffee sometime',\n",
       " 'pre approved loan apply',\n",
       " 'scam really',\n",
       " 'late traffic really bad right',\n",
       " 'act receive free iphone',\n",
       " 'happy birthday hope great day',\n",
       " 'congratulation walmart gift card click claim',\n",
       " 'earn day working home experience required',\n",
       " 'selected cash prize reply win claim',\n",
       " 'earn day working home experience required',\n",
       " 'get cheap med online without prescription visit site',\n",
       " 'claim free vacation package limited time offer',\n",
       " 'selected cash prize reply win claim',\n",
       " 'urgent account compromised click link secure',\n",
       " 'pre approved loan apply',\n",
       " 'let catch coffee sometime',\n",
       " 'congratulation walmart gift card click claim',\n",
       " 'congratulation walmart gift card click claim',\n",
       " 'get cheap med online without prescription visit site',\n",
       " 'call back free',\n",
       " 'get cheap med online without prescription visit site',\n",
       " 'congratulation walmart gift card click claim',\n",
       " 'earn day working home experience required',\n",
       " 'let catch coffee sometime',\n",
       " 'subscription ending renew avoid interruption',\n",
       " 'late traffic really bad right',\n",
       " 'forget bring document meeting',\n",
       " 'hey still lunch today',\n",
       " 'earn day working home experience required',\n",
       " 'pre approved loan apply',\n",
       " 'pre approved loan apply',\n",
       " 'get cheap med online without prescription visit site',\n",
       " 'happy birthday hope great day',\n",
       " 'selected cash prize reply win claim',\n",
       " 'thanks help earlier',\n",
       " 'forget bring document meeting',\n",
       " 'meeting rescheduled pm',\n",
       " 'selected cash prize reply win claim',\n",
       " 'get cheap med online without prescription visit site',\n",
       " 'meeting rescheduled pm',\n",
       " 'worry everything fine',\n",
       " 'urgent account compromised click link secure',\n",
       " 'pre approved loan apply',\n",
       " 'call back free',\n",
       " 'congratulation walmart gift card click claim',\n",
       " 'happy birthday hope great day',\n",
       " 'get cheap med online without prescription visit site',\n",
       " 'call back free',\n",
       " 'coming party tonight',\n",
       " 'scam really',\n",
       " 'let catch coffee sometime',\n",
       " 'get cheap med online without prescription visit site',\n",
       " 'late traffic really bad right',\n",
       " 'hey still lunch today',\n",
       " 'let catch coffee sometime',\n",
       " 'pre approved loan apply',\n",
       " 'earn day working home experience required',\n",
       " 'selected cash prize reply win claim',\n",
       " 'forget bring document meeting',\n",
       " 'thanks help earlier',\n",
       " 'pre approved loan apply',\n",
       " 'pre approved loan apply',\n",
       " 'subscription ending renew avoid interruption',\n",
       " 'hey still lunch today',\n",
       " 'scam really',\n",
       " 'hey still lunch today',\n",
       " 'act receive free iphone',\n",
       " 'worry everything fine',\n",
       " 'happy birthday hope great day',\n",
       " 'thanks help earlier',\n",
       " 'meeting rescheduled pm',\n",
       " 'meeting rescheduled pm',\n",
       " 'pre approved loan apply',\n",
       " 'earn day working home experience required',\n",
       " 'meeting rescheduled pm',\n",
       " 'hey still lunch today',\n",
       " 'urgent account compromised click link secure',\n",
       " 'subscription ending renew avoid interruption',\n",
       " 'get cheap med online without prescription visit site',\n",
       " 'congratulation walmart gift card click claim',\n",
       " 'get cheap med online without prescription visit site',\n",
       " 'act receive free iphone',\n",
       " 'forget bring document meeting',\n",
       " 'let catch coffee sometime',\n",
       " 'scam really',\n",
       " 'thanks help earlier',\n",
       " 'meeting rescheduled pm',\n",
       " 'let catch coffee sometime',\n",
       " 'urgent account compromised click link secure',\n",
       " 'worry everything fine',\n",
       " 'hey still lunch today',\n",
       " 'scam really',\n",
       " 'happy birthday hope great day',\n",
       " 'meeting rescheduled pm',\n",
       " 'meeting rescheduled pm',\n",
       " 'happy birthday hope great day',\n",
       " 'thanks help earlier',\n",
       " 'meeting rescheduled pm',\n",
       " 'call back free',\n",
       " 'forget bring document meeting',\n",
       " 'subscription ending renew avoid interruption',\n",
       " 'urgent account compromised click link secure',\n",
       " 'coming party tonight',\n",
       " 'late traffic really bad right',\n",
       " 'call back free',\n",
       " 'coming party tonight',\n",
       " 'pre approved loan apply',\n",
       " 'happy birthday hope great day',\n",
       " 'congratulation walmart gift card click claim',\n",
       " 'call back free',\n",
       " 'forget bring document meeting',\n",
       " 'scam really',\n",
       " 'happy birthday hope great day',\n",
       " 'thanks help earlier',\n",
       " 'call back free',\n",
       " 'late traffic really bad right',\n",
       " 'congratulation walmart gift card click claim',\n",
       " 'call back free',\n",
       " 'call back free',\n",
       " 'call back free',\n",
       " 'get cheap med online without prescription visit site',\n",
       " 'congratulation walmart gift card click claim',\n",
       " 'congratulation walmart gift card click claim',\n",
       " 'get cheap med online without prescription visit site',\n",
       " 'subscription ending renew avoid interruption',\n",
       " 'earn day working home experience required',\n",
       " 'selected cash prize reply win claim',\n",
       " 'scam really',\n",
       " 'forget bring document meeting',\n",
       " 'congratulation walmart gift card click claim',\n",
       " 'happy birthday hope great day',\n",
       " 'let catch coffee sometime',\n",
       " 'meeting rescheduled pm',\n",
       " 'thanks help earlier',\n",
       " 'scam really',\n",
       " 'meeting rescheduled pm',\n",
       " 'coming party tonight',\n",
       " 'act receive free iphone',\n",
       " 'thanks help earlier',\n",
       " 'coming party tonight',\n",
       " 'worry everything fine',\n",
       " 'claim free vacation package limited time offer',\n",
       " 'urgent account compromised click link secure',\n",
       " 'act receive free iphone',\n",
       " 'scam really',\n",
       " 'thanks help earlier',\n",
       " 'pre approved loan apply',\n",
       " 'urgent account compromised click link secure',\n",
       " 'get cheap med online without prescription visit site',\n",
       " 'let catch coffee sometime',\n",
       " 'coming party tonight',\n",
       " 'meeting rescheduled pm',\n",
       " 'call back free',\n",
       " 'worry everything fine',\n",
       " 'pre approved loan apply',\n",
       " 'hey still lunch today',\n",
       " 'coming party tonight',\n",
       " 'late traffic really bad right',\n",
       " 'forget bring document meeting',\n",
       " 'act receive free iphone',\n",
       " 'happy birthday hope great day',\n",
       " 'happy birthday hope great day',\n",
       " 'pre approved loan apply',\n",
       " 'let catch coffee sometime',\n",
       " 'get cheap med online without prescription visit site',\n",
       " 'thanks help earlier',\n",
       " 'call back free',\n",
       " 'earn day working home experience required',\n",
       " 'claim free vacation package limited time offer',\n",
       " 'hey still lunch today',\n",
       " 'happy birthday hope great day',\n",
       " 'act receive free iphone',\n",
       " 'thanks help earlier',\n",
       " 'forget bring document meeting',\n",
       " 'happy birthday hope great day',\n",
       " 'happy birthday hope great day',\n",
       " 'forget bring document meeting',\n",
       " 'late traffic really bad right',\n",
       " 'selected cash prize reply win claim',\n",
       " 'thanks help earlier',\n",
       " 'call back free',\n",
       " 'meeting rescheduled pm',\n",
       " 'forget bring document meeting',\n",
       " 'hey still lunch today',\n",
       " 'act receive free iphone',\n",
       " 'forget bring document meeting',\n",
       " 'pre approved loan apply',\n",
       " 'earn day working home experience required',\n",
       " 'call back free',\n",
       " 'act receive free iphone',\n",
       " 'late traffic really bad right',\n",
       " 'act receive free iphone',\n",
       " 'coming party tonight',\n",
       " 'thanks help earlier',\n",
       " 'subscription ending renew avoid interruption',\n",
       " 'scam really',\n",
       " 'earn day working home experience required',\n",
       " 'selected cash prize reply win claim',\n",
       " 'let catch coffee sometime',\n",
       " 'urgent account compromised click link secure',\n",
       " 'act receive free iphone',\n",
       " 'forget bring document meeting',\n",
       " 'earn day working home experience required',\n",
       " 'meeting rescheduled pm',\n",
       " 'coming party tonight',\n",
       " 'let catch coffee sometime',\n",
       " 'congratulation walmart gift card click claim',\n",
       " 'forget bring document meeting',\n",
       " 'thanks help earlier',\n",
       " 'forget bring document meeting',\n",
       " 'pre approved loan apply',\n",
       " 'thanks help earlier',\n",
       " 'call back free',\n",
       " 'worry everything fine',\n",
       " 'get cheap med online without prescription visit site',\n",
       " 'earn day working home experience required',\n",
       " 'get cheap med online without prescription visit site',\n",
       " 'pre approved loan apply',\n",
       " 'pre approved loan apply',\n",
       " 'subscription ending renew avoid interruption',\n",
       " 'late traffic really bad right',\n",
       " 'hey still lunch today',\n",
       " 'late traffic really bad right',\n",
       " 'selected cash prize reply win claim',\n",
       " 'hey still lunch today',\n",
       " 'coming party tonight',\n",
       " 'claim free vacation package limited time offer',\n",
       " 'late traffic really bad right',\n",
       " 'claim free vacation package limited time offer',\n",
       " 'scam really',\n",
       " 'worry everything fine',\n",
       " 'urgent account compromised click link secure',\n",
       " 'thanks help earlier',\n",
       " 'worry everything fine',\n",
       " 'selected cash prize reply win claim',\n",
       " 'get cheap med online without prescription visit site',\n",
       " 'meeting rescheduled pm',\n",
       " 'call back free',\n",
       " 'thanks help earlier',\n",
       " 'pre approved loan apply',\n",
       " 'happy birthday hope great day',\n",
       " 'pre approved loan apply',\n",
       " 'coming party tonight',\n",
       " 'selected cash prize reply win claim',\n",
       " 'act receive free iphone',\n",
       " 'happy birthday hope great day',\n",
       " 'subscription ending renew avoid interruption',\n",
       " 'selected cash prize reply win claim',\n",
       " 'congratulation walmart gift card click claim',\n",
       " 'selected cash prize reply win claim',\n",
       " 'scam really',\n",
       " 'happy birthday hope great day',\n",
       " 'subscription ending renew avoid interruption',\n",
       " 'act receive free iphone',\n",
       " 'let catch coffee sometime',\n",
       " 'earn day working home experience required',\n",
       " 'late traffic really bad right',\n",
       " 'meeting rescheduled pm',\n",
       " 'congratulation walmart gift card click claim',\n",
       " 'coming party tonight',\n",
       " 'get cheap med online without prescription visit site',\n",
       " 'claim free vacation package limited time offer',\n",
       " 'forget bring document meeting',\n",
       " 'subscription ending renew avoid interruption',\n",
       " 'act receive free iphone',\n",
       " 'congratulation walmart gift card click claim',\n",
       " 'congratulation walmart gift card click claim',\n",
       " 'call back free',\n",
       " 'scam really',\n",
       " 'forget bring document meeting',\n",
       " 'late traffic really bad right',\n",
       " 'subscription ending renew avoid interruption',\n",
       " 'subscription ending renew avoid interruption',\n",
       " 'get cheap med online without prescription visit site',\n",
       " 'let catch coffee sometime',\n",
       " 'claim free vacation package limited time offer',\n",
       " 'call back free',\n",
       " 'worry everything fine',\n",
       " 'act receive free iphone',\n",
       " 'urgent account compromised click link secure',\n",
       " 'let catch coffee sometime',\n",
       " 'claim free vacation package limited time offer',\n",
       " 'coming party tonight',\n",
       " 'selected cash prize reply win claim',\n",
       " 'let catch coffee sometime',\n",
       " 'selected cash prize reply win claim',\n",
       " 'congratulation walmart gift card click claim',\n",
       " 'call back free',\n",
       " 'selected cash prize reply win claim',\n",
       " 'scam really',\n",
       " 'get cheap med online without prescription visit site',\n",
       " 'subscription ending renew avoid interruption',\n",
       " 'call back free',\n",
       " 'worry everything fine',\n",
       " 'selected cash prize reply win claim',\n",
       " 'earn day working home experience required',\n",
       " 'thanks help earlier',\n",
       " 'urgent account compromised click link secure',\n",
       " 'forget bring document meeting',\n",
       " 'hey still lunch today',\n",
       " 'claim free vacation package limited time offer',\n",
       " 'forget bring document meeting',\n",
       " 'forget bring document meeting',\n",
       " 'get cheap med online without prescription visit site',\n",
       " 'selected cash prize reply win claim',\n",
       " 'pre approved loan apply',\n",
       " 'claim free vacation package limited time offer',\n",
       " 'urgent account compromised click link secure',\n",
       " 'meeting rescheduled pm',\n",
       " 'happy birthday hope great day',\n",
       " 'forget bring document meeting',\n",
       " 'get cheap med online without prescription visit site',\n",
       " 'call back free',\n",
       " 'late traffic really bad right',\n",
       " 'selected cash prize reply win claim',\n",
       " 'congratulation walmart gift card click claim',\n",
       " 'urgent account compromised click link secure',\n",
       " 'call back free',\n",
       " 'forget bring document meeting',\n",
       " 'late traffic really bad right',\n",
       " 'worry everything fine',\n",
       " 'get cheap med online without prescription visit site',\n",
       " 'act receive free iphone',\n",
       " 'congratulation walmart gift card click claim',\n",
       " 'get cheap med online without prescription visit site',\n",
       " 'late traffic really bad right',\n",
       " 'meeting rescheduled pm',\n",
       " 'call back free',\n",
       " 'congratulation walmart gift card click claim',\n",
       " 'congratulation walmart gift card click claim',\n",
       " 'forget bring document meeting',\n",
       " 'happy birthday hope great day',\n",
       " 'earn day working home experience required',\n",
       " 'hey still lunch today',\n",
       " 'scam really',\n",
       " 'urgent account compromised click link secure',\n",
       " 'thanks help earlier',\n",
       " 'pre approved loan apply',\n",
       " 'happy birthday hope great day',\n",
       " 'claim free vacation package limited time offer',\n",
       " 'urgent account compromised click link secure',\n",
       " 'claim free vacation package limited time offer',\n",
       " 'forget bring document meeting',\n",
       " 'happy birthday hope great day',\n",
       " 'worry everything fine',\n",
       " 'claim free vacation package limited time offer',\n",
       " 'late traffic really bad right',\n",
       " 'pre approved loan apply',\n",
       " 'subscription ending renew avoid interruption',\n",
       " 'thanks help earlier',\n",
       " 'late traffic really bad right',\n",
       " 'happy birthday hope great day',\n",
       " 'call back free',\n",
       " 'pre approved loan apply',\n",
       " 'act receive free iphone',\n",
       " 'claim free vacation package limited time offer',\n",
       " 'urgent account compromised click link secure',\n",
       " 'thanks help earlier',\n",
       " 'urgent account compromised click link secure',\n",
       " 'subscription ending renew avoid interruption',\n",
       " 'thanks help earlier',\n",
       " 'congratulation walmart gift card click claim',\n",
       " 'worry everything fine',\n",
       " 'earn day working home experience required',\n",
       " 'subscription ending renew avoid interruption',\n",
       " 'forget bring document meeting',\n",
       " 'thanks help earlier',\n",
       " 'get cheap med online without prescription visit site',\n",
       " 'happy birthday hope great day',\n",
       " 'subscription ending renew avoid interruption',\n",
       " 'congratulation walmart gift card click claim',\n",
       " 'hey still lunch today',\n",
       " 'call back free',\n",
       " 'subscription ending renew avoid interruption',\n",
       " 'congratulation walmart gift card click claim',\n",
       " 'scam really',\n",
       " 'urgent account compromised click link secure',\n",
       " 'get cheap med online without prescription visit site',\n",
       " 'scam really',\n",
       " 'urgent account compromised click link secure',\n",
       " 'hey still lunch today',\n",
       " 'hey still lunch today',\n",
       " 'forget bring document meeting',\n",
       " 'pre approved loan apply',\n",
       " 'call back free',\n",
       " 'call back free',\n",
       " 'coming party tonight',\n",
       " 'forget bring document meeting',\n",
       " 'earn day working home experience required',\n",
       " 'meeting rescheduled pm',\n",
       " 'meeting rescheduled pm',\n",
       " 'subscription ending renew avoid interruption',\n",
       " 'subscription ending renew avoid interruption',\n",
       " 'coming party tonight',\n",
       " 'call back free',\n",
       " 'late traffic really bad right',\n",
       " 'late traffic really bad right',\n",
       " 'thanks help earlier',\n",
       " 'urgent account compromised click link secure',\n",
       " 'meeting rescheduled pm',\n",
       " 'worry everything fine',\n",
       " 'congratulation walmart gift card click claim',\n",
       " 'claim free vacation package limited time offer',\n",
       " 'coming party tonight',\n",
       " 'selected cash prize reply win claim',\n",
       " 'call back free',\n",
       " 'act receive free iphone',\n",
       " 'act receive free iphone',\n",
       " 'scam really',\n",
       " 'thanks help earlier',\n",
       " 'worry everything fine',\n",
       " 'thanks help earlier',\n",
       " 'pre approved loan apply',\n",
       " 'pre approved loan apply',\n",
       " 'forget bring document meeting',\n",
       " 'thanks help earlier',\n",
       " 'coming party tonight',\n",
       " 'forget bring document meeting',\n",
       " 'subscription ending renew avoid interruption',\n",
       " 'claim free vacation package limited time offer',\n",
       " 'scam really',\n",
       " 'scam really',\n",
       " 'urgent account compromised click link secure',\n",
       " 'worry everything fine',\n",
       " 'selected cash prize reply win claim',\n",
       " 'subscription ending renew avoid interruption',\n",
       " 'call back free',\n",
       " 'congratulation walmart gift card click claim',\n",
       " 'happy birthday hope great day',\n",
       " 'let catch coffee sometime',\n",
       " 'hey still lunch today',\n",
       " 'call back free',\n",
       " 'worry everything fine',\n",
       " 'congratulation walmart gift card click claim',\n",
       " 'earn day working home experience required',\n",
       " 'urgent account compromised click link secure',\n",
       " 'forget bring document meeting',\n",
       " 'meeting rescheduled pm',\n",
       " 'scam really',\n",
       " 'selected cash prize reply win claim',\n",
       " 'forget bring document meeting',\n",
       " 'coming party tonight',\n",
       " 'worry everything fine',\n",
       " 'get cheap med online without prescription visit site',\n",
       " 'pre approved loan apply',\n",
       " 'subscription ending renew avoid interruption',\n",
       " 'hey still lunch today',\n",
       " 'get cheap med online without prescription visit site',\n",
       " 'act receive free iphone',\n",
       " 'late traffic really bad right',\n",
       " 'pre approved loan apply',\n",
       " 'selected cash prize reply win claim',\n",
       " 'forget bring document meeting',\n",
       " 'thanks help earlier',\n",
       " 'worry everything fine',\n",
       " 'act receive free iphone']"
      ]
     },
     "execution_count": 127,
     "metadata": {},
     "output_type": "execute_result"
    }
   ],
   "source": [
    "corpus"
   ]
  },
  {
   "cell_type": "code",
   "execution_count": null,
   "id": "34c8340b",
   "metadata": {},
   "outputs": [],
   "source": [
    "from sklearn.feature_extraction.text import TfidfVectorizer"
   ]
  },
  {
   "cell_type": "code",
   "execution_count": null,
   "id": "ef979c9a",
   "metadata": {},
   "outputs": [],
   "source": [
    "tfidf = TfidfVectorizer(max_features=1000)"
   ]
  },
  {
   "cell_type": "code",
   "execution_count": null,
   "id": "914d8ff7",
   "metadata": {},
   "outputs": [],
   "source": [
    "X = tfidf.fit_transform(corpus).toarray()"
   ]
  },
  {
   "cell_type": "code",
   "execution_count": null,
   "id": "7d6ccc68",
   "metadata": {},
   "outputs": [
    {
     "data": {
      "text/plain": [
       "array([[0.        , 0.        , 0.        , ..., 0.        , 0.        ,\n",
       "        0.        ],\n",
       "       [0.        , 0.        , 0.        , ..., 0.        , 0.        ,\n",
       "        0.        ],\n",
       "       [0.        , 0.        , 0.        , ..., 0.        , 0.        ,\n",
       "        0.        ],\n",
       "       ...,\n",
       "       [0.        , 0.        , 0.        , ..., 0.        , 0.        ,\n",
       "        0.        ],\n",
       "       [0.        , 0.        , 0.        , ..., 0.        , 0.        ,\n",
       "        0.57735027],\n",
       "       [0.        , 0.53274258, 0.        , ..., 0.        , 0.        ,\n",
       "        0.        ]])"
      ]
     },
     "execution_count": 134,
     "metadata": {},
     "output_type": "execute_result"
    }
   ],
   "source": [
    "X"
   ]
  },
  {
   "cell_type": "code",
   "execution_count": null,
   "id": "cc8d7a24",
   "metadata": {},
   "outputs": [],
   "source": [
    "tfidf = TfidfVectorizer(max_features=1000,ngram_range=(2,2))"
   ]
  },
  {
   "cell_type": "code",
   "execution_count": null,
   "id": "f27db757",
   "metadata": {},
   "outputs": [],
   "source": [
    "X = tfidf.fit_transform(corpus).toarray()"
   ]
  },
  {
   "cell_type": "code",
   "execution_count": null,
   "id": "11846919",
   "metadata": {},
   "outputs": [
    {
     "data": {
      "text/plain": [
       "array([[0.        , 0.        , 0.        , ..., 0.        , 0.        ,\n",
       "        0.        ],\n",
       "       [0.        , 0.        , 0.        , ..., 0.        , 0.        ,\n",
       "        0.        ],\n",
       "       [0.        , 0.        , 0.        , ..., 0.        , 0.        ,\n",
       "        0.        ],\n",
       "       ...,\n",
       "       [0.        , 0.        , 0.        , ..., 0.        , 0.        ,\n",
       "        0.        ],\n",
       "       [0.        , 0.        , 0.        , ..., 0.        , 0.        ,\n",
       "        0.70710678],\n",
       "       [0.        , 0.57735027, 0.        , ..., 0.        , 0.        ,\n",
       "        0.        ]])"
      ]
     },
     "execution_count": 175,
     "metadata": {},
     "output_type": "execute_result"
    }
   ],
   "source": [
    "X"
   ]
  },
  {
   "cell_type": "code",
   "execution_count": null,
   "id": "dbf5a7e5",
   "metadata": {},
   "outputs": [
    {
     "data": {
      "text/plain": [
       "{'claim free': 13,\n",
       " 'free vacation': 28,\n",
       " 'vacation package': 64,\n",
       " 'package limited': 46,\n",
       " 'limited time': 39,\n",
       " 'time offer': 61,\n",
       " 'meeting rescheduled': 44,\n",
       " 'rescheduled pm': 55,\n",
       " 'coming party': 17,\n",
       " 'party tonight': 47,\n",
       " 'call back': 8,\n",
       " 'back free': 4,\n",
       " 'happy birthday': 32,\n",
       " 'birthday hope': 6,\n",
       " 'hope great': 36,\n",
       " 'great day': 31,\n",
       " 'subscription ending': 59,\n",
       " 'ending renew': 23,\n",
       " 'renew avoid': 53,\n",
       " 'avoid interruption': 3,\n",
       " 'scam really': 56,\n",
       " 'get cheap': 29,\n",
       " 'cheap med': 12,\n",
       " 'med online': 43,\n",
       " 'online without': 45,\n",
       " 'without prescription': 68,\n",
       " 'prescription visit': 49,\n",
       " 'visit site': 65,\n",
       " 'urgent account': 63,\n",
       " 'account compromised': 0,\n",
       " 'compromised click': 18,\n",
       " 'click link': 15,\n",
       " 'link secure': 40,\n",
       " 'thanks help': 60,\n",
       " 'help earlier': 33,\n",
       " 'let catch': 38,\n",
       " 'catch coffee': 11,\n",
       " 'coffee sometime': 16,\n",
       " 'pre approved': 48,\n",
       " 'approved loan': 2,\n",
       " 'loan apply': 41,\n",
       " 'forget bring': 26,\n",
       " 'bring document': 7,\n",
       " 'document meeting': 21,\n",
       " 'worry everything': 70,\n",
       " 'everything fine': 24,\n",
       " 'hey still': 34,\n",
       " 'still lunch': 58,\n",
       " 'lunch today': 42,\n",
       " 'late traffic': 37,\n",
       " 'traffic really': 62,\n",
       " 'really bad': 51,\n",
       " 'bad right': 5,\n",
       " 'congratulation walmart': 19,\n",
       " 'walmart gift': 66,\n",
       " 'gift card': 30,\n",
       " 'card click': 9,\n",
       " 'click claim': 14,\n",
       " 'act receive': 1,\n",
       " 'receive free': 52,\n",
       " 'free iphone': 27,\n",
       " 'selected cash': 57,\n",
       " 'cash prize': 10,\n",
       " 'prize reply': 50,\n",
       " 'reply win': 54,\n",
       " 'win claim': 67,\n",
       " 'earn day': 22,\n",
       " 'day working': 20,\n",
       " 'working home': 69,\n",
       " 'home experience': 35,\n",
       " 'experience required': 25}"
      ]
     },
     "execution_count": 174,
     "metadata": {},
     "output_type": "execute_result"
    }
   ],
   "source": [
    "tfidf.vocabulary_"
   ]
  },
  {
   "cell_type": "markdown",
   "id": "c88803b1",
   "metadata": {},
   "source": [
    "Spam_messages_Detaction_Task"
   ]
  },
  {
   "cell_type": "code",
   "execution_count": null,
   "id": "caaf96ed",
   "metadata": {},
   "outputs": [],
   "source": [
    "import pandas as pd\n",
    "import numpy as np\n",
    "\n",
    "df = pd.read_csv('spam_messages_1000.csv',encoding='latin-1')"
   ]
  },
  {
   "cell_type": "code",
   "execution_count": null,
   "id": "eda9df5e",
   "metadata": {},
   "outputs": [
    {
     "data": {
      "text/html": [
       "<div>\n",
       "<style scoped>\n",
       "    .dataframe tbody tr th:only-of-type {\n",
       "        vertical-align: middle;\n",
       "    }\n",
       "\n",
       "    .dataframe tbody tr th {\n",
       "        vertical-align: top;\n",
       "    }\n",
       "\n",
       "    .dataframe thead th {\n",
       "        text-align: right;\n",
       "    }\n",
       "</style>\n",
       "<table border=\"1\" class=\"dataframe\">\n",
       "  <thead>\n",
       "    <tr style=\"text-align: right;\">\n",
       "      <th></th>\n",
       "      <th>label</th>\n",
       "      <th>message</th>\n",
       "    </tr>\n",
       "  </thead>\n",
       "  <tbody>\n",
       "    <tr>\n",
       "      <th>0</th>\n",
       "      <td>spam</td>\n",
       "      <td>Claim your free vacation package now. Limited ...</td>\n",
       "    </tr>\n",
       "    <tr>\n",
       "      <th>1</th>\n",
       "      <td>ham</td>\n",
       "      <td>Meeting rescheduled to 3 PM.</td>\n",
       "    </tr>\n",
       "    <tr>\n",
       "      <th>2</th>\n",
       "      <td>ham</td>\n",
       "      <td>Are you coming to the party tonight?</td>\n",
       "    </tr>\n",
       "    <tr>\n",
       "      <th>3</th>\n",
       "      <td>spam</td>\n",
       "      <td>Claim your free vacation package now. Limited ...</td>\n",
       "    </tr>\n",
       "    <tr>\n",
       "      <th>4</th>\n",
       "      <td>ham</td>\n",
       "      <td>Can you call me back when you're free?</td>\n",
       "    </tr>\n",
       "    <tr>\n",
       "      <th>...</th>\n",
       "      <td>...</td>\n",
       "      <td>...</td>\n",
       "    </tr>\n",
       "    <tr>\n",
       "      <th>995</th>\n",
       "      <td>spam</td>\n",
       "      <td>You have been selected for a cash prize. Reply...</td>\n",
       "    </tr>\n",
       "    <tr>\n",
       "      <th>996</th>\n",
       "      <td>ham</td>\n",
       "      <td>Don't forget to bring the documents for the me...</td>\n",
       "    </tr>\n",
       "    <tr>\n",
       "      <th>997</th>\n",
       "      <td>ham</td>\n",
       "      <td>Thanks for your help earlier!</td>\n",
       "    </tr>\n",
       "    <tr>\n",
       "      <th>998</th>\n",
       "      <td>ham</td>\n",
       "      <td>Don't worry, everything will be fine.</td>\n",
       "    </tr>\n",
       "    <tr>\n",
       "      <th>999</th>\n",
       "      <td>spam</td>\n",
       "      <td>Act now to receive your free iPhone!</td>\n",
       "    </tr>\n",
       "  </tbody>\n",
       "</table>\n",
       "<p>1000 rows × 2 columns</p>\n",
       "</div>"
      ],
      "text/plain": [
       "    label                                            message\n",
       "0    spam  Claim your free vacation package now. Limited ...\n",
       "1     ham                       Meeting rescheduled to 3 PM.\n",
       "2     ham               Are you coming to the party tonight?\n",
       "3    spam  Claim your free vacation package now. Limited ...\n",
       "4     ham             Can you call me back when you're free?\n",
       "..    ...                                                ...\n",
       "995  spam  You have been selected for a cash prize. Reply...\n",
       "996   ham  Don't forget to bring the documents for the me...\n",
       "997   ham                      Thanks for your help earlier!\n",
       "998   ham              Don't worry, everything will be fine.\n",
       "999  spam               Act now to receive your free iPhone!\n",
       "\n",
       "[1000 rows x 2 columns]"
      ]
     },
     "execution_count": 10,
     "metadata": {},
     "output_type": "execute_result"
    }
   ],
   "source": [
    "df"
   ]
  },
  {
   "cell_type": "code",
   "execution_count": null,
   "id": "cbc2eff1",
   "metadata": {},
   "outputs": [],
   "source": [
    "import re\n",
    "import string\n",
    "import nltk\n",
    "from nltk.corpus import stopwords\n",
    "from nltk.stem import WordNetLemmatizer\n",
    "from nltk.stem import PorterStemmer,RegexpStemmer,SnowballStemmer\n",
    "from sklearn.feature_extraction.text import CountVectorizer\n",
    "from sklearn.feature_extraction.text import TfidfVectorizer"
   ]
  },
  {
   "cell_type": "code",
   "execution_count": null,
   "id": "9d9b530a",
   "metadata": {},
   "outputs": [],
   "source": [
    "df.columns = ['label','message']"
   ]
  },
  {
   "cell_type": "code",
   "execution_count": null,
   "id": "a1adcdf1",
   "metadata": {},
   "outputs": [
    {
     "data": {
      "text/plain": [
       "<bound method NDFrame.head of     label                                            message\n",
       "0    spam  Claim your free vacation package now. Limited ...\n",
       "1     ham                       Meeting rescheduled to 3 PM.\n",
       "2     ham               Are you coming to the party tonight?\n",
       "3    spam  Claim your free vacation package now. Limited ...\n",
       "4     ham             Can you call me back when you're free?\n",
       "..    ...                                                ...\n",
       "995  spam  You have been selected for a cash prize. Reply...\n",
       "996   ham  Don't forget to bring the documents for the me...\n",
       "997   ham                      Thanks for your help earlier!\n",
       "998   ham              Don't worry, everything will be fine.\n",
       "999  spam               Act now to receive your free iPhone!\n",
       "\n",
       "[1000 rows x 2 columns]>"
      ]
     },
     "execution_count": 69,
     "metadata": {},
     "output_type": "execute_result"
    }
   ],
   "source": [
    "df.head"
   ]
  },
  {
   "cell_type": "code",
   "execution_count": null,
   "id": "c062bf7b",
   "metadata": {},
   "outputs": [
    {
     "data": {
      "text/html": [
       "<div>\n",
       "<style scoped>\n",
       "    .dataframe tbody tr th:only-of-type {\n",
       "        vertical-align: middle;\n",
       "    }\n",
       "\n",
       "    .dataframe tbody tr th {\n",
       "        vertical-align: top;\n",
       "    }\n",
       "\n",
       "    .dataframe thead th {\n",
       "        text-align: right;\n",
       "    }\n",
       "</style>\n",
       "<table border=\"1\" class=\"dataframe\">\n",
       "  <thead>\n",
       "    <tr style=\"text-align: right;\">\n",
       "      <th></th>\n",
       "      <th>label</th>\n",
       "      <th>message</th>\n",
       "    </tr>\n",
       "  </thead>\n",
       "  <tbody>\n",
       "    <tr>\n",
       "      <th>0</th>\n",
       "      <td>spam</td>\n",
       "      <td>Claim your free vacation package now. Limited ...</td>\n",
       "    </tr>\n",
       "    <tr>\n",
       "      <th>1</th>\n",
       "      <td>ham</td>\n",
       "      <td>Meeting rescheduled to 3 PM.</td>\n",
       "    </tr>\n",
       "    <tr>\n",
       "      <th>2</th>\n",
       "      <td>ham</td>\n",
       "      <td>Are you coming to the party tonight?</td>\n",
       "    </tr>\n",
       "    <tr>\n",
       "      <th>3</th>\n",
       "      <td>spam</td>\n",
       "      <td>Claim your free vacation package now. Limited ...</td>\n",
       "    </tr>\n",
       "    <tr>\n",
       "      <th>4</th>\n",
       "      <td>ham</td>\n",
       "      <td>Can you call me back when you're free?</td>\n",
       "    </tr>\n",
       "  </tbody>\n",
       "</table>\n",
       "</div>"
      ],
      "text/plain": [
       "  label                                            message\n",
       "0  spam  Claim your free vacation package now. Limited ...\n",
       "1   ham                       Meeting rescheduled to 3 PM.\n",
       "2   ham               Are you coming to the party tonight?\n",
       "3  spam  Claim your free vacation package now. Limited ...\n",
       "4   ham             Can you call me back when you're free?"
      ]
     },
     "execution_count": 70,
     "metadata": {},
     "output_type": "execute_result"
    }
   ],
   "source": [
    "df.head()"
   ]
  },
  {
   "cell_type": "code",
   "execution_count": null,
   "id": "d22a0c32",
   "metadata": {},
   "outputs": [
    {
     "data": {
      "text/plain": [
       "label\n",
       "ham     512\n",
       "spam    488\n",
       "Name: count, dtype: int64"
      ]
     },
     "execution_count": 71,
     "metadata": {},
     "output_type": "execute_result"
    }
   ],
   "source": [
    "df['label'].value_counts()"
   ]
  },
  {
   "cell_type": "code",
   "execution_count": null,
   "id": "59c6a32a",
   "metadata": {},
   "outputs": [
    {
     "name": "stderr",
     "output_type": "stream",
     "text": [
      "[nltk_data] Downloading package stopwords to\n",
      "[nltk_data]     C:\\Users\\Admin\\AppData\\Roaming\\nltk_data...\n",
      "[nltk_data]   Package stopwords is already up-to-date!\n"
     ]
    },
    {
     "data": {
      "text/plain": [
       "True"
      ]
     },
     "execution_count": 72,
     "metadata": {},
     "output_type": "execute_result"
    }
   ],
   "source": [
    "nltk.download('stopwords')"
   ]
  },
  {
   "cell_type": "code",
   "execution_count": null,
   "id": "53c62d42",
   "metadata": {},
   "outputs": [
    {
     "name": "stderr",
     "output_type": "stream",
     "text": [
      "[nltk_data] Downloading package wordnet to\n",
      "[nltk_data]     C:\\Users\\Admin\\AppData\\Roaming\\nltk_data...\n",
      "[nltk_data]   Package wordnet is already up-to-date!\n"
     ]
    },
    {
     "data": {
      "text/plain": [
       "True"
      ]
     },
     "execution_count": 73,
     "metadata": {},
     "output_type": "execute_result"
    }
   ],
   "source": [
    "nltk.download('wordnet')"
   ]
  },
  {
   "cell_type": "code",
   "execution_count": null,
   "id": "d8c8c6b9",
   "metadata": {},
   "outputs": [
    {
     "data": {
      "text/html": [
       "<div>\n",
       "<style scoped>\n",
       "    .dataframe tbody tr th:only-of-type {\n",
       "        vertical-align: middle;\n",
       "    }\n",
       "\n",
       "    .dataframe tbody tr th {\n",
       "        vertical-align: top;\n",
       "    }\n",
       "\n",
       "    .dataframe thead th {\n",
       "        text-align: right;\n",
       "    }\n",
       "</style>\n",
       "<table border=\"1\" class=\"dataframe\">\n",
       "  <thead>\n",
       "    <tr style=\"text-align: right;\">\n",
       "      <th></th>\n",
       "      <th>message</th>\n",
       "      <th>cleaned_message</th>\n",
       "    </tr>\n",
       "  </thead>\n",
       "  <tbody>\n",
       "    <tr>\n",
       "      <th>0</th>\n",
       "      <td>Claim your free vacation package now. Limited ...</td>\n",
       "      <td>claim free vacation package now. limited time ...</td>\n",
       "    </tr>\n",
       "    <tr>\n",
       "      <th>1</th>\n",
       "      <td>Meeting rescheduled to 3 PM.</td>\n",
       "      <td>meeting rescheduled pm.</td>\n",
       "    </tr>\n",
       "    <tr>\n",
       "      <th>2</th>\n",
       "      <td>Are you coming to the party tonight?</td>\n",
       "      <td>coming party tonight?</td>\n",
       "    </tr>\n",
       "    <tr>\n",
       "      <th>3</th>\n",
       "      <td>Claim your free vacation package now. Limited ...</td>\n",
       "      <td>claim free vacation package now. limited time ...</td>\n",
       "    </tr>\n",
       "    <tr>\n",
       "      <th>4</th>\n",
       "      <td>Can you call me back when you're free?</td>\n",
       "      <td>call back free?</td>\n",
       "    </tr>\n",
       "    <tr>\n",
       "      <th>...</th>\n",
       "      <td>...</td>\n",
       "      <td>...</td>\n",
       "    </tr>\n",
       "    <tr>\n",
       "      <th>995</th>\n",
       "      <td>You have been selected for a cash prize. Reply...</td>\n",
       "      <td>selected cash prize. reply win claim.</td>\n",
       "    </tr>\n",
       "    <tr>\n",
       "      <th>996</th>\n",
       "      <td>Don't forget to bring the documents for the me...</td>\n",
       "      <td>forget bring document meeting.</td>\n",
       "    </tr>\n",
       "    <tr>\n",
       "      <th>997</th>\n",
       "      <td>Thanks for your help earlier!</td>\n",
       "      <td>thanks help earlier!</td>\n",
       "    </tr>\n",
       "    <tr>\n",
       "      <th>998</th>\n",
       "      <td>Don't worry, everything will be fine.</td>\n",
       "      <td>worry, everything fine.</td>\n",
       "    </tr>\n",
       "    <tr>\n",
       "      <th>999</th>\n",
       "      <td>Act now to receive your free iPhone!</td>\n",
       "      <td>act receive free iphone!</td>\n",
       "    </tr>\n",
       "  </tbody>\n",
       "</table>\n",
       "<p>1000 rows × 2 columns</p>\n",
       "</div>"
      ],
      "text/plain": [
       "                                               message                                    cleaned_message\n",
       "0    Claim your free vacation package now. Limited ...  claim free vacation package now. limited time ...\n",
       "1                         Meeting rescheduled to 3 PM.                            meeting rescheduled pm.\n",
       "2                 Are you coming to the party tonight?                              coming party tonight?\n",
       "3    Claim your free vacation package now. Limited ...  claim free vacation package now. limited time ...\n",
       "4               Can you call me back when you're free?                                    call back free?\n",
       "..                                                 ...                                                ...\n",
       "995  You have been selected for a cash prize. Reply...              selected cash prize. reply win claim.\n",
       "996  Don't forget to bring the documents for the me...                     forget bring document meeting.\n",
       "997                      Thanks for your help earlier!                               thanks help earlier!\n",
       "998              Don't worry, everything will be fine.                            worry, everything fine.\n",
       "999               Act now to receive your free iPhone!                           act receive free iphone!\n",
       "\n",
       "[1000 rows x 2 columns]"
      ]
     },
     "execution_count": 74,
     "metadata": {},
     "output_type": "execute_result"
    }
   ],
   "source": [
    "stop_words = set(stopwords.words('english'))\n",
    "lemmatizer = WordNetLemmatizer()\n",
    "\n",
    "def clean_text(text):\n",
    "    text = text.lower()\n",
    "    text = re.sub(r\"\\d+\",\"\",text)\n",
    "    text = [lemmatizer.lemmatize(word) for word in text.split() if word not in stop_words and word not in string.punctuation]\n",
    "    text = ' '.join(text)\n",
    "    return text\n",
    "\n",
    "df['cleaned_message'] = df['message'].apply(clean_text)\n",
    "df[['message', 'cleaned_message']]\n"
   ]
  },
  {
   "cell_type": "code",
   "execution_count": null,
   "id": "270ec9f9",
   "metadata": {},
   "outputs": [],
   "source": [
    "from sklearn.preprocessing import LabelEncoder\n",
    "\n",
    "le = LabelEncoder()\n",
    "df['label_num'] = le.fit_transform(df['label'])\n"
   ]
  },
  {
   "cell_type": "code",
   "execution_count": null,
   "id": "84a6841e",
   "metadata": {},
   "outputs": [
    {
     "data": {
      "text/html": [
       "<div>\n",
       "<style scoped>\n",
       "    .dataframe tbody tr th:only-of-type {\n",
       "        vertical-align: middle;\n",
       "    }\n",
       "\n",
       "    .dataframe tbody tr th {\n",
       "        vertical-align: top;\n",
       "    }\n",
       "\n",
       "    .dataframe thead th {\n",
       "        text-align: right;\n",
       "    }\n",
       "</style>\n",
       "<table border=\"1\" class=\"dataframe\">\n",
       "  <thead>\n",
       "    <tr style=\"text-align: right;\">\n",
       "      <th></th>\n",
       "      <th>label</th>\n",
       "      <th>message</th>\n",
       "      <th>cleaned_message</th>\n",
       "      <th>label_num</th>\n",
       "    </tr>\n",
       "  </thead>\n",
       "  <tbody>\n",
       "    <tr>\n",
       "      <th>0</th>\n",
       "      <td>spam</td>\n",
       "      <td>Claim your free vacation package now. Limited ...</td>\n",
       "      <td>claim free vacation package now. limited time ...</td>\n",
       "      <td>1</td>\n",
       "    </tr>\n",
       "    <tr>\n",
       "      <th>1</th>\n",
       "      <td>ham</td>\n",
       "      <td>Meeting rescheduled to 3 PM.</td>\n",
       "      <td>meeting rescheduled pm.</td>\n",
       "      <td>0</td>\n",
       "    </tr>\n",
       "    <tr>\n",
       "      <th>2</th>\n",
       "      <td>ham</td>\n",
       "      <td>Are you coming to the party tonight?</td>\n",
       "      <td>coming party tonight?</td>\n",
       "      <td>0</td>\n",
       "    </tr>\n",
       "    <tr>\n",
       "      <th>3</th>\n",
       "      <td>spam</td>\n",
       "      <td>Claim your free vacation package now. Limited ...</td>\n",
       "      <td>claim free vacation package now. limited time ...</td>\n",
       "      <td>1</td>\n",
       "    </tr>\n",
       "    <tr>\n",
       "      <th>4</th>\n",
       "      <td>ham</td>\n",
       "      <td>Can you call me back when you're free?</td>\n",
       "      <td>call back free?</td>\n",
       "      <td>0</td>\n",
       "    </tr>\n",
       "    <tr>\n",
       "      <th>...</th>\n",
       "      <td>...</td>\n",
       "      <td>...</td>\n",
       "      <td>...</td>\n",
       "      <td>...</td>\n",
       "    </tr>\n",
       "    <tr>\n",
       "      <th>995</th>\n",
       "      <td>spam</td>\n",
       "      <td>You have been selected for a cash prize. Reply...</td>\n",
       "      <td>selected cash prize. reply win claim.</td>\n",
       "      <td>1</td>\n",
       "    </tr>\n",
       "    <tr>\n",
       "      <th>996</th>\n",
       "      <td>ham</td>\n",
       "      <td>Don't forget to bring the documents for the me...</td>\n",
       "      <td>forget bring document meeting.</td>\n",
       "      <td>0</td>\n",
       "    </tr>\n",
       "    <tr>\n",
       "      <th>997</th>\n",
       "      <td>ham</td>\n",
       "      <td>Thanks for your help earlier!</td>\n",
       "      <td>thanks help earlier!</td>\n",
       "      <td>0</td>\n",
       "    </tr>\n",
       "    <tr>\n",
       "      <th>998</th>\n",
       "      <td>ham</td>\n",
       "      <td>Don't worry, everything will be fine.</td>\n",
       "      <td>worry, everything fine.</td>\n",
       "      <td>0</td>\n",
       "    </tr>\n",
       "    <tr>\n",
       "      <th>999</th>\n",
       "      <td>spam</td>\n",
       "      <td>Act now to receive your free iPhone!</td>\n",
       "      <td>act receive free iphone!</td>\n",
       "      <td>1</td>\n",
       "    </tr>\n",
       "  </tbody>\n",
       "</table>\n",
       "<p>1000 rows × 4 columns</p>\n",
       "</div>"
      ],
      "text/plain": [
       "    label  ... label_num\n",
       "0    spam  ...         1\n",
       "1     ham  ...         0\n",
       "2     ham  ...         0\n",
       "3    spam  ...         1\n",
       "4     ham  ...         0\n",
       "..    ...  ...       ...\n",
       "995  spam  ...         1\n",
       "996   ham  ...         0\n",
       "997   ham  ...         0\n",
       "998   ham  ...         0\n",
       "999  spam  ...         1\n",
       "\n",
       "[1000 rows x 4 columns]"
      ]
     },
     "execution_count": 76,
     "metadata": {},
     "output_type": "execute_result"
    }
   ],
   "source": [
    "df"
   ]
  },
  {
   "cell_type": "code",
   "execution_count": null,
   "id": "f4ee18e4",
   "metadata": {},
   "outputs": [],
   "source": [
    "from sklearn.feature_extraction.text import TfidfVectorizer\n",
    "tfidf = TfidfVectorizer(max_features=100,ngram_range=(2,3))\n",
    "X = tfidf.fit_transform(df['cleaned_message']).toarray()"
   ]
  },
  {
   "cell_type": "code",
   "execution_count": null,
   "id": "2d1fb86c",
   "metadata": {},
   "outputs": [
    {
     "data": {
      "text/plain": [
       "array([[0.       , 0.       , 0.       , ..., 0.       , 0.       ,\n",
       "        0.       ],\n",
       "       [0.       , 0.       , 0.       , ..., 0.       , 0.       ,\n",
       "        0.       ],\n",
       "       [0.       , 0.       , 0.       , ..., 0.       , 0.       ,\n",
       "        0.       ],\n",
       "       ...,\n",
       "       [0.       , 0.       , 0.       , ..., 0.       , 0.       ,\n",
       "        0.       ],\n",
       "       [0.       , 0.       , 0.       , ..., 0.       , 0.       ,\n",
       "        0.       ],\n",
       "       [0.       , 0.       , 0.4472136, ..., 0.       , 0.       ,\n",
       "        0.       ]])"
      ]
     },
     "execution_count": 78,
     "metadata": {},
     "output_type": "execute_result"
    }
   ],
   "source": [
    "X"
   ]
  },
  {
   "cell_type": "code",
   "execution_count": null,
   "id": "74cdfd32",
   "metadata": {},
   "outputs": [],
   "source": [
    "from sklearn.model_selection import train_test_split"
   ]
  },
  {
   "cell_type": "code",
   "execution_count": null,
   "id": "c9ef83c0",
   "metadata": {},
   "outputs": [],
   "source": [
    "Y = df['label_num']\n",
    "x_train,x_test,y_train,y_test = train_test_split(X,Y,test_size = 0.2,random_state=40)"
   ]
  },
  {
   "cell_type": "code",
   "execution_count": null,
   "id": "6bfec4af",
   "metadata": {},
   "outputs": [
    {
     "data": {
      "text/plain": [
       "array([[0.        , 0.        , 0.        , ..., 0.        , 0.        ,\n",
       "        0.        ],\n",
       "       [0.        , 0.        , 0.        , ..., 0.25819889, 0.        ,\n",
       "        0.        ],\n",
       "       [0.        , 0.        , 0.        , ..., 0.        , 0.        ,\n",
       "        0.        ],\n",
       "       ...,\n",
       "       [0.        , 0.        , 0.        , ..., 0.        , 0.        ,\n",
       "        0.        ],\n",
       "       [0.        , 0.        , 0.        , ..., 0.        , 0.        ,\n",
       "        0.        ],\n",
       "       [0.        , 0.        , 0.        , ..., 0.        , 0.        ,\n",
       "        0.        ]])"
      ]
     },
     "execution_count": 28,
     "metadata": {},
     "output_type": "execute_result"
    }
   ],
   "source": [
    "x_train"
   ]
  },
  {
   "cell_type": "code",
   "execution_count": null,
   "id": "67425f8f",
   "metadata": {},
   "outputs": [],
   "source": [
    "from sklearn.naive_bayes import MultinomialNB\n",
    "from sklearn.metrics import accuracy_score, classification_report, confusion_matrix"
   ]
  },
  {
   "cell_type": "code",
   "execution_count": null,
   "id": "3b214953",
   "metadata": {},
   "outputs": [
    {
     "data": {
      "text/plain": [
       "array([1, 1, 0, 0, 0, 1, 0, 0, 1, 0, 0, 0, 0, 1, 0, 1, 0, 0, 0, 0, 0, 0,\n",
       "       0, 0, 1, 1, 0, 1, 0, 0, 1, 0, 1, 1, 1, 0, 0, 1, 0, 0, 0, 1, 1, 1,\n",
       "       1, 1, 1, 1, 0, 1, 1, 1, 0, 0, 1, 1, 0, 0, 0, 0, 1, 0, 1, 0, 1, 1,\n",
       "       0, 1, 0, 0, 0, 0, 1, 0, 0, 1, 0, 1, 0, 0, 0, 0, 0, 0, 0, 0, 1, 1,\n",
       "       0, 0, 1, 0, 0, 0, 1, 1, 0, 0, 0, 1, 1, 0, 0, 0, 1, 0, 0, 0, 0, 0,\n",
       "       1, 0, 0, 1, 0, 1, 1, 0, 0, 1, 0, 1, 0, 0, 0, 1, 0, 0, 1, 1, 0, 0,\n",
       "       1, 0, 1, 1, 0, 1, 1, 0, 1, 0, 0, 0, 0, 0, 0, 0, 0, 0, 1, 0, 1, 0,\n",
       "       0, 0, 1, 0, 0, 0, 1, 0, 0, 1, 0, 0, 1, 1, 0, 0, 0, 0, 1, 1, 1, 1,\n",
       "       1, 1, 0, 0, 0, 1, 0, 0, 0, 1, 0, 1, 0, 1, 1, 0, 0, 0, 1, 0, 1, 1,\n",
       "       0, 1])"
      ]
     },
     "execution_count": 35,
     "metadata": {},
     "output_type": "execute_result"
    }
   ],
   "source": [
    "model = MultinomialNB()\n",
    "model.fit(x_train,y_train)\n",
    "y_pred = model.predict(x_text)\n",
    "y_pred"
   ]
  },
  {
   "cell_type": "code",
   "execution_count": null,
   "id": "7df85efc",
   "metadata": {},
   "outputs": [
    {
     "data": {
      "text/plain": [
       "0.91"
      ]
     },
     "execution_count": 45,
     "metadata": {},
     "output_type": "execute_result"
    }
   ],
   "source": [
    "accuracy_score(y_test,y_pred)"
   ]
  },
  {
   "cell_type": "code",
   "execution_count": null,
   "id": "2a397442",
   "metadata": {},
   "outputs": [
    {
     "data": {
      "text/plain": [
       "array([[103,   0],\n",
       "       [ 18,  79]], dtype=int64)"
      ]
     },
     "execution_count": 46,
     "metadata": {},
     "output_type": "execute_result"
    }
   ],
   "source": [
    "confusion_matrix(y_test,y_pred)"
   ]
  },
  {
   "cell_type": "code",
   "execution_count": null,
   "id": "010cfb09",
   "metadata": {},
   "outputs": [
    {
     "name": "stdout",
     "output_type": "stream",
     "text": [
      "              precision    recall  f1-score   support\n",
      "\n",
      "           0       0.85      1.00      0.92       103\n",
      "           1       1.00      0.81      0.90        97\n",
      "\n",
      "    accuracy                           0.91       200\n",
      "   macro avg       0.93      0.91      0.91       200\n",
      "weighted avg       0.92      0.91      0.91       200\n",
      "\n"
     ]
    }
   ],
   "source": [
    "print(classification_report(y_test,y_pred))"
   ]
  },
  {
   "cell_type": "code",
   "execution_count": null,
   "id": "7348c268",
   "metadata": {},
   "outputs": [],
   "source": [
    "from sklearn.linear_model import LogisticRegression\n",
    "from sklearn.ensemble import RandomForestClassifier\n"
   ]
  },
  {
   "cell_type": "code",
   "execution_count": null,
   "id": "9bb3f96d",
   "metadata": {},
   "outputs": [
    {
     "data": {
      "text/html": [
       "<style>#sk-container-id-2 {\n",
       "  /* Definition of color scheme common for light and dark mode */\n",
       "  --sklearn-color-text: #000;\n",
       "  --sklearn-color-text-muted: #666;\n",
       "  --sklearn-color-line: gray;\n",
       "  /* Definition of color scheme for unfitted estimators */\n",
       "  --sklearn-color-unfitted-level-0: #fff5e6;\n",
       "  --sklearn-color-unfitted-level-1: #f6e4d2;\n",
       "  --sklearn-color-unfitted-level-2: #ffe0b3;\n",
       "  --sklearn-color-unfitted-level-3: chocolate;\n",
       "  /* Definition of color scheme for fitted estimators */\n",
       "  --sklearn-color-fitted-level-0: #f0f8ff;\n",
       "  --sklearn-color-fitted-level-1: #d4ebff;\n",
       "  --sklearn-color-fitted-level-2: #b3dbfd;\n",
       "  --sklearn-color-fitted-level-3: cornflowerblue;\n",
       "\n",
       "  /* Specific color for light theme */\n",
       "  --sklearn-color-text-on-default-background: var(--sg-text-color, var(--theme-code-foreground, var(--jp-content-font-color1, black)));\n",
       "  --sklearn-color-background: var(--sg-background-color, var(--theme-background, var(--jp-layout-color0, white)));\n",
       "  --sklearn-color-border-box: var(--sg-text-color, var(--theme-code-foreground, var(--jp-content-font-color1, black)));\n",
       "  --sklearn-color-icon: #696969;\n",
       "\n",
       "  @media (prefers-color-scheme: dark) {\n",
       "    /* Redefinition of color scheme for dark theme */\n",
       "    --sklearn-color-text-on-default-background: var(--sg-text-color, var(--theme-code-foreground, var(--jp-content-font-color1, white)));\n",
       "    --sklearn-color-background: var(--sg-background-color, var(--theme-background, var(--jp-layout-color0, #111)));\n",
       "    --sklearn-color-border-box: var(--sg-text-color, var(--theme-code-foreground, var(--jp-content-font-color1, white)));\n",
       "    --sklearn-color-icon: #878787;\n",
       "  }\n",
       "}\n",
       "\n",
       "#sk-container-id-2 {\n",
       "  color: var(--sklearn-color-text);\n",
       "}\n",
       "\n",
       "#sk-container-id-2 pre {\n",
       "  padding: 0;\n",
       "}\n",
       "\n",
       "#sk-container-id-2 input.sk-hidden--visually {\n",
       "  border: 0;\n",
       "  clip: rect(1px 1px 1px 1px);\n",
       "  clip: rect(1px, 1px, 1px, 1px);\n",
       "  height: 1px;\n",
       "  margin: -1px;\n",
       "  overflow: hidden;\n",
       "  padding: 0;\n",
       "  position: absolute;\n",
       "  width: 1px;\n",
       "}\n",
       "\n",
       "#sk-container-id-2 div.sk-dashed-wrapped {\n",
       "  border: 1px dashed var(--sklearn-color-line);\n",
       "  margin: 0 0.4em 0.5em 0.4em;\n",
       "  box-sizing: border-box;\n",
       "  padding-bottom: 0.4em;\n",
       "  background-color: var(--sklearn-color-background);\n",
       "}\n",
       "\n",
       "#sk-container-id-2 div.sk-container {\n",
       "  /* jupyter's `normalize.less` sets `[hidden] { display: none; }`\n",
       "     but bootstrap.min.css set `[hidden] { display: none !important; }`\n",
       "     so we also need the `!important` here to be able to override the\n",
       "     default hidden behavior on the sphinx rendered scikit-learn.org.\n",
       "     See: https://github.com/scikit-learn/scikit-learn/issues/21755 */\n",
       "  display: inline-block !important;\n",
       "  position: relative;\n",
       "}\n",
       "\n",
       "#sk-container-id-2 div.sk-text-repr-fallback {\n",
       "  display: none;\n",
       "}\n",
       "\n",
       "div.sk-parallel-item,\n",
       "div.sk-serial,\n",
       "div.sk-item {\n",
       "  /* draw centered vertical line to link estimators */\n",
       "  background-image: linear-gradient(var(--sklearn-color-text-on-default-background), var(--sklearn-color-text-on-default-background));\n",
       "  background-size: 2px 100%;\n",
       "  background-repeat: no-repeat;\n",
       "  background-position: center center;\n",
       "}\n",
       "\n",
       "/* Parallel-specific style estimator block */\n",
       "\n",
       "#sk-container-id-2 div.sk-parallel-item::after {\n",
       "  content: \"\";\n",
       "  width: 100%;\n",
       "  border-bottom: 2px solid var(--sklearn-color-text-on-default-background);\n",
       "  flex-grow: 1;\n",
       "}\n",
       "\n",
       "#sk-container-id-2 div.sk-parallel {\n",
       "  display: flex;\n",
       "  align-items: stretch;\n",
       "  justify-content: center;\n",
       "  background-color: var(--sklearn-color-background);\n",
       "  position: relative;\n",
       "}\n",
       "\n",
       "#sk-container-id-2 div.sk-parallel-item {\n",
       "  display: flex;\n",
       "  flex-direction: column;\n",
       "}\n",
       "\n",
       "#sk-container-id-2 div.sk-parallel-item:first-child::after {\n",
       "  align-self: flex-end;\n",
       "  width: 50%;\n",
       "}\n",
       "\n",
       "#sk-container-id-2 div.sk-parallel-item:last-child::after {\n",
       "  align-self: flex-start;\n",
       "  width: 50%;\n",
       "}\n",
       "\n",
       "#sk-container-id-2 div.sk-parallel-item:only-child::after {\n",
       "  width: 0;\n",
       "}\n",
       "\n",
       "/* Serial-specific style estimator block */\n",
       "\n",
       "#sk-container-id-2 div.sk-serial {\n",
       "  display: flex;\n",
       "  flex-direction: column;\n",
       "  align-items: center;\n",
       "  background-color: var(--sklearn-color-background);\n",
       "  padding-right: 1em;\n",
       "  padding-left: 1em;\n",
       "}\n",
       "\n",
       "\n",
       "/* Toggleable style: style used for estimator/Pipeline/ColumnTransformer box that is\n",
       "clickable and can be expanded/collapsed.\n",
       "- Pipeline and ColumnTransformer use this feature and define the default style\n",
       "- Estimators will overwrite some part of the style using the `sk-estimator` class\n",
       "*/\n",
       "\n",
       "/* Pipeline and ColumnTransformer style (default) */\n",
       "\n",
       "#sk-container-id-2 div.sk-toggleable {\n",
       "  /* Default theme specific background. It is overwritten whether we have a\n",
       "  specific estimator or a Pipeline/ColumnTransformer */\n",
       "  background-color: var(--sklearn-color-background);\n",
       "}\n",
       "\n",
       "/* Toggleable label */\n",
       "#sk-container-id-2 label.sk-toggleable__label {\n",
       "  cursor: pointer;\n",
       "  display: flex;\n",
       "  width: 100%;\n",
       "  margin-bottom: 0;\n",
       "  padding: 0.5em;\n",
       "  box-sizing: border-box;\n",
       "  text-align: center;\n",
       "  align-items: start;\n",
       "  justify-content: space-between;\n",
       "  gap: 0.5em;\n",
       "}\n",
       "\n",
       "#sk-container-id-2 label.sk-toggleable__label .caption {\n",
       "  font-size: 0.6rem;\n",
       "  font-weight: lighter;\n",
       "  color: var(--sklearn-color-text-muted);\n",
       "}\n",
       "\n",
       "#sk-container-id-2 label.sk-toggleable__label-arrow:before {\n",
       "  /* Arrow on the left of the label */\n",
       "  content: \"▸\";\n",
       "  float: left;\n",
       "  margin-right: 0.25em;\n",
       "  color: var(--sklearn-color-icon);\n",
       "}\n",
       "\n",
       "#sk-container-id-2 label.sk-toggleable__label-arrow:hover:before {\n",
       "  color: var(--sklearn-color-text);\n",
       "}\n",
       "\n",
       "/* Toggleable content - dropdown */\n",
       "\n",
       "#sk-container-id-2 div.sk-toggleable__content {\n",
       "  display: none;\n",
       "  text-align: left;\n",
       "  /* unfitted */\n",
       "  background-color: var(--sklearn-color-unfitted-level-0);\n",
       "}\n",
       "\n",
       "#sk-container-id-2 div.sk-toggleable__content.fitted {\n",
       "  /* fitted */\n",
       "  background-color: var(--sklearn-color-fitted-level-0);\n",
       "}\n",
       "\n",
       "#sk-container-id-2 div.sk-toggleable__content pre {\n",
       "  margin: 0.2em;\n",
       "  border-radius: 0.25em;\n",
       "  color: var(--sklearn-color-text);\n",
       "  /* unfitted */\n",
       "  background-color: var(--sklearn-color-unfitted-level-0);\n",
       "}\n",
       "\n",
       "#sk-container-id-2 div.sk-toggleable__content.fitted pre {\n",
       "  /* unfitted */\n",
       "  background-color: var(--sklearn-color-fitted-level-0);\n",
       "}\n",
       "\n",
       "#sk-container-id-2 input.sk-toggleable__control:checked~div.sk-toggleable__content {\n",
       "  /* Expand drop-down */\n",
       "  display: block;\n",
       "  width: 100%;\n",
       "  overflow: visible;\n",
       "}\n",
       "\n",
       "#sk-container-id-2 input.sk-toggleable__control:checked~label.sk-toggleable__label-arrow:before {\n",
       "  content: \"▾\";\n",
       "}\n",
       "\n",
       "/* Pipeline/ColumnTransformer-specific style */\n",
       "\n",
       "#sk-container-id-2 div.sk-label input.sk-toggleable__control:checked~label.sk-toggleable__label {\n",
       "  color: var(--sklearn-color-text);\n",
       "  background-color: var(--sklearn-color-unfitted-level-2);\n",
       "}\n",
       "\n",
       "#sk-container-id-2 div.sk-label.fitted input.sk-toggleable__control:checked~label.sk-toggleable__label {\n",
       "  background-color: var(--sklearn-color-fitted-level-2);\n",
       "}\n",
       "\n",
       "/* Estimator-specific style */\n",
       "\n",
       "/* Colorize estimator box */\n",
       "#sk-container-id-2 div.sk-estimator input.sk-toggleable__control:checked~label.sk-toggleable__label {\n",
       "  /* unfitted */\n",
       "  background-color: var(--sklearn-color-unfitted-level-2);\n",
       "}\n",
       "\n",
       "#sk-container-id-2 div.sk-estimator.fitted input.sk-toggleable__control:checked~label.sk-toggleable__label {\n",
       "  /* fitted */\n",
       "  background-color: var(--sklearn-color-fitted-level-2);\n",
       "}\n",
       "\n",
       "#sk-container-id-2 div.sk-label label.sk-toggleable__label,\n",
       "#sk-container-id-2 div.sk-label label {\n",
       "  /* The background is the default theme color */\n",
       "  color: var(--sklearn-color-text-on-default-background);\n",
       "}\n",
       "\n",
       "/* On hover, darken the color of the background */\n",
       "#sk-container-id-2 div.sk-label:hover label.sk-toggleable__label {\n",
       "  color: var(--sklearn-color-text);\n",
       "  background-color: var(--sklearn-color-unfitted-level-2);\n",
       "}\n",
       "\n",
       "/* Label box, darken color on hover, fitted */\n",
       "#sk-container-id-2 div.sk-label.fitted:hover label.sk-toggleable__label.fitted {\n",
       "  color: var(--sklearn-color-text);\n",
       "  background-color: var(--sklearn-color-fitted-level-2);\n",
       "}\n",
       "\n",
       "/* Estimator label */\n",
       "\n",
       "#sk-container-id-2 div.sk-label label {\n",
       "  font-family: monospace;\n",
       "  font-weight: bold;\n",
       "  display: inline-block;\n",
       "  line-height: 1.2em;\n",
       "}\n",
       "\n",
       "#sk-container-id-2 div.sk-label-container {\n",
       "  text-align: center;\n",
       "}\n",
       "\n",
       "/* Estimator-specific */\n",
       "#sk-container-id-2 div.sk-estimator {\n",
       "  font-family: monospace;\n",
       "  border: 1px dotted var(--sklearn-color-border-box);\n",
       "  border-radius: 0.25em;\n",
       "  box-sizing: border-box;\n",
       "  margin-bottom: 0.5em;\n",
       "  /* unfitted */\n",
       "  background-color: var(--sklearn-color-unfitted-level-0);\n",
       "}\n",
       "\n",
       "#sk-container-id-2 div.sk-estimator.fitted {\n",
       "  /* fitted */\n",
       "  background-color: var(--sklearn-color-fitted-level-0);\n",
       "}\n",
       "\n",
       "/* on hover */\n",
       "#sk-container-id-2 div.sk-estimator:hover {\n",
       "  /* unfitted */\n",
       "  background-color: var(--sklearn-color-unfitted-level-2);\n",
       "}\n",
       "\n",
       "#sk-container-id-2 div.sk-estimator.fitted:hover {\n",
       "  /* fitted */\n",
       "  background-color: var(--sklearn-color-fitted-level-2);\n",
       "}\n",
       "\n",
       "/* Specification for estimator info (e.g. \"i\" and \"?\") */\n",
       "\n",
       "/* Common style for \"i\" and \"?\" */\n",
       "\n",
       ".sk-estimator-doc-link,\n",
       "a:link.sk-estimator-doc-link,\n",
       "a:visited.sk-estimator-doc-link {\n",
       "  float: right;\n",
       "  font-size: smaller;\n",
       "  line-height: 1em;\n",
       "  font-family: monospace;\n",
       "  background-color: var(--sklearn-color-background);\n",
       "  border-radius: 1em;\n",
       "  height: 1em;\n",
       "  width: 1em;\n",
       "  text-decoration: none !important;\n",
       "  margin-left: 0.5em;\n",
       "  text-align: center;\n",
       "  /* unfitted */\n",
       "  border: var(--sklearn-color-unfitted-level-1) 1pt solid;\n",
       "  color: var(--sklearn-color-unfitted-level-1);\n",
       "}\n",
       "\n",
       ".sk-estimator-doc-link.fitted,\n",
       "a:link.sk-estimator-doc-link.fitted,\n",
       "a:visited.sk-estimator-doc-link.fitted {\n",
       "  /* fitted */\n",
       "  border: var(--sklearn-color-fitted-level-1) 1pt solid;\n",
       "  color: var(--sklearn-color-fitted-level-1);\n",
       "}\n",
       "\n",
       "/* On hover */\n",
       "div.sk-estimator:hover .sk-estimator-doc-link:hover,\n",
       ".sk-estimator-doc-link:hover,\n",
       "div.sk-label-container:hover .sk-estimator-doc-link:hover,\n",
       ".sk-estimator-doc-link:hover {\n",
       "  /* unfitted */\n",
       "  background-color: var(--sklearn-color-unfitted-level-3);\n",
       "  color: var(--sklearn-color-background);\n",
       "  text-decoration: none;\n",
       "}\n",
       "\n",
       "div.sk-estimator.fitted:hover .sk-estimator-doc-link.fitted:hover,\n",
       ".sk-estimator-doc-link.fitted:hover,\n",
       "div.sk-label-container:hover .sk-estimator-doc-link.fitted:hover,\n",
       ".sk-estimator-doc-link.fitted:hover {\n",
       "  /* fitted */\n",
       "  background-color: var(--sklearn-color-fitted-level-3);\n",
       "  color: var(--sklearn-color-background);\n",
       "  text-decoration: none;\n",
       "}\n",
       "\n",
       "/* Span, style for the box shown on hovering the info icon */\n",
       ".sk-estimator-doc-link span {\n",
       "  display: none;\n",
       "  z-index: 9999;\n",
       "  position: relative;\n",
       "  font-weight: normal;\n",
       "  right: .2ex;\n",
       "  padding: .5ex;\n",
       "  margin: .5ex;\n",
       "  width: min-content;\n",
       "  min-width: 20ex;\n",
       "  max-width: 50ex;\n",
       "  color: var(--sklearn-color-text);\n",
       "  box-shadow: 2pt 2pt 4pt #999;\n",
       "  /* unfitted */\n",
       "  background: var(--sklearn-color-unfitted-level-0);\n",
       "  border: .5pt solid var(--sklearn-color-unfitted-level-3);\n",
       "}\n",
       "\n",
       ".sk-estimator-doc-link.fitted span {\n",
       "  /* fitted */\n",
       "  background: var(--sklearn-color-fitted-level-0);\n",
       "  border: var(--sklearn-color-fitted-level-3);\n",
       "}\n",
       "\n",
       ".sk-estimator-doc-link:hover span {\n",
       "  display: block;\n",
       "}\n",
       "\n",
       "/* \"?\"-specific style due to the `<a>` HTML tag */\n",
       "\n",
       "#sk-container-id-2 a.estimator_doc_link {\n",
       "  float: right;\n",
       "  font-size: 1rem;\n",
       "  line-height: 1em;\n",
       "  font-family: monospace;\n",
       "  background-color: var(--sklearn-color-background);\n",
       "  border-radius: 1rem;\n",
       "  height: 1rem;\n",
       "  width: 1rem;\n",
       "  text-decoration: none;\n",
       "  /* unfitted */\n",
       "  color: var(--sklearn-color-unfitted-level-1);\n",
       "  border: var(--sklearn-color-unfitted-level-1) 1pt solid;\n",
       "}\n",
       "\n",
       "#sk-container-id-2 a.estimator_doc_link.fitted {\n",
       "  /* fitted */\n",
       "  border: var(--sklearn-color-fitted-level-1) 1pt solid;\n",
       "  color: var(--sklearn-color-fitted-level-1);\n",
       "}\n",
       "\n",
       "/* On hover */\n",
       "#sk-container-id-2 a.estimator_doc_link:hover {\n",
       "  /* unfitted */\n",
       "  background-color: var(--sklearn-color-unfitted-level-3);\n",
       "  color: var(--sklearn-color-background);\n",
       "  text-decoration: none;\n",
       "}\n",
       "\n",
       "#sk-container-id-2 a.estimator_doc_link.fitted:hover {\n",
       "  /* fitted */\n",
       "  background-color: var(--sklearn-color-fitted-level-3);\n",
       "}\n",
       "\n",
       ".estimator-table summary {\n",
       "    padding: .5rem;\n",
       "    font-family: monospace;\n",
       "    cursor: pointer;\n",
       "}\n",
       "\n",
       ".estimator-table details[open] {\n",
       "    padding-left: 0.1rem;\n",
       "    padding-right: 0.1rem;\n",
       "    padding-bottom: 0.3rem;\n",
       "}\n",
       "\n",
       ".estimator-table .parameters-table {\n",
       "    margin-left: auto !important;\n",
       "    margin-right: auto !important;\n",
       "}\n",
       "\n",
       ".estimator-table .parameters-table tr:nth-child(odd) {\n",
       "    background-color: #fff;\n",
       "}\n",
       "\n",
       ".estimator-table .parameters-table tr:nth-child(even) {\n",
       "    background-color: #f6f6f6;\n",
       "}\n",
       "\n",
       ".estimator-table .parameters-table tr:hover {\n",
       "    background-color: #e0e0e0;\n",
       "}\n",
       "\n",
       ".estimator-table table td {\n",
       "    border: 1px solid rgba(106, 105, 104, 0.232);\n",
       "}\n",
       "\n",
       ".user-set td {\n",
       "    color:rgb(255, 94, 0);\n",
       "    text-align: left;\n",
       "}\n",
       "\n",
       ".user-set td.value pre {\n",
       "    color:rgb(255, 94, 0) !important;\n",
       "    background-color: transparent !important;\n",
       "}\n",
       "\n",
       ".default td {\n",
       "    color: black;\n",
       "    text-align: left;\n",
       "}\n",
       "\n",
       ".user-set td i,\n",
       ".default td i {\n",
       "    color: black;\n",
       "}\n",
       "\n",
       ".copy-paste-icon {\n",
       "    background-image: url(data:image/svg+xml;base64,PHN2ZyB4bWxucz0iaHR0cDovL3d3dy53My5vcmcvMjAwMC9zdmciIHZpZXdCb3g9IjAgMCA0NDggNTEyIj48IS0tIUZvbnQgQXdlc29tZSBGcmVlIDYuNy4yIGJ5IEBmb250YXdlc29tZSAtIGh0dHBzOi8vZm9udGF3ZXNvbWUuY29tIExpY2Vuc2UgLSBodHRwczovL2ZvbnRhd2Vzb21lLmNvbS9saWNlbnNlL2ZyZWUgQ29weXJpZ2h0IDIwMjUgRm9udGljb25zLCBJbmMuLS0+PHBhdGggZD0iTTIwOCAwTDMzMi4xIDBjMTIuNyAwIDI0LjkgNS4xIDMzLjkgMTQuMWw2Ny45IDY3LjljOSA5IDE0LjEgMjEuMiAxNC4xIDMzLjlMNDQ4IDMzNmMwIDI2LjUtMjEuNSA0OC00OCA0OGwtMTkyIDBjLTI2LjUgMC00OC0yMS41LTQ4LTQ4bDAtMjg4YzAtMjYuNSAyMS41LTQ4IDQ4LTQ4ek00OCAxMjhsODAgMCAwIDY0LTY0IDAgMCAyNTYgMTkyIDAgMC0zMiA2NCAwIDAgNDhjMCAyNi41LTIxLjUgNDgtNDggNDhMNDggNTEyYy0yNi41IDAtNDgtMjEuNS00OC00OEwwIDE3NmMwLTI2LjUgMjEuNS00OCA0OC00OHoiLz48L3N2Zz4=);\n",
       "    background-repeat: no-repeat;\n",
       "    background-size: 14px 14px;\n",
       "    background-position: 0;\n",
       "    display: inline-block;\n",
       "    width: 14px;\n",
       "    height: 14px;\n",
       "    cursor: pointer;\n",
       "}\n",
       "</style><body><div id=\"sk-container-id-2\" class=\"sk-top-container\"><div class=\"sk-text-repr-fallback\"><pre>LogisticRegression()</pre><b>In a Jupyter environment, please rerun this cell to show the HTML representation or trust the notebook. <br />On GitHub, the HTML representation is unable to render, please try loading this page with nbviewer.org.</b></div><div class=\"sk-container\" hidden><div class=\"sk-item\"><div class=\"sk-estimator fitted sk-toggleable\"><input class=\"sk-toggleable__control sk-hidden--visually\" id=\"sk-estimator-id-2\" type=\"checkbox\" checked><label for=\"sk-estimator-id-2\" class=\"sk-toggleable__label fitted sk-toggleable__label-arrow\"><div><div>LogisticRegression</div></div><div><a class=\"sk-estimator-doc-link fitted\" rel=\"noreferrer\" target=\"_blank\" href=\"https://scikit-learn.org/1.7/modules/generated/sklearn.linear_model.LogisticRegression.html\">?<span>Documentation for LogisticRegression</span></a><span class=\"sk-estimator-doc-link fitted\">i<span>Fitted</span></span></div></label><div class=\"sk-toggleable__content fitted\" data-param-prefix=\"\">\n",
       "        <div class=\"estimator-table\">\n",
       "            <details>\n",
       "                <summary>Parameters</summary>\n",
       "                <table class=\"parameters-table\">\n",
       "                  <tbody>\n",
       "                    \n",
       "        <tr class=\"default\">\n",
       "            <td><i class=\"copy-paste-icon\"\n",
       "                 onclick=\"copyToClipboard('penalty',\n",
       "                          this.parentElement.nextElementSibling)\"\n",
       "            ></i></td>\n",
       "            <td class=\"param\">penalty&nbsp;</td>\n",
       "            <td class=\"value\">&#x27;l2&#x27;</td>\n",
       "        </tr>\n",
       "    \n",
       "\n",
       "        <tr class=\"default\">\n",
       "            <td><i class=\"copy-paste-icon\"\n",
       "                 onclick=\"copyToClipboard('dual',\n",
       "                          this.parentElement.nextElementSibling)\"\n",
       "            ></i></td>\n",
       "            <td class=\"param\">dual&nbsp;</td>\n",
       "            <td class=\"value\">False</td>\n",
       "        </tr>\n",
       "    \n",
       "\n",
       "        <tr class=\"default\">\n",
       "            <td><i class=\"copy-paste-icon\"\n",
       "                 onclick=\"copyToClipboard('tol',\n",
       "                          this.parentElement.nextElementSibling)\"\n",
       "            ></i></td>\n",
       "            <td class=\"param\">tol&nbsp;</td>\n",
       "            <td class=\"value\">0.0001</td>\n",
       "        </tr>\n",
       "    \n",
       "\n",
       "        <tr class=\"default\">\n",
       "            <td><i class=\"copy-paste-icon\"\n",
       "                 onclick=\"copyToClipboard('C',\n",
       "                          this.parentElement.nextElementSibling)\"\n",
       "            ></i></td>\n",
       "            <td class=\"param\">C&nbsp;</td>\n",
       "            <td class=\"value\">1.0</td>\n",
       "        </tr>\n",
       "    \n",
       "\n",
       "        <tr class=\"default\">\n",
       "            <td><i class=\"copy-paste-icon\"\n",
       "                 onclick=\"copyToClipboard('fit_intercept',\n",
       "                          this.parentElement.nextElementSibling)\"\n",
       "            ></i></td>\n",
       "            <td class=\"param\">fit_intercept&nbsp;</td>\n",
       "            <td class=\"value\">True</td>\n",
       "        </tr>\n",
       "    \n",
       "\n",
       "        <tr class=\"default\">\n",
       "            <td><i class=\"copy-paste-icon\"\n",
       "                 onclick=\"copyToClipboard('intercept_scaling',\n",
       "                          this.parentElement.nextElementSibling)\"\n",
       "            ></i></td>\n",
       "            <td class=\"param\">intercept_scaling&nbsp;</td>\n",
       "            <td class=\"value\">1</td>\n",
       "        </tr>\n",
       "    \n",
       "\n",
       "        <tr class=\"default\">\n",
       "            <td><i class=\"copy-paste-icon\"\n",
       "                 onclick=\"copyToClipboard('class_weight',\n",
       "                          this.parentElement.nextElementSibling)\"\n",
       "            ></i></td>\n",
       "            <td class=\"param\">class_weight&nbsp;</td>\n",
       "            <td class=\"value\">None</td>\n",
       "        </tr>\n",
       "    \n",
       "\n",
       "        <tr class=\"default\">\n",
       "            <td><i class=\"copy-paste-icon\"\n",
       "                 onclick=\"copyToClipboard('random_state',\n",
       "                          this.parentElement.nextElementSibling)\"\n",
       "            ></i></td>\n",
       "            <td class=\"param\">random_state&nbsp;</td>\n",
       "            <td class=\"value\">None</td>\n",
       "        </tr>\n",
       "    \n",
       "\n",
       "        <tr class=\"default\">\n",
       "            <td><i class=\"copy-paste-icon\"\n",
       "                 onclick=\"copyToClipboard('solver',\n",
       "                          this.parentElement.nextElementSibling)\"\n",
       "            ></i></td>\n",
       "            <td class=\"param\">solver&nbsp;</td>\n",
       "            <td class=\"value\">&#x27;lbfgs&#x27;</td>\n",
       "        </tr>\n",
       "    \n",
       "\n",
       "        <tr class=\"default\">\n",
       "            <td><i class=\"copy-paste-icon\"\n",
       "                 onclick=\"copyToClipboard('max_iter',\n",
       "                          this.parentElement.nextElementSibling)\"\n",
       "            ></i></td>\n",
       "            <td class=\"param\">max_iter&nbsp;</td>\n",
       "            <td class=\"value\">100</td>\n",
       "        </tr>\n",
       "    \n",
       "\n",
       "        <tr class=\"default\">\n",
       "            <td><i class=\"copy-paste-icon\"\n",
       "                 onclick=\"copyToClipboard('multi_class',\n",
       "                          this.parentElement.nextElementSibling)\"\n",
       "            ></i></td>\n",
       "            <td class=\"param\">multi_class&nbsp;</td>\n",
       "            <td class=\"value\">&#x27;deprecated&#x27;</td>\n",
       "        </tr>\n",
       "    \n",
       "\n",
       "        <tr class=\"default\">\n",
       "            <td><i class=\"copy-paste-icon\"\n",
       "                 onclick=\"copyToClipboard('verbose',\n",
       "                          this.parentElement.nextElementSibling)\"\n",
       "            ></i></td>\n",
       "            <td class=\"param\">verbose&nbsp;</td>\n",
       "            <td class=\"value\">0</td>\n",
       "        </tr>\n",
       "    \n",
       "\n",
       "        <tr class=\"default\">\n",
       "            <td><i class=\"copy-paste-icon\"\n",
       "                 onclick=\"copyToClipboard('warm_start',\n",
       "                          this.parentElement.nextElementSibling)\"\n",
       "            ></i></td>\n",
       "            <td class=\"param\">warm_start&nbsp;</td>\n",
       "            <td class=\"value\">False</td>\n",
       "        </tr>\n",
       "    \n",
       "\n",
       "        <tr class=\"default\">\n",
       "            <td><i class=\"copy-paste-icon\"\n",
       "                 onclick=\"copyToClipboard('n_jobs',\n",
       "                          this.parentElement.nextElementSibling)\"\n",
       "            ></i></td>\n",
       "            <td class=\"param\">n_jobs&nbsp;</td>\n",
       "            <td class=\"value\">None</td>\n",
       "        </tr>\n",
       "    \n",
       "\n",
       "        <tr class=\"default\">\n",
       "            <td><i class=\"copy-paste-icon\"\n",
       "                 onclick=\"copyToClipboard('l1_ratio',\n",
       "                          this.parentElement.nextElementSibling)\"\n",
       "            ></i></td>\n",
       "            <td class=\"param\">l1_ratio&nbsp;</td>\n",
       "            <td class=\"value\">None</td>\n",
       "        </tr>\n",
       "    \n",
       "                  </tbody>\n",
       "                </table>\n",
       "            </details>\n",
       "        </div>\n",
       "    </div></div></div></div></div><script>function copyToClipboard(text, element) {\n",
       "    // Get the parameter prefix from the closest toggleable content\n",
       "    const toggleableContent = element.closest('.sk-toggleable__content');\n",
       "    const paramPrefix = toggleableContent ? toggleableContent.dataset.paramPrefix : '';\n",
       "    const fullParamName = paramPrefix ? `${paramPrefix}${text}` : text;\n",
       "\n",
       "    const originalStyle = element.style;\n",
       "    const computedStyle = window.getComputedStyle(element);\n",
       "    const originalWidth = computedStyle.width;\n",
       "    const originalHTML = element.innerHTML.replace('Copied!', '');\n",
       "\n",
       "    navigator.clipboard.writeText(fullParamName)\n",
       "        .then(() => {\n",
       "            element.style.width = originalWidth;\n",
       "            element.style.color = 'green';\n",
       "            element.innerHTML = \"Copied!\";\n",
       "\n",
       "            setTimeout(() => {\n",
       "                element.innerHTML = originalHTML;\n",
       "                element.style = originalStyle;\n",
       "            }, 2000);\n",
       "        })\n",
       "        .catch(err => {\n",
       "            console.error('Failed to copy:', err);\n",
       "            element.style.color = 'red';\n",
       "            element.innerHTML = \"Failed!\";\n",
       "            setTimeout(() => {\n",
       "                element.innerHTML = originalHTML;\n",
       "                element.style = originalStyle;\n",
       "            }, 2000);\n",
       "        });\n",
       "    return false;\n",
       "}\n",
       "\n",
       "document.querySelectorAll('.fa-regular.fa-copy').forEach(function(element) {\n",
       "    const toggleableContent = element.closest('.sk-toggleable__content');\n",
       "    const paramPrefix = toggleableContent ? toggleableContent.dataset.paramPrefix : '';\n",
       "    const paramName = element.parentElement.nextElementSibling.textContent.trim();\n",
       "    const fullParamName = paramPrefix ? `${paramPrefix}${paramName}` : paramName;\n",
       "\n",
       "    element.setAttribute('title', fullParamName);\n",
       "});\n",
       "</script></body>"
      ],
      "text/plain": [
       "LogisticRegression()"
      ]
     },
     "execution_count": 52,
     "metadata": {},
     "output_type": "execute_result"
    }
   ],
   "source": [
    "logreg = LogisticRegression()\n",
    "logreg.fit(x_train,y_train)"
   ]
  },
  {
   "cell_type": "code",
   "execution_count": null,
   "id": "b3e8ac59",
   "metadata": {},
   "outputs": [
    {
     "name": "stdout",
     "output_type": "stream",
     "text": [
      "0.91\n"
     ]
    }
   ],
   "source": [
    "print(logreg.score(x_test,y_test))"
   ]
  },
  {
   "cell_type": "code",
   "execution_count": null,
   "id": "214d8444",
   "metadata": {},
   "outputs": [],
   "source": [
    "# def predict_message(msg):\n",
    "#     cleaned = clean_text(msg)\n",
    "#     vector = tfidf.transform([cleaned])\n",
    "#     print(vector)\n",
    "#     pred_ans = model.predict(vector)\n",
    "#     return 'Spam' if pred_ans[0] == 1 else 'Ham'\n",
    "\n",
    "\n",
    "# predict_message(\"hello world\")"
   ]
  },
  {
   "cell_type": "code",
   "execution_count": null,
   "id": "bca210f2",
   "metadata": {},
   "outputs": [
    {
     "data": {
      "text/html": [
       "<style>#sk-container-id-1 {\n",
       "  /* Definition of color scheme common for light and dark mode */\n",
       "  --sklearn-color-text: #000;\n",
       "  --sklearn-color-text-muted: #666;\n",
       "  --sklearn-color-line: gray;\n",
       "  /* Definition of color scheme for unfitted estimators */\n",
       "  --sklearn-color-unfitted-level-0: #fff5e6;\n",
       "  --sklearn-color-unfitted-level-1: #f6e4d2;\n",
       "  --sklearn-color-unfitted-level-2: #ffe0b3;\n",
       "  --sklearn-color-unfitted-level-3: chocolate;\n",
       "  /* Definition of color scheme for fitted estimators */\n",
       "  --sklearn-color-fitted-level-0: #f0f8ff;\n",
       "  --sklearn-color-fitted-level-1: #d4ebff;\n",
       "  --sklearn-color-fitted-level-2: #b3dbfd;\n",
       "  --sklearn-color-fitted-level-3: cornflowerblue;\n",
       "\n",
       "  /* Specific color for light theme */\n",
       "  --sklearn-color-text-on-default-background: var(--sg-text-color, var(--theme-code-foreground, var(--jp-content-font-color1, black)));\n",
       "  --sklearn-color-background: var(--sg-background-color, var(--theme-background, var(--jp-layout-color0, white)));\n",
       "  --sklearn-color-border-box: var(--sg-text-color, var(--theme-code-foreground, var(--jp-content-font-color1, black)));\n",
       "  --sklearn-color-icon: #696969;\n",
       "\n",
       "  @media (prefers-color-scheme: dark) {\n",
       "    /* Redefinition of color scheme for dark theme */\n",
       "    --sklearn-color-text-on-default-background: var(--sg-text-color, var(--theme-code-foreground, var(--jp-content-font-color1, white)));\n",
       "    --sklearn-color-background: var(--sg-background-color, var(--theme-background, var(--jp-layout-color0, #111)));\n",
       "    --sklearn-color-border-box: var(--sg-text-color, var(--theme-code-foreground, var(--jp-content-font-color1, white)));\n",
       "    --sklearn-color-icon: #878787;\n",
       "  }\n",
       "}\n",
       "\n",
       "#sk-container-id-1 {\n",
       "  color: var(--sklearn-color-text);\n",
       "}\n",
       "\n",
       "#sk-container-id-1 pre {\n",
       "  padding: 0;\n",
       "}\n",
       "\n",
       "#sk-container-id-1 input.sk-hidden--visually {\n",
       "  border: 0;\n",
       "  clip: rect(1px 1px 1px 1px);\n",
       "  clip: rect(1px, 1px, 1px, 1px);\n",
       "  height: 1px;\n",
       "  margin: -1px;\n",
       "  overflow: hidden;\n",
       "  padding: 0;\n",
       "  position: absolute;\n",
       "  width: 1px;\n",
       "}\n",
       "\n",
       "#sk-container-id-1 div.sk-dashed-wrapped {\n",
       "  border: 1px dashed var(--sklearn-color-line);\n",
       "  margin: 0 0.4em 0.5em 0.4em;\n",
       "  box-sizing: border-box;\n",
       "  padding-bottom: 0.4em;\n",
       "  background-color: var(--sklearn-color-background);\n",
       "}\n",
       "\n",
       "#sk-container-id-1 div.sk-container {\n",
       "  /* jupyter's `normalize.less` sets `[hidden] { display: none; }`\n",
       "     but bootstrap.min.css set `[hidden] { display: none !important; }`\n",
       "     so we also need the `!important` here to be able to override the\n",
       "     default hidden behavior on the sphinx rendered scikit-learn.org.\n",
       "     See: https://github.com/scikit-learn/scikit-learn/issues/21755 */\n",
       "  display: inline-block !important;\n",
       "  position: relative;\n",
       "}\n",
       "\n",
       "#sk-container-id-1 div.sk-text-repr-fallback {\n",
       "  display: none;\n",
       "}\n",
       "\n",
       "div.sk-parallel-item,\n",
       "div.sk-serial,\n",
       "div.sk-item {\n",
       "  /* draw centered vertical line to link estimators */\n",
       "  background-image: linear-gradient(var(--sklearn-color-text-on-default-background), var(--sklearn-color-text-on-default-background));\n",
       "  background-size: 2px 100%;\n",
       "  background-repeat: no-repeat;\n",
       "  background-position: center center;\n",
       "}\n",
       "\n",
       "/* Parallel-specific style estimator block */\n",
       "\n",
       "#sk-container-id-1 div.sk-parallel-item::after {\n",
       "  content: \"\";\n",
       "  width: 100%;\n",
       "  border-bottom: 2px solid var(--sklearn-color-text-on-default-background);\n",
       "  flex-grow: 1;\n",
       "}\n",
       "\n",
       "#sk-container-id-1 div.sk-parallel {\n",
       "  display: flex;\n",
       "  align-items: stretch;\n",
       "  justify-content: center;\n",
       "  background-color: var(--sklearn-color-background);\n",
       "  position: relative;\n",
       "}\n",
       "\n",
       "#sk-container-id-1 div.sk-parallel-item {\n",
       "  display: flex;\n",
       "  flex-direction: column;\n",
       "}\n",
       "\n",
       "#sk-container-id-1 div.sk-parallel-item:first-child::after {\n",
       "  align-self: flex-end;\n",
       "  width: 50%;\n",
       "}\n",
       "\n",
       "#sk-container-id-1 div.sk-parallel-item:last-child::after {\n",
       "  align-self: flex-start;\n",
       "  width: 50%;\n",
       "}\n",
       "\n",
       "#sk-container-id-1 div.sk-parallel-item:only-child::after {\n",
       "  width: 0;\n",
       "}\n",
       "\n",
       "/* Serial-specific style estimator block */\n",
       "\n",
       "#sk-container-id-1 div.sk-serial {\n",
       "  display: flex;\n",
       "  flex-direction: column;\n",
       "  align-items: center;\n",
       "  background-color: var(--sklearn-color-background);\n",
       "  padding-right: 1em;\n",
       "  padding-left: 1em;\n",
       "}\n",
       "\n",
       "\n",
       "/* Toggleable style: style used for estimator/Pipeline/ColumnTransformer box that is\n",
       "clickable and can be expanded/collapsed.\n",
       "- Pipeline and ColumnTransformer use this feature and define the default style\n",
       "- Estimators will overwrite some part of the style using the `sk-estimator` class\n",
       "*/\n",
       "\n",
       "/* Pipeline and ColumnTransformer style (default) */\n",
       "\n",
       "#sk-container-id-1 div.sk-toggleable {\n",
       "  /* Default theme specific background. It is overwritten whether we have a\n",
       "  specific estimator or a Pipeline/ColumnTransformer */\n",
       "  background-color: var(--sklearn-color-background);\n",
       "}\n",
       "\n",
       "/* Toggleable label */\n",
       "#sk-container-id-1 label.sk-toggleable__label {\n",
       "  cursor: pointer;\n",
       "  display: flex;\n",
       "  width: 100%;\n",
       "  margin-bottom: 0;\n",
       "  padding: 0.5em;\n",
       "  box-sizing: border-box;\n",
       "  text-align: center;\n",
       "  align-items: start;\n",
       "  justify-content: space-between;\n",
       "  gap: 0.5em;\n",
       "}\n",
       "\n",
       "#sk-container-id-1 label.sk-toggleable__label .caption {\n",
       "  font-size: 0.6rem;\n",
       "  font-weight: lighter;\n",
       "  color: var(--sklearn-color-text-muted);\n",
       "}\n",
       "\n",
       "#sk-container-id-1 label.sk-toggleable__label-arrow:before {\n",
       "  /* Arrow on the left of the label */\n",
       "  content: \"▸\";\n",
       "  float: left;\n",
       "  margin-right: 0.25em;\n",
       "  color: var(--sklearn-color-icon);\n",
       "}\n",
       "\n",
       "#sk-container-id-1 label.sk-toggleable__label-arrow:hover:before {\n",
       "  color: var(--sklearn-color-text);\n",
       "}\n",
       "\n",
       "/* Toggleable content - dropdown */\n",
       "\n",
       "#sk-container-id-1 div.sk-toggleable__content {\n",
       "  display: none;\n",
       "  text-align: left;\n",
       "  /* unfitted */\n",
       "  background-color: var(--sklearn-color-unfitted-level-0);\n",
       "}\n",
       "\n",
       "#sk-container-id-1 div.sk-toggleable__content.fitted {\n",
       "  /* fitted */\n",
       "  background-color: var(--sklearn-color-fitted-level-0);\n",
       "}\n",
       "\n",
       "#sk-container-id-1 div.sk-toggleable__content pre {\n",
       "  margin: 0.2em;\n",
       "  border-radius: 0.25em;\n",
       "  color: var(--sklearn-color-text);\n",
       "  /* unfitted */\n",
       "  background-color: var(--sklearn-color-unfitted-level-0);\n",
       "}\n",
       "\n",
       "#sk-container-id-1 div.sk-toggleable__content.fitted pre {\n",
       "  /* unfitted */\n",
       "  background-color: var(--sklearn-color-fitted-level-0);\n",
       "}\n",
       "\n",
       "#sk-container-id-1 input.sk-toggleable__control:checked~div.sk-toggleable__content {\n",
       "  /* Expand drop-down */\n",
       "  display: block;\n",
       "  width: 100%;\n",
       "  overflow: visible;\n",
       "}\n",
       "\n",
       "#sk-container-id-1 input.sk-toggleable__control:checked~label.sk-toggleable__label-arrow:before {\n",
       "  content: \"▾\";\n",
       "}\n",
       "\n",
       "/* Pipeline/ColumnTransformer-specific style */\n",
       "\n",
       "#sk-container-id-1 div.sk-label input.sk-toggleable__control:checked~label.sk-toggleable__label {\n",
       "  color: var(--sklearn-color-text);\n",
       "  background-color: var(--sklearn-color-unfitted-level-2);\n",
       "}\n",
       "\n",
       "#sk-container-id-1 div.sk-label.fitted input.sk-toggleable__control:checked~label.sk-toggleable__label {\n",
       "  background-color: var(--sklearn-color-fitted-level-2);\n",
       "}\n",
       "\n",
       "/* Estimator-specific style */\n",
       "\n",
       "/* Colorize estimator box */\n",
       "#sk-container-id-1 div.sk-estimator input.sk-toggleable__control:checked~label.sk-toggleable__label {\n",
       "  /* unfitted */\n",
       "  background-color: var(--sklearn-color-unfitted-level-2);\n",
       "}\n",
       "\n",
       "#sk-container-id-1 div.sk-estimator.fitted input.sk-toggleable__control:checked~label.sk-toggleable__label {\n",
       "  /* fitted */\n",
       "  background-color: var(--sklearn-color-fitted-level-2);\n",
       "}\n",
       "\n",
       "#sk-container-id-1 div.sk-label label.sk-toggleable__label,\n",
       "#sk-container-id-1 div.sk-label label {\n",
       "  /* The background is the default theme color */\n",
       "  color: var(--sklearn-color-text-on-default-background);\n",
       "}\n",
       "\n",
       "/* On hover, darken the color of the background */\n",
       "#sk-container-id-1 div.sk-label:hover label.sk-toggleable__label {\n",
       "  color: var(--sklearn-color-text);\n",
       "  background-color: var(--sklearn-color-unfitted-level-2);\n",
       "}\n",
       "\n",
       "/* Label box, darken color on hover, fitted */\n",
       "#sk-container-id-1 div.sk-label.fitted:hover label.sk-toggleable__label.fitted {\n",
       "  color: var(--sklearn-color-text);\n",
       "  background-color: var(--sklearn-color-fitted-level-2);\n",
       "}\n",
       "\n",
       "/* Estimator label */\n",
       "\n",
       "#sk-container-id-1 div.sk-label label {\n",
       "  font-family: monospace;\n",
       "  font-weight: bold;\n",
       "  display: inline-block;\n",
       "  line-height: 1.2em;\n",
       "}\n",
       "\n",
       "#sk-container-id-1 div.sk-label-container {\n",
       "  text-align: center;\n",
       "}\n",
       "\n",
       "/* Estimator-specific */\n",
       "#sk-container-id-1 div.sk-estimator {\n",
       "  font-family: monospace;\n",
       "  border: 1px dotted var(--sklearn-color-border-box);\n",
       "  border-radius: 0.25em;\n",
       "  box-sizing: border-box;\n",
       "  margin-bottom: 0.5em;\n",
       "  /* unfitted */\n",
       "  background-color: var(--sklearn-color-unfitted-level-0);\n",
       "}\n",
       "\n",
       "#sk-container-id-1 div.sk-estimator.fitted {\n",
       "  /* fitted */\n",
       "  background-color: var(--sklearn-color-fitted-level-0);\n",
       "}\n",
       "\n",
       "/* on hover */\n",
       "#sk-container-id-1 div.sk-estimator:hover {\n",
       "  /* unfitted */\n",
       "  background-color: var(--sklearn-color-unfitted-level-2);\n",
       "}\n",
       "\n",
       "#sk-container-id-1 div.sk-estimator.fitted:hover {\n",
       "  /* fitted */\n",
       "  background-color: var(--sklearn-color-fitted-level-2);\n",
       "}\n",
       "\n",
       "/* Specification for estimator info (e.g. \"i\" and \"?\") */\n",
       "\n",
       "/* Common style for \"i\" and \"?\" */\n",
       "\n",
       ".sk-estimator-doc-link,\n",
       "a:link.sk-estimator-doc-link,\n",
       "a:visited.sk-estimator-doc-link {\n",
       "  float: right;\n",
       "  font-size: smaller;\n",
       "  line-height: 1em;\n",
       "  font-family: monospace;\n",
       "  background-color: var(--sklearn-color-background);\n",
       "  border-radius: 1em;\n",
       "  height: 1em;\n",
       "  width: 1em;\n",
       "  text-decoration: none !important;\n",
       "  margin-left: 0.5em;\n",
       "  text-align: center;\n",
       "  /* unfitted */\n",
       "  border: var(--sklearn-color-unfitted-level-1) 1pt solid;\n",
       "  color: var(--sklearn-color-unfitted-level-1);\n",
       "}\n",
       "\n",
       ".sk-estimator-doc-link.fitted,\n",
       "a:link.sk-estimator-doc-link.fitted,\n",
       "a:visited.sk-estimator-doc-link.fitted {\n",
       "  /* fitted */\n",
       "  border: var(--sklearn-color-fitted-level-1) 1pt solid;\n",
       "  color: var(--sklearn-color-fitted-level-1);\n",
       "}\n",
       "\n",
       "/* On hover */\n",
       "div.sk-estimator:hover .sk-estimator-doc-link:hover,\n",
       ".sk-estimator-doc-link:hover,\n",
       "div.sk-label-container:hover .sk-estimator-doc-link:hover,\n",
       ".sk-estimator-doc-link:hover {\n",
       "  /* unfitted */\n",
       "  background-color: var(--sklearn-color-unfitted-level-3);\n",
       "  color: var(--sklearn-color-background);\n",
       "  text-decoration: none;\n",
       "}\n",
       "\n",
       "div.sk-estimator.fitted:hover .sk-estimator-doc-link.fitted:hover,\n",
       ".sk-estimator-doc-link.fitted:hover,\n",
       "div.sk-label-container:hover .sk-estimator-doc-link.fitted:hover,\n",
       ".sk-estimator-doc-link.fitted:hover {\n",
       "  /* fitted */\n",
       "  background-color: var(--sklearn-color-fitted-level-3);\n",
       "  color: var(--sklearn-color-background);\n",
       "  text-decoration: none;\n",
       "}\n",
       "\n",
       "/* Span, style for the box shown on hovering the info icon */\n",
       ".sk-estimator-doc-link span {\n",
       "  display: none;\n",
       "  z-index: 9999;\n",
       "  position: relative;\n",
       "  font-weight: normal;\n",
       "  right: .2ex;\n",
       "  padding: .5ex;\n",
       "  margin: .5ex;\n",
       "  width: min-content;\n",
       "  min-width: 20ex;\n",
       "  max-width: 50ex;\n",
       "  color: var(--sklearn-color-text);\n",
       "  box-shadow: 2pt 2pt 4pt #999;\n",
       "  /* unfitted */\n",
       "  background: var(--sklearn-color-unfitted-level-0);\n",
       "  border: .5pt solid var(--sklearn-color-unfitted-level-3);\n",
       "}\n",
       "\n",
       ".sk-estimator-doc-link.fitted span {\n",
       "  /* fitted */\n",
       "  background: var(--sklearn-color-fitted-level-0);\n",
       "  border: var(--sklearn-color-fitted-level-3);\n",
       "}\n",
       "\n",
       ".sk-estimator-doc-link:hover span {\n",
       "  display: block;\n",
       "}\n",
       "\n",
       "/* \"?\"-specific style due to the `<a>` HTML tag */\n",
       "\n",
       "#sk-container-id-1 a.estimator_doc_link {\n",
       "  float: right;\n",
       "  font-size: 1rem;\n",
       "  line-height: 1em;\n",
       "  font-family: monospace;\n",
       "  background-color: var(--sklearn-color-background);\n",
       "  border-radius: 1rem;\n",
       "  height: 1rem;\n",
       "  width: 1rem;\n",
       "  text-decoration: none;\n",
       "  /* unfitted */\n",
       "  color: var(--sklearn-color-unfitted-level-1);\n",
       "  border: var(--sklearn-color-unfitted-level-1) 1pt solid;\n",
       "}\n",
       "\n",
       "#sk-container-id-1 a.estimator_doc_link.fitted {\n",
       "  /* fitted */\n",
       "  border: var(--sklearn-color-fitted-level-1) 1pt solid;\n",
       "  color: var(--sklearn-color-fitted-level-1);\n",
       "}\n",
       "\n",
       "/* On hover */\n",
       "#sk-container-id-1 a.estimator_doc_link:hover {\n",
       "  /* unfitted */\n",
       "  background-color: var(--sklearn-color-unfitted-level-3);\n",
       "  color: var(--sklearn-color-background);\n",
       "  text-decoration: none;\n",
       "}\n",
       "\n",
       "#sk-container-id-1 a.estimator_doc_link.fitted:hover {\n",
       "  /* fitted */\n",
       "  background-color: var(--sklearn-color-fitted-level-3);\n",
       "}\n",
       "\n",
       ".estimator-table summary {\n",
       "    padding: .5rem;\n",
       "    font-family: monospace;\n",
       "    cursor: pointer;\n",
       "}\n",
       "\n",
       ".estimator-table details[open] {\n",
       "    padding-left: 0.1rem;\n",
       "    padding-right: 0.1rem;\n",
       "    padding-bottom: 0.3rem;\n",
       "}\n",
       "\n",
       ".estimator-table .parameters-table {\n",
       "    margin-left: auto !important;\n",
       "    margin-right: auto !important;\n",
       "}\n",
       "\n",
       ".estimator-table .parameters-table tr:nth-child(odd) {\n",
       "    background-color: #fff;\n",
       "}\n",
       "\n",
       ".estimator-table .parameters-table tr:nth-child(even) {\n",
       "    background-color: #f6f6f6;\n",
       "}\n",
       "\n",
       ".estimator-table .parameters-table tr:hover {\n",
       "    background-color: #e0e0e0;\n",
       "}\n",
       "\n",
       ".estimator-table table td {\n",
       "    border: 1px solid rgba(106, 105, 104, 0.232);\n",
       "}\n",
       "\n",
       ".user-set td {\n",
       "    color:rgb(255, 94, 0);\n",
       "    text-align: left;\n",
       "}\n",
       "\n",
       ".user-set td.value pre {\n",
       "    color:rgb(255, 94, 0) !important;\n",
       "    background-color: transparent !important;\n",
       "}\n",
       "\n",
       ".default td {\n",
       "    color: black;\n",
       "    text-align: left;\n",
       "}\n",
       "\n",
       ".user-set td i,\n",
       ".default td i {\n",
       "    color: black;\n",
       "}\n",
       "\n",
       ".copy-paste-icon {\n",
       "    background-image: url(data:image/svg+xml;base64,PHN2ZyB4bWxucz0iaHR0cDovL3d3dy53My5vcmcvMjAwMC9zdmciIHZpZXdCb3g9IjAgMCA0NDggNTEyIj48IS0tIUZvbnQgQXdlc29tZSBGcmVlIDYuNy4yIGJ5IEBmb250YXdlc29tZSAtIGh0dHBzOi8vZm9udGF3ZXNvbWUuY29tIExpY2Vuc2UgLSBodHRwczovL2ZvbnRhd2Vzb21lLmNvbS9saWNlbnNlL2ZyZWUgQ29weXJpZ2h0IDIwMjUgRm9udGljb25zLCBJbmMuLS0+PHBhdGggZD0iTTIwOCAwTDMzMi4xIDBjMTIuNyAwIDI0LjkgNS4xIDMzLjkgMTQuMWw2Ny45IDY3LjljOSA5IDE0LjEgMjEuMiAxNC4xIDMzLjlMNDQ4IDMzNmMwIDI2LjUtMjEuNSA0OC00OCA0OGwtMTkyIDBjLTI2LjUgMC00OC0yMS41LTQ4LTQ4bDAtMjg4YzAtMjYuNSAyMS41LTQ4IDQ4LTQ4ek00OCAxMjhsODAgMCAwIDY0LTY0IDAgMCAyNTYgMTkyIDAgMC0zMiA2NCAwIDAgNDhjMCAyNi41LTIxLjUgNDgtNDggNDhMNDggNTEyYy0yNi41IDAtNDgtMjEuNS00OC00OEwwIDE3NmMwLTI2LjUgMjEuNS00OCA0OC00OHoiLz48L3N2Zz4=);\n",
       "    background-repeat: no-repeat;\n",
       "    background-size: 14px 14px;\n",
       "    background-position: 0;\n",
       "    display: inline-block;\n",
       "    width: 14px;\n",
       "    height: 14px;\n",
       "    cursor: pointer;\n",
       "}\n",
       "</style><body><div id=\"sk-container-id-1\" class=\"sk-top-container\"><div class=\"sk-text-repr-fallback\"><pre>MultinomialNB()</pre><b>In a Jupyter environment, please rerun this cell to show the HTML representation or trust the notebook. <br />On GitHub, the HTML representation is unable to render, please try loading this page with nbviewer.org.</b></div><div class=\"sk-container\" hidden><div class=\"sk-item\"><div class=\"sk-estimator fitted sk-toggleable\"><input class=\"sk-toggleable__control sk-hidden--visually\" id=\"sk-estimator-id-1\" type=\"checkbox\" checked><label for=\"sk-estimator-id-1\" class=\"sk-toggleable__label fitted sk-toggleable__label-arrow\"><div><div>MultinomialNB</div></div><div><a class=\"sk-estimator-doc-link fitted\" rel=\"noreferrer\" target=\"_blank\" href=\"https://scikit-learn.org/1.7/modules/generated/sklearn.naive_bayes.MultinomialNB.html\">?<span>Documentation for MultinomialNB</span></a><span class=\"sk-estimator-doc-link fitted\">i<span>Fitted</span></span></div></label><div class=\"sk-toggleable__content fitted\" data-param-prefix=\"\">\n",
       "        <div class=\"estimator-table\">\n",
       "            <details>\n",
       "                <summary>Parameters</summary>\n",
       "                <table class=\"parameters-table\">\n",
       "                  <tbody>\n",
       "                    \n",
       "        <tr class=\"default\">\n",
       "            <td><i class=\"copy-paste-icon\"\n",
       "                 onclick=\"copyToClipboard('alpha',\n",
       "                          this.parentElement.nextElementSibling)\"\n",
       "            ></i></td>\n",
       "            <td class=\"param\">alpha&nbsp;</td>\n",
       "            <td class=\"value\">1.0</td>\n",
       "        </tr>\n",
       "    \n",
       "\n",
       "        <tr class=\"default\">\n",
       "            <td><i class=\"copy-paste-icon\"\n",
       "                 onclick=\"copyToClipboard('force_alpha',\n",
       "                          this.parentElement.nextElementSibling)\"\n",
       "            ></i></td>\n",
       "            <td class=\"param\">force_alpha&nbsp;</td>\n",
       "            <td class=\"value\">True</td>\n",
       "        </tr>\n",
       "    \n",
       "\n",
       "        <tr class=\"default\">\n",
       "            <td><i class=\"copy-paste-icon\"\n",
       "                 onclick=\"copyToClipboard('fit_prior',\n",
       "                          this.parentElement.nextElementSibling)\"\n",
       "            ></i></td>\n",
       "            <td class=\"param\">fit_prior&nbsp;</td>\n",
       "            <td class=\"value\">True</td>\n",
       "        </tr>\n",
       "    \n",
       "\n",
       "        <tr class=\"default\">\n",
       "            <td><i class=\"copy-paste-icon\"\n",
       "                 onclick=\"copyToClipboard('class_prior',\n",
       "                          this.parentElement.nextElementSibling)\"\n",
       "            ></i></td>\n",
       "            <td class=\"param\">class_prior&nbsp;</td>\n",
       "            <td class=\"value\">None</td>\n",
       "        </tr>\n",
       "    \n",
       "                  </tbody>\n",
       "                </table>\n",
       "            </details>\n",
       "        </div>\n",
       "    </div></div></div></div></div><script>function copyToClipboard(text, element) {\n",
       "    // Get the parameter prefix from the closest toggleable content\n",
       "    const toggleableContent = element.closest('.sk-toggleable__content');\n",
       "    const paramPrefix = toggleableContent ? toggleableContent.dataset.paramPrefix : '';\n",
       "    const fullParamName = paramPrefix ? `${paramPrefix}${text}` : text;\n",
       "\n",
       "    const originalStyle = element.style;\n",
       "    const computedStyle = window.getComputedStyle(element);\n",
       "    const originalWidth = computedStyle.width;\n",
       "    const originalHTML = element.innerHTML.replace('Copied!', '');\n",
       "\n",
       "    navigator.clipboard.writeText(fullParamName)\n",
       "        .then(() => {\n",
       "            element.style.width = originalWidth;\n",
       "            element.style.color = 'green';\n",
       "            element.innerHTML = \"Copied!\";\n",
       "\n",
       "            setTimeout(() => {\n",
       "                element.innerHTML = originalHTML;\n",
       "                element.style = originalStyle;\n",
       "            }, 2000);\n",
       "        })\n",
       "        .catch(err => {\n",
       "            console.error('Failed to copy:', err);\n",
       "            element.style.color = 'red';\n",
       "            element.innerHTML = \"Failed!\";\n",
       "            setTimeout(() => {\n",
       "                element.innerHTML = originalHTML;\n",
       "                element.style = originalStyle;\n",
       "            }, 2000);\n",
       "        });\n",
       "    return false;\n",
       "}\n",
       "\n",
       "document.querySelectorAll('.fa-regular.fa-copy').forEach(function(element) {\n",
       "    const toggleableContent = element.closest('.sk-toggleable__content');\n",
       "    const paramPrefix = toggleableContent ? toggleableContent.dataset.paramPrefix : '';\n",
       "    const paramName = element.parentElement.nextElementSibling.textContent.trim();\n",
       "    const fullParamName = paramPrefix ? `${paramPrefix}${paramName}` : paramName;\n",
       "\n",
       "    element.setAttribute('title', fullParamName);\n",
       "});\n",
       "</script></body>"
      ],
      "text/plain": [
       "MultinomialNB()"
      ]
     },
     "execution_count": 79,
     "metadata": {},
     "output_type": "execute_result"
    }
   ],
   "source": [
    "from sklearn.feature_extraction.text import TfidfVectorizer\n",
    "from sklearn.naive_bayes import MultinomialNB\n",
    "from sklearn.model_selection import train_test_split\n",
    "\n",
    "# Step 1: Preprocessing already done\n",
    "X = df['cleaned_message']\n",
    "y = df['label_num']\n",
    "\n",
    "# Step 2: Fit vectorizer on all training data\n",
    "tfidf = TfidfVectorizer(max_features=100)\n",
    "X_tfidf = tfidf.fit_transform(X)\n",
    "\n",
    "# Step 3: Train-test split\n",
    "X_train, X_test, y_train, y_test = train_test_split(X_tfidf, y, test_size=0.2, random_state=42)\n",
    "\n",
    "# Step 4: Train the model\n",
    "model = MultinomialNB()\n",
    "model.fit(X_train, y_train)\n"
   ]
  },
  {
   "cell_type": "code",
   "execution_count": null,
   "id": "7221854a",
   "metadata": {},
   "outputs": [
    {
     "name": "stdout",
     "output_type": "stream",
     "text": [
      "  (0, 81)\t1.0\n"
     ]
    },
    {
     "data": {
      "text/plain": [
       "'Spam'"
      ]
     },
     "execution_count": 80,
     "metadata": {},
     "output_type": "execute_result"
    }
   ],
   "source": [
    "def predict_message(msg):\n",
    "    cleaned = clean_text(msg)\n",
    "    vector = tfidf.transform([cleaned])  \n",
    "    print(vector)\n",
    "    pred_ans = model.predict(vector)\n",
    "    return 'Spam' if pred_ans == 1 else 'Ham'\n",
    "\n",
    "predict_message(\"WIN CASE\")\n"
   ]
  },
  {
   "cell_type": "code",
   "execution_count": null,
   "id": "9b0ce9d2",
   "metadata": {},
   "outputs": [
    {
     "data": {
      "text/html": [
       "<div>\n",
       "<style scoped>\n",
       "    .dataframe tbody tr th:only-of-type {\n",
       "        vertical-align: middle;\n",
       "    }\n",
       "\n",
       "    .dataframe tbody tr th {\n",
       "        vertical-align: top;\n",
       "    }\n",
       "\n",
       "    .dataframe thead th {\n",
       "        text-align: right;\n",
       "    }\n",
       "</style>\n",
       "<table border=\"1\" class=\"dataframe\">\n",
       "  <thead>\n",
       "    <tr style=\"text-align: right;\">\n",
       "      <th></th>\n",
       "      <th>review</th>\n",
       "      <th>sentiment</th>\n",
       "    </tr>\n",
       "  </thead>\n",
       "  <tbody>\n",
       "    <tr>\n",
       "      <th>0</th>\n",
       "      <td>One of the other reviewers has mentioned that ...</td>\n",
       "      <td>positive</td>\n",
       "    </tr>\n",
       "    <tr>\n",
       "      <th>1</th>\n",
       "      <td>A wonderful little production. &lt;br /&gt;&lt;br /&gt;The...</td>\n",
       "      <td>positive</td>\n",
       "    </tr>\n",
       "    <tr>\n",
       "      <th>2</th>\n",
       "      <td>I thought this was a wonderful way to spend ti...</td>\n",
       "      <td>positive</td>\n",
       "    </tr>\n",
       "    <tr>\n",
       "      <th>3</th>\n",
       "      <td>Basically there's a family where a little boy ...</td>\n",
       "      <td>negative</td>\n",
       "    </tr>\n",
       "    <tr>\n",
       "      <th>4</th>\n",
       "      <td>Petter Mattei's \"Love in the Time of Money\" is...</td>\n",
       "      <td>positive</td>\n",
       "    </tr>\n",
       "    <tr>\n",
       "      <th>...</th>\n",
       "      <td>...</td>\n",
       "      <td>...</td>\n",
       "    </tr>\n",
       "    <tr>\n",
       "      <th>49995</th>\n",
       "      <td>I thought this movie did a down right good job...</td>\n",
       "      <td>positive</td>\n",
       "    </tr>\n",
       "    <tr>\n",
       "      <th>49996</th>\n",
       "      <td>Bad plot, bad dialogue, bad acting, idiotic di...</td>\n",
       "      <td>negative</td>\n",
       "    </tr>\n",
       "    <tr>\n",
       "      <th>49997</th>\n",
       "      <td>I am a Catholic taught in parochial elementary...</td>\n",
       "      <td>negative</td>\n",
       "    </tr>\n",
       "    <tr>\n",
       "      <th>49998</th>\n",
       "      <td>I'm going to have to disagree with the previou...</td>\n",
       "      <td>negative</td>\n",
       "    </tr>\n",
       "    <tr>\n",
       "      <th>49999</th>\n",
       "      <td>No one expects the Star Trek movies to be high...</td>\n",
       "      <td>negative</td>\n",
       "    </tr>\n",
       "  </tbody>\n",
       "</table>\n",
       "<p>50000 rows × 2 columns</p>\n",
       "</div>"
      ],
      "text/plain": [
       "                                                  review sentiment\n",
       "0      One of the other reviewers has mentioned that ...  positive\n",
       "1      A wonderful little production. <br /><br />The...  positive\n",
       "2      I thought this was a wonderful way to spend ti...  positive\n",
       "3      Basically there's a family where a little boy ...  negative\n",
       "4      Petter Mattei's \"Love in the Time of Money\" is...  positive\n",
       "...                                                  ...       ...\n",
       "49995  I thought this movie did a down right good job...  positive\n",
       "49996  Bad plot, bad dialogue, bad acting, idiotic di...  negative\n",
       "49997  I am a Catholic taught in parochial elementary...  negative\n",
       "49998  I'm going to have to disagree with the previou...  negative\n",
       "49999  No one expects the Star Trek movies to be high...  negative\n",
       "\n",
       "[50000 rows x 2 columns]"
      ]
     },
     "execution_count": 30,
     "metadata": {},
     "output_type": "execute_result"
    }
   ],
   "source": [
    "df = pd.read_csv('IMDB Dataset.csv')\n",
    "df"
   ]
  },
  {
   "cell_type": "code",
   "execution_count": null,
   "id": "65c32716",
   "metadata": {},
   "outputs": [
    {
     "data": {
      "text/plain": [
       "review       0\n",
       "sentiment    0\n",
       "dtype: int64"
      ]
     },
     "execution_count": 84,
     "metadata": {},
     "output_type": "execute_result"
    }
   ],
   "source": [
    "df.isnull().sum()"
   ]
  },
  {
   "cell_type": "code",
   "execution_count": null,
   "id": "6203b503",
   "metadata": {},
   "outputs": [],
   "source": [
    "## Clearn Data\n",
    "from bs4 import BeautifulSoup\n",
    "from textblob import TextBlob\n",
    "\n",
    "def remove_html(text):\n",
    "    return BeautifulSoup(text,\"html.parser\").get_text()\n",
    "\n",
    "def remove_emojis(text):\n",
    "    return text.encode('ascii','ignore').decode('ascii')\n",
    "\n",
    "def correct_spelling(text):\n",
    "    return str(TextBlob(text).correct())"
   ]
  },
  {
   "cell_type": "code",
   "execution_count": null,
   "id": "19e47973",
   "metadata": {},
   "outputs": [
    {
     "name": "stdout",
     "output_type": "stream",
     "text": [
      "Collecting bs4\n",
      "  Downloading bs4-0.0.2-py2.py3-none-any.whl.metadata (411 bytes)\n",
      "Collecting textblob\n",
      "  Downloading textblob-0.19.0-py3-none-any.whl.metadata (4.4 kB)\n",
      "Collecting beautifulsoup4 (from bs4)\n",
      "  Using cached beautifulsoup4-4.13.4-py3-none-any.whl.metadata (3.8 kB)\n",
      "Requirement already satisfied: nltk>=3.9 in c:\\users\\admin\\desktop\\ai-ml_qb\\gen_ai\\.venv\\lib\\site-packages (from textblob) (3.9.1)\n",
      "Requirement already satisfied: click in c:\\users\\admin\\desktop\\ai-ml_qb\\gen_ai\\.venv\\lib\\site-packages (from nltk>=3.9->textblob) (8.2.1)\n",
      "Requirement already satisfied: joblib in c:\\users\\admin\\desktop\\ai-ml_qb\\gen_ai\\.venv\\lib\\site-packages (from nltk>=3.9->textblob) (1.5.1)\n",
      "Requirement already satisfied: regex>=2021.8.3 in c:\\users\\admin\\desktop\\ai-ml_qb\\gen_ai\\.venv\\lib\\site-packages (from nltk>=3.9->textblob) (2024.11.6)\n",
      "Requirement already satisfied: tqdm in c:\\users\\admin\\desktop\\ai-ml_qb\\gen_ai\\.venv\\lib\\site-packages (from nltk>=3.9->textblob) (4.67.1)\n",
      "Collecting soupsieve>1.2 (from beautifulsoup4->bs4)\n",
      "  Using cached soupsieve-2.7-py3-none-any.whl.metadata (4.6 kB)\n",
      "Requirement already satisfied: typing-extensions>=4.0.0 in c:\\users\\admin\\desktop\\ai-ml_qb\\gen_ai\\.venv\\lib\\site-packages (from beautifulsoup4->bs4) (4.14.0)\n",
      "Requirement already satisfied: colorama in c:\\users\\admin\\desktop\\ai-ml_qb\\gen_ai\\.venv\\lib\\site-packages (from click->nltk>=3.9->textblob) (0.4.6)\n",
      "Downloading bs4-0.0.2-py2.py3-none-any.whl (1.2 kB)\n",
      "Downloading textblob-0.19.0-py3-none-any.whl (624 kB)\n",
      "   ---------------------------------------- 0.0/624.3 kB ? eta -:--:--\n",
      "   ---------------------------------------- 624.3/624.3 kB 5.8 MB/s eta 0:00:00\n",
      "Using cached beautifulsoup4-4.13.4-py3-none-any.whl (187 kB)\n",
      "Using cached soupsieve-2.7-py3-none-any.whl (36 kB)\n",
      "Installing collected packages: soupsieve, beautifulsoup4, textblob, bs4\n",
      "\n",
      "   ---------- ----------------------------- 1/4 [beautifulsoup4]\n",
      "   ---------- ----------------------------- 1/4 [beautifulsoup4]\n",
      "   ---------- ----------------------------- 1/4 [beautifulsoup4]\n",
      "   ---------- ----------------------------- 1/4 [beautifulsoup4]\n",
      "   -------------------- ------------------- 2/4 [textblob]\n",
      "   -------------------- ------------------- 2/4 [textblob]\n",
      "   -------------------- ------------------- 2/4 [textblob]\n",
      "   ---------------------------------------- 4/4 [bs4]\n",
      "\n",
      "Successfully installed beautifulsoup4-4.13.4 bs4-0.0.2 soupsieve-2.7 textblob-0.19.0\n",
      "Note: you may need to restart the kernel to use updated packages.\n"
     ]
    }
   ],
   "source": [
    "pip install bs4 textblob"
   ]
  },
  {
   "cell_type": "code",
   "execution_count": null,
   "id": "1640ea1e",
   "metadata": {},
   "outputs": [],
   "source": [
    "stop_words = set(stopwords.words('english'))\n",
    "lemmatizer = WordNetLemmatizer()\n",
    "reviews = []\n",
    "def clearn_text(text):\n",
    "    text = text.lower()\n",
    "    text = re.sub(r'\\d+',\"\",text)\n",
    "    text = [lemmatizer.lemmatize(word) for word in text.split() if word not in stop_words and word not in string.punctuation]\n",
    "    text = ' '.join(text)\n",
    "    return text\n",
    "\n",
    "df['clearn_review'] = df['review'].apply(clearn_text)\n"
   ]
  },
  {
   "cell_type": "code",
   "execution_count": null,
   "id": "d6008177",
   "metadata": {},
   "outputs": [],
   "source": [
    "\n",
    "df['clearn_review'] = df['clearn_review'].apply(remove_html)\n",
    "df['clearn_review'] = df['clearn_review'].apply(remove_emojis)"
   ]
  },
  {
   "cell_type": "code",
   "execution_count": null,
   "id": "eb751056",
   "metadata": {},
   "outputs": [
    {
     "name": "stdout",
     "output_type": "stream",
     "text": [
      "Collecting cleantext\n",
      "  Downloading cleantext-1.1.4-py3-none-any.whl.metadata (3.5 kB)\n",
      "Requirement already satisfied: nltk in c:\\users\\admin\\desktop\\ai-ml_qb\\gen_ai\\.venv\\lib\\site-packages (from cleantext) (3.9.1)\n",
      "Requirement already satisfied: click in c:\\users\\admin\\desktop\\ai-ml_qb\\gen_ai\\.venv\\lib\\site-packages (from nltk->cleantext) (8.2.1)\n",
      "Requirement already satisfied: joblib in c:\\users\\admin\\desktop\\ai-ml_qb\\gen_ai\\.venv\\lib\\site-packages (from nltk->cleantext) (1.5.1)\n",
      "Requirement already satisfied: regex>=2021.8.3 in c:\\users\\admin\\desktop\\ai-ml_qb\\gen_ai\\.venv\\lib\\site-packages (from nltk->cleantext) (2024.11.6)\n",
      "Requirement already satisfied: tqdm in c:\\users\\admin\\desktop\\ai-ml_qb\\gen_ai\\.venv\\lib\\site-packages (from nltk->cleantext) (4.67.1)\n",
      "Requirement already satisfied: colorama in c:\\users\\admin\\desktop\\ai-ml_qb\\gen_ai\\.venv\\lib\\site-packages (from click->nltk->cleantext) (0.4.6)\n",
      "Downloading cleantext-1.1.4-py3-none-any.whl (4.9 kB)\n",
      "Installing collected packages: cleantext\n",
      "Successfully installed cleantext-1.1.4\n",
      "Note: you may need to restart the kernel to use updated packages.\n"
     ]
    }
   ],
   "source": [
    "# pip install cleantext"
   ]
  },
  {
   "cell_type": "code",
   "execution_count": null,
   "id": "cb16017c",
   "metadata": {},
   "outputs": [],
   "source": [
    "# from cleantext import clean\n",
    "\n",
    "# def clean_using_lib(text):\n",
    "#     return clean(text)\n",
    "                \n",
    "# df['clearn_review'] = df['clearn_review'].apply(clean_using_lib)\n"
   ]
  },
  {
   "cell_type": "code",
   "execution_count": null,
   "id": "09dc42d0",
   "metadata": {},
   "outputs": [
    {
     "data": {
      "text/html": [
       "<div>\n",
       "<style scoped>\n",
       "    .dataframe tbody tr th:only-of-type {\n",
       "        vertical-align: middle;\n",
       "    }\n",
       "\n",
       "    .dataframe tbody tr th {\n",
       "        vertical-align: top;\n",
       "    }\n",
       "\n",
       "    .dataframe thead th {\n",
       "        text-align: right;\n",
       "    }\n",
       "</style>\n",
       "<table border=\"1\" class=\"dataframe\">\n",
       "  <thead>\n",
       "    <tr style=\"text-align: right;\">\n",
       "      <th></th>\n",
       "      <th>review</th>\n",
       "      <th>sentiment</th>\n",
       "      <th>clearn_review</th>\n",
       "    </tr>\n",
       "  </thead>\n",
       "  <tbody>\n",
       "    <tr>\n",
       "      <th>0</th>\n",
       "      <td>One of the other reviewers has mentioned that ...</td>\n",
       "      <td>positive</td>\n",
       "      <td>one reviewer mentioned watching oz episode hoo...</td>\n",
       "    </tr>\n",
       "    <tr>\n",
       "      <th>1</th>\n",
       "      <td>A wonderful little production. &lt;br /&gt;&lt;br /&gt;The...</td>\n",
       "      <td>positive</td>\n",
       "      <td>wonderful little production. the filming techn...</td>\n",
       "    </tr>\n",
       "    <tr>\n",
       "      <th>2</th>\n",
       "      <td>I thought this was a wonderful way to spend ti...</td>\n",
       "      <td>positive</td>\n",
       "      <td>thought wonderful way spend time hot summer we...</td>\n",
       "    </tr>\n",
       "    <tr>\n",
       "      <th>3</th>\n",
       "      <td>Basically there's a family where a little boy ...</td>\n",
       "      <td>negative</td>\n",
       "      <td>basically there's family little boy (jake) thi...</td>\n",
       "    </tr>\n",
       "    <tr>\n",
       "      <th>4</th>\n",
       "      <td>Petter Mattei's \"Love in the Time of Money\" is...</td>\n",
       "      <td>positive</td>\n",
       "      <td>petter mattei's \"love time money\" visually stu...</td>\n",
       "    </tr>\n",
       "    <tr>\n",
       "      <th>...</th>\n",
       "      <td>...</td>\n",
       "      <td>...</td>\n",
       "      <td>...</td>\n",
       "    </tr>\n",
       "    <tr>\n",
       "      <th>49995</th>\n",
       "      <td>I thought this movie did a down right good job...</td>\n",
       "      <td>positive</td>\n",
       "      <td>thought movie right good job. creative origina...</td>\n",
       "    </tr>\n",
       "    <tr>\n",
       "      <th>49996</th>\n",
       "      <td>Bad plot, bad dialogue, bad acting, idiotic di...</td>\n",
       "      <td>negative</td>\n",
       "      <td>bad plot, bad dialogue, bad acting, idiotic di...</td>\n",
       "    </tr>\n",
       "    <tr>\n",
       "      <th>49997</th>\n",
       "      <td>I am a Catholic taught in parochial elementary...</td>\n",
       "      <td>negative</td>\n",
       "      <td>catholic taught parochial elementary school nu...</td>\n",
       "    </tr>\n",
       "    <tr>\n",
       "      <th>49998</th>\n",
       "      <td>I'm going to have to disagree with the previou...</td>\n",
       "      <td>negative</td>\n",
       "      <td>going disagree previous comment side maltin on...</td>\n",
       "    </tr>\n",
       "    <tr>\n",
       "      <th>49999</th>\n",
       "      <td>No one expects the Star Trek movies to be high...</td>\n",
       "      <td>negative</td>\n",
       "      <td>one expects star trek movie high art, fan expe...</td>\n",
       "    </tr>\n",
       "  </tbody>\n",
       "</table>\n",
       "<p>50000 rows × 3 columns</p>\n",
       "</div>"
      ],
      "text/plain": [
       "                                                  review sentiment  \\\n",
       "0      One of the other reviewers has mentioned that ...  positive   \n",
       "1      A wonderful little production. <br /><br />The...  positive   \n",
       "2      I thought this was a wonderful way to spend ti...  positive   \n",
       "3      Basically there's a family where a little boy ...  negative   \n",
       "4      Petter Mattei's \"Love in the Time of Money\" is...  positive   \n",
       "...                                                  ...       ...   \n",
       "49995  I thought this movie did a down right good job...  positive   \n",
       "49996  Bad plot, bad dialogue, bad acting, idiotic di...  negative   \n",
       "49997  I am a Catholic taught in parochial elementary...  negative   \n",
       "49998  I'm going to have to disagree with the previou...  negative   \n",
       "49999  No one expects the Star Trek movies to be high...  negative   \n",
       "\n",
       "                                           clearn_review  \n",
       "0      one reviewer mentioned watching oz episode hoo...  \n",
       "1      wonderful little production. the filming techn...  \n",
       "2      thought wonderful way spend time hot summer we...  \n",
       "3      basically there's family little boy (jake) thi...  \n",
       "4      petter mattei's \"love time money\" visually stu...  \n",
       "...                                                  ...  \n",
       "49995  thought movie right good job. creative origina...  \n",
       "49996  bad plot, bad dialogue, bad acting, idiotic di...  \n",
       "49997  catholic taught parochial elementary school nu...  \n",
       "49998  going disagree previous comment side maltin on...  \n",
       "49999  one expects star trek movie high art, fan expe...  \n",
       "\n",
       "[50000 rows x 3 columns]"
      ]
     },
     "execution_count": 36,
     "metadata": {},
     "output_type": "execute_result"
    }
   ],
   "source": [
    "df"
   ]
  },
  {
   "cell_type": "code",
   "execution_count": null,
   "id": "b7d230b4",
   "metadata": {},
   "outputs": [],
   "source": [
    "tfidf = TfidfVectorizer(max_features = 1702,ngram_range=(2,3))\n",
    "X = tfidf.fit_transform(df['clearn_review']).toarray()"
   ]
  },
  {
   "cell_type": "code",
   "execution_count": null,
   "id": "07564ea5",
   "metadata": {},
   "outputs": [
    {
     "name": "stdout",
     "output_type": "stream",
     "text": [
      "(50000, 1702)\n"
     ]
    }
   ],
   "source": [
    "print(X.shape)"
   ]
  },
  {
   "cell_type": "code",
   "execution_count": null,
   "id": "2866dd4c",
   "metadata": {},
   "outputs": [],
   "source": [
    "from sklearn.preprocessing import LabelEncoder\n",
    "label_encoder = LabelEncoder()\n",
    "df['sentiment_num'] = label_encoder.fit_transform(df['sentiment'])"
   ]
  },
  {
   "cell_type": "code",
   "execution_count": null,
   "id": "221a6e22",
   "metadata": {},
   "outputs": [
    {
     "data": {
      "text/html": [
       "<div>\n",
       "<style scoped>\n",
       "    .dataframe tbody tr th:only-of-type {\n",
       "        vertical-align: middle;\n",
       "    }\n",
       "\n",
       "    .dataframe tbody tr th {\n",
       "        vertical-align: top;\n",
       "    }\n",
       "\n",
       "    .dataframe thead th {\n",
       "        text-align: right;\n",
       "    }\n",
       "</style>\n",
       "<table border=\"1\" class=\"dataframe\">\n",
       "  <thead>\n",
       "    <tr style=\"text-align: right;\">\n",
       "      <th></th>\n",
       "      <th>review</th>\n",
       "      <th>sentiment</th>\n",
       "      <th>clearn_review</th>\n",
       "      <th>sentiment_num</th>\n",
       "    </tr>\n",
       "  </thead>\n",
       "  <tbody>\n",
       "    <tr>\n",
       "      <th>0</th>\n",
       "      <td>One of the other reviewers has mentioned that ...</td>\n",
       "      <td>positive</td>\n",
       "      <td>one reviewer mentioned watching oz episode hoo...</td>\n",
       "      <td>1</td>\n",
       "    </tr>\n",
       "    <tr>\n",
       "      <th>1</th>\n",
       "      <td>A wonderful little production. &lt;br /&gt;&lt;br /&gt;The...</td>\n",
       "      <td>positive</td>\n",
       "      <td>wonderful little production. the filming techn...</td>\n",
       "      <td>1</td>\n",
       "    </tr>\n",
       "    <tr>\n",
       "      <th>2</th>\n",
       "      <td>I thought this was a wonderful way to spend ti...</td>\n",
       "      <td>positive</td>\n",
       "      <td>thought wonderful way spend time hot summer we...</td>\n",
       "      <td>1</td>\n",
       "    </tr>\n",
       "    <tr>\n",
       "      <th>3</th>\n",
       "      <td>Basically there's a family where a little boy ...</td>\n",
       "      <td>negative</td>\n",
       "      <td>basically there's family little boy (jake) thi...</td>\n",
       "      <td>0</td>\n",
       "    </tr>\n",
       "    <tr>\n",
       "      <th>4</th>\n",
       "      <td>Petter Mattei's \"Love in the Time of Money\" is...</td>\n",
       "      <td>positive</td>\n",
       "      <td>petter mattei's \"love time money\" visually stu...</td>\n",
       "      <td>1</td>\n",
       "    </tr>\n",
       "    <tr>\n",
       "      <th>...</th>\n",
       "      <td>...</td>\n",
       "      <td>...</td>\n",
       "      <td>...</td>\n",
       "      <td>...</td>\n",
       "    </tr>\n",
       "    <tr>\n",
       "      <th>49995</th>\n",
       "      <td>I thought this movie did a down right good job...</td>\n",
       "      <td>positive</td>\n",
       "      <td>thought movie right good job. creative origina...</td>\n",
       "      <td>1</td>\n",
       "    </tr>\n",
       "    <tr>\n",
       "      <th>49996</th>\n",
       "      <td>Bad plot, bad dialogue, bad acting, idiotic di...</td>\n",
       "      <td>negative</td>\n",
       "      <td>bad plot, bad dialogue, bad acting, idiotic di...</td>\n",
       "      <td>0</td>\n",
       "    </tr>\n",
       "    <tr>\n",
       "      <th>49997</th>\n",
       "      <td>I am a Catholic taught in parochial elementary...</td>\n",
       "      <td>negative</td>\n",
       "      <td>catholic taught parochial elementary school nu...</td>\n",
       "      <td>0</td>\n",
       "    </tr>\n",
       "    <tr>\n",
       "      <th>49998</th>\n",
       "      <td>I'm going to have to disagree with the previou...</td>\n",
       "      <td>negative</td>\n",
       "      <td>going disagree previous comment side maltin on...</td>\n",
       "      <td>0</td>\n",
       "    </tr>\n",
       "    <tr>\n",
       "      <th>49999</th>\n",
       "      <td>No one expects the Star Trek movies to be high...</td>\n",
       "      <td>negative</td>\n",
       "      <td>one expects star trek movie high art, fan expe...</td>\n",
       "      <td>0</td>\n",
       "    </tr>\n",
       "  </tbody>\n",
       "</table>\n",
       "<p>50000 rows × 4 columns</p>\n",
       "</div>"
      ],
      "text/plain": [
       "                                                  review sentiment  \\\n",
       "0      One of the other reviewers has mentioned that ...  positive   \n",
       "1      A wonderful little production. <br /><br />The...  positive   \n",
       "2      I thought this was a wonderful way to spend ti...  positive   \n",
       "3      Basically there's a family where a little boy ...  negative   \n",
       "4      Petter Mattei's \"Love in the Time of Money\" is...  positive   \n",
       "...                                                  ...       ...   \n",
       "49995  I thought this movie did a down right good job...  positive   \n",
       "49996  Bad plot, bad dialogue, bad acting, idiotic di...  negative   \n",
       "49997  I am a Catholic taught in parochial elementary...  negative   \n",
       "49998  I'm going to have to disagree with the previou...  negative   \n",
       "49999  No one expects the Star Trek movies to be high...  negative   \n",
       "\n",
       "                                           clearn_review  sentiment_num  \n",
       "0      one reviewer mentioned watching oz episode hoo...              1  \n",
       "1      wonderful little production. the filming techn...              1  \n",
       "2      thought wonderful way spend time hot summer we...              1  \n",
       "3      basically there's family little boy (jake) thi...              0  \n",
       "4      petter mattei's \"love time money\" visually stu...              1  \n",
       "...                                                  ...            ...  \n",
       "49995  thought movie right good job. creative origina...              1  \n",
       "49996  bad plot, bad dialogue, bad acting, idiotic di...              0  \n",
       "49997  catholic taught parochial elementary school nu...              0  \n",
       "49998  going disagree previous comment side maltin on...              0  \n",
       "49999  one expects star trek movie high art, fan expe...              0  \n",
       "\n",
       "[50000 rows x 4 columns]"
      ]
     },
     "execution_count": 64,
     "metadata": {},
     "output_type": "execute_result"
    }
   ],
   "source": [
    "df"
   ]
  },
  {
   "cell_type": "code",
   "execution_count": null,
   "id": "df60ce3d",
   "metadata": {},
   "outputs": [
    {
     "data": {
      "text/html": [
       "<div>\n",
       "<style scoped>\n",
       "    .dataframe tbody tr th:only-of-type {\n",
       "        vertical-align: middle;\n",
       "    }\n",
       "\n",
       "    .dataframe tbody tr th {\n",
       "        vertical-align: top;\n",
       "    }\n",
       "\n",
       "    .dataframe thead th {\n",
       "        text-align: right;\n",
       "    }\n",
       "</style>\n",
       "<table border=\"1\" class=\"dataframe\">\n",
       "  <thead>\n",
       "    <tr style=\"text-align: right;\">\n",
       "      <th></th>\n",
       "      <th>review</th>\n",
       "      <th>sentiment</th>\n",
       "      <th>clearn_review</th>\n",
       "      <th>sentiment_num</th>\n",
       "    </tr>\n",
       "  </thead>\n",
       "  <tbody>\n",
       "    <tr>\n",
       "      <th>30940</th>\n",
       "      <td>So we compromised. This was a fairly charming ...</td>\n",
       "      <td>positive</td>\n",
       "      <td>compromised. fairly charming film, liked art d...</td>\n",
       "      <td>1</td>\n",
       "    </tr>\n",
       "    <tr>\n",
       "      <th>37618</th>\n",
       "      <td>Holy @#%&amp; this movie was still warm and juicy ...</td>\n",
       "      <td>negative</td>\n",
       "      <td>holy @#%&amp; movie still warm juicy pile made wit...</td>\n",
       "      <td>0</td>\n",
       "    </tr>\n",
       "    <tr>\n",
       "      <th>34051</th>\n",
       "      <td>This is the first time I ever saw a movie with...</td>\n",
       "      <td>negative</td>\n",
       "      <td>first time ever saw movie jamie foxx, bet last...</td>\n",
       "      <td>0</td>\n",
       "    </tr>\n",
       "    <tr>\n",
       "      <th>14592</th>\n",
       "      <td>First i will say that i am going to be as subj...</td>\n",
       "      <td>negative</td>\n",
       "      <td>first say going subjective can.there potential...</td>\n",
       "      <td>0</td>\n",
       "    </tr>\n",
       "    <tr>\n",
       "      <th>47108</th>\n",
       "      <td>I, like so many others on here, bought this mo...</td>\n",
       "      <td>negative</td>\n",
       "      <td>i, like many others here, bought movie local w...</td>\n",
       "      <td>0</td>\n",
       "    </tr>\n",
       "    <tr>\n",
       "      <th>17367</th>\n",
       "      <td>Though the story is essentially routine, and t...</td>\n",
       "      <td>positive</td>\n",
       "      <td>though story essentially routine, \"surprise\" e...</td>\n",
       "      <td>1</td>\n",
       "    </tr>\n",
       "    <tr>\n",
       "      <th>21574</th>\n",
       "      <td>The Honey, I Shrunk the Kids franchise was a h...</td>\n",
       "      <td>negative</td>\n",
       "      <td>honey, shrunk kid franchise huge deal mention ...</td>\n",
       "      <td>0</td>\n",
       "    </tr>\n",
       "    <tr>\n",
       "      <th>32058</th>\n",
       "      <td>Although the acting was excellent, I spent the...</td>\n",
       "      <td>negative</td>\n",
       "      <td>although acting excellent, spent whole movie w...</td>\n",
       "      <td>0</td>\n",
       "    </tr>\n",
       "    <tr>\n",
       "      <th>44790</th>\n",
       "      <td>Murders are occurring in a Texas desert town. ...</td>\n",
       "      <td>negative</td>\n",
       "      <td>murder occurring texas desert town. responsibl...</td>\n",
       "      <td>0</td>\n",
       "    </tr>\n",
       "    <tr>\n",
       "      <th>4950</th>\n",
       "      <td>Joe D'Amato might have made some other notable...</td>\n",
       "      <td>negative</td>\n",
       "      <td>joe d'amato might made notable movie long prol...</td>\n",
       "      <td>0</td>\n",
       "    </tr>\n",
       "  </tbody>\n",
       "</table>\n",
       "</div>"
      ],
      "text/plain": [
       "                                                  review sentiment  \\\n",
       "30940  So we compromised. This was a fairly charming ...  positive   \n",
       "37618  Holy @#%& this movie was still warm and juicy ...  negative   \n",
       "34051  This is the first time I ever saw a movie with...  negative   \n",
       "14592  First i will say that i am going to be as subj...  negative   \n",
       "47108  I, like so many others on here, bought this mo...  negative   \n",
       "17367  Though the story is essentially routine, and t...  positive   \n",
       "21574  The Honey, I Shrunk the Kids franchise was a h...  negative   \n",
       "32058  Although the acting was excellent, I spent the...  negative   \n",
       "44790  Murders are occurring in a Texas desert town. ...  negative   \n",
       "4950   Joe D'Amato might have made some other notable...  negative   \n",
       "\n",
       "                                           clearn_review  sentiment_num  \n",
       "30940  compromised. fairly charming film, liked art d...              1  \n",
       "37618  holy @#%& movie still warm juicy pile made wit...              0  \n",
       "34051  first time ever saw movie jamie foxx, bet last...              0  \n",
       "14592  first say going subjective can.there potential...              0  \n",
       "47108  i, like many others here, bought movie local w...              0  \n",
       "17367  though story essentially routine, \"surprise\" e...              1  \n",
       "21574  honey, shrunk kid franchise huge deal mention ...              0  \n",
       "32058  although acting excellent, spent whole movie w...              0  \n",
       "44790  murder occurring texas desert town. responsibl...              0  \n",
       "4950   joe d'amato might made notable movie long prol...              0  "
      ]
     },
     "execution_count": 65,
     "metadata": {},
     "output_type": "execute_result"
    }
   ],
   "source": [
    "df.sample(10)"
   ]
  },
  {
   "cell_type": "code",
   "execution_count": null,
   "id": "7d3c093d",
   "metadata": {},
   "outputs": [],
   "source": [
    "from sklearn.model_selection import train_test_split\n",
    "from sklearn.svm import SVC\n",
    "from sklearn.linear_model import SGDClassifier\n",
    "from sklearn.svm import LinearSVC\n",
    "from sklearn.naive_bayes import MultinomialNB\n",
    "from sklearn.metrics import accuracy_score, classification_report, confusion_matrix\n",
    "x_train,x_test,y_train,y_test = train_test_split(X,df['sentiment_num'],test_size=0.1,random_state=50)"
   ]
  },
  {
   "cell_type": "code",
   "execution_count": null,
   "id": "68640e92",
   "metadata": {},
   "outputs": [
    {
     "data": {
      "text/plain": [
       "array([[0., 0., 0., ..., 0., 0., 0.],\n",
       "       [0., 0., 0., ..., 0., 0., 0.],\n",
       "       [0., 0., 0., ..., 0., 0., 0.],\n",
       "       ...,\n",
       "       [0., 0., 0., ..., 0., 0., 0.],\n",
       "       [0., 0., 0., ..., 0., 0., 0.],\n",
       "       [0., 0., 0., ..., 0., 0., 0.]])"
      ]
     },
     "execution_count": 67,
     "metadata": {},
     "output_type": "execute_result"
    }
   ],
   "source": [
    "x_train"
   ]
  },
  {
   "cell_type": "code",
   "execution_count": null,
   "id": "a83805f5",
   "metadata": {},
   "outputs": [],
   "source": [
    "model = MultinomialNB()"
   ]
  },
  {
   "cell_type": "code",
   "execution_count": null,
   "id": "95a4721d",
   "metadata": {},
   "outputs": [
    {
     "data": {
      "text/html": [
       "<style>#sk-container-id-3 {\n",
       "  /* Definition of color scheme common for light and dark mode */\n",
       "  --sklearn-color-text: #000;\n",
       "  --sklearn-color-text-muted: #666;\n",
       "  --sklearn-color-line: gray;\n",
       "  /* Definition of color scheme for unfitted estimators */\n",
       "  --sklearn-color-unfitted-level-0: #fff5e6;\n",
       "  --sklearn-color-unfitted-level-1: #f6e4d2;\n",
       "  --sklearn-color-unfitted-level-2: #ffe0b3;\n",
       "  --sklearn-color-unfitted-level-3: chocolate;\n",
       "  /* Definition of color scheme for fitted estimators */\n",
       "  --sklearn-color-fitted-level-0: #f0f8ff;\n",
       "  --sklearn-color-fitted-level-1: #d4ebff;\n",
       "  --sklearn-color-fitted-level-2: #b3dbfd;\n",
       "  --sklearn-color-fitted-level-3: cornflowerblue;\n",
       "\n",
       "  /* Specific color for light theme */\n",
       "  --sklearn-color-text-on-default-background: var(--sg-text-color, var(--theme-code-foreground, var(--jp-content-font-color1, black)));\n",
       "  --sklearn-color-background: var(--sg-background-color, var(--theme-background, var(--jp-layout-color0, white)));\n",
       "  --sklearn-color-border-box: var(--sg-text-color, var(--theme-code-foreground, var(--jp-content-font-color1, black)));\n",
       "  --sklearn-color-icon: #696969;\n",
       "\n",
       "  @media (prefers-color-scheme: dark) {\n",
       "    /* Redefinition of color scheme for dark theme */\n",
       "    --sklearn-color-text-on-default-background: var(--sg-text-color, var(--theme-code-foreground, var(--jp-content-font-color1, white)));\n",
       "    --sklearn-color-background: var(--sg-background-color, var(--theme-background, var(--jp-layout-color0, #111)));\n",
       "    --sklearn-color-border-box: var(--sg-text-color, var(--theme-code-foreground, var(--jp-content-font-color1, white)));\n",
       "    --sklearn-color-icon: #878787;\n",
       "  }\n",
       "}\n",
       "\n",
       "#sk-container-id-3 {\n",
       "  color: var(--sklearn-color-text);\n",
       "}\n",
       "\n",
       "#sk-container-id-3 pre {\n",
       "  padding: 0;\n",
       "}\n",
       "\n",
       "#sk-container-id-3 input.sk-hidden--visually {\n",
       "  border: 0;\n",
       "  clip: rect(1px 1px 1px 1px);\n",
       "  clip: rect(1px, 1px, 1px, 1px);\n",
       "  height: 1px;\n",
       "  margin: -1px;\n",
       "  overflow: hidden;\n",
       "  padding: 0;\n",
       "  position: absolute;\n",
       "  width: 1px;\n",
       "}\n",
       "\n",
       "#sk-container-id-3 div.sk-dashed-wrapped {\n",
       "  border: 1px dashed var(--sklearn-color-line);\n",
       "  margin: 0 0.4em 0.5em 0.4em;\n",
       "  box-sizing: border-box;\n",
       "  padding-bottom: 0.4em;\n",
       "  background-color: var(--sklearn-color-background);\n",
       "}\n",
       "\n",
       "#sk-container-id-3 div.sk-container {\n",
       "  /* jupyter's `normalize.less` sets `[hidden] { display: none; }`\n",
       "     but bootstrap.min.css set `[hidden] { display: none !important; }`\n",
       "     so we also need the `!important` here to be able to override the\n",
       "     default hidden behavior on the sphinx rendered scikit-learn.org.\n",
       "     See: https://github.com/scikit-learn/scikit-learn/issues/21755 */\n",
       "  display: inline-block !important;\n",
       "  position: relative;\n",
       "}\n",
       "\n",
       "#sk-container-id-3 div.sk-text-repr-fallback {\n",
       "  display: none;\n",
       "}\n",
       "\n",
       "div.sk-parallel-item,\n",
       "div.sk-serial,\n",
       "div.sk-item {\n",
       "  /* draw centered vertical line to link estimators */\n",
       "  background-image: linear-gradient(var(--sklearn-color-text-on-default-background), var(--sklearn-color-text-on-default-background));\n",
       "  background-size: 2px 100%;\n",
       "  background-repeat: no-repeat;\n",
       "  background-position: center center;\n",
       "}\n",
       "\n",
       "/* Parallel-specific style estimator block */\n",
       "\n",
       "#sk-container-id-3 div.sk-parallel-item::after {\n",
       "  content: \"\";\n",
       "  width: 100%;\n",
       "  border-bottom: 2px solid var(--sklearn-color-text-on-default-background);\n",
       "  flex-grow: 1;\n",
       "}\n",
       "\n",
       "#sk-container-id-3 div.sk-parallel {\n",
       "  display: flex;\n",
       "  align-items: stretch;\n",
       "  justify-content: center;\n",
       "  background-color: var(--sklearn-color-background);\n",
       "  position: relative;\n",
       "}\n",
       "\n",
       "#sk-container-id-3 div.sk-parallel-item {\n",
       "  display: flex;\n",
       "  flex-direction: column;\n",
       "}\n",
       "\n",
       "#sk-container-id-3 div.sk-parallel-item:first-child::after {\n",
       "  align-self: flex-end;\n",
       "  width: 50%;\n",
       "}\n",
       "\n",
       "#sk-container-id-3 div.sk-parallel-item:last-child::after {\n",
       "  align-self: flex-start;\n",
       "  width: 50%;\n",
       "}\n",
       "\n",
       "#sk-container-id-3 div.sk-parallel-item:only-child::after {\n",
       "  width: 0;\n",
       "}\n",
       "\n",
       "/* Serial-specific style estimator block */\n",
       "\n",
       "#sk-container-id-3 div.sk-serial {\n",
       "  display: flex;\n",
       "  flex-direction: column;\n",
       "  align-items: center;\n",
       "  background-color: var(--sklearn-color-background);\n",
       "  padding-right: 1em;\n",
       "  padding-left: 1em;\n",
       "}\n",
       "\n",
       "\n",
       "/* Toggleable style: style used for estimator/Pipeline/ColumnTransformer box that is\n",
       "clickable and can be expanded/collapsed.\n",
       "- Pipeline and ColumnTransformer use this feature and define the default style\n",
       "- Estimators will overwrite some part of the style using the `sk-estimator` class\n",
       "*/\n",
       "\n",
       "/* Pipeline and ColumnTransformer style (default) */\n",
       "\n",
       "#sk-container-id-3 div.sk-toggleable {\n",
       "  /* Default theme specific background. It is overwritten whether we have a\n",
       "  specific estimator or a Pipeline/ColumnTransformer */\n",
       "  background-color: var(--sklearn-color-background);\n",
       "}\n",
       "\n",
       "/* Toggleable label */\n",
       "#sk-container-id-3 label.sk-toggleable__label {\n",
       "  cursor: pointer;\n",
       "  display: flex;\n",
       "  width: 100%;\n",
       "  margin-bottom: 0;\n",
       "  padding: 0.5em;\n",
       "  box-sizing: border-box;\n",
       "  text-align: center;\n",
       "  align-items: start;\n",
       "  justify-content: space-between;\n",
       "  gap: 0.5em;\n",
       "}\n",
       "\n",
       "#sk-container-id-3 label.sk-toggleable__label .caption {\n",
       "  font-size: 0.6rem;\n",
       "  font-weight: lighter;\n",
       "  color: var(--sklearn-color-text-muted);\n",
       "}\n",
       "\n",
       "#sk-container-id-3 label.sk-toggleable__label-arrow:before {\n",
       "  /* Arrow on the left of the label */\n",
       "  content: \"▸\";\n",
       "  float: left;\n",
       "  margin-right: 0.25em;\n",
       "  color: var(--sklearn-color-icon);\n",
       "}\n",
       "\n",
       "#sk-container-id-3 label.sk-toggleable__label-arrow:hover:before {\n",
       "  color: var(--sklearn-color-text);\n",
       "}\n",
       "\n",
       "/* Toggleable content - dropdown */\n",
       "\n",
       "#sk-container-id-3 div.sk-toggleable__content {\n",
       "  display: none;\n",
       "  text-align: left;\n",
       "  /* unfitted */\n",
       "  background-color: var(--sklearn-color-unfitted-level-0);\n",
       "}\n",
       "\n",
       "#sk-container-id-3 div.sk-toggleable__content.fitted {\n",
       "  /* fitted */\n",
       "  background-color: var(--sklearn-color-fitted-level-0);\n",
       "}\n",
       "\n",
       "#sk-container-id-3 div.sk-toggleable__content pre {\n",
       "  margin: 0.2em;\n",
       "  border-radius: 0.25em;\n",
       "  color: var(--sklearn-color-text);\n",
       "  /* unfitted */\n",
       "  background-color: var(--sklearn-color-unfitted-level-0);\n",
       "}\n",
       "\n",
       "#sk-container-id-3 div.sk-toggleable__content.fitted pre {\n",
       "  /* unfitted */\n",
       "  background-color: var(--sklearn-color-fitted-level-0);\n",
       "}\n",
       "\n",
       "#sk-container-id-3 input.sk-toggleable__control:checked~div.sk-toggleable__content {\n",
       "  /* Expand drop-down */\n",
       "  display: block;\n",
       "  width: 100%;\n",
       "  overflow: visible;\n",
       "}\n",
       "\n",
       "#sk-container-id-3 input.sk-toggleable__control:checked~label.sk-toggleable__label-arrow:before {\n",
       "  content: \"▾\";\n",
       "}\n",
       "\n",
       "/* Pipeline/ColumnTransformer-specific style */\n",
       "\n",
       "#sk-container-id-3 div.sk-label input.sk-toggleable__control:checked~label.sk-toggleable__label {\n",
       "  color: var(--sklearn-color-text);\n",
       "  background-color: var(--sklearn-color-unfitted-level-2);\n",
       "}\n",
       "\n",
       "#sk-container-id-3 div.sk-label.fitted input.sk-toggleable__control:checked~label.sk-toggleable__label {\n",
       "  background-color: var(--sklearn-color-fitted-level-2);\n",
       "}\n",
       "\n",
       "/* Estimator-specific style */\n",
       "\n",
       "/* Colorize estimator box */\n",
       "#sk-container-id-3 div.sk-estimator input.sk-toggleable__control:checked~label.sk-toggleable__label {\n",
       "  /* unfitted */\n",
       "  background-color: var(--sklearn-color-unfitted-level-2);\n",
       "}\n",
       "\n",
       "#sk-container-id-3 div.sk-estimator.fitted input.sk-toggleable__control:checked~label.sk-toggleable__label {\n",
       "  /* fitted */\n",
       "  background-color: var(--sklearn-color-fitted-level-2);\n",
       "}\n",
       "\n",
       "#sk-container-id-3 div.sk-label label.sk-toggleable__label,\n",
       "#sk-container-id-3 div.sk-label label {\n",
       "  /* The background is the default theme color */\n",
       "  color: var(--sklearn-color-text-on-default-background);\n",
       "}\n",
       "\n",
       "/* On hover, darken the color of the background */\n",
       "#sk-container-id-3 div.sk-label:hover label.sk-toggleable__label {\n",
       "  color: var(--sklearn-color-text);\n",
       "  background-color: var(--sklearn-color-unfitted-level-2);\n",
       "}\n",
       "\n",
       "/* Label box, darken color on hover, fitted */\n",
       "#sk-container-id-3 div.sk-label.fitted:hover label.sk-toggleable__label.fitted {\n",
       "  color: var(--sklearn-color-text);\n",
       "  background-color: var(--sklearn-color-fitted-level-2);\n",
       "}\n",
       "\n",
       "/* Estimator label */\n",
       "\n",
       "#sk-container-id-3 div.sk-label label {\n",
       "  font-family: monospace;\n",
       "  font-weight: bold;\n",
       "  display: inline-block;\n",
       "  line-height: 1.2em;\n",
       "}\n",
       "\n",
       "#sk-container-id-3 div.sk-label-container {\n",
       "  text-align: center;\n",
       "}\n",
       "\n",
       "/* Estimator-specific */\n",
       "#sk-container-id-3 div.sk-estimator {\n",
       "  font-family: monospace;\n",
       "  border: 1px dotted var(--sklearn-color-border-box);\n",
       "  border-radius: 0.25em;\n",
       "  box-sizing: border-box;\n",
       "  margin-bottom: 0.5em;\n",
       "  /* unfitted */\n",
       "  background-color: var(--sklearn-color-unfitted-level-0);\n",
       "}\n",
       "\n",
       "#sk-container-id-3 div.sk-estimator.fitted {\n",
       "  /* fitted */\n",
       "  background-color: var(--sklearn-color-fitted-level-0);\n",
       "}\n",
       "\n",
       "/* on hover */\n",
       "#sk-container-id-3 div.sk-estimator:hover {\n",
       "  /* unfitted */\n",
       "  background-color: var(--sklearn-color-unfitted-level-2);\n",
       "}\n",
       "\n",
       "#sk-container-id-3 div.sk-estimator.fitted:hover {\n",
       "  /* fitted */\n",
       "  background-color: var(--sklearn-color-fitted-level-2);\n",
       "}\n",
       "\n",
       "/* Specification for estimator info (e.g. \"i\" and \"?\") */\n",
       "\n",
       "/* Common style for \"i\" and \"?\" */\n",
       "\n",
       ".sk-estimator-doc-link,\n",
       "a:link.sk-estimator-doc-link,\n",
       "a:visited.sk-estimator-doc-link {\n",
       "  float: right;\n",
       "  font-size: smaller;\n",
       "  line-height: 1em;\n",
       "  font-family: monospace;\n",
       "  background-color: var(--sklearn-color-background);\n",
       "  border-radius: 1em;\n",
       "  height: 1em;\n",
       "  width: 1em;\n",
       "  text-decoration: none !important;\n",
       "  margin-left: 0.5em;\n",
       "  text-align: center;\n",
       "  /* unfitted */\n",
       "  border: var(--sklearn-color-unfitted-level-1) 1pt solid;\n",
       "  color: var(--sklearn-color-unfitted-level-1);\n",
       "}\n",
       "\n",
       ".sk-estimator-doc-link.fitted,\n",
       "a:link.sk-estimator-doc-link.fitted,\n",
       "a:visited.sk-estimator-doc-link.fitted {\n",
       "  /* fitted */\n",
       "  border: var(--sklearn-color-fitted-level-1) 1pt solid;\n",
       "  color: var(--sklearn-color-fitted-level-1);\n",
       "}\n",
       "\n",
       "/* On hover */\n",
       "div.sk-estimator:hover .sk-estimator-doc-link:hover,\n",
       ".sk-estimator-doc-link:hover,\n",
       "div.sk-label-container:hover .sk-estimator-doc-link:hover,\n",
       ".sk-estimator-doc-link:hover {\n",
       "  /* unfitted */\n",
       "  background-color: var(--sklearn-color-unfitted-level-3);\n",
       "  color: var(--sklearn-color-background);\n",
       "  text-decoration: none;\n",
       "}\n",
       "\n",
       "div.sk-estimator.fitted:hover .sk-estimator-doc-link.fitted:hover,\n",
       ".sk-estimator-doc-link.fitted:hover,\n",
       "div.sk-label-container:hover .sk-estimator-doc-link.fitted:hover,\n",
       ".sk-estimator-doc-link.fitted:hover {\n",
       "  /* fitted */\n",
       "  background-color: var(--sklearn-color-fitted-level-3);\n",
       "  color: var(--sklearn-color-background);\n",
       "  text-decoration: none;\n",
       "}\n",
       "\n",
       "/* Span, style for the box shown on hovering the info icon */\n",
       ".sk-estimator-doc-link span {\n",
       "  display: none;\n",
       "  z-index: 9999;\n",
       "  position: relative;\n",
       "  font-weight: normal;\n",
       "  right: .2ex;\n",
       "  padding: .5ex;\n",
       "  margin: .5ex;\n",
       "  width: min-content;\n",
       "  min-width: 20ex;\n",
       "  max-width: 50ex;\n",
       "  color: var(--sklearn-color-text);\n",
       "  box-shadow: 2pt 2pt 4pt #999;\n",
       "  /* unfitted */\n",
       "  background: var(--sklearn-color-unfitted-level-0);\n",
       "  border: .5pt solid var(--sklearn-color-unfitted-level-3);\n",
       "}\n",
       "\n",
       ".sk-estimator-doc-link.fitted span {\n",
       "  /* fitted */\n",
       "  background: var(--sklearn-color-fitted-level-0);\n",
       "  border: var(--sklearn-color-fitted-level-3);\n",
       "}\n",
       "\n",
       ".sk-estimator-doc-link:hover span {\n",
       "  display: block;\n",
       "}\n",
       "\n",
       "/* \"?\"-specific style due to the `<a>` HTML tag */\n",
       "\n",
       "#sk-container-id-3 a.estimator_doc_link {\n",
       "  float: right;\n",
       "  font-size: 1rem;\n",
       "  line-height: 1em;\n",
       "  font-family: monospace;\n",
       "  background-color: var(--sklearn-color-background);\n",
       "  border-radius: 1rem;\n",
       "  height: 1rem;\n",
       "  width: 1rem;\n",
       "  text-decoration: none;\n",
       "  /* unfitted */\n",
       "  color: var(--sklearn-color-unfitted-level-1);\n",
       "  border: var(--sklearn-color-unfitted-level-1) 1pt solid;\n",
       "}\n",
       "\n",
       "#sk-container-id-3 a.estimator_doc_link.fitted {\n",
       "  /* fitted */\n",
       "  border: var(--sklearn-color-fitted-level-1) 1pt solid;\n",
       "  color: var(--sklearn-color-fitted-level-1);\n",
       "}\n",
       "\n",
       "/* On hover */\n",
       "#sk-container-id-3 a.estimator_doc_link:hover {\n",
       "  /* unfitted */\n",
       "  background-color: var(--sklearn-color-unfitted-level-3);\n",
       "  color: var(--sklearn-color-background);\n",
       "  text-decoration: none;\n",
       "}\n",
       "\n",
       "#sk-container-id-3 a.estimator_doc_link.fitted:hover {\n",
       "  /* fitted */\n",
       "  background-color: var(--sklearn-color-fitted-level-3);\n",
       "}\n",
       "\n",
       ".estimator-table summary {\n",
       "    padding: .5rem;\n",
       "    font-family: monospace;\n",
       "    cursor: pointer;\n",
       "}\n",
       "\n",
       ".estimator-table details[open] {\n",
       "    padding-left: 0.1rem;\n",
       "    padding-right: 0.1rem;\n",
       "    padding-bottom: 0.3rem;\n",
       "}\n",
       "\n",
       ".estimator-table .parameters-table {\n",
       "    margin-left: auto !important;\n",
       "    margin-right: auto !important;\n",
       "}\n",
       "\n",
       ".estimator-table .parameters-table tr:nth-child(odd) {\n",
       "    background-color: #fff;\n",
       "}\n",
       "\n",
       ".estimator-table .parameters-table tr:nth-child(even) {\n",
       "    background-color: #f6f6f6;\n",
       "}\n",
       "\n",
       ".estimator-table .parameters-table tr:hover {\n",
       "    background-color: #e0e0e0;\n",
       "}\n",
       "\n",
       ".estimator-table table td {\n",
       "    border: 1px solid rgba(106, 105, 104, 0.232);\n",
       "}\n",
       "\n",
       ".user-set td {\n",
       "    color:rgb(255, 94, 0);\n",
       "    text-align: left;\n",
       "}\n",
       "\n",
       ".user-set td.value pre {\n",
       "    color:rgb(255, 94, 0) !important;\n",
       "    background-color: transparent !important;\n",
       "}\n",
       "\n",
       ".default td {\n",
       "    color: black;\n",
       "    text-align: left;\n",
       "}\n",
       "\n",
       ".user-set td i,\n",
       ".default td i {\n",
       "    color: black;\n",
       "}\n",
       "\n",
       ".copy-paste-icon {\n",
       "    background-image: url(data:image/svg+xml;base64,PHN2ZyB4bWxucz0iaHR0cDovL3d3dy53My5vcmcvMjAwMC9zdmciIHZpZXdCb3g9IjAgMCA0NDggNTEyIj48IS0tIUZvbnQgQXdlc29tZSBGcmVlIDYuNy4yIGJ5IEBmb250YXdlc29tZSAtIGh0dHBzOi8vZm9udGF3ZXNvbWUuY29tIExpY2Vuc2UgLSBodHRwczovL2ZvbnRhd2Vzb21lLmNvbS9saWNlbnNlL2ZyZWUgQ29weXJpZ2h0IDIwMjUgRm9udGljb25zLCBJbmMuLS0+PHBhdGggZD0iTTIwOCAwTDMzMi4xIDBjMTIuNyAwIDI0LjkgNS4xIDMzLjkgMTQuMWw2Ny45IDY3LjljOSA5IDE0LjEgMjEuMiAxNC4xIDMzLjlMNDQ4IDMzNmMwIDI2LjUtMjEuNSA0OC00OCA0OGwtMTkyIDBjLTI2LjUgMC00OC0yMS41LTQ4LTQ4bDAtMjg4YzAtMjYuNSAyMS41LTQ4IDQ4LTQ4ek00OCAxMjhsODAgMCAwIDY0LTY0IDAgMCAyNTYgMTkyIDAgMC0zMiA2NCAwIDAgNDhjMCAyNi41LTIxLjUgNDgtNDggNDhMNDggNTEyYy0yNi41IDAtNDgtMjEuNS00OC00OEwwIDE3NmMwLTI2LjUgMjEuNS00OCA0OC00OHoiLz48L3N2Zz4=);\n",
       "    background-repeat: no-repeat;\n",
       "    background-size: 14px 14px;\n",
       "    background-position: 0;\n",
       "    display: inline-block;\n",
       "    width: 14px;\n",
       "    height: 14px;\n",
       "    cursor: pointer;\n",
       "}\n",
       "</style><body><div id=\"sk-container-id-3\" class=\"sk-top-container\"><div class=\"sk-text-repr-fallback\"><pre>MultinomialNB()</pre><b>In a Jupyter environment, please rerun this cell to show the HTML representation or trust the notebook. <br />On GitHub, the HTML representation is unable to render, please try loading this page with nbviewer.org.</b></div><div class=\"sk-container\" hidden><div class=\"sk-item\"><div class=\"sk-estimator fitted sk-toggleable\"><input class=\"sk-toggleable__control sk-hidden--visually\" id=\"sk-estimator-id-3\" type=\"checkbox\" checked><label for=\"sk-estimator-id-3\" class=\"sk-toggleable__label fitted sk-toggleable__label-arrow\"><div><div>MultinomialNB</div></div><div><a class=\"sk-estimator-doc-link fitted\" rel=\"noreferrer\" target=\"_blank\" href=\"https://scikit-learn.org/1.7/modules/generated/sklearn.naive_bayes.MultinomialNB.html\">?<span>Documentation for MultinomialNB</span></a><span class=\"sk-estimator-doc-link fitted\">i<span>Fitted</span></span></div></label><div class=\"sk-toggleable__content fitted\" data-param-prefix=\"\">\n",
       "        <div class=\"estimator-table\">\n",
       "            <details>\n",
       "                <summary>Parameters</summary>\n",
       "                <table class=\"parameters-table\">\n",
       "                  <tbody>\n",
       "                    \n",
       "        <tr class=\"default\">\n",
       "            <td><i class=\"copy-paste-icon\"\n",
       "                 onclick=\"copyToClipboard('alpha',\n",
       "                          this.parentElement.nextElementSibling)\"\n",
       "            ></i></td>\n",
       "            <td class=\"param\">alpha&nbsp;</td>\n",
       "            <td class=\"value\">1.0</td>\n",
       "        </tr>\n",
       "    \n",
       "\n",
       "        <tr class=\"default\">\n",
       "            <td><i class=\"copy-paste-icon\"\n",
       "                 onclick=\"copyToClipboard('force_alpha',\n",
       "                          this.parentElement.nextElementSibling)\"\n",
       "            ></i></td>\n",
       "            <td class=\"param\">force_alpha&nbsp;</td>\n",
       "            <td class=\"value\">True</td>\n",
       "        </tr>\n",
       "    \n",
       "\n",
       "        <tr class=\"default\">\n",
       "            <td><i class=\"copy-paste-icon\"\n",
       "                 onclick=\"copyToClipboard('fit_prior',\n",
       "                          this.parentElement.nextElementSibling)\"\n",
       "            ></i></td>\n",
       "            <td class=\"param\">fit_prior&nbsp;</td>\n",
       "            <td class=\"value\">True</td>\n",
       "        </tr>\n",
       "    \n",
       "\n",
       "        <tr class=\"default\">\n",
       "            <td><i class=\"copy-paste-icon\"\n",
       "                 onclick=\"copyToClipboard('class_prior',\n",
       "                          this.parentElement.nextElementSibling)\"\n",
       "            ></i></td>\n",
       "            <td class=\"param\">class_prior&nbsp;</td>\n",
       "            <td class=\"value\">None</td>\n",
       "        </tr>\n",
       "    \n",
       "                  </tbody>\n",
       "                </table>\n",
       "            </details>\n",
       "        </div>\n",
       "    </div></div></div></div></div><script>function copyToClipboard(text, element) {\n",
       "    // Get the parameter prefix from the closest toggleable content\n",
       "    const toggleableContent = element.closest('.sk-toggleable__content');\n",
       "    const paramPrefix = toggleableContent ? toggleableContent.dataset.paramPrefix : '';\n",
       "    const fullParamName = paramPrefix ? `${paramPrefix}${text}` : text;\n",
       "\n",
       "    const originalStyle = element.style;\n",
       "    const computedStyle = window.getComputedStyle(element);\n",
       "    const originalWidth = computedStyle.width;\n",
       "    const originalHTML = element.innerHTML.replace('Copied!', '');\n",
       "\n",
       "    navigator.clipboard.writeText(fullParamName)\n",
       "        .then(() => {\n",
       "            element.style.width = originalWidth;\n",
       "            element.style.color = 'green';\n",
       "            element.innerHTML = \"Copied!\";\n",
       "\n",
       "            setTimeout(() => {\n",
       "                element.innerHTML = originalHTML;\n",
       "                element.style = originalStyle;\n",
       "            }, 2000);\n",
       "        })\n",
       "        .catch(err => {\n",
       "            console.error('Failed to copy:', err);\n",
       "            element.style.color = 'red';\n",
       "            element.innerHTML = \"Failed!\";\n",
       "            setTimeout(() => {\n",
       "                element.innerHTML = originalHTML;\n",
       "                element.style = originalStyle;\n",
       "            }, 2000);\n",
       "        });\n",
       "    return false;\n",
       "}\n",
       "\n",
       "document.querySelectorAll('.fa-regular.fa-copy').forEach(function(element) {\n",
       "    const toggleableContent = element.closest('.sk-toggleable__content');\n",
       "    const paramPrefix = toggleableContent ? toggleableContent.dataset.paramPrefix : '';\n",
       "    const paramName = element.parentElement.nextElementSibling.textContent.trim();\n",
       "    const fullParamName = paramPrefix ? `${paramPrefix}${paramName}` : paramName;\n",
       "\n",
       "    element.setAttribute('title', fullParamName);\n",
       "});\n",
       "</script></body>"
      ],
      "text/plain": [
       "MultinomialNB()"
      ]
     },
     "execution_count": 69,
     "metadata": {},
     "output_type": "execute_result"
    }
   ],
   "source": [
    "model.fit(x_train,y_train)"
   ]
  },
  {
   "cell_type": "code",
   "execution_count": null,
   "id": "9434f3a1",
   "metadata": {},
   "outputs": [],
   "source": [
    "y_pred = model.predict(x_test)"
   ]
  },
  {
   "cell_type": "code",
   "execution_count": null,
   "id": "b28836c4",
   "metadata": {},
   "outputs": [
    {
     "data": {
      "text/plain": [
       "array([1, 0, 0, ..., 1, 0, 0])"
      ]
     },
     "execution_count": 71,
     "metadata": {},
     "output_type": "execute_result"
    }
   ],
   "source": [
    "y_pred"
   ]
  },
  {
   "cell_type": "code",
   "execution_count": null,
   "id": "444e2dc4",
   "metadata": {},
   "outputs": [
    {
     "data": {
      "text/plain": [
       "0.7754"
      ]
     },
     "execution_count": 72,
     "metadata": {},
     "output_type": "execute_result"
    }
   ],
   "source": [
    "accuracy_score(y_test,y_pred)"
   ]
  },
  {
   "cell_type": "code",
   "execution_count": null,
   "id": "1dfa2a17",
   "metadata": {},
   "outputs": [
    {
     "name": "stdout",
     "output_type": "stream",
     "text": [
      "              precision    recall  f1-score   support\n",
      "\n",
      "           0       0.79      0.75      0.77      2507\n",
      "           1       0.76      0.80      0.78      2493\n",
      "\n",
      "    accuracy                           0.78      5000\n",
      "   macro avg       0.78      0.78      0.78      5000\n",
      "weighted avg       0.78      0.78      0.78      5000\n",
      "\n"
     ]
    }
   ],
   "source": [
    "print(classification_report(y_test,y_pred))"
   ]
  },
  {
   "cell_type": "code",
   "execution_count": null,
   "id": "290d1e81",
   "metadata": {},
   "outputs": [
    {
     "data": {
      "text/plain": [
       "array([[1873,  634],\n",
       "       [ 489, 2004]], dtype=int64)"
      ]
     },
     "execution_count": 74,
     "metadata": {},
     "output_type": "execute_result"
    }
   ],
   "source": [
    "confusion_matrix(y_test,y_pred)"
   ]
  },
  {
   "cell_type": "code",
   "execution_count": null,
   "id": "63cd2c37",
   "metadata": {},
   "outputs": [],
   "source": [
    "from nltk.tokenize import word_tokenize\n",
    "maxi = 0\n",
    "for i in df['clearn_review']:\n",
    "    j = word_tokenize(i)\n",
    "    if(len(j) > maxi):\n",
    "        maxi = len(j)\n",
    "print(maxi)\n"
   ]
  },
  {
   "cell_type": "code",
   "execution_count": null,
   "id": "3aa5de1c",
   "metadata": {},
   "outputs": [
    {
     "name": "stderr",
     "output_type": "stream",
     "text": [
      "[nltk_data] Downloading package punkt to\n",
      "[nltk_data]     C:\\Users\\Admin\\AppData\\Roaming\\nltk_data...\n",
      "[nltk_data]   Package punkt is already up-to-date!\n",
      "[nltk_data] Downloading package averaged_perceptron_tagger to\n",
      "[nltk_data]     C:\\Users\\Admin\\AppData\\Roaming\\nltk_data...\n",
      "[nltk_data]   Package averaged_perceptron_tagger is already up-to-\n",
      "[nltk_data]       date!\n"
     ]
    },
    {
     "data": {
      "text/plain": [
       "True"
      ]
     },
     "execution_count": 1,
     "metadata": {},
     "output_type": "execute_result"
    }
   ],
   "source": [
    "import nltk\n",
    "nltk.download('punkt')      # For tokenization\n",
    "nltk.download('averaged_perceptron_tagger')  # POS tagger\n"
   ]
  },
  {
   "cell_type": "code",
   "execution_count": null,
   "id": "dc17a3cb",
   "metadata": {},
   "outputs": [],
   "source": [
    "text = \"The quick brown fox jumps over the lazy dog.\"\n"
   ]
  },
  {
   "cell_type": "code",
   "execution_count": null,
   "id": "05b8a2c0",
   "metadata": {},
   "outputs": [
    {
     "name": "stdout",
     "output_type": "stream",
     "text": [
      "['The', 'quick', 'brown', 'fox', 'jumps', 'over', 'the', 'lazy', 'dog', '.']\n"
     ]
    }
   ],
   "source": [
    "from nltk.tokenize import word_tokenize\n",
    "tokens = word_tokenize(text)\n",
    "print(tokens)"
   ]
  },
  {
   "cell_type": "code",
   "execution_count": null,
   "id": "9d82f025",
   "metadata": {},
   "outputs": [],
   "source": [
    "pos_tag = nltk.pos_tag(tokens)"
   ]
  },
  {
   "cell_type": "code",
   "execution_count": null,
   "id": "3d1b084d",
   "metadata": {},
   "outputs": [
    {
     "data": {
      "text/plain": [
       "[('The', 'DT'),\n",
       " ('quick', 'JJ'),\n",
       " ('brown', 'NN'),\n",
       " ('fox', 'NN'),\n",
       " ('jumps', 'VBZ'),\n",
       " ('over', 'IN'),\n",
       " ('the', 'DT'),\n",
       " ('lazy', 'JJ'),\n",
       " ('dog', 'NN'),\n",
       " ('.', '.')]"
      ]
     },
     "execution_count": 7,
     "metadata": {},
     "output_type": "execute_result"
    }
   ],
   "source": [
    "pos_tag"
   ]
  },
  {
   "cell_type": "code",
   "execution_count": null,
   "id": "e44370f8",
   "metadata": {},
   "outputs": [],
   "source": [
    "import spacy"
   ]
  },
  {
   "cell_type": "code",
   "execution_count": null,
   "id": "4f90a1ac",
   "metadata": {},
   "outputs": [],
   "source": [
    "# nlp = spacy.load(\"en_core_web_sm\")\n",
    "# doc = nlp(text)\n",
    "# doc = nlp(\"The quick brown fox jumps over the lazy dog.\")\n",
    "# for token in doc:\n",
    "#     print(token.pos_, token.dep_)"
   ]
  },
  {
   "cell_type": "code",
   "execution_count": null,
   "id": "ffdba9d0",
   "metadata": {},
   "outputs": [],
   "source": [
    "corpus = [\n",
    "    \"The cat sat on the mat.\",\n",
    "    \"The dog sat on the log.\",\n",
    "    \"Cats and dogs are great pets.\"\n",
    "]\n"
   ]
  },
  {
   "cell_type": "code",
   "execution_count": null,
   "id": "42df8e07",
   "metadata": {},
   "outputs": [],
   "source": [
    "from sklearn.preprocessing import LabelEncoder\n",
    "import numpy as np\n",
    "\n",
    "words = list(set(\"\".join(corpus).lower().replace('.','').split()))"
   ]
  },
  {
   "cell_type": "code",
   "execution_count": null,
   "id": "821c0548",
   "metadata": {},
   "outputs": [
    {
     "data": {
      "text/plain": [
       "['dog',\n",
       " 'great',\n",
       " 'matthe',\n",
       " 'sat',\n",
       " 'are',\n",
       " 'cat',\n",
       " 'on',\n",
       " 'the',\n",
       " 'logcats',\n",
       " 'and',\n",
       " 'pets',\n",
       " 'dogs']"
      ]
     },
     "execution_count": 18,
     "metadata": {},
     "output_type": "execute_result"
    }
   ],
   "source": [
    "words"
   ]
  },
  {
   "cell_type": "code",
   "execution_count": null,
   "id": "b361cf19",
   "metadata": {},
   "outputs": [],
   "source": [
    "encoder = LabelEncoder()\n",
    "encoded = encoder.fit_transform(words)"
   ]
  },
  {
   "cell_type": "code",
   "execution_count": null,
   "id": "e51a5f7b",
   "metadata": {},
   "outputs": [
    {
     "data": {
      "text/plain": [
       "array([ 3,  5,  7, 10,  1,  2,  8, 11,  6,  0,  9,  4], dtype=int64)"
      ]
     },
     "execution_count": 25,
     "metadata": {},
     "output_type": "execute_result"
    }
   ],
   "source": [
    "encoded"
   ]
  },
  {
   "cell_type": "code",
   "execution_count": null,
   "id": "477c18eb",
   "metadata": {},
   "outputs": [],
   "source": [
    "one_hot_vectors = np.eye(len(words))[encoded]"
   ]
  },
  {
   "cell_type": "code",
   "execution_count": null,
   "id": "a4911c43",
   "metadata": {},
   "outputs": [
    {
     "data": {
      "text/plain": [
       "array([[1., 0., 0., 0., 0., 0., 0., 0., 0., 0., 0., 0.],\n",
       "       [0., 1., 0., 0., 0., 0., 0., 0., 0., 0., 0., 0.],\n",
       "       [0., 0., 1., 0., 0., 0., 0., 0., 0., 0., 0., 0.],\n",
       "       [0., 0., 0., 1., 0., 0., 0., 0., 0., 0., 0., 0.],\n",
       "       [0., 0., 0., 0., 1., 0., 0., 0., 0., 0., 0., 0.],\n",
       "       [0., 0., 0., 0., 0., 1., 0., 0., 0., 0., 0., 0.],\n",
       "       [0., 0., 0., 0., 0., 0., 1., 0., 0., 0., 0., 0.],\n",
       "       [0., 0., 0., 0., 0., 0., 0., 1., 0., 0., 0., 0.],\n",
       "       [0., 0., 0., 0., 0., 0., 0., 0., 1., 0., 0., 0.],\n",
       "       [0., 0., 0., 0., 0., 0., 0., 0., 0., 1., 0., 0.],\n",
       "       [0., 0., 0., 0., 0., 0., 0., 0., 0., 0., 1., 0.],\n",
       "       [0., 0., 0., 0., 0., 0., 0., 0., 0., 0., 0., 1.]])"
      ]
     },
     "execution_count": 27,
     "metadata": {},
     "output_type": "execute_result"
    }
   ],
   "source": [
    "one_hot_vectors"
   ]
  },
  {
   "cell_type": "code",
   "execution_count": null,
   "id": "cade79b2",
   "metadata": {},
   "outputs": [],
   "source": [
    "from sklearn.feature_extraction.text import CountVectorizer"
   ]
  },
  {
   "cell_type": "code",
   "execution_count": null,
   "id": "9a90d590",
   "metadata": {},
   "outputs": [],
   "source": [
    "bow = CountVectorizer()\n",
    "x = bow.fit_transform(corpus)"
   ]
  },
  {
   "cell_type": "code",
   "execution_count": null,
   "id": "a50f7cb2",
   "metadata": {},
   "outputs": [
    {
     "data": {
      "text/plain": [
       "{'the': 12,\n",
       " 'cat': 2,\n",
       " 'sat': 11,\n",
       " 'on': 9,\n",
       " 'mat': 8,\n",
       " 'dog': 4,\n",
       " 'log': 7,\n",
       " 'cats': 3,\n",
       " 'and': 0,\n",
       " 'dogs': 5,\n",
       " 'are': 1,\n",
       " 'great': 6,\n",
       " 'pets': 10}"
      ]
     },
     "execution_count": 31,
     "metadata": {},
     "output_type": "execute_result"
    }
   ],
   "source": [
    "bow.vocabulary_"
   ]
  },
  {
   "cell_type": "code",
   "execution_count": null,
   "id": "5476c674",
   "metadata": {},
   "outputs": [
    {
     "data": {
      "text/plain": [
       "array([[0, 0, 1, 0, 0, 0, 0, 0, 1, 1, 0, 1, 2],\n",
       "       [0, 0, 0, 0, 1, 0, 0, 1, 0, 1, 0, 1, 2],\n",
       "       [1, 1, 0, 1, 0, 1, 1, 0, 0, 0, 1, 0, 0]], dtype=int64)"
      ]
     },
     "execution_count": 32,
     "metadata": {},
     "output_type": "execute_result"
    }
   ],
   "source": [
    "x.toarray()"
   ]
  },
  {
   "cell_type": "code",
   "execution_count": null,
   "id": "5f1a6e2b",
   "metadata": {},
   "outputs": [],
   "source": [
    "from sklearn.feature_extraction.text import TfidfVectorizer\n",
    "\n",
    "tfidf = TfidfVectorizer()\n",
    "x = tfidf.fit_transform(corpus)"
   ]
  },
  {
   "cell_type": "code",
   "execution_count": null,
   "id": "1a2d6358",
   "metadata": {},
   "outputs": [
    {
     "data": {
      "text/plain": [
       "{'the': 12,\n",
       " 'cat': 2,\n",
       " 'sat': 11,\n",
       " 'on': 9,\n",
       " 'mat': 8,\n",
       " 'dog': 4,\n",
       " 'log': 7,\n",
       " 'cats': 3,\n",
       " 'and': 0,\n",
       " 'dogs': 5,\n",
       " 'are': 1,\n",
       " 'great': 6,\n",
       " 'pets': 10}"
      ]
     },
     "execution_count": 43,
     "metadata": {},
     "output_type": "execute_result"
    }
   ],
   "source": [
    "tfidf.vocabulary_"
   ]
  },
  {
   "cell_type": "code",
   "execution_count": null,
   "id": "1d346812",
   "metadata": {},
   "outputs": [
    {
     "data": {
      "text/plain": [
       "array([[0.        , 0.        , 0.42755362, 0.        , 0.        ,\n",
       "        0.        , 0.        , 0.        , 0.42755362, 0.32516555,\n",
       "        0.        , 0.32516555, 0.6503311 ],\n",
       "       [0.        , 0.        , 0.        , 0.        , 0.42755362,\n",
       "        0.        , 0.        , 0.42755362, 0.        , 0.32516555,\n",
       "        0.        , 0.32516555, 0.6503311 ],\n",
       "       [0.40824829, 0.40824829, 0.        , 0.40824829, 0.        ,\n",
       "        0.40824829, 0.40824829, 0.        , 0.        , 0.        ,\n",
       "        0.40824829, 0.        , 0.        ]])"
      ]
     },
     "execution_count": 45,
     "metadata": {},
     "output_type": "execute_result"
    }
   ],
   "source": [
    "x.toarray()"
   ]
  },
  {
   "cell_type": "code",
   "execution_count": null,
   "id": "bd86977a",
   "metadata": {},
   "outputs": [],
   "source": [
    "vec = CountVectorizer(ngram_range=(2,2))"
   ]
  },
  {
   "cell_type": "code",
   "execution_count": null,
   "id": "44767a47",
   "metadata": {},
   "outputs": [],
   "source": [
    "x = vec.fit_transform(corpus)"
   ]
  },
  {
   "cell_type": "code",
   "execution_count": null,
   "id": "76660c34",
   "metadata": {},
   "outputs": [
    {
     "data": {
      "text/plain": [
       "{'the cat': 9,\n",
       " 'cat sat': 2,\n",
       " 'sat on': 8,\n",
       " 'on the': 7,\n",
       " 'the mat': 12,\n",
       " 'the dog': 10,\n",
       " 'dog sat': 4,\n",
       " 'the log': 11,\n",
       " 'cats and': 3,\n",
       " 'and dogs': 0,\n",
       " 'dogs are': 5,\n",
       " 'are great': 1,\n",
       " 'great pets': 6}"
      ]
     },
     "execution_count": 58,
     "metadata": {},
     "output_type": "execute_result"
    }
   ],
   "source": [
    "x.toarray()\n",
    "vec.vocabulary_"
   ]
  },
  {
   "cell_type": "markdown",
   "id": "9215c225",
   "metadata": {},
   "source": [
    "## Advanced Techniques For NLP\n",
    "Rule-Based Classification"
   ]
  },
  {
   "cell_type": "code",
   "execution_count": null,
   "id": "cf57239d",
   "metadata": {},
   "outputs": [],
   "source": [
    "texts = [\n",
    "    \"I love this product!\",\n",
    "    \"This is the worst service ever.\",\n",
    "    \"It's okay, nothing special.\",\n",
    "    \"Absolutely fantastic experience!\",\n",
    "    \"I hate this!\",\n",
    "    \"Not bad, could be better.\",\n",
    "    \"What a terrible idea!\"\n",
    "]"
   ]
  },
  {
   "cell_type": "code",
   "execution_count": null,
   "id": "0848642d",
   "metadata": {},
   "outputs": [],
   "source": [
    "def classify_text(text):\n",
    "    text = text.lower()\n",
    "\n",
    "    positive_keywords = [\"love\", \"fantastic\", \"great\", \"good\", \"amazing\", \"awesome\"]\n",
    "    negative_keywords = [\"hate\", \"worst\", \"terrible\", \"bad\", \"awful\"]\n",
    "    \n",
    "    if any(word in text for word in positive_keywords):\n",
    "        return \"positive\"\n",
    "    elif any(word in text for word in negative_keywords):\n",
    "        return \"negative\"\n",
    "    else:\n",
    "        return \"neutral\"\n"
   ]
  },
  {
   "cell_type": "code",
   "execution_count": null,
   "id": "1e97e2ff",
   "metadata": {},
   "outputs": [
    {
     "name": "stdout",
     "output_type": "stream",
     "text": [
      "Text: I love this product!\n",
      "Predicted Label: positive\n",
      "\n",
      "Text: This is the worst service ever.\n",
      "Predicted Label: negative\n",
      "\n",
      "Text: It's okay, nothing special.\n",
      "Predicted Label: neutral\n",
      "\n",
      "Text: Absolutely fantastic experience!\n",
      "Predicted Label: positive\n",
      "\n",
      "Text: I hate this!\n",
      "Predicted Label: negative\n",
      "\n",
      "Text: Not bad, could be better.\n",
      "Predicted Label: negative\n",
      "\n",
      "Text: What a terrible idea!\n",
      "Predicted Label: negative\n",
      "\n"
     ]
    }
   ],
   "source": [
    "for sentence in texts:\n",
    "    label = classify_text(sentence)\n",
    "    print(f\"Text: {sentence}\\nPredicted Label: {label}\\n\")"
   ]
  },
  {
   "cell_type": "markdown",
   "id": "f77a5c95",
   "metadata": {},
   "source": [
    "#### Word Embedding Models(Gensim)"
   ]
  },
  {
   "cell_type": "code",
   "execution_count": null,
   "id": "cb2adce2",
   "metadata": {},
   "outputs": [],
   "source": [
    "import gensim.downloader as api\n",
    "import numpy as np"
   ]
  },
  {
   "cell_type": "code",
   "execution_count": null,
   "id": "a668f1e6",
   "metadata": {},
   "outputs": [],
   "source": [
    "model = api.load('word2vec-google-news-300')"
   ]
  },
  {
   "cell_type": "code",
   "execution_count": null,
   "id": "2b47f59e",
   "metadata": {},
   "outputs": [],
   "source": [
    "model.most_similar('harsh')"
   ]
  },
  {
   "cell_type": "markdown",
   "id": "0b31ca9f",
   "metadata": {},
   "source": [
    "Text Summarizations(Extractive)"
   ]
  },
  {
   "cell_type": "code",
   "execution_count": null,
   "id": "32681380",
   "metadata": {},
   "outputs": [
    {
     "name": "stdout",
     "output_type": "stream",
     "text": [
      "Requirement already satisfied: nltk in c:\\users\\admin\\desktop\\ai-ml_qb\\gen_ai\\.venv\\lib\\site-packages (3.9.1)\n",
      "Requirement already satisfied: click in c:\\users\\admin\\desktop\\ai-ml_qb\\gen_ai\\.venv\\lib\\site-packages (from nltk) (8.2.1)\n",
      "Requirement already satisfied: joblib in c:\\users\\admin\\desktop\\ai-ml_qb\\gen_ai\\.venv\\lib\\site-packages (from nltk) (1.5.1)\n",
      "Requirement already satisfied: regex>=2021.8.3 in c:\\users\\admin\\desktop\\ai-ml_qb\\gen_ai\\.venv\\lib\\site-packages (from nltk) (2024.11.6)\n",
      "Requirement already satisfied: tqdm in c:\\users\\admin\\desktop\\ai-ml_qb\\gen_ai\\.venv\\lib\\site-packages (from nltk) (4.67.1)\n",
      "Requirement already satisfied: colorama in c:\\users\\admin\\desktop\\ai-ml_qb\\gen_ai\\.venv\\lib\\site-packages (from click->nltk) (0.4.6)\n",
      "Note: you may need to restart the kernel to use updated packages.\n"
     ]
    }
   ],
   "source": [
    "pip install nltk"
   ]
  },
  {
   "cell_type": "code",
   "execution_count": 20,
   "id": "508fb8f2",
   "metadata": {},
   "outputs": [],
   "source": [
    "import heapq\n",
    "import re\n",
    "from nltk.corpus import stopwords\n",
    "from nltk.tokenize import word_tokenize, sent_tokenize"
   ]
  },
  {
   "cell_type": "code",
   "execution_count": 1,
   "id": "8cd548ca",
   "metadata": {},
   "outputs": [
    {
     "name": "stderr",
     "output_type": "stream",
     "text": [
      "c:\\Users\\Admin\\Desktop\\AI-ML_QB\\Gen_AI\\.venv\\Lib\\site-packages\\nltk\\metrics\\association.py:26: UserWarning: A NumPy version >=1.22.4 and <2.3.0 is required for this version of SciPy (detected version 2.3.1)\n",
      "  from scipy.stats import fisher_exact\n"
     ]
    }
   ],
   "source": [
    "import nltk"
   ]
  },
  {
   "cell_type": "code",
   "execution_count": 3,
   "id": "3692ffdb",
   "metadata": {},
   "outputs": [
    {
     "name": "stderr",
     "output_type": "stream",
     "text": [
      "[nltk_data] Downloading package punkt to\n",
      "[nltk_data]     C:\\Users\\Admin\\AppData\\Roaming\\nltk_data...\n",
      "[nltk_data]   Package punkt is already up-to-date!\n",
      "[nltk_data] Downloading package stopwords to\n",
      "[nltk_data]     C:\\Users\\Admin\\AppData\\Roaming\\nltk_data...\n",
      "[nltk_data]   Package stopwords is already up-to-date!\n"
     ]
    },
    {
     "data": {
      "text/plain": [
       "True"
      ]
     },
     "execution_count": 3,
     "metadata": {},
     "output_type": "execute_result"
    }
   ],
   "source": [
    "nltk.download('punkt')\n",
    "nltk.download('stopwords')"
   ]
  },
  {
   "cell_type": "code",
   "execution_count": 4,
   "id": "092627a9",
   "metadata": {},
   "outputs": [],
   "source": [
    "text = \"\"\"\n",
    "Artificial intelligence (AI) is intelligence demonstrated by machines, in contrast to the natural intelligence displayed by humans and animals. \n",
    "Leading AI textbooks define the field as the study of \"intelligent agents\": any system that perceives its environment and takes actions that maximize its chance of achieving its goals. \n",
    "Some popular accounts use the term \"artificial intelligence\" to describe machines that mimic cognitive functions such as learning and problem solving. \n",
    "As machines become increasingly capable, tasks considered to require \"intelligence\" are often removed from the definition of AI.\n",
    "\"\"\"\n"
   ]
  },
  {
   "cell_type": "code",
   "execution_count": 9,
   "id": "1aab6391",
   "metadata": {},
   "outputs": [],
   "source": [
    "formatted_text = re.sub(r'\\s+',\"\",text)\n",
    "formatted_text = re.sub(r'[^\\w\\s]', '', formatted_text)"
   ]
  },
  {
   "cell_type": "code",
   "execution_count": 10,
   "id": "02186756",
   "metadata": {},
   "outputs": [
    {
     "data": {
      "text/plain": [
       "'ArtificialintelligenceAIisintelligencedemonstratedbymachinesincontrasttothenaturalintelligencedisplayedbyhumansandanimalsLeadingAItextbooksdefinethefieldasthestudyofintelligentagentsanysystemthatperceivesitsenvironmentandtakesactionsthatmaximizeitschanceofachievingitsgoalsSomepopularaccountsusethetermartificialintelligencetodescribemachinesthatmimiccognitivefunctionssuchaslearningandproblemsolvingAsmachinesbecomeincreasinglycapabletasksconsideredtorequireintelligenceareoftenremovedfromthedefinitionofAI'"
      ]
     },
     "execution_count": 10,
     "metadata": {},
     "output_type": "execute_result"
    }
   ],
   "source": [
    "formatted_text"
   ]
  },
  {
   "cell_type": "code",
   "execution_count": 24,
   "id": "9da00b12",
   "metadata": {},
   "outputs": [],
   "source": [
    "sentence_list = sent_tokenize(text)\n",
    "word_tokens = word_tokenize(formatted_text.lower())"
   ]
  },
  {
   "cell_type": "code",
   "execution_count": 28,
   "id": "105f5ff5",
   "metadata": {},
   "outputs": [],
   "source": [
    "stop_words = set(stopwords.words('english'))\n",
    "word_frequencies = {}\n",
    "for word in word_tokens:\n",
    "    if word not in stop_words:\n",
    "        if word not in word_frequencies:\n",
    "            word_frequencies[word] = 1\n",
    "        else:\n",
    "            word_frequencies[word] += 1"
   ]
  },
  {
   "cell_type": "code",
   "execution_count": 32,
   "id": "cc7a80e6",
   "metadata": {},
   "outputs": [
    {
     "name": "stdout",
     "output_type": "stream",
     "text": [
      "{'artificialintelligenceaiisintelligencedemonstratedbymachinesincontrasttothenaturalintelligencedisplayedbyhumansandanimalsleadingaitextbooksdefinethefieldasthestudyofintelligentagentsanysystemthatperceivesitsenvironmentandtakesactionsthatmaximizeitschanceofachievingitsgoalssomepopularaccountsusethetermartificialintelligencetodescribemachinesthatmimiccognitivefunctionssuchaslearningandproblemsolvingasmachinesbecomeincreasinglycapabletasksconsideredtorequireintelligenceareoftenremovedfromthedefinitionofai': 1.0}\n"
     ]
    }
   ],
   "source": [
    "max_freq = max(word_frequencies.values())\n",
    "\n",
    "for word in word_frequencies:\n",
    "    word_frequencies[word] = word_frequencies[word] / max_freq\n",
    "\n",
    "\n",
    "print(word_frequencies)"
   ]
  },
  {
   "cell_type": "markdown",
   "id": "33bffb90",
   "metadata": {},
   "source": [
    "## Spalling And Grammar Correction"
   ]
  },
  {
   "cell_type": "code",
   "execution_count": 33,
   "id": "bcadb9bd",
   "metadata": {},
   "outputs": [
    {
     "name": "stderr",
     "output_type": "stream",
     "text": [
      "c:\\Users\\Admin\\Desktop\\AI-ML_QB\\Gen_AI\\.venv\\Lib\\site-packages\\tqdm\\auto.py:21: TqdmWarning: IProgress not found. Please update jupyter and ipywidgets. See https://ipywidgets.readthedocs.io/en/stable/user_install.html\n",
      "  from .autonotebook import tqdm as notebook_tqdm\n"
     ]
    }
   ],
   "source": [
    "from transformers import pipeline"
   ]
  },
  {
   "cell_type": "code",
   "execution_count": 40,
   "id": "e46f9331",
   "metadata": {},
   "outputs": [
    {
     "name": "stderr",
     "output_type": "stream",
     "text": [
      "Device set to use cpu\n"
     ]
    },
    {
     "name": "stdout",
     "output_type": "stream",
     "text": [
      "[{'generated_text': 'He went to the library on Thursday. They were very helpful with the request.'}]\n"
     ]
    }
   ],
   "source": [
    "corrector = pipeline(\"text2text-generation\", model=\"vennify/t5-base-grammar-correction\")\n",
    "text = \"He go to the libary yesturday.They was very helpfull with the researh.\"\n",
    "corrected = corrector(text)\n",
    "print(corrected)"
   ]
  },
  {
   "cell_type": "markdown",
   "id": "9ab78fd7",
   "metadata": {},
   "source": [
    "## Keyword Extraction\n",
    "RAKE (Rapid Automatic Keyword Extraction)(Unsuperviced)"
   ]
  },
  {
   "cell_type": "code",
   "execution_count": 41,
   "id": "fdc0101d",
   "metadata": {},
   "outputs": [
    {
     "name": "stdout",
     "output_type": "stream",
     "text": [
      "Collecting rake-nltk\n",
      "  Downloading rake_nltk-1.0.6-py3-none-any.whl.metadata (6.4 kB)\n",
      "Requirement already satisfied: nltk<4.0.0,>=3.6.2 in c:\\users\\admin\\desktop\\ai-ml_qb\\gen_ai\\.venv\\lib\\site-packages (from rake-nltk) (3.9.1)\n",
      "Requirement already satisfied: click in c:\\users\\admin\\desktop\\ai-ml_qb\\gen_ai\\.venv\\lib\\site-packages (from nltk<4.0.0,>=3.6.2->rake-nltk) (8.2.1)\n",
      "Requirement already satisfied: joblib in c:\\users\\admin\\desktop\\ai-ml_qb\\gen_ai\\.venv\\lib\\site-packages (from nltk<4.0.0,>=3.6.2->rake-nltk) (1.5.1)\n",
      "Requirement already satisfied: regex>=2021.8.3 in c:\\users\\admin\\desktop\\ai-ml_qb\\gen_ai\\.venv\\lib\\site-packages (from nltk<4.0.0,>=3.6.2->rake-nltk) (2024.11.6)\n",
      "Requirement already satisfied: tqdm in c:\\users\\admin\\desktop\\ai-ml_qb\\gen_ai\\.venv\\lib\\site-packages (from nltk<4.0.0,>=3.6.2->rake-nltk) (4.67.1)\n",
      "Requirement already satisfied: colorama in c:\\users\\admin\\desktop\\ai-ml_qb\\gen_ai\\.venv\\lib\\site-packages (from click->nltk<4.0.0,>=3.6.2->rake-nltk) (0.4.6)\n",
      "Downloading rake_nltk-1.0.6-py3-none-any.whl (9.1 kB)\n",
      "Installing collected packages: rake-nltk\n",
      "Successfully installed rake-nltk-1.0.6\n",
      "Note: you may need to restart the kernel to use updated packages.\n"
     ]
    }
   ],
   "source": [
    "pip install rake-nltk\n"
   ]
  },
  {
   "cell_type": "code",
   "execution_count": 48,
   "id": "3d794af7",
   "metadata": {},
   "outputs": [
    {
     "data": {
      "text/plain": [
       "[(25.0, 'technologies like natural language processing'),\n",
       " (9.0, 'rapidly transforming industries'),\n",
       " (9.0, 'becoming essential tools'),\n",
       " (4.0, 'neural networks'),\n",
       " (4.0, 'machine learning'),\n",
       " (4.0, 'computer vision'),\n",
       " (4.0, 'artificial intelligence'),\n",
       " (1.0, 'research'),\n",
       " (1.0, 'business')]"
      ]
     },
     "execution_count": 48,
     "metadata": {},
     "output_type": "execute_result"
    }
   ],
   "source": [
    "from rake_nltk import Rake\n",
    "\n",
    "rake = Rake()\n",
    "\n",
    "text = \"\"\"\n",
    "Artificial Intelligence and Machine Learning are rapidly transforming industries. \n",
    "Technologies like natural language processing, neural networks, and computer vision are becoming essential tools in business and research.\n",
    "\"\"\"\n",
    "rake.extract_keywords_from_text(text)\n",
    "\n",
    "key_words_with_scores = rake.get_ranked_phrases_with_scores()\n",
    "\n",
    "# for score,keyword in key_words_with_scores:\n",
    "#     print()\n",
    "key_words_with_scores"
   ]
  },
  {
   "cell_type": "markdown",
   "id": "927a3327",
   "metadata": {},
   "source": [
    "## Transformer(keyword Extraction Techniques)\n",
    "keyBERT"
   ]
  },
  {
   "cell_type": "code",
   "execution_count": 49,
   "id": "042f6238",
   "metadata": {},
   "outputs": [
    {
     "name": "stdout",
     "output_type": "stream",
     "text": [
      "Collecting keybert\n",
      "  Downloading keybert-0.9.0-py3-none-any.whl.metadata (15 kB)\n",
      "Requirement already satisfied: numpy>=1.18.5 in c:\\users\\admin\\desktop\\ai-ml_qb\\gen_ai\\.venv\\lib\\site-packages (from keybert) (2.3.1)\n",
      "Requirement already satisfied: rich>=10.4.0 in c:\\users\\admin\\desktop\\ai-ml_qb\\gen_ai\\.venv\\lib\\site-packages (from keybert) (14.0.0)\n",
      "Requirement already satisfied: scikit-learn>=0.22.2 in c:\\users\\admin\\desktop\\ai-ml_qb\\gen_ai\\.venv\\lib\\site-packages (from keybert) (1.7.0)\n",
      "Collecting sentence-transformers>=0.3.8 (from keybert)\n",
      "  Downloading sentence_transformers-4.1.0-py3-none-any.whl.metadata (13 kB)\n",
      "Requirement already satisfied: markdown-it-py>=2.2.0 in c:\\users\\admin\\desktop\\ai-ml_qb\\gen_ai\\.venv\\lib\\site-packages (from rich>=10.4.0->keybert) (3.0.0)\n",
      "Requirement already satisfied: pygments<3.0.0,>=2.13.0 in c:\\users\\admin\\desktop\\ai-ml_qb\\gen_ai\\.venv\\lib\\site-packages (from rich>=10.4.0->keybert) (2.19.2)\n",
      "Requirement already satisfied: mdurl~=0.1 in c:\\users\\admin\\desktop\\ai-ml_qb\\gen_ai\\.venv\\lib\\site-packages (from markdown-it-py>=2.2.0->rich>=10.4.0->keybert) (0.1.2)\n",
      "Requirement already satisfied: scipy>=1.8.0 in c:\\users\\admin\\desktop\\ai-ml_qb\\gen_ai\\.venv\\lib\\site-packages (from scikit-learn>=0.22.2->keybert) (1.13.1)\n",
      "Requirement already satisfied: joblib>=1.2.0 in c:\\users\\admin\\desktop\\ai-ml_qb\\gen_ai\\.venv\\lib\\site-packages (from scikit-learn>=0.22.2->keybert) (1.5.1)\n",
      "Requirement already satisfied: threadpoolctl>=3.1.0 in c:\\users\\admin\\desktop\\ai-ml_qb\\gen_ai\\.venv\\lib\\site-packages (from scikit-learn>=0.22.2->keybert) (3.6.0)\n",
      "Collecting numpy>=1.18.5 (from keybert)\n",
      "  Downloading numpy-2.2.6-cp311-cp311-win_amd64.whl.metadata (60 kB)\n",
      "Requirement already satisfied: transformers<5.0.0,>=4.41.0 in c:\\users\\admin\\desktop\\ai-ml_qb\\gen_ai\\.venv\\lib\\site-packages (from sentence-transformers>=0.3.8->keybert) (4.52.4)\n",
      "Requirement already satisfied: tqdm in c:\\users\\admin\\desktop\\ai-ml_qb\\gen_ai\\.venv\\lib\\site-packages (from sentence-transformers>=0.3.8->keybert) (4.67.1)\n",
      "Requirement already satisfied: torch>=1.11.0 in c:\\users\\admin\\desktop\\ai-ml_qb\\gen_ai\\.venv\\lib\\site-packages (from sentence-transformers>=0.3.8->keybert) (2.7.1)\n",
      "Requirement already satisfied: huggingface-hub>=0.20.0 in c:\\users\\admin\\desktop\\ai-ml_qb\\gen_ai\\.venv\\lib\\site-packages (from sentence-transformers>=0.3.8->keybert) (0.33.1)\n",
      "Collecting Pillow (from sentence-transformers>=0.3.8->keybert)\n",
      "  Using cached pillow-11.2.1-cp311-cp311-win_amd64.whl.metadata (9.1 kB)\n",
      "Requirement already satisfied: typing_extensions>=4.5.0 in c:\\users\\admin\\desktop\\ai-ml_qb\\gen_ai\\.venv\\lib\\site-packages (from sentence-transformers>=0.3.8->keybert) (4.14.0)\n",
      "Requirement already satisfied: filelock in c:\\users\\admin\\desktop\\ai-ml_qb\\gen_ai\\.venv\\lib\\site-packages (from transformers<5.0.0,>=4.41.0->sentence-transformers>=0.3.8->keybert) (3.18.0)\n",
      "Requirement already satisfied: packaging>=20.0 in c:\\users\\admin\\desktop\\ai-ml_qb\\gen_ai\\.venv\\lib\\site-packages (from transformers<5.0.0,>=4.41.0->sentence-transformers>=0.3.8->keybert) (25.0)\n",
      "Requirement already satisfied: pyyaml>=5.1 in c:\\users\\admin\\desktop\\ai-ml_qb\\gen_ai\\.venv\\lib\\site-packages (from transformers<5.0.0,>=4.41.0->sentence-transformers>=0.3.8->keybert) (6.0.2)\n",
      "Requirement already satisfied: regex!=2019.12.17 in c:\\users\\admin\\desktop\\ai-ml_qb\\gen_ai\\.venv\\lib\\site-packages (from transformers<5.0.0,>=4.41.0->sentence-transformers>=0.3.8->keybert) (2024.11.6)\n",
      "Requirement already satisfied: requests in c:\\users\\admin\\desktop\\ai-ml_qb\\gen_ai\\.venv\\lib\\site-packages (from transformers<5.0.0,>=4.41.0->sentence-transformers>=0.3.8->keybert) (2.32.4)\n",
      "Requirement already satisfied: tokenizers<0.22,>=0.21 in c:\\users\\admin\\desktop\\ai-ml_qb\\gen_ai\\.venv\\lib\\site-packages (from transformers<5.0.0,>=4.41.0->sentence-transformers>=0.3.8->keybert) (0.21.2)\n",
      "Requirement already satisfied: safetensors>=0.4.3 in c:\\users\\admin\\desktop\\ai-ml_qb\\gen_ai\\.venv\\lib\\site-packages (from transformers<5.0.0,>=4.41.0->sentence-transformers>=0.3.8->keybert) (0.5.3)\n",
      "Requirement already satisfied: fsspec>=2023.5.0 in c:\\users\\admin\\desktop\\ai-ml_qb\\gen_ai\\.venv\\lib\\site-packages (from huggingface-hub>=0.20.0->sentence-transformers>=0.3.8->keybert) (2025.3.0)\n",
      "Requirement already satisfied: sympy>=1.13.3 in c:\\users\\admin\\desktop\\ai-ml_qb\\gen_ai\\.venv\\lib\\site-packages (from torch>=1.11.0->sentence-transformers>=0.3.8->keybert) (1.14.0)\n",
      "Requirement already satisfied: networkx in c:\\users\\admin\\desktop\\ai-ml_qb\\gen_ai\\.venv\\lib\\site-packages (from torch>=1.11.0->sentence-transformers>=0.3.8->keybert) (3.5)\n",
      "Requirement already satisfied: jinja2 in c:\\users\\admin\\desktop\\ai-ml_qb\\gen_ai\\.venv\\lib\\site-packages (from torch>=1.11.0->sentence-transformers>=0.3.8->keybert) (3.1.6)\n",
      "Requirement already satisfied: mpmath<1.4,>=1.1.0 in c:\\users\\admin\\desktop\\ai-ml_qb\\gen_ai\\.venv\\lib\\site-packages (from sympy>=1.13.3->torch>=1.11.0->sentence-transformers>=0.3.8->keybert) (1.3.0)\n",
      "Requirement already satisfied: colorama in c:\\users\\admin\\desktop\\ai-ml_qb\\gen_ai\\.venv\\lib\\site-packages (from tqdm->sentence-transformers>=0.3.8->keybert) (0.4.6)\n",
      "Requirement already satisfied: MarkupSafe>=2.0 in c:\\users\\admin\\desktop\\ai-ml_qb\\gen_ai\\.venv\\lib\\site-packages (from jinja2->torch>=1.11.0->sentence-transformers>=0.3.8->keybert) (3.0.2)\n",
      "Requirement already satisfied: charset_normalizer<4,>=2 in c:\\users\\admin\\desktop\\ai-ml_qb\\gen_ai\\.venv\\lib\\site-packages (from requests->transformers<5.0.0,>=4.41.0->sentence-transformers>=0.3.8->keybert) (3.4.2)\n",
      "Requirement already satisfied: idna<4,>=2.5 in c:\\users\\admin\\desktop\\ai-ml_qb\\gen_ai\\.venv\\lib\\site-packages (from requests->transformers<5.0.0,>=4.41.0->sentence-transformers>=0.3.8->keybert) (3.10)\n",
      "Requirement already satisfied: urllib3<3,>=1.21.1 in c:\\users\\admin\\desktop\\ai-ml_qb\\gen_ai\\.venv\\lib\\site-packages (from requests->transformers<5.0.0,>=4.41.0->sentence-transformers>=0.3.8->keybert) (2.5.0)\n",
      "Requirement already satisfied: certifi>=2017.4.17 in c:\\users\\admin\\desktop\\ai-ml_qb\\gen_ai\\.venv\\lib\\site-packages (from requests->transformers<5.0.0,>=4.41.0->sentence-transformers>=0.3.8->keybert) (2025.6.15)\n",
      "Downloading keybert-0.9.0-py3-none-any.whl (41 kB)\n",
      "Downloading numpy-2.2.6-cp311-cp311-win_amd64.whl (12.9 MB)\n",
      "   ---------------------------------------- 0.0/12.9 MB ? eta -:--:--\n",
      "   ---------------------------------------- 0.0/12.9 MB ? eta -:--:--\n",
      "   ---------------------------------------- 0.0/12.9 MB ? eta -:--:--\n",
      "   ---------------------------------------- 0.0/12.9 MB ? eta -:--:--\n",
      "   ---------------------------------------- 0.0/12.9 MB ? eta -:--:--\n",
      "    --------------------------------------- 0.3/12.9 MB ? eta -:--:--\n",
      "    --------------------------------------- 0.3/12.9 MB ? eta -:--:--\n",
      "    --------------------------------------- 0.3/12.9 MB ? eta -:--:--\n",
      "    --------------------------------------- 0.3/12.9 MB ? eta -:--:--\n",
      "    --------------------------------------- 0.3/12.9 MB ? eta -:--:--\n",
      "    --------------------------------------- 0.3/12.9 MB ? eta -:--:--\n",
      "   - -------------------------------------- 0.5/12.9 MB 207.2 kB/s eta 0:01:00\n",
      "   - -------------------------------------- 0.5/12.9 MB 207.2 kB/s eta 0:01:00\n",
      "   - -------------------------------------- 0.5/12.9 MB 207.2 kB/s eta 0:01:00\n",
      "   - -------------------------------------- 0.5/12.9 MB 207.2 kB/s eta 0:01:00\n",
      "   -- ------------------------------------- 0.8/12.9 MB 238.0 kB/s eta 0:00:51\n",
      "   -- ------------------------------------- 0.8/12.9 MB 238.0 kB/s eta 0:00:51\n",
      "   -- ------------------------------------- 0.8/12.9 MB 238.0 kB/s eta 0:00:51\n",
      "   -- ------------------------------------- 0.8/12.9 MB 238.0 kB/s eta 0:00:51\n",
      "   -- ------------------------------------- 0.8/12.9 MB 238.0 kB/s eta 0:00:51\n",
      "   --- ------------------------------------ 1.0/12.9 MB 240.9 kB/s eta 0:00:50\n",
      "   --- ------------------------------------ 1.0/12.9 MB 240.9 kB/s eta 0:00:50\n",
      "   --- ------------------------------------ 1.0/12.9 MB 240.9 kB/s eta 0:00:50\n",
      "   --- ------------------------------------ 1.0/12.9 MB 240.9 kB/s eta 0:00:50\n",
      "   --- ------------------------------------ 1.0/12.9 MB 240.9 kB/s eta 0:00:50\n",
      "   --- ------------------------------------ 1.0/12.9 MB 240.9 kB/s eta 0:00:50\n",
      "   --- ------------------------------------ 1.0/12.9 MB 240.9 kB/s eta 0:00:50\n",
      "   --- ------------------------------------ 1.0/12.9 MB 240.9 kB/s eta 0:00:50\n",
      "   ---- ----------------------------------- 1.3/12.9 MB 208.4 kB/s eta 0:00:56\n",
      "   ---- ----------------------------------- 1.3/12.9 MB 208.4 kB/s eta 0:00:56\n",
      "   ---- ----------------------------------- 1.3/12.9 MB 208.4 kB/s eta 0:00:56\n",
      "   ---- ----------------------------------- 1.3/12.9 MB 208.4 kB/s eta 0:00:56\n",
      "   ---- ----------------------------------- 1.3/12.9 MB 208.4 kB/s eta 0:00:56\n",
      "   ---- ----------------------------------- 1.3/12.9 MB 208.4 kB/s eta 0:00:56\n",
      "   ---- ----------------------------------- 1.3/12.9 MB 208.4 kB/s eta 0:00:56\n",
      "   ---- ----------------------------------- 1.6/12.9 MB 199.7 kB/s eta 0:00:57\n",
      "   ---- ----------------------------------- 1.6/12.9 MB 199.7 kB/s eta 0:00:57\n",
      "   ---- ----------------------------------- 1.6/12.9 MB 199.7 kB/s eta 0:00:57\n",
      "   ----- ---------------------------------- 1.8/12.9 MB 219.8 kB/s eta 0:00:51\n",
      "   ----- ---------------------------------- 1.8/12.9 MB 219.8 kB/s eta 0:00:51\n",
      "   ------ --------------------------------- 2.1/12.9 MB 242.7 kB/s eta 0:00:45\n",
      "   ------ --------------------------------- 2.1/12.9 MB 242.7 kB/s eta 0:00:45\n",
      "   ------ --------------------------------- 2.1/12.9 MB 242.7 kB/s eta 0:00:45\n",
      "   ------- -------------------------------- 2.4/12.9 MB 256.2 kB/s eta 0:00:42\n",
      "   ------- -------------------------------- 2.4/12.9 MB 256.2 kB/s eta 0:00:42\n",
      "   ------- -------------------------------- 2.4/12.9 MB 256.2 kB/s eta 0:00:42\n",
      "   -------- ------------------------------- 2.6/12.9 MB 268.2 kB/s eta 0:00:39\n",
      "   -------- ------------------------------- 2.6/12.9 MB 268.2 kB/s eta 0:00:39\n",
      "   -------- ------------------------------- 2.6/12.9 MB 268.2 kB/s eta 0:00:39\n",
      "   -------- ------------------------------- 2.6/12.9 MB 268.2 kB/s eta 0:00:39\n",
      "   -------- ------------------------------- 2.6/12.9 MB 268.2 kB/s eta 0:00:39\n",
      "   -------- ------------------------------- 2.9/12.9 MB 266.3 kB/s eta 0:00:38\n",
      "   -------- ------------------------------- 2.9/12.9 MB 266.3 kB/s eta 0:00:38\n",
      "   -------- ------------------------------- 2.9/12.9 MB 266.3 kB/s eta 0:00:38\n",
      "   -------- ------------------------------- 2.9/12.9 MB 266.3 kB/s eta 0:00:38\n",
      "   --------- ------------------------------ 3.1/12.9 MB 265.5 kB/s eta 0:00:37\n",
      "   --------- ------------------------------ 3.1/12.9 MB 265.5 kB/s eta 0:00:37\n",
      "   --------- ------------------------------ 3.1/12.9 MB 265.5 kB/s eta 0:00:37\n",
      "   --------- ------------------------------ 3.1/12.9 MB 265.5 kB/s eta 0:00:37\n",
      "   --------- ------------------------------ 3.1/12.9 MB 265.5 kB/s eta 0:00:37\n",
      "   --------- ------------------------------ 3.1/12.9 MB 265.5 kB/s eta 0:00:37\n",
      "   ---------- ----------------------------- 3.4/12.9 MB 262.1 kB/s eta 0:00:37\n",
      "   ---------- ----------------------------- 3.4/12.9 MB 262.1 kB/s eta 0:00:37\n",
      "   ---------- ----------------------------- 3.4/12.9 MB 262.1 kB/s eta 0:00:37\n",
      "   ---------- ----------------------------- 3.4/12.9 MB 262.1 kB/s eta 0:00:37\n",
      "   ---------- ----------------------------- 3.4/12.9 MB 262.1 kB/s eta 0:00:37\n",
      "   ---------- ----------------------------- 3.4/12.9 MB 262.1 kB/s eta 0:00:37\n",
      "   ---------- ----------------------------- 3.4/12.9 MB 262.1 kB/s eta 0:00:37\n",
      "   ----------- ---------------------------- 3.7/12.9 MB 252.4 kB/s eta 0:00:37\n",
      "   ----------- ---------------------------- 3.7/12.9 MB 252.4 kB/s eta 0:00:37\n",
      "   ----------- ---------------------------- 3.7/12.9 MB 252.4 kB/s eta 0:00:37\n",
      "   ----------- ---------------------------- 3.7/12.9 MB 252.4 kB/s eta 0:00:37\n",
      "   ------------ --------------------------- 3.9/12.9 MB 251.8 kB/s eta 0:00:36\n",
      "   ------------ --------------------------- 3.9/12.9 MB 251.8 kB/s eta 0:00:36\n",
      "   ------------ --------------------------- 3.9/12.9 MB 251.8 kB/s eta 0:00:36\n",
      "   ------------ --------------------------- 3.9/12.9 MB 251.8 kB/s eta 0:00:36\n",
      "   ------------ --------------------------- 3.9/12.9 MB 251.8 kB/s eta 0:00:36\n",
      "   ------------ --------------------------- 3.9/12.9 MB 251.8 kB/s eta 0:00:36\n",
      "   ------------ --------------------------- 4.2/12.9 MB 248.4 kB/s eta 0:00:36\n",
      "   ------------ --------------------------- 4.2/12.9 MB 248.4 kB/s eta 0:00:36\n",
      "   ------------ --------------------------- 4.2/12.9 MB 248.4 kB/s eta 0:00:36\n",
      "   ------------- -------------------------- 4.5/12.9 MB 254.4 kB/s eta 0:00:34\n",
      "   ------------- -------------------------- 4.5/12.9 MB 254.4 kB/s eta 0:00:34\n",
      "   -------------- ------------------------- 4.7/12.9 MB 265.8 kB/s eta 0:00:31\n",
      "   --------------- ------------------------ 5.0/12.9 MB 277.1 kB/s eta 0:00:29\n",
      "   --------------- ------------------------ 5.0/12.9 MB 277.1 kB/s eta 0:00:29\n",
      "   ---------------- ----------------------- 5.2/12.9 MB 285.4 kB/s eta 0:00:27\n",
      "   ---------------- ----------------------- 5.2/12.9 MB 285.4 kB/s eta 0:00:27\n",
      "   ----------------- ---------------------- 5.5/12.9 MB 293.3 kB/s eta 0:00:26\n",
      "   ----------------- ---------------------- 5.5/12.9 MB 293.3 kB/s eta 0:00:26\n",
      "   ----------------- ---------------------- 5.5/12.9 MB 293.3 kB/s eta 0:00:26\n",
      "   ----------------- ---------------------- 5.8/12.9 MB 298.1 kB/s eta 0:00:24\n",
      "   ----------------- ---------------------- 5.8/12.9 MB 298.1 kB/s eta 0:00:24\n",
      "   ------------------ --------------------- 6.0/12.9 MB 302.3 kB/s eta 0:00:23\n",
      "   ------------------ --------------------- 6.0/12.9 MB 302.3 kB/s eta 0:00:23\n",
      "   ------------------ --------------------- 6.0/12.9 MB 302.3 kB/s eta 0:00:23\n",
      "   ------------------- -------------------- 6.3/12.9 MB 305.5 kB/s eta 0:00:22\n",
      "   ------------------- -------------------- 6.3/12.9 MB 305.5 kB/s eta 0:00:22\n",
      "   ------------------- -------------------- 6.3/12.9 MB 305.5 kB/s eta 0:00:22\n",
      "   ------------------- -------------------- 6.3/12.9 MB 305.5 kB/s eta 0:00:22\n",
      "   -------------------- ------------------- 6.6/12.9 MB 306.7 kB/s eta 0:00:21\n",
      "   -------------------- ------------------- 6.6/12.9 MB 306.7 kB/s eta 0:00:21\n",
      "   -------------------- ------------------- 6.6/12.9 MB 306.7 kB/s eta 0:00:21\n",
      "   --------------------- ------------------ 6.8/12.9 MB 308.9 kB/s eta 0:00:20\n",
      "   --------------------- ------------------ 6.8/12.9 MB 308.9 kB/s eta 0:00:20\n",
      "   --------------------- ------------------ 6.8/12.9 MB 308.9 kB/s eta 0:00:20\n",
      "   --------------------- ------------------ 7.1/12.9 MB 312.7 kB/s eta 0:00:19\n",
      "   --------------------- ------------------ 7.1/12.9 MB 312.7 kB/s eta 0:00:19\n",
      "   --------------------- ------------------ 7.1/12.9 MB 312.7 kB/s eta 0:00:19\n",
      "   ---------------------- ----------------- 7.3/12.9 MB 316.8 kB/s eta 0:00:18\n",
      "   ---------------------- ----------------- 7.3/12.9 MB 316.8 kB/s eta 0:00:18\n",
      "   ----------------------- ---------------- 7.6/12.9 MB 319.8 kB/s eta 0:00:17\n",
      "   ----------------------- ---------------- 7.6/12.9 MB 319.8 kB/s eta 0:00:17\n",
      "   ----------------------- ---------------- 7.6/12.9 MB 319.8 kB/s eta 0:00:17\n",
      "   ----------------------- ---------------- 7.6/12.9 MB 319.8 kB/s eta 0:00:17\n",
      "   ------------------------ --------------- 7.9/12.9 MB 319.9 kB/s eta 0:00:16\n",
      "   ------------------------ --------------- 7.9/12.9 MB 319.9 kB/s eta 0:00:16\n",
      "   ------------------------ --------------- 7.9/12.9 MB 319.9 kB/s eta 0:00:16\n",
      "   ------------------------ --------------- 7.9/12.9 MB 319.9 kB/s eta 0:00:16\n",
      "   ------------------------- -------------- 8.1/12.9 MB 321.4 kB/s eta 0:00:15\n",
      "   ------------------------- -------------- 8.1/12.9 MB 321.4 kB/s eta 0:00:15\n",
      "   ------------------------- -------------- 8.4/12.9 MB 325.9 kB/s eta 0:00:14\n",
      "   -------------------------- ------------- 8.7/12.9 MB 331.8 kB/s eta 0:00:13\n",
      "   -------------------------- ------------- 8.7/12.9 MB 331.8 kB/s eta 0:00:13\n",
      "   --------------------------- ------------ 8.9/12.9 MB 336.8 kB/s eta 0:00:12\n",
      "   --------------------------- ------------ 8.9/12.9 MB 336.8 kB/s eta 0:00:12\n",
      "   ---------------------------- ----------- 9.2/12.9 MB 342.4 kB/s eta 0:00:11\n",
      "   ----------------------------- ---------- 9.4/12.9 MB 348.3 kB/s eta 0:00:10\n",
      "   ----------------------------- ---------- 9.4/12.9 MB 348.3 kB/s eta 0:00:10\n",
      "   ----------------------------- ---------- 9.4/12.9 MB 348.3 kB/s eta 0:00:10\n",
      "   ------------------------------ --------- 9.7/12.9 MB 351.8 kB/s eta 0:00:10\n",
      "   ------------------------------ --------- 10.0/12.9 MB 356.4 kB/s eta 0:00:09\n",
      "   ------------------------------ --------- 10.0/12.9 MB 356.4 kB/s eta 0:00:09\n",
      "   ------------------------------- -------- 10.2/12.9 MB 361.2 kB/s eta 0:00:08\n",
      "   -------------------------------- ------- 10.5/12.9 MB 366.6 kB/s eta 0:00:07\n",
      "   -------------------------------- ------- 10.5/12.9 MB 366.6 kB/s eta 0:00:07\n",
      "   --------------------------------- ------ 10.7/12.9 MB 372.4 kB/s eta 0:00:06\n",
      "   ---------------------------------- ----- 11.0/12.9 MB 376.7 kB/s eta 0:00:06\n",
      "   ---------------------------------- ----- 11.0/12.9 MB 376.7 kB/s eta 0:00:06\n",
      "   ---------------------------------- ----- 11.3/12.9 MB 380.9 kB/s eta 0:00:05\n",
      "   ---------------------------------- ----- 11.3/12.9 MB 380.9 kB/s eta 0:00:05\n",
      "   ----------------------------------- ---- 11.5/12.9 MB 385.8 kB/s eta 0:00:04\n",
      "   ------------------------------------ --- 11.8/12.9 MB 390.6 kB/s eta 0:00:03\n",
      "   ------------------------------------- -- 12.1/12.9 MB 396.1 kB/s eta 0:00:03\n",
      "   ------------------------------------- -- 12.1/12.9 MB 396.1 kB/s eta 0:00:03\n",
      "   -------------------------------------- - 12.3/12.9 MB 407.9 kB/s eta 0:00:02\n",
      "   -------------------------------------- - 12.3/12.9 MB 407.9 kB/s eta 0:00:02\n",
      "   -------------------------------------- - 12.6/12.9 MB 411.8 kB/s eta 0:00:01\n",
      "   ---------------------------------------  12.8/12.9 MB 415.9 kB/s eta 0:00:01\n",
      "   ---------------------------------------- 12.9/12.9 MB 414.9 kB/s eta 0:00:00\n",
      "Downloading sentence_transformers-4.1.0-py3-none-any.whl (345 kB)\n",
      "Using cached pillow-11.2.1-cp311-cp311-win_amd64.whl (2.7 MB)\n",
      "Installing collected packages: Pillow, numpy, sentence-transformers, keybert\n",
      "\n",
      "   ---------------------------------------- 0/4 [Pillow]\n",
      "   ---------------------------------------- 0/4 [Pillow]\n",
      "   ---------------------------------------- 0/4 [Pillow]\n",
      "   ---------------------------------------- 0/4 [Pillow]\n",
      "   ---------------------------------------- 0/4 [Pillow]\n",
      "   ---------------------------------------- 0/4 [Pillow]\n",
      "   ---------------------------------------- 0/4 [Pillow]\n",
      "   ---------------------------------------- 0/4 [Pillow]\n",
      "   ---------------------------------------- 0/4 [Pillow]\n",
      "  Attempting uninstall: numpy\n",
      "   ---------------------------------------- 0/4 [Pillow]\n",
      "    Found existing installation: numpy 2.3.1\n",
      "   ---------------------------------------- 0/4 [Pillow]\n",
      "   ---------- ----------------------------- 1/4 [numpy]\n",
      "   ---------- ----------------------------- 1/4 [numpy]\n",
      "    Uninstalling numpy-2.3.1:\n",
      "   ---------- ----------------------------- 1/4 [numpy]\n",
      "   ---------- ----------------------------- 1/4 [numpy]\n",
      "      Successfully uninstalled numpy-2.3.1\n",
      "   ---------- ----------------------------- 1/4 [numpy]\n",
      "   ---------- ----------------------------- 1/4 [numpy]\n",
      "   ---------- ----------------------------- 1/4 [numpy]\n",
      "   ---------- ----------------------------- 1/4 [numpy]\n",
      "   ---------- ----------------------------- 1/4 [numpy]\n",
      "   ---------- ----------------------------- 1/4 [numpy]\n",
      "   ---------- ----------------------------- 1/4 [numpy]\n",
      "   ---------- ----------------------------- 1/4 [numpy]\n",
      "   ---------- ----------------------------- 1/4 [numpy]\n",
      "   ---------- ----------------------------- 1/4 [numpy]\n",
      "   ---------- ----------------------------- 1/4 [numpy]\n",
      "   ---------- ----------------------------- 1/4 [numpy]\n",
      "   ---------- ----------------------------- 1/4 [numpy]\n",
      "   ---------- ----------------------------- 1/4 [numpy]\n",
      "   ---------- ----------------------------- 1/4 [numpy]\n",
      "   ---------- ----------------------------- 1/4 [numpy]\n",
      "   ---------- ----------------------------- 1/4 [numpy]\n",
      "   ---------- ----------------------------- 1/4 [numpy]\n",
      "   ---------- ----------------------------- 1/4 [numpy]\n",
      "   ---------- ----------------------------- 1/4 [numpy]\n",
      "   ---------- ----------------------------- 1/4 [numpy]\n",
      "   ---------- ----------------------------- 1/4 [numpy]\n",
      "   ---------- ----------------------------- 1/4 [numpy]\n",
      "   ---------- ----------------------------- 1/4 [numpy]\n",
      "   ---------- ----------------------------- 1/4 [numpy]\n",
      "   ---------- ----------------------------- 1/4 [numpy]\n",
      "   ---------- ----------------------------- 1/4 [numpy]\n",
      "   ---------- ----------------------------- 1/4 [numpy]\n",
      "   ---------- ----------------------------- 1/4 [numpy]\n",
      "   ---------- ----------------------------- 1/4 [numpy]\n",
      "   ---------- ----------------------------- 1/4 [numpy]\n",
      "   ---------- ----------------------------- 1/4 [numpy]\n",
      "   ---------- ----------------------------- 1/4 [numpy]\n",
      "   ---------- ----------------------------- 1/4 [numpy]\n",
      "   ---------- ----------------------------- 1/4 [numpy]\n",
      "   ---------- ----------------------------- 1/4 [numpy]\n",
      "   ---------- ----------------------------- 1/4 [numpy]\n",
      "   ---------- ----------------------------- 1/4 [numpy]\n",
      "   ---------- ----------------------------- 1/4 [numpy]\n",
      "   ---------- ----------------------------- 1/4 [numpy]\n",
      "   ---------- ----------------------------- 1/4 [numpy]\n",
      "   ---------- ----------------------------- 1/4 [numpy]\n",
      "   ---------- ----------------------------- 1/4 [numpy]\n",
      "   ---------- ----------------------------- 1/4 [numpy]\n",
      "   ---------- ----------------------------- 1/4 [numpy]\n",
      "   ---------- ----------------------------- 1/4 [numpy]\n",
      "   ---------- ----------------------------- 1/4 [numpy]\n",
      "   ---------- ----------------------------- 1/4 [numpy]\n",
      "   ---------- ----------------------------- 1/4 [numpy]\n",
      "   ---------- ----------------------------- 1/4 [numpy]\n",
      "   ---------- ----------------------------- 1/4 [numpy]\n",
      "   ---------- ----------------------------- 1/4 [numpy]\n",
      "   ---------- ----------------------------- 1/4 [numpy]\n",
      "   ---------- ----------------------------- 1/4 [numpy]\n",
      "   ---------- ----------------------------- 1/4 [numpy]\n",
      "   ---------- ----------------------------- 1/4 [numpy]\n",
      "   ---------- ----------------------------- 1/4 [numpy]\n",
      "   ---------- ----------------------------- 1/4 [numpy]\n",
      "   ---------- ----------------------------- 1/4 [numpy]\n",
      "   ---------- ----------------------------- 1/4 [numpy]\n",
      "   ---------- ----------------------------- 1/4 [numpy]\n",
      "   ---------- ----------------------------- 1/4 [numpy]\n",
      "   ---------- ----------------------------- 1/4 [numpy]\n",
      "   ---------- ----------------------------- 1/4 [numpy]\n",
      "   ---------- ----------------------------- 1/4 [numpy]\n",
      "   ---------- ----------------------------- 1/4 [numpy]\n",
      "   ---------- ----------------------------- 1/4 [numpy]\n",
      "   ---------- ----------------------------- 1/4 [numpy]\n",
      "   ---------- ----------------------------- 1/4 [numpy]\n",
      "   ---------- ----------------------------- 1/4 [numpy]\n",
      "   ---------- ----------------------------- 1/4 [numpy]\n",
      "   ---------- ----------------------------- 1/4 [numpy]\n",
      "   ---------- ----------------------------- 1/4 [numpy]\n",
      "   ---------- ----------------------------- 1/4 [numpy]\n",
      "   ---------- ----------------------------- 1/4 [numpy]\n",
      "   ---------- ----------------------------- 1/4 [numpy]\n",
      "   ---------- ----------------------------- 1/4 [numpy]\n",
      "   ---------- ----------------------------- 1/4 [numpy]\n",
      "   ---------- ----------------------------- 1/4 [numpy]\n",
      "   ---------- ----------------------------- 1/4 [numpy]\n",
      "   ---------- ----------------------------- 1/4 [numpy]\n",
      "   ---------- ----------------------------- 1/4 [numpy]\n",
      "   ---------- ----------------------------- 1/4 [numpy]\n",
      "   ---------- ----------------------------- 1/4 [numpy]\n",
      "   ---------- ----------------------------- 1/4 [numpy]\n",
      "   ---------- ----------------------------- 1/4 [numpy]\n",
      "   ---------- ----------------------------- 1/4 [numpy]\n",
      "   ---------- ----------------------------- 1/4 [numpy]\n",
      "   ---------- ----------------------------- 1/4 [numpy]\n",
      "   ---------- ----------------------------- 1/4 [numpy]\n",
      "   ---------- ----------------------------- 1/4 [numpy]\n",
      "   ---------- ----------------------------- 1/4 [numpy]\n",
      "   ---------- ----------------------------- 1/4 [numpy]\n",
      "   ---------- ----------------------------- 1/4 [numpy]\n",
      "   -------------------- ------------------- 2/4 [sentence-transformers]\n",
      "   -------------------- ------------------- 2/4 [sentence-transformers]\n",
      "   -------------------- ------------------- 2/4 [sentence-transformers]\n",
      "   -------------------- ------------------- 2/4 [sentence-transformers]\n",
      "   -------------------- ------------------- 2/4 [sentence-transformers]\n",
      "   -------------------- ------------------- 2/4 [sentence-transformers]\n",
      "   -------------------- ------------------- 2/4 [sentence-transformers]\n",
      "   -------------------- ------------------- 2/4 [sentence-transformers]\n",
      "   -------------------- ------------------- 2/4 [sentence-transformers]\n",
      "   -------------------- ------------------- 2/4 [sentence-transformers]\n",
      "   ------------------------------ --------- 3/4 [keybert]\n",
      "   ------------------------------ --------- 3/4 [keybert]\n",
      "   ---------------------------------------- 4/4 [keybert]\n",
      "\n",
      "Successfully installed Pillow-11.2.1 keybert-0.9.0 numpy-2.2.6 sentence-transformers-4.1.0\n",
      "Note: you may need to restart the kernel to use updated packages.\n"
     ]
    },
    {
     "name": "stderr",
     "output_type": "stream",
     "text": [
      "  WARNING: Failed to remove contents in a temporary directory 'C:\\Users\\Admin\\Desktop\\AI-ML_QB\\Gen_AI\\.venv\\Lib\\site-packages\\~-mpy.libs'.\n",
      "  You can safely remove it manually.\n",
      "  WARNING: Failed to remove contents in a temporary directory 'C:\\Users\\Admin\\Desktop\\AI-ML_QB\\Gen_AI\\.venv\\Lib\\site-packages\\~-mpy'.\n",
      "  You can safely remove it manually.\n",
      "ERROR: pip's dependency resolver does not currently take into account all the packages that are installed. This behaviour is the source of the following dependency conflicts.\n",
      "gensim 4.3.3 requires numpy<2.0,>=1.18.5, but you have numpy 2.2.6 which is incompatible.\n"
     ]
    }
   ],
   "source": [
    "pip install keybert"
   ]
  },
  {
   "cell_type": "code",
   "execution_count": 51,
   "id": "94cc2413",
   "metadata": {},
   "outputs": [
    {
     "name": "stderr",
     "output_type": "stream",
     "text": [
      "Xet Storage is enabled for this repo, but the 'hf_xet' package is not installed. Falling back to regular HTTP download. For better performance, install the package with: `pip install huggingface_hub[hf_xet]` or `pip install hf_xet`\n"
     ]
    }
   ],
   "source": [
    "from keybert import KeyBERT\n",
    "\n",
    "k_model = KeyBERT(model=\"all-MiniLM-L6-v2\")\n",
    "\n",
    "text = \"\"\"\n",
    "Artificial Intelligence and Machine Learning are rapidly transforming industries. \n",
    "Technologies like natural language processing, neural networks, and computer vision are becoming essential tools in business and research.\n",
    "\"\"\"\n"
   ]
  },
  {
   "cell_type": "code",
   "execution_count": 52,
   "id": "5408e851",
   "metadata": {},
   "outputs": [
    {
     "data": {
      "text/plain": [
       "[('machine learning rapidly', 0.5725),\n",
       " ('artificial intelligence', 0.538),\n",
       " ('artificial intelligence machine', 0.5206),\n",
       " ('intelligence machine learning', 0.5128),\n",
       " ('machine learning', 0.4996)]"
      ]
     },
     "execution_count": 52,
     "metadata": {},
     "output_type": "execute_result"
    }
   ],
   "source": [
    "keywords = k_model.extract_keywords(text,keyphrase_ngram_range=(1,3),stop_words='english')\n",
    "\n",
    "keywords"
   ]
  },
  {
   "cell_type": "markdown",
   "id": "b0d3d2e5",
   "metadata": {},
   "source": [
    "Cross-validataions"
   ]
  },
  {
   "cell_type": "code",
   "execution_count": null,
   "id": "842f5f95",
   "metadata": {},
   "outputs": [
    {
     "ename": "ValueError",
     "evalue": "Cannot have number of splits n_splits=5 greater than the number of samples: n_samples=1.",
     "output_type": "error",
     "traceback": [
      "\u001b[31m---------------------------------------------------------------------------\u001b[39m",
      "\u001b[31mValueError\u001b[39m                                Traceback (most recent call last)",
      "\u001b[36mCell\u001b[39m\u001b[36m \u001b[39m\u001b[32mIn[64]\u001b[39m\u001b[32m, line 3\u001b[39m\n\u001b[32m      1\u001b[39m \u001b[38;5;28;01mfrom\u001b[39;00m\u001b[38;5;250m \u001b[39m\u001b[34;01msklearn\u001b[39;00m\u001b[34;01m.\u001b[39;00m\u001b[34;01mmodel_selection\u001b[39;00m\u001b[38;5;250m \u001b[39m\u001b[38;5;28;01mimport\u001b[39;00m KFold\n\u001b[32m      2\u001b[39m kf = KFold(n_splits=\u001b[32m5\u001b[39m)\n\u001b[32m----> \u001b[39m\u001b[32m3\u001b[39m \u001b[38;5;28;43;01mfor\u001b[39;49;00m\u001b[43m \u001b[49m\u001b[43mtrain_index\u001b[49m\u001b[43m,\u001b[49m\u001b[43mtest_index\u001b[49m\u001b[43m \u001b[49m\u001b[38;5;129;43;01min\u001b[39;49;00m\u001b[43m \u001b[49m\u001b[43mkf\u001b[49m\u001b[43m.\u001b[49m\u001b[43msplit\u001b[49m\u001b[43m(\u001b[49m\u001b[33;43m'\u001b[39;49m\u001b[33;43m,\u001b[39;49m\u001b[33;43m'\u001b[39;49m\u001b[43m)\u001b[49m\u001b[43m:\u001b[49m\n\u001b[32m      4\u001b[39m \u001b[43m    \u001b[49m\u001b[38;5;28;43mprint\u001b[39;49m\u001b[43m(\u001b[49m\u001b[43mtrain_index\u001b[49m\u001b[43m,\u001b[49m\u001b[43mtest_index\u001b[49m\u001b[43m)\u001b[49m\n",
      "\u001b[36mFile \u001b[39m\u001b[32mc:\\Users\\Admin\\Desktop\\AI-ML_QB\\Gen_AI\\.venv\\Lib\\site-packages\\sklearn\\model_selection\\_split.py:404\u001b[39m, in \u001b[36m_BaseKFold.split\u001b[39m\u001b[34m(self, X, y, groups)\u001b[39m\n\u001b[32m    402\u001b[39m n_samples = _num_samples(X)\n\u001b[32m    403\u001b[39m \u001b[38;5;28;01mif\u001b[39;00m \u001b[38;5;28mself\u001b[39m.n_splits > n_samples:\n\u001b[32m--> \u001b[39m\u001b[32m404\u001b[39m     \u001b[38;5;28;01mraise\u001b[39;00m \u001b[38;5;167;01mValueError\u001b[39;00m(\n\u001b[32m    405\u001b[39m         (\n\u001b[32m    406\u001b[39m             \u001b[33m\"\u001b[39m\u001b[33mCannot have number of splits n_splits=\u001b[39m\u001b[38;5;132;01m{0}\u001b[39;00m\u001b[33m greater\u001b[39m\u001b[33m\"\u001b[39m\n\u001b[32m    407\u001b[39m             \u001b[33m\"\u001b[39m\u001b[33m than the number of samples: n_samples=\u001b[39m\u001b[38;5;132;01m{1}\u001b[39;00m\u001b[33m.\u001b[39m\u001b[33m\"\u001b[39m\n\u001b[32m    408\u001b[39m         ).format(\u001b[38;5;28mself\u001b[39m.n_splits, n_samples)\n\u001b[32m    409\u001b[39m     )\n\u001b[32m    411\u001b[39m \u001b[38;5;28;01mfor\u001b[39;00m train, test \u001b[38;5;129;01min\u001b[39;00m \u001b[38;5;28msuper\u001b[39m().split(X, y, groups):\n\u001b[32m    412\u001b[39m     \u001b[38;5;28;01myield\u001b[39;00m train, test\n",
      "\u001b[31mValueError\u001b[39m: Cannot have number of splits n_splits=5 greater than the number of samples: n_samples=1."
     ]
    }
   ],
   "source": []
  },
  {
   "cell_type": "code",
   "execution_count": 62,
   "id": "68398c2f",
   "metadata": {},
   "outputs": [
    {
     "ename": "TypeError",
     "evalue": "Input should have at least 1 dimension i.e. satisfy `len(x.shape) > 0`, got scalar `array(3)` instead.",
     "output_type": "error",
     "traceback": [
      "\u001b[31m---------------------------------------------------------------------------\u001b[39m",
      "\u001b[31mTypeError\u001b[39m                                 Traceback (most recent call last)",
      "\u001b[36mCell\u001b[39m\u001b[36m \u001b[39m\u001b[32mIn[62]\u001b[39m\u001b[32m, line 4\u001b[39m\n\u001b[32m      1\u001b[39m \u001b[38;5;28;01mfrom\u001b[39;00m\u001b[38;5;250m \u001b[39m\u001b[34;01msklearn\u001b[39;00m\u001b[34;01m.\u001b[39;00m\u001b[34;01mmodel_selection\u001b[39;00m\u001b[38;5;250m \u001b[39m\u001b[38;5;28;01mimport\u001b[39;00m StratifiedKFold\n\u001b[32m      3\u001b[39m skf = StratifiedKFold(n_splits=\u001b[32m5\u001b[39m)\n\u001b[32m----> \u001b[39m\u001b[32m4\u001b[39m \u001b[38;5;28;01mfor\u001b[39;00m train_index, test_index \u001b[38;5;129;01min\u001b[39;00m \u001b[43mskf\u001b[49m\u001b[43m.\u001b[49m\u001b[43msplit\u001b[49m\u001b[43m(\u001b[49m\u001b[32;43m1\u001b[39;49m\u001b[43m,\u001b[49m\u001b[32;43m3\u001b[39;49m\u001b[43m)\u001b[49m:\n\u001b[32m      5\u001b[39m     \u001b[38;5;28mprint\u001b[39m(\u001b[33m\"\u001b[39m\u001b[33mTrain:\u001b[39m\u001b[33m\"\u001b[39m, train_index, \u001b[33m\"\u001b[39m\u001b[33mTest:\u001b[39m\u001b[33m\"\u001b[39m, test_index)\n",
      "\u001b[36mFile \u001b[39m\u001b[32mc:\\Users\\Admin\\Desktop\\AI-ML_QB\\Gen_AI\\.venv\\Lib\\site-packages\\sklearn\\model_selection\\_split.py:887\u001b[39m, in \u001b[36mStratifiedKFold.split\u001b[39m\u001b[34m(self, X, y, groups)\u001b[39m\n\u001b[32m    882\u001b[39m \u001b[38;5;28;01mif\u001b[39;00m groups \u001b[38;5;129;01mis\u001b[39;00m \u001b[38;5;129;01mnot\u001b[39;00m \u001b[38;5;28;01mNone\u001b[39;00m:\n\u001b[32m    883\u001b[39m     warnings.warn(\n\u001b[32m    884\u001b[39m         \u001b[33mf\u001b[39m\u001b[33m\"\u001b[39m\u001b[33mThe groups parameter is ignored by \u001b[39m\u001b[38;5;132;01m{\u001b[39;00m\u001b[38;5;28mself\u001b[39m.\u001b[34m__class__\u001b[39m.\u001b[34m__name__\u001b[39m\u001b[38;5;132;01m}\u001b[39;00m\u001b[33m\"\u001b[39m,\n\u001b[32m    885\u001b[39m         \u001b[38;5;167;01mUserWarning\u001b[39;00m,\n\u001b[32m    886\u001b[39m     )\n\u001b[32m--> \u001b[39m\u001b[32m887\u001b[39m y = \u001b[43mcheck_array\u001b[49m\u001b[43m(\u001b[49m\u001b[43my\u001b[49m\u001b[43m,\u001b[49m\u001b[43m \u001b[49m\u001b[43minput_name\u001b[49m\u001b[43m=\u001b[49m\u001b[33;43m\"\u001b[39;49m\u001b[33;43my\u001b[39;49m\u001b[33;43m\"\u001b[39;49m\u001b[43m,\u001b[49m\u001b[43m \u001b[49m\u001b[43mensure_2d\u001b[49m\u001b[43m=\u001b[49m\u001b[38;5;28;43;01mFalse\u001b[39;49;00m\u001b[43m,\u001b[49m\u001b[43m \u001b[49m\u001b[43mdtype\u001b[49m\u001b[43m=\u001b[49m\u001b[38;5;28;43;01mNone\u001b[39;49;00m\u001b[43m)\u001b[49m\n\u001b[32m    888\u001b[39m \u001b[38;5;28;01mreturn\u001b[39;00m \u001b[38;5;28msuper\u001b[39m().split(X, y, groups)\n",
      "\u001b[36mFile \u001b[39m\u001b[32mc:\\Users\\Admin\\Desktop\\AI-ML_QB\\Gen_AI\\.venv\\Lib\\site-packages\\sklearn\\utils\\validation.py:1126\u001b[39m, in \u001b[36mcheck_array\u001b[39m\u001b[34m(array, accept_sparse, accept_large_sparse, dtype, order, copy, force_writeable, force_all_finite, ensure_all_finite, ensure_non_negative, ensure_2d, allow_nd, ensure_min_samples, ensure_min_features, estimator, input_name)\u001b[39m\n\u001b[32m   1121\u001b[39m             array = _asarray_with_order(\n\u001b[32m   1122\u001b[39m                 array, dtype=dtype, order=order, copy=\u001b[38;5;28;01mTrue\u001b[39;00m, xp=xp\n\u001b[32m   1123\u001b[39m             )\n\u001b[32m   1125\u001b[39m \u001b[38;5;28;01mif\u001b[39;00m ensure_min_samples > \u001b[32m0\u001b[39m:\n\u001b[32m-> \u001b[39m\u001b[32m1126\u001b[39m     n_samples = \u001b[43m_num_samples\u001b[49m\u001b[43m(\u001b[49m\u001b[43marray\u001b[49m\u001b[43m)\u001b[49m\n\u001b[32m   1127\u001b[39m     \u001b[38;5;28;01mif\u001b[39;00m n_samples < ensure_min_samples:\n\u001b[32m   1128\u001b[39m         \u001b[38;5;28;01mraise\u001b[39;00m \u001b[38;5;167;01mValueError\u001b[39;00m(\n\u001b[32m   1129\u001b[39m             \u001b[33m\"\u001b[39m\u001b[33mFound array with \u001b[39m\u001b[38;5;132;01m%d\u001b[39;00m\u001b[33m sample(s) (shape=\u001b[39m\u001b[38;5;132;01m%s\u001b[39;00m\u001b[33m) while a\u001b[39m\u001b[33m\"\u001b[39m\n\u001b[32m   1130\u001b[39m             \u001b[33m\"\u001b[39m\u001b[33m minimum of \u001b[39m\u001b[38;5;132;01m%d\u001b[39;00m\u001b[33m is required\u001b[39m\u001b[38;5;132;01m%s\u001b[39;00m\u001b[33m.\u001b[39m\u001b[33m\"\u001b[39m\n\u001b[32m   1131\u001b[39m             % (n_samples, array.shape, ensure_min_samples, context)\n\u001b[32m   1132\u001b[39m         )\n",
      "\u001b[36mFile \u001b[39m\u001b[32mc:\\Users\\Admin\\Desktop\\AI-ML_QB\\Gen_AI\\.venv\\Lib\\site-packages\\sklearn\\utils\\validation.py:399\u001b[39m, in \u001b[36m_num_samples\u001b[39m\u001b[34m(x)\u001b[39m\n\u001b[32m    397\u001b[39m \u001b[38;5;28;01mif\u001b[39;00m \u001b[38;5;28mhasattr\u001b[39m(x, \u001b[33m\"\u001b[39m\u001b[33mshape\u001b[39m\u001b[33m\"\u001b[39m) \u001b[38;5;129;01mand\u001b[39;00m x.shape \u001b[38;5;129;01mis\u001b[39;00m \u001b[38;5;129;01mnot\u001b[39;00m \u001b[38;5;28;01mNone\u001b[39;00m:\n\u001b[32m    398\u001b[39m     \u001b[38;5;28;01mif\u001b[39;00m \u001b[38;5;28mlen\u001b[39m(x.shape) == \u001b[32m0\u001b[39m:\n\u001b[32m--> \u001b[39m\u001b[32m399\u001b[39m         \u001b[38;5;28;01mraise\u001b[39;00m \u001b[38;5;167;01mTypeError\u001b[39;00m(\n\u001b[32m    400\u001b[39m             \u001b[33m\"\u001b[39m\u001b[33mInput should have at least 1 dimension i.e. satisfy \u001b[39m\u001b[33m\"\u001b[39m\n\u001b[32m    401\u001b[39m             \u001b[33mf\u001b[39m\u001b[33m\"\u001b[39m\u001b[33m`len(x.shape) > 0`, got scalar `\u001b[39m\u001b[38;5;132;01m{\u001b[39;00mx\u001b[38;5;132;01m!r}\u001b[39;00m\u001b[33m` instead.\u001b[39m\u001b[33m\"\u001b[39m\n\u001b[32m    402\u001b[39m         )\n\u001b[32m    403\u001b[39m     \u001b[38;5;66;03m# Check that shape is returning an integer or default to len\u001b[39;00m\n\u001b[32m    404\u001b[39m     \u001b[38;5;66;03m# Dask dataframes may not return numeric shape[0] value\u001b[39;00m\n\u001b[32m    405\u001b[39m     \u001b[38;5;28;01mif\u001b[39;00m \u001b[38;5;28misinstance\u001b[39m(x.shape[\u001b[32m0\u001b[39m], numbers.Integral):\n",
      "\u001b[31mTypeError\u001b[39m: Input should have at least 1 dimension i.e. satisfy `len(x.shape) > 0`, got scalar `array(3)` instead."
     ]
    }
   ],
   "source": [
    "from sklearn.model_selection import StratifiedKFold\n",
    "\n",
    "skf = StratifiedKFold(n_splits=5)\n",
    "for train_index, test_index in skf.split(1,3):\n",
    "    print(\"Train:\", train_index, \"Test:\", test_index)"
   ]
  },
  {
   "cell_type": "code",
   "execution_count": 71,
   "id": "0c78d57c",
   "metadata": {},
   "outputs": [],
   "source": [
    "\n",
    "import matplotlib.pyplot as plt"
   ]
  },
  {
   "cell_type": "code",
   "execution_count": 72,
   "id": "c4561317",
   "metadata": {},
   "outputs": [
    {
     "data": {
      "image/png": "[encoded data removed]",
      "text/plain": [
       "<Figure size 640x480 with 1 Axes>"
      ]
     },
     "metadata": {},
     "output_type": "display_data"
    }
   ],
   "source": [
    "from sklearn.datasets import make_classification\n",
    "from sklearn.model_selection import train_test_split\n",
    "from sklearn.linear_model import LogisticRegression\n",
    "from sklearn.metrics import roc_curve, roc_auc_score\n",
    "\n",
    "\n",
    "# Step 1: Create sample binary classification data\n",
    "X, y = make_classification(n_samples=1000, n_classes=2, weights=[0.7, 0.3], random_state=42)\n",
    "\n",
    "# Step 2: Split data\n",
    "X_train, X_test, y_train, y_test = train_test_split(X, y, test_size=0.3, random_state=42)\n",
    "\n",
    "# Step 3: Train classifier\n",
    "model = LogisticRegression()\n",
    "model.fit(X_train, y_train)\n",
    "\n",
    "# Step 4: Get predicted probabilities\n",
    "y_probs = model.predict_proba(X_test)[:, 1]  # probability of positive class\n",
    "\n",
    "# Step 5: Calculate ROC and AUC\n",
    "fpr, tpr, thresholds = roc_curve(y_test, y_probs)\n",
    "auc_score = roc_auc_score(y_test, y_probs)\n",
    "\n",
    "# Step 6: Plot ROC Curve\n",
    "plt.figure()\n",
    "plt.plot(fpr, tpr, label=f\"ROC Curve (AUC = {auc_score:.2f})\")\n",
    "plt.plot([0, 1], [0, 1], linestyle='--', color='gray')  # random guess line\n",
    "plt.xlabel(\"False Positive Rate\")\n",
    "plt.ylabel(\"True Positive Rate (Recall)\")\n",
    "plt.title(\"ROC Curve\")\n",
    "plt.legend()\n",
    "plt.grid()\n",
    "plt.show()\n"
   ]
  },
  {
   "cell_type": "code",
   "execution_count": null,
   "id": "8e1231ce",
   "metadata": {},
   "outputs": [],
   "source": []
  }
 ],
 "metadata": {
  "kernelspec": {
   "display_name": ".venv",
   "language": "python",
   "name": "python3"
  },
  "language_info": {
   "codemirror_mode": {
    "name": "ipython",
    "version": 3
   },
   "file_extension": ".py",
   "mimetype": "text/x-python",
   "name": "python",
   "nbconvert_exporter": "python",
   "pygments_lexer": "ipython3",
   "version": "3.11.9"
  }
 },
 "nbformat": 4,
 "nbformat_minor": 5
}
