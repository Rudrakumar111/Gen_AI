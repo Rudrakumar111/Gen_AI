{
 "cells": [
  {
   "cell_type": "code",
   "execution_count": 14,
   "id": "f388bb66",
   "metadata": {},
   "outputs": [
    {
     "data": {
      "text/plain": [
       "<generator object Client._request.<locals>.inner at 0x0000016C1FC70AF0>"
      ]
     },
     "execution_count": 14,
     "metadata": {},
     "output_type": "execute_result"
    }
   ],
   "source": [
    "from ollama import chat\n",
    "from ollama import ChatResponse\n",
    "from langchain_community.llms import Ollama\n",
    "\n",
    "stream = chat(\n",
    "    model = 'llama3.2:3b',\n",
    "    messages = [{'role':'use','content':\"Why is the sky blue?\"}],\n",
    "    stream = True,\n",
    ")\n",
    "\n",
    "stream"
   ]
  },
  {
   "cell_type": "code",
   "execution_count": 12,
   "id": "da89a47f",
   "metadata": {},
   "outputs": [],
   "source": [
    "llm = Ollama(model=\"llama3.2:3b\")"
   ]
  },
  {
   "cell_type": "code",
   "execution_count": 13,
   "id": "8b413d28",
   "metadata": {},
   "outputs": [
    {
     "data": {
      "text/plain": [
       "'The capital of India is New Delhi.'"
      ]
     },
     "execution_count": 13,
     "metadata": {},
     "output_type": "execute_result"
    }
   ],
   "source": [
    "llm.invoke(\"what is capital of india\")"
   ]
  },
  {
   "cell_type": "code",
   "execution_count": null,
   "id": "b8c43651",
   "metadata": {},
   "outputs": [],
   "source": []
  }
 ],
 "metadata": {
  "kernelspec": {
   "display_name": ".venv",
   "language": "python",
   "name": "python3"
  },
  "language_info": {
   "codemirror_mode": {
    "name": "ipython",
    "version": 3
   },
   "file_extension": ".py",
   "mimetype": "text/x-python",
   "name": "python",
   "nbconvert_exporter": "python",
   "pygments_lexer": "ipython3",
   "version": "3.11.9"
  }
 },
 "nbformat": 4,
 "nbformat_minor": 5
}
