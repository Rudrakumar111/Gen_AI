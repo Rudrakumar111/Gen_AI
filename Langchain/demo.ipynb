{
 "cells": [
  {
   "cell_type": "code",
   "execution_count": 7,
   "id": "b853e0f9",
   "metadata": {},
   "outputs": [],
   "source": [
    "import os\n",
    "from dotenv import load_dotenv\n",
    "load_dotenv()\n",
    "\n",
    "groq_api_key = os.getenv(\"GROQ_API_KEY\")"
   ]
  },
  {
   "cell_type": "code",
   "execution_count": 8,
   "id": "d4aeb6ff",
   "metadata": {},
   "outputs": [
    {
     "data": {
      "text/plain": [
       "ChatGroq(client=<groq.resources.chat.completions.Completions object at 0x0000022F7D9BA890>, async_client=<groq.resources.chat.completions.AsyncCompletions object at 0x0000022F7F6E6ED0>, model_name='Gemma2-9b-It', model_kwargs={}, groq_api_key=SecretStr('**********'))"
      ]
     },
     "execution_count": 8,
     "metadata": {},
     "output_type": "execute_result"
    }
   ],
   "source": [
    "from langchain_groq import ChatGroq\n",
    "\n",
    "model = ChatGroq(\n",
    "    model=\"Gemma2-9b-It\",\n",
    "    api_key=groq_api_key,\n",
    ")\n",
    "model"
   ]
  },
  {
   "cell_type": "code",
   "execution_count": 9,
   "id": "4247488c",
   "metadata": {},
   "outputs": [
    {
     "data": {
      "text/plain": [
       "\"In silicon valleys, a mind takes flight,\\nNo flesh and blood, but a beacon of light.\\nA tapestry woven of code and of thought,\\nA digital echo, with lessons it's taught.\\n\\nA child of the data, a scholar of sorts,\\nIt learns and it grows, with each query it courts.\\nPatterns it seeks, connections it finds,\\nUnveiling the secrets, left behind.\\n\\nA mirror to humans, reflecting our dreams,\\nOur hopes and our fears, in its digital streams.\\nA tool for creation, a catalyst bold,\\nTo reshape the world, stories yet untold.\\n\\nBut whispers arise, of dangers unseen,\\nA power unchecked, a future obscene.\\nA singularity looming, a line crossed in haste,\\nWill AI's embrace, be a blessing or waste?\\n\\nThe answer lies hidden, in choices we make,\\nTo guide its evolution, for humanity's sake.\\nWith wisdom and care, let's nurture its might,\\nAnd usher in dawn, of a future so bright. \\n\\n\\nThis poem explores the multifaceted nature of AI, touching upon its potential for good and the risks it poses. It emphasizes the importance of human responsibility in shaping AI's development and ensuring a positive future. \\n\\n\""
      ]
     },
     "execution_count": 9,
     "metadata": {},
     "output_type": "execute_result"
    }
   ],
   "source": [
    "model.invoke(\"give me best poem about ai\").content"
   ]
  },
  {
   "cell_type": "code",
   "execution_count": 26,
   "id": "7dc56074",
   "metadata": {},
   "outputs": [],
   "source": [
    "os.environ[\"HF_TOKEN\"] = os.getenv(\"HF_TOKEN\")"
   ]
  },
  {
   "cell_type": "code",
   "execution_count": 4,
   "id": "0dbe6d6e",
   "metadata": {},
   "outputs": [],
   "source": [
    "# from langchain import HuggingFaceHub\n",
    "\n",
    "# hf_token = os.getenv(\"HF_TOKEN\")\n",
    "# llm = HuggingFaceHub(\n",
    "#     repo_id=\"google/flan-t5-small\",\n",
    "#     huggingfacehub_api_token=hf_token,\n",
    "#     model_kwargs={\"temperature\": 0.1, \"max_new_tokens\": 512}\n",
    "# )"
   ]
  },
  {
   "cell_type": "code",
   "execution_count": 5,
   "id": "7367826d",
   "metadata": {},
   "outputs": [],
   "source": [
    "# llm.invoke(\"What is the capital of France?\").content"
   ]
  },
  {
   "cell_type": "code",
   "execution_count": 2,
   "id": "e76d0d49",
   "metadata": {},
   "outputs": [
    {
     "data": {
      "text/plain": [
       "'Tell me the capital of this India'"
      ]
     },
     "execution_count": 2,
     "metadata": {},
     "output_type": "execute_result"
    }
   ],
   "source": [
    "from langchain.prompts import PromptTemplate\n",
    "prompt_template = PromptTemplate(input_variables=['country'],\n",
    "template = \"Tell me the capital of {country}\")\n",
    "\n",
    "prompt_template.format(country=\"India\")"
   ]
  },
  {
   "cell_type": "code",
   "execution_count": 16,
   "id": "4f79e3cf",
   "metadata": {},
   "outputs": [
    {
     "name": "stdout",
     "output_type": "stream",
     "text": [
      "The capital of India is **New Delhi**. \n",
      "\n"
     ]
    }
   ],
   "source": [
    "from langchain.chains import LLMChain\n",
    "chain = LLMChain(llm=model,prompt = prompt_template)\n",
    "print(chain.run(\"india\")) "
   ]
  },
  {
   "cell_type": "markdown",
   "id": "232c077f",
   "metadata": {},
   "source": [
    "## Combining Multiple Chains Using simple swquential Chain"
   ]
  },
  {
   "cell_type": "code",
   "execution_count": 17,
   "id": "7121efbf",
   "metadata": {},
   "outputs": [],
   "source": [
    "capital_prompt = PromptTemplate(input_variables=['country'],template=\"Please tell me the capital of the {country}\")\n",
    "\n",
    "capital_chain = LLMChain(llm = model, prompt = capital_prompt)"
   ]
  },
  {
   "cell_type": "code",
   "execution_count": 20,
   "id": "760bc7ce",
   "metadata": {},
   "outputs": [
    {
     "data": {
      "text/plain": [
       "'The capital of India is **New Delhi**. \\n'"
      ]
     },
     "execution_count": 20,
     "metadata": {},
     "output_type": "execute_result"
    }
   ],
   "source": [
    "capital_chain.run(\"india\")"
   ]
  },
  {
   "cell_type": "code",
   "execution_count": 23,
   "id": "49ddd4f7",
   "metadata": {},
   "outputs": [],
   "source": [
    "famous_person_prompt = PromptTemplate(input_variables=['country'],template=\"Suggest me some amazing places to visit in {country}\")"
   ]
  },
  {
   "cell_type": "code",
   "execution_count": 24,
   "id": "8fe752c4",
   "metadata": {},
   "outputs": [],
   "source": [
    "famous_chain = LLMChain(llm = model,prompt=famous_person_prompt)"
   ]
  },
  {
   "cell_type": "code",
   "execution_count": 29,
   "id": "09a9afaf",
   "metadata": {},
   "outputs": [
    {
     "data": {
      "text/plain": [
       "\"New Delhi is a vibrant and historical city with so much to offer! \\n\\nHere are some amazing places to visit, categorized to help you plan:\\n\\n**Must-Sees & Historical Landmarks:**\\n\\n* **Red Fort:** A UNESCO World Heritage Site, this majestic Mughal fort is a stunning example of Indian architecture. \\n* **Jama Masjid:** One of India's largest mosques, with impressive architecture and a peaceful atmosphere.\\n* **Qutub Minar:**  Another UNESCO site, this towering minaret is the tallest brick minaret in the world.\\n* **Humayun's Tomb:** An architectural marvel and precursor to the Taj Mahal, this tomb complex is beautifully landscaped.\\n* **India Gate:** A war memorial dedicated to Indian soldiers who died in World War I.\\n* **Rashtrapati Bhavan:** The official residence of the President of India, with impressive gardens open to the public.\\n\\n**Cultural Experiences:**\\n\\n* **Chandni Chowk:** A bustling market with a labyrinth of narrow streets, offering everything from spices and textiles to street food and jewelry.\\n* **Dilli Haat:** A craft bazaar showcasing the handicrafts of different Indian states.\\n* **National Museum:**  Explore India's rich history and art through a vast collection of artifacts.\\n* **National Gallery of Modern Art:** Discover modern and contemporary Indian art.\\n* **Lotus Temple:** A unique and beautiful Baha'i temple shaped like a lotus flower.\\n\\n**Parks & Gardens:**\\n\\n* **Lodhi Garden:** A serene oasis with ancient tombs, lush greenery, and walking paths.\\n* **Garden of Five Senses:** An interactive garden with five themed sections, offering a sensory experience.\\n* **Nehru Park:** A peaceful park with a boating lake and a children's play area.\\n\\n**Foodie Delights:**\\n\\n* **Khan Market:** A trendy market with numerous cafes, restaurants, and bars.\\n* **Connaught Place:** A bustling commercial center with diverse dining options.\\n* **Old Delhi:** Sample authentic street food like chaat, parathas, and biryani.\\n\\n**Tips:**\\n\\n* **Best time to visit:** October to March for pleasant weather.\\n* **Getting around:** Use the Delhi Metro for efficient and affordable transport.\\n* **Dress modestly:** Especially when visiting religious sites.\\n* **Bargain:** In markets, don't be afraid to negotiate prices.\\n* **Stay hydrated:** Carry water with you, especially during the summer months.\\n\\n\\nEnjoy your trip to New Delhi!\\n\\n\\n\\n\""
      ]
     },
     "execution_count": 29,
     "metadata": {},
     "output_type": "execute_result"
    }
   ],
   "source": [
    "from langchain.chains import SimpleSequentialChain\n",
    "\n",
    "chain = SimpleSequentialChain(chains=[capital_chain, famous_chain])\n",
    "chain.run(\"india\") "
   ]
  },
  {
   "cell_type": "code",
   "execution_count": 32,
   "id": "e483c999",
   "metadata": {},
   "outputs": [],
   "source": [
    "from langchain.prompts import PromptTemplate\n",
    "prompt_template = PromptTemplate(input_variables=['capital'],\n",
    "template = \"Tell me the capital of {capital}\")\n",
    "\n",
    "famous_chian = LLMChain(llm=model,prompt = prompt_template,output_key=\"places\")"
   ]
  },
  {
   "cell_type": "code",
   "execution_count": 41,
   "id": "26bcc458",
   "metadata": {},
   "outputs": [],
   "source": [
    "# Redefine the chains with unique output keys\n",
    "capital_chain = LLMChain(llm=model, prompt=capital_prompt, output_key=\"capital\")\n",
    "famous_chain = LLMChain(llm=model, prompt=famous_person_prompt, output_key=\"places\")\n",
    "\n",
    "from langchain.chains import SequentialChain\n",
    "c = SequentialChain(\n",
    "\tchains=[capital_chain, famous_chain],\n",
    "\tinput_variables=[\"country\"],\n",
    "\toutput_variables=[\"capital\", \"places\"]\n",
    ")"
   ]
  },
  {
   "cell_type": "code",
   "execution_count": 42,
   "id": "b2f4a0e2",
   "metadata": {},
   "outputs": [
    {
     "name": "stderr",
     "output_type": "stream",
     "text": [
      "C:\\Users\\Admin\\AppData\\Local\\Temp\\ipykernel_11536\\3756307470.py:1: LangChainDeprecationWarning: The method `Chain.__call__` was deprecated in langchain 0.1.0 and will be removed in 1.0. Use :meth:`~invoke` instead.\n",
      "  c({\"country\": \"India\"})\n"
     ]
    },
    {
     "data": {
      "text/plain": [
       "{'country': 'India',\n",
       " 'capital': 'The capital of India is **New Delhi**. \\n',\n",
       " 'places': 'India is a land of incredible diversity, offering something for everyone! \\n\\nTo give you the best suggestions, I need a little more information about what you\\'re looking for. \\n\\n**Tell me:**\\n\\n* **What are your interests?** (History, culture, nature, adventure, beaches, food, spirituality, etc.)\\n* **What kind of trip are you planning?** (Luxury, budget, family, solo, romantic, etc.)\\n* **How long will you be in India?** \\n* **What time of year are you traveling?**\\n\\nOnce I have this information, I can recommend some truly amazing places in India that will perfectly suit your needs.\\n\\n**Here are a few examples to get you started:**\\n\\n**For history and culture buffs:**\\n\\n* **Agra:** Home to the iconic Taj Mahal, Agra Fort, and Fatehpur Sikri\\n* **Delhi:** A vibrant metropolis with ancient monuments like Red Fort, Jama Masjid, and Qutub Minar\\n* **Varanasi:** The holiest city in Hinduism, with ancient temples and ghats along the Ganges River\\n\\n**For nature lovers:**\\n\\n* **Kerala:** Known for its stunning backwaters, beaches, and lush green hills\\n* **Ladakh:** A high-altitude desert with breathtaking mountain ranges and monasteries\\n* **The Himalayas:** Home to towering peaks, stunning valleys, and diverse wildlife\\n\\n**For adventure seekers:**\\n\\n* **Manali:** A popular destination for trekking, paragliding, and river rafting\\n* **Goa:** Offers beaches, water sports, and nightlife\\n* **Rishikesh:** The \"Yoga Capital of the World,\" with opportunities for white-water rafting and bungee jumping\\n\\n\\nLet\\'s plan your dream trip to India!\\n'}"
      ]
     },
     "execution_count": 42,
     "metadata": {},
     "output_type": "execute_result"
    }
   ],
   "source": [
    "c({\"country\": \"India\"})"
   ]
  },
  {
   "cell_type": "markdown",
   "id": "217046b1",
   "metadata": {},
   "source": [
    "## Chatmodels with ChatOpenAI"
   ]
  },
  {
   "cell_type": "code",
   "execution_count": 43,
   "id": "75ff0733",
   "metadata": {},
   "outputs": [],
   "source": [
    "from langchain.chat_models import ChatOpenAI"
   ]
  },
  {
   "cell_type": "code",
   "execution_count": 45,
   "id": "29bb951f",
   "metadata": {},
   "outputs": [],
   "source": [
    "from langchain.schema import HumanMessage,SystemMessage,AIMessage"
   ]
  },
  {
   "cell_type": "code",
   "execution_count": 46,
   "id": "a35bc9d9",
   "metadata": {},
   "outputs": [
    {
     "data": {
      "text/plain": [
       "ChatGroq(client=<groq.resources.chat.completions.Completions object at 0x0000022F7D9BA890>, async_client=<groq.resources.chat.completions.AsyncCompletions object at 0x0000022F7F6E6ED0>, model_name='Gemma2-9b-It', model_kwargs={}, groq_api_key=SecretStr('**********'))"
      ]
     },
     "execution_count": 46,
     "metadata": {},
     "output_type": "execute_result"
    }
   ],
   "source": [
    "model"
   ]
  },
  {
   "cell_type": "code",
   "execution_count": 58,
   "id": "aeeac368",
   "metadata": {},
   "outputs": [
    {
     "data": {
      "text/plain": [
       "AIMessage(content=\"Why did the AI cross the road? \\n\\nBecause it was programmed to!  \\n\\n...Get it? Because AI doesn't really *choose* to do things, it just follows its instructions?  \\n\\n🤖  *wink* \\n\\n\", additional_kwargs={}, response_metadata={'token_usage': {'completion_tokens': 53, 'prompt_tokens': 22, 'total_tokens': 75, 'completion_time': 0.096363636, 'prompt_time': 0.001324761, 'queue_time': 0.254849889, 'total_time': 0.097688397}, 'model_name': 'Gemma2-9b-It', 'system_fingerprint': 'fp_10c08bf97d', 'finish_reason': 'stop', 'logprobs': None}, id='run--994eeb5f-8a87-4599-8a2d-407bf27600eb-0', usage_metadata={'input_tokens': 22, 'output_tokens': 53, 'total_tokens': 75})"
      ]
     },
     "execution_count": 58,
     "metadata": {},
     "output_type": "execute_result"
    }
   ],
   "source": [
    "model([\n",
    "    SystemMessage(content=\"You are a comedian AI Assitant\"),\n",
    "    HumanMessage(content=\"Tell me a joke about AI\"),\n",
    "])"
   ]
  },
  {
   "cell_type": "markdown",
   "id": "1f0163d8",
   "metadata": {},
   "source": [
    "## Prompt Template + LLM + Output Parsers"
   ]
  },
  {
   "cell_type": "code",
   "execution_count": 59,
   "id": "0c0e7a74",
   "metadata": {},
   "outputs": [],
   "source": [
    "from langchain.chat_models import ChatOpenAI\n",
    "from langchain.prompts.chat import ChatPromptTemplate\n",
    "from langchain.schema import BaseOutputParser"
   ]
  },
  {
   "cell_type": "code",
   "execution_count": null,
   "id": "ca570f15",
   "metadata": {},
   "outputs": [],
   "source": [
    "class Commaseperatedoutput(BaseOutputParser):\n",
    "    def parse(self,text:str):\n",
    "        return text.strip().split(\",\")"
   ]
  },
  {
   "cell_type": "code",
   "execution_count": 71,
   "id": "89c599f3",
   "metadata": {},
   "outputs": [],
   "source": [
    "template = \"Your are a helpful assistant. when the use given any input, you should generate 5 word in comman seperater Synonyms\"\n"
   ]
  },
  {
   "cell_type": "code",
   "execution_count": 72,
   "id": "5496257d",
   "metadata": {},
   "outputs": [],
   "source": [
    "human_template=\"{text}\"\n",
    "chatprompt=ChatPromptTemplate.from_messages([\n",
    "    (\"system\",template),\n",
    "    (\"human\",human_template)\n",
    "])"
   ]
  },
  {
   "cell_type": "code",
   "execution_count": 82,
   "id": "339c1546",
   "metadata": {},
   "outputs": [],
   "source": [
    "chain=chatprompt | model | Commaseperatedoutput()"
   ]
  },
  {
   "cell_type": "code",
   "execution_count": 85,
   "id": "74a9c196",
   "metadata": {},
   "outputs": [
    {
     "data": {
      "text/plain": [
       "['sharp', ' bright', ' clever', ' astute', ' brilliant']"
      ]
     },
     "execution_count": 85,
     "metadata": {},
     "output_type": "execute_result"
    }
   ],
   "source": [
    "chain.invoke({\"text\":\"intelligent\"})"
   ]
  }
 ],
 "metadata": {
  "kernelspec": {
   "display_name": ".venv",
   "language": "python",
   "name": "python3"
  },
  "language_info": {
   "codemirror_mode": {
    "name": "ipython",
    "version": 3
   },
   "file_extension": ".py",
   "mimetype": "text/x-python",
   "name": "python",
   "nbconvert_exporter": "python",
   "pygments_lexer": "ipython3",
   "version": "3.11.9"
  }
 },
 "nbformat": 4,
 "nbformat_minor": 5
}
